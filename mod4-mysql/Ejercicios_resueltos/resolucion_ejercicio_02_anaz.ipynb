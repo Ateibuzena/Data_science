{
 "cells": [
  {
   "cell_type": "markdown",
   "metadata": {},
   "source": [
    "LIBRERIAS NECESARIAS:"
   ]
  },
  {
   "cell_type": "code",
   "execution_count": 1,
   "metadata": {},
   "outputs": [],
   "source": [
    "import pandas as pd\n",
    "import mysql.connector\n",
    "from datetime import datetime, timedelta\n",
    "import random"
   ]
  },
  {
   "cell_type": "markdown",
   "metadata": {},
   "source": [
    "FUNCIONES NECESARIAS: (la de insertar datos está más abajo)"
   ]
  },
  {
   "cell_type": "code",
   "execution_count": 2,
   "metadata": {},
   "outputs": [],
   "source": [
    "# ESTABLECER CONEXIÓN CON LA BASE DE DATOS DE MYSQL\n",
    "# PARA GUARDAR LA CONEXIÓN Y EL CURSOR, HAY QUE IGUALAR LA FUNCIÓN A DOS VARIABLES\n",
    "def conexion():\n",
    "    db = mysql.connector.connect(host     = \"localhost\", # donde se aloja la base de datos\n",
    "                             user     = \"\", # poned vuestro usuario\n",
    "                             password = \"\", # poned vuestra contraseña\n",
    "                             database = None)\n",
    "    cursor = db.cursor()\n",
    "    return db, cursor\n",
    "\n",
    "# CERRAR LA CONEXIÓN\n",
    "def cerrar_conexion(cursor, db):\n",
    "    cursor.fetchall() # se utiliza para recuperar todas las filas del conjunto de resultados después de ejecutar una consulta en una base de datos. Esto es útil cuando deseas trabajar con los resultados de una consulta en tu programa Python\n",
    "    cursor.close()\n",
    "    db.close()\n",
    "\n",
    "# CREAR UNA BASE DE DATOS DANDOLE EL NOMBRE DE LA BASE DE DATOS\n",
    "def crear_database(database):\n",
    "    db, cursor = conexion()\n",
    "    cursor.execute(f\"CREATE DATABASE IF NOT EXISTS {database};\")\n",
    "    cerrar_conexion(cursor, db)\n",
    "\n",
    "# CREAR UNA TABLA EN UNA BASE DE DATOS.\n",
    "# PASANDOLE LA BASE DE DATOS DONDE QUEREMOS CREARLA Y LA QUERY DE LA TABLA QUE QUEREMOS CREAR\n",
    "def crear_tablas(query, database):\n",
    "    db, cursor = conexion()\n",
    "    query_database = f\"USE {database};\"\n",
    "    cursor.execute(query_database)\n",
    "    cursor.execute(query)\n",
    "    cerrar_conexion(cursor, db)\n",
    "\n",
    "# EJECUTAR QUERYS DE CONSULTAS:\n",
    "def ejecutar_consulta(database, query):\n",
    "    db, cursor = conexion()\n",
    "    cursor.execute(f\"USE {database};\")\n",
    "\n",
    "    # Ejecutar la consulta\n",
    "    cursor.execute(query)\n",
    "    # Obtener los resultados, si es una consulta SELECT\n",
    "    resultados = cursor.fetchall()\n",
    "    # Hacer commit para guardar los cambios (en caso de INSERT, UPDATE, DELETE, etc.)\n",
    "    db.commit()\n",
    "    # Cerrar la conexión\n",
    "    cerrar_conexion(cursor, db)\n",
    "    return resultados"
   ]
  },
  {
   "cell_type": "markdown",
   "metadata": {},
   "source": [
    "CREACIÓN, MANIPULACIÓN DE DATOS:"
   ]
  },
  {
   "cell_type": "code",
   "execution_count": 3,
   "metadata": {},
   "outputs": [],
   "source": [
    "# DF MODULOS\n",
    "columnas_modulos = [\"modulo_id\", \"modulos\"] # mismo orden de columnas que en la tabla que queremos en mysql\n",
    "registros_m_modulo_id = [i for i in range(1,8)] # del 1 al 7\n",
    "registros_m_modulos = [\"Python\", \"Matemáticas\", \"Ciencia de Datos\", \"SQL\", \"Machine Learning\", \"PySpark\", \"Streamlit\"]\n",
    "\n",
    "datos_modulos = [registros_m_modulo_id, registros_m_modulos]\n",
    "diccionario_modulos = {}\n",
    "for keys, values in zip(columnas_modulos, datos_modulos):\n",
    "    diccionario_modulos[keys] = values\n",
    "\n",
    "df_modulos = pd.DataFrame(diccionario_modulos)\n",
    "\n",
    "# DF BOOTCAMPS\n",
    "columnas_bootcamps = [\"bootcamp_id\", \"bootcamp\", \"inicio_bootcamp\", \"final_bootcamp\"]\n",
    "registros_b_bootcamp_id = [i for i in range(1, 201)]\n",
    "registros_b_bootcamp = [f\"DSB{i}RT\" if i > 9 else f\"DSB0{i}RT\" for i in range(1, 201)]\n",
    "registros_b_inicio_bootcamp = []\n",
    "for i in range(200):\n",
    "    inicio = datetime(2020, 1, 1)\n",
    "    patron = timedelta(days = 30*i)\n",
    "    x = inicio + patron\n",
    "    registros_b_inicio_bootcamp.append(x.strftime(\"%Y-%m-%d\"))\n",
    "resgistros_b_final_bootcamp = []\n",
    "for i in registros_b_inicio_bootcamp:\n",
    "    inicio = datetime.strptime(i, \"%Y-%m-%d\")\n",
    "    patron = timedelta(days = 154)\n",
    "    x = inicio + patron\n",
    "    resgistros_b_final_bootcamp.append(x.strftime(\"%Y-%m-%d\"))\n",
    "\n",
    "datos_bootcamps = [registros_b_bootcamp_id, registros_b_bootcamp, registros_b_inicio_bootcamp, resgistros_b_final_bootcamp]\n",
    "diccionario_bootcamps = {}\n",
    "for keys, values in zip(columnas_bootcamps, datos_bootcamps):\n",
    "    diccionario_bootcamps[keys] = values\n",
    "\n",
    "df_bootcamps = pd.DataFrame(diccionario_bootcamps)\n",
    "\n",
    "# DF ESTUDIANTES\n",
    "columnas_estudiantes = [\"estudiante_id\", \"nombre\", \"apellido\", \"email\", \"beca\", \"inscripcion\", \"bootcamp_id\"]\n",
    "x = random.randint(5000, 8000) # numero de estudiantes\n",
    "registros_e_estudiante_id = [i for i in range(1, x+1)]\n",
    "registros_e_nombre = [f\"nombre{i}\" if i > 9 else f\"nombre0{i}\" for i in range(1, x+1)]\n",
    "registros_e_apellido = [f\"apellido{i}\" if i > 9 else f\"apellido0{i}\" for i in range(1, x+1)]\n",
    "registros_e_email = [f\"{nombre}{apellido}@python.com\" for nombre, apellido in zip(registros_e_nombre, registros_e_nombre)]\n",
    "registros_e_beca = [random.choice([True, False]) for _ in range(x)]\n",
    "registros_e_inscripcion = [(datetime(2019, 1, 1) + timedelta(days=i)).strftime('%Y-%m-%d') for i in range(x)]\n",
    "registros_e_bootcamp_id = [random.randint(1, 200) for _ in range(x)]\n",
    "\n",
    "datos_estudiantes = [registros_e_estudiante_id, registros_e_nombre, registros_e_apellido, registros_e_email, registros_e_beca, registros_e_inscripcion, registros_e_bootcamp_id]\n",
    "diccionario_estudiantes = {}\n",
    "for keys, values in zip(columnas_estudiantes, datos_estudiantes):\n",
    "    diccionario_estudiantes[keys] = values\n",
    "\n",
    "df_estudiantes = pd.DataFrame(diccionario_estudiantes)\n",
    "\n",
    "# DF MODULO_BOOTCAMP\n",
    "columnas_modulo_bootcamp = [\"bootcamp_id\", \"modulo_id\", \"puntuacion\"]\n",
    "registros_mb_bootcamp_id =  sorted([(i % 200) + 1 for i in range(1400)]) # 1400 es 7 modulos por 200 bootcamps\n",
    "registros_mb_modulo_id = [(i % 7) + 1 for i in range(1400)]\n",
    "registros_mb_puntuacion = [random.randint(1, 10) for _ in range(1400)]\n",
    "\n",
    "datos_modulo_bootcamp = [registros_mb_bootcamp_id, registros_mb_modulo_id, registros_mb_puntuacion]\n",
    "diccionario_modulo_bootcamp = {}\n",
    "for keys, values in zip(columnas_modulo_bootcamp, datos_modulo_bootcamp):\n",
    "    diccionario_modulo_bootcamp[keys] = values\n",
    "\n",
    "df_modulo_bootcamp = pd.DataFrame(diccionario_modulo_bootcamp)\n",
    "\n",
    "# DF ASISTENCIAS\n",
    "columnas_asistencias = [\"asistencia_id\", \"estudiante_id\", \"asistencia\", \"fecha\"]\n",
    "registros_a_asistencia_id = [i for i in range(1, (x*154)+1)] # x = numero de estudiantes\n",
    "registros_a_estudiante_id = sorted([(i % x) + 1 for i in range(x*154)]) # x sigue siendo el numero de estudiantes\n",
    "registros_a_asistencia = [random.choice([True, False]) for _ in range(x*154)] # 154 es el numero de fechas por estudiante\n",
    "# cogeremos la lista de registros_bootcamp_id del apartado bootcamps\n",
    "# y registros_inicio_bootcamp del apartado bootcamps\n",
    "# a cada bootcamp_id le asignaremos una fecha de inicio:\n",
    "dic_bootcamp_fecha_inicio = {}\n",
    "for keys, values in zip(registros_b_bootcamp_id, registros_b_inicio_bootcamp):\n",
    "    dic_bootcamp_fecha_inicio[keys] = values\n",
    "# creamos una lista de las fechas de inicio correspondientes a la lilsta de registros_e_bootcamp_id que está ordenada por estudiante \n",
    "# (cada estudiante pertenece a un bootcamp_id aleatorio) \n",
    "fechas_correspondientes = [dic_bootcamp_fecha_inicio[id] for id in registros_e_bootcamp_id]\n",
    "# Ahora crearemos la lista con esas fechas de inicio mas los 153 dias consecuivos a cada fecha:\n",
    "registros_a_fecha = []\n",
    "for fecha in fechas_correspondientes:\n",
    "    registros_a_fecha.append(fecha)  # Añadir el elemento actual\n",
    "\n",
    "    # Añadir las 154 fechas consecutivas\n",
    "    fecha_actual = datetime.strptime(fecha, '%Y-%m-%d')\n",
    "    for _ in range(153): # añadimos 153 fechas consecutivas entre fecha y fecha de la lista fechas_correspondientes\n",
    "        fecha_actual += timedelta(days=1)\n",
    "        registros_a_fecha.append(fecha_actual.strftime('%Y-%m-%d'))\n",
    "\n",
    "datos_asistencias = [registros_a_asistencia_id, registros_a_estudiante_id, registros_a_asistencia, registros_a_fecha]   \n",
    "diccionario_asistencias = {}\n",
    "for keys, values in zip(columnas_asistencias, datos_asistencias):\n",
    "    diccionario_asistencias[keys] = values\n",
    "\n",
    "df_asistencias = pd.DataFrame(diccionario_asistencias)"
   ]
  },
  {
   "cell_type": "markdown",
   "metadata": {},
   "source": [
    "QUERYS DE LAS TABLAS QUE QUEREMOS:"
   ]
  },
  {
   "cell_type": "code",
   "execution_count": 4,
   "metadata": {},
   "outputs": [],
   "source": [
    "query_modulos = \"\"\"CREATE TABLE IF NOT EXISTS modulos (\n",
    "                modulo_id INT UNSIGNED AUTO_INCREMENT NOT NULL,\n",
    "                modulos   VARCHAR(25),\n",
    "                PRIMARY KEY (modulo_id)\n",
    "                );\"\"\"\n",
    "\n",
    "query_bootcamps = \"\"\"CREATE TABLE IF NOT EXISTS bootcamps (\n",
    "                    bootcamp_id INT UNSIGNED AUTO_INCREMENT NOT NULL,\n",
    "                    bootcamp VARCHAR(255),\n",
    "                    inicio_bootcamp DATE,\n",
    "                    final_bootcamp DATE,\n",
    "                    PRIMARY KEY (bootcamp_id)\n",
    "                    )\"\"\"\n",
    "\n",
    "query_estudiantes = \"\"\"CREATE TABLE IF NOT EXISTS estudiantes (\n",
    "                    estudiante_id INT UNSIGNED AUTO_INCREMENT NOT NULL,\n",
    "                    nombre VARCHAR(255),\n",
    "                    apellido VARCHAR(255),\n",
    "                    email VARCHAR(255) UNIQUE,\n",
    "                    beca BOOL,\n",
    "                    inscripcion DATE,\n",
    "                    bootcamp_id INT UNSIGNED,\n",
    "                    PRIMARY KEY (estudiante_id),\n",
    "                    FOREIGN KEY (bootcamp_id) REFERENCES bootcamps (bootcamp_id)\n",
    "                    );\"\"\"\n",
    "\n",
    "query_modulo_bootcamp = \"\"\"CREATE TABLE IF NOT EXISTS modulo_bootcamp (\n",
    "                        bootcamp_id INT UNSIGNED,\n",
    "                        modulo_id INT UNSIGNED,\n",
    "                        puntuacion INT,\n",
    "                        PRIMARY KEY (bootcamp_id, modulo_id),\n",
    "                        FOREIGN KEY (bootcamp_id) REFERENCES bootcamps (bootcamp_id),\n",
    "                        FOREIGN KEY (modulo_id) REFERENCES modulos (modulo_id)\n",
    "                        );\"\"\"\n",
    "\n",
    "query_asistencias = \"\"\"CREATE TABLE IF NOT EXISTS asistencias (\n",
    "                    asistencia_id INT UNSIGNED AUTO_INCREMENT NOT NULL,\n",
    "                    estudiante_id INT UNSIGNED,\n",
    "                    asistencia BOOL,\n",
    "                    fecha DATE,\n",
    "                    PRIMARY KEY (asistencia_id),\n",
    "                    FOREIGN KEY (estudiante_id) REFERENCES estudiantes (estudiante_id)\n",
    "                    );\"\"\"\n",
    "\n"
   ]
  },
  {
   "cell_type": "markdown",
   "metadata": {},
   "source": [
    "CREAMOS LA BASE DE DATOS \"hack_a_boss\" Y LAS TABLAS:"
   ]
  },
  {
   "cell_type": "code",
   "execution_count": null,
   "metadata": {},
   "outputs": [],
   "source": [
    "# EN ESTE ORDEN\n",
    "crear_database(\"hack_a_boss\")\n",
    "crear_tablas(query_modulos, \"hack_a_boss\")\n",
    "crear_tablas(query_bootcamps, \"hack_a_boss\")\n",
    "crear_tablas(query_modulo_bootcamp, \"hack_a_boss\")\n",
    "crear_tablas(query_estudiantes, \"hack_a_boss\")\n",
    "crear_tablas(query_asistencias, \"hack_a_boss\")"
   ]
  },
  {
   "cell_type": "markdown",
   "metadata": {},
   "source": [
    "FUNCION PARA INSERTAR DATOS EN UNA TABLA DE UNA BASE DE DATOS RECIBIENDO UN DATAFRAME (es más facil de entender, pero más lenta, ya que inserta datos por fila del df)"
   ]
  },
  {
   "cell_type": "code",
   "execution_count": 21,
   "metadata": {},
   "outputs": [],
   "source": [
    "def insertar_datos_porfila(df, database, tabla):\n",
    "    db, cursor = conexion()\n",
    "    cursor.execute(f\"USE {database};\")\n",
    "\n",
    "    # Iterar sobre las filas del DataFrame e insertar cada fila en la tabla\n",
    "    for _, fila in df.iterrows(): #Este método de pandas retorna un generador que produce pares (índice, fila) para cada fila del DataFrame df. \n",
    "                                  #el guion bajo _ se utiliza para descartar el índice, ya que no se está utilizando dentro del bucle.\n",
    "                                  #Aquí el isinstance verifica que le valor es un str, sino lo convierte a str ya que la query tiene que ser str\n",
    "        valores = \", \".join([f\"'{valor}'\" if isinstance(valor, str) else str(valor) for valor in fila])\n",
    "        query = f\"INSERT INTO {tabla} VALUES ({valores});\"\n",
    "        cursor.execute(query)\n",
    "\n",
    "    # Hacer commit para guardar los cambios\n",
    "    db.commit()\n",
    "    cerrar_conexion(cursor, db)"
   ]
  },
  {
   "cell_type": "markdown",
   "metadata": {},
   "source": [
    "INSERTAR DATOS EN LAS TABLAS DE LA BASE DE DATOS \"hack_a_boss\""
   ]
  },
  {
   "cell_type": "code",
   "execution_count": 22,
   "metadata": {},
   "outputs": [],
   "source": [
    "# EN ESTE ORDEN\n",
    "insertar_datos_porfila(df_modulos, \"hack_a_boss\", \"modulos\")\n",
    "insertar_datos_porfila(df_bootcamps, \"hack_a_boss\", \"bootcamps\")\n",
    "insertar_datos_porfila(df_estudiantes, \"hack_a_boss\", \"estudiantes\")\n",
    "insertar_datos_porfila(df_modulo_bootcamp, \"hack_a_boss\", \"modulo_bootcamp\")\n",
    "insertar_datos_porfila(df_asistencias, \"hack_a_boss\", \"asistencias\")"
   ]
  },
  {
   "cell_type": "code",
   "execution_count": null,
   "metadata": {},
   "outputs": [],
   "source": [
    "# QUERY DE CONSULTA:\n",
    "query_consulta1 = \"\"\"-- ¿Que bootcamp tiene más estudiantes?\n",
    "SELECT bootcamp, count(estudiantes.estudiante_id) as numero_alumnos\n",
    "FROM bootcamps\n",
    "JOIN estudiantes\n",
    "ON bootcamps.bootcamp_id =  estudiantes.bootcamp_id\n",
    "GROUP BY bootcamps.bootcamp\n",
    "ORDER BY numero_alumnos desc limit 1;\"\"\""
   ]
  },
  {
   "cell_type": "code",
   "execution_count": null,
   "metadata": {},
   "outputs": [],
   "source": [
    "ejecutar_consulta(\"hack_a_boss\", query_consulta1)"
   ]
  }
 ],
 "metadata": {
  "kernelspec": {
   "display_name": "hack_a_boss",
   "language": "python",
   "name": "python3"
  },
  "language_info": {
   "codemirror_mode": {
    "name": "ipython",
    "version": 3
   },
   "file_extension": ".py",
   "mimetype": "text/x-python",
   "name": "python",
   "nbconvert_exporter": "python",
   "pygments_lexer": "ipython3",
   "version": "3.11.5"
  }
 },
 "nbformat": 4,
 "nbformat_minor": 2
}
