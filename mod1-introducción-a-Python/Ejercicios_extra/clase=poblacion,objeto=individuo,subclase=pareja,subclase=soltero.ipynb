{
 "cells": [
  {
   "cell_type": "code",
   "execution_count": 26,
   "metadata": {},
   "outputs": [],
   "source": [
    "# Clase = Población # Objeto = Individuo # Subclase = Parejas # Subclase = Solteros.\n",
    "\n",
    "class Poblacion:\n",
    "    \n",
    "    def __init__(self, nombre, primerapellido, segundoapellido, edad):\n",
    "        self.nombre = nombre\n",
    "        self.primerapellido = primerapellido\n",
    "        self.segundoapellido = segundoapellido\n",
    "        \n",
    "        self.nombrecompleto = f\"{self.nombre} {self.primerapellido} {self.segundoapellido}\"\n",
    "        self.edad = edad\n",
    "        self.email = \"Por añadir\"\n",
    "        self.telefono = \"Por añadir\"\n",
    "        \n",
    "    def info(self):\n",
    "        print(f\"Nombre: {self.nombre}\")\n",
    "        print(f\"Email: {self.email}\")        \n",
    "        print(f\"T. Contacto: {self.telefono}\")\n",
    "    \n",
    "    def añadir_contacto(self):\n",
    "        for i in range(2):\n",
    "            cambio = int(input(\"Pulse 1 para añadir un teléfono y 2 para añadir un email:\"))\n",
    "            if cambio == 1:\n",
    "                telefono = int(input(\"Escriba su número de teléfono.\"))\n",
    "                self.telefono = telefono\n",
    "            else:\n",
    "                email = input(\"Ecriba su email:\")\n",
    "                self.email = str(email)\n",
    "    \n",
    "            \n",
    "class Parejas(Poblacion):\n",
    "    \n",
    "    def __init__(self, nombre, primerapellido, segundoapellido, edad):\n",
    "        \n",
    "        super().__init__(nombre, primerapellido, segundoapellido, edad)\n",
    "        self.estado_civil = \"Por concretar\"\n",
    "    \n",
    "    def añadir_estado_civil(self):\n",
    "        \n",
    "        estado_civil = int(input(\"\"\"1. Casado/a\n",
    "                             2. Pareja de hecho,\n",
    "                             3. Comprometido/a\"\"\"))\n",
    "        if estado_civil == 1:\n",
    "            self.estado_civil = \"Casado/a\"\n",
    "        elif estado_civil == 2:\n",
    "            self.estado_civil = \"Pareja de hecho\"\n",
    "        else:\n",
    "            self.estado_civil =  \"Comprometido/a\"\n",
    "\n",
    "class Solteros(Poblacion):\n",
    "    \n",
    "    def __init__(self, nombre, primerapellido, segundoapellido, edad):\n",
    "        super().__init__(nombre, primerapellido, segundoapellido, edad)\n",
    "        self.estado_civil = \"Soltero/a\""
   ]
  },
  {
   "cell_type": "code",
   "execution_count": 27,
   "metadata": {},
   "outputs": [],
   "source": [
    "individuo = Parejas(nombre = \"Ana\", primerapellido = \"Zubieta\" , segundoapellido = \"Peña\", edad = 27)\n"
   ]
  },
  {
   "cell_type": "code",
   "execution_count": 28,
   "metadata": {},
   "outputs": [],
   "source": [
    "individuo.añadir_estado_civil()"
   ]
  },
  {
   "cell_type": "code",
   "execution_count": 29,
   "metadata": {},
   "outputs": [
    {
     "data": {
      "text/plain": [
       "'Casado/a'"
      ]
     },
     "execution_count": 29,
     "metadata": {},
     "output_type": "execute_result"
    }
   ],
   "source": [
    "individuo.estado_civil"
   ]
  },
  {
   "cell_type": "code",
   "execution_count": 17,
   "metadata": {},
   "outputs": [
    {
     "data": {
      "text/plain": [
       "681958123"
      ]
     },
     "execution_count": 17,
     "metadata": {},
     "output_type": "execute_result"
    }
   ],
   "source": [
    "individuo.telefono"
   ]
  }
 ],
 "metadata": {
  "kernelspec": {
   "display_name": "Python 3",
   "language": "python",
   "name": "python3"
  },
  "language_info": {
   "codemirror_mode": {
    "name": "ipython",
    "version": 3
   },
   "file_extension": ".py",
   "mimetype": "text/x-python",
   "name": "python",
   "nbconvert_exporter": "python",
   "pygments_lexer": "ipython3",
   "version": "3.11.0"
  },
  "orig_nbformat": 4
 },
 "nbformat": 4,
 "nbformat_minor": 2
}
