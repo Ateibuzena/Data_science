{
 "cells": [
  {
   "cell_type": "markdown",
   "id": "cc6f0931",
   "metadata": {},
   "source": [
    "## Ejecicio condicionales"
   ]
  },
  {
   "cell_type": "markdown",
   "id": "45bf39fc",
   "metadata": {},
   "source": [
    "### Ejercicio 1\n",
    "\n",
    "- Perdirle al usuario que ingrese un número mayor a 0.\n",
    "- Luego imprimir por pantalla si el número es par o impar."
   ]
  },
  {
   "cell_type": "code",
   "execution_count": 17,
   "id": "ce78094c",
   "metadata": {},
   "outputs": [
    {
     "name": "stdout",
     "output_type": "stream",
     "text": [
      "Este número:  5  es impar\n"
     ]
    }
   ],
   "source": [
    "n = int(input(\"Ingresa un numero > 0:\"))\n",
    "\n",
    "resto = n%2\n",
    "\n",
    "if resto == 0:\n",
    "    print(\"Este número: \" , (n) , \" es par.\")\n",
    "else:\n",
    "    print(\"Este número: \" , (n) , \" es impar\")\n",
    "\n"
   ]
  },
  {
   "cell_type": "markdown",
   "id": "50f7c887",
   "metadata": {},
   "source": [
    "### Ejercicio 2\n",
    "- Pedirle al usuario que ingrese una palabra.\n",
    "- Contar el número de letras y decir si es una palabra larga (10 caracteres o más) o corta."
   ]
  },
  {
   "cell_type": "code",
   "execution_count": 2,
   "id": "dd695bac",
   "metadata": {},
   "outputs": [
    {
     "name": "stdout",
     "output_type": "stream",
     "text": [
      "Esta palabra:  manolito ; es corta porque tiene menos de 10 carácteres.\n"
     ]
    }
   ],
   "source": [
    "palabra = input(\"Ingrese una palabra:\")\n",
    "\n",
    "if palabra.__len__ >= 10:\n",
    "\n",
    "    print(\"Esta palabra: \", (palabra), \"; es larga porque tiene 10 o más carácteres.\" )\n",
    "\n",
    "else:\n",
    "    print(\"Esta palabra: \" , (palabra), \"; es corta porque tiene menos de 10 carácteres.\")"
   ]
  },
  {
   "cell_type": "markdown",
   "id": "c3b58038",
   "metadata": {},
   "source": [
    "### Ejercicio 3\n",
    "- Pedirle al usuario que ingrese una palabra.\n",
    "- Contar cuantas vocales tiene e imprimir cuantas hay de cada una.\n",
    "- Luego imprimir por pantalla si tiene más vocales que consonantes."
   ]
  },
  {
   "cell_type": "code",
   "execution_count": 1,
   "id": "e31e702d",
   "metadata": {},
   "outputs": [
    {
     "name": "stdout",
     "output_type": "stream",
     "text": [
      "La palabra,  humanoide , tiene más vocales que consonantes.\n",
      "Tiene  5  vocales en total las cuales son: \n",
      "('a: ', 1, 'e: ', 1, 'i: ', 1, 'o: ', 1, 'u: ', 1)\n"
     ]
    }
   ],
   "source": [
    "palabra = input(\"Ingrese una palabra:\")\n",
    "vocales_totales = palabra.count(\"a\") + palabra.count(\"e\") + palabra.count(\"i\") + palabra.count(\"o\") + palabra.count(\"u\")\n",
    "caracteres_totales = palabra.__len__()\n",
    "\n",
    "if vocales_totales > (caracteres_totales - vocales_totales):\n",
    "    print(\"La palabra, \",(palabra), \", tiene más vocales que consonantes.\")\n",
    "    print(\"Tiene \", (vocales_totales), \" vocales en total las cuales son: \")\n",
    "    vocal = \"a: \", palabra.count(\"a\"), \"e: \" ,palabra.count(\"e\"), \"i: \", palabra.count(\"i\"), \"o: \", palabra.count(\"o\"), \"u: \", palabra.count(\"u\")\n",
    "    print(vocal)\n",
    "elif vocales_totales == (caracteres_totales - vocales_totales):\n",
    "    print(\"La palabra, \",(palabra), \", tiene la misma cantidad de consonantes que vocales.\")\n",
    "    print(\"Tiene \", (vocales_totales), \" vocales en total las cuales son: \")\n",
    "    vocal = \"a: \", palabra.count(\"a\"), \"e: \" ,palabra.count(\"e\"), \"i: \", palabra.count(\"i\"), \"o: \", palabra.count(\"o\"), \"u: \", palabra.count(\"u\")\n",
    "    print(vocal)\n",
    "else:\n",
    "    print(\"La palabra, \",(palabra), \", tiene más consonantes que vocales.\")\n",
    "    print(\"Tiene \", (vocales_totales), \" vocales en total las cuales son: \")\n",
    "    vocal = \"a: \", palabra.count(\"a\"), \"e: \" ,palabra.count(\"e\"), \"i: \", palabra.count(\"i\"), \"o: \", palabra.count(\"o\"), \"u: \", palabra.count(\"u\")\n",
    "    print(vocal)\n",
    "\n"
   ]
  },
  {
   "cell_type": "markdown",
   "id": "c075c77b",
   "metadata": {},
   "source": [
    "### Ejercicio 4\n",
    "- Pedir al usuario que ingrese una frase.\n",
    "- Contar el número de palabras.\n",
    "- Si el número de palabras es impar imprimir \"El número de palabras es impar\" de lo contrario imprimir \"El número de palabras es par."
   ]
  },
  {
   "cell_type": "code",
   "execution_count": 3,
   "id": "67962e21",
   "metadata": {},
   "outputs": [
    {
     "name": "stdout",
     "output_type": "stream",
     "text": [
      "La cantidad de palabras que hay es par:  6\n"
     ]
    }
   ],
   "source": [
    "frase = input(\"Ingrese una frase acabada en punto\")\n",
    "lista = frase.split(\" \") # sin comillas entien un espacio tambien\n",
    "numero_palabras = len(lista)\n",
    "resto = numero_palabras%2\n",
    "\n",
    "if resto == 0:\n",
    "    print(\"La cantidad de palabras que hay es par: \", (numero_palabras))\n",
    "else:\n",
    "    print(\"La cantidad de palabras que hay es impar: \", (numero_palabras))\n"
   ]
  }
 ],
 "metadata": {
  "kernelspec": {
   "display_name": "Python 3 (ipykernel)",
   "language": "python",
   "name": "python3"
  },
  "language_info": {
   "codemirror_mode": {
    "name": "ipython",
    "version": 3
   },
   "file_extension": ".py",
   "mimetype": "text/x-python",
   "name": "python",
   "nbconvert_exporter": "python",
   "pygments_lexer": "ipython3",
   "version": "3.11.4"
  }
 },
 "nbformat": 4,
 "nbformat_minor": 5
}
