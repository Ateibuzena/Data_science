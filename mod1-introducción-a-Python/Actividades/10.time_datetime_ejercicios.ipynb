{
 "cells": [
  {
   "cell_type": "markdown",
   "id": "81cc3390",
   "metadata": {},
   "source": [
    "## datetime Ejercicios"
   ]
  },
  {
   "cell_type": "markdown",
   "id": "30dad2f4",
   "metadata": {},
   "source": [
    "Importamos libreria time {}"
   ]
  },
  {
   "cell_type": "code",
   "execution_count": 75,
   "id": "570de22e",
   "metadata": {},
   "outputs": [],
   "source": [
    "import time"
   ]
  },
  {
   "cell_type": "code",
   "execution_count": 76,
   "id": "20c8c058",
   "metadata": {},
   "outputs": [
    {
     "name": "stdout",
     "output_type": "stream",
     "text": [
      "Thu Sep 21 14:14:58 2023\n",
      "Thu Sep 21 14:14:58 2023\n"
     ]
    }
   ],
   "source": [
    "hoy = time.time()\n",
    "print(time.ctime(hoy)) # porqué se pone hoy? para que?\n",
    "print(time.ctime())"
   ]
  },
  {
   "cell_type": "code",
   "execution_count": 77,
   "id": "0912d1ae",
   "metadata": {},
   "outputs": [],
   "source": [
    "import datetime     #libreria datetime de objetos"
   ]
  },
  {
   "cell_type": "code",
   "execution_count": 78,
   "id": "a55e4765",
   "metadata": {},
   "outputs": [
    {
     "name": "stdout",
     "output_type": "stream",
     "text": [
      "2023-09-21 14:14:58.671737\n"
     ]
    },
    {
     "data": {
      "text/plain": [
       "2023"
      ]
     },
     "execution_count": 78,
     "metadata": {},
     "output_type": "execute_result"
    }
   ],
   "source": [
    "print(datetime.datetime.now())  #Imprime directamente la fecha\n",
    "fecha = datetime.datetime.now() #Para acceder solo a un dato de la fecha\n",
    "año = fecha.year                #usamos sus atributos\n",
    "año"
   ]
  },
  {
   "cell_type": "code",
   "execution_count": 79,
   "id": "2e457a89",
   "metadata": {},
   "outputs": [],
   "source": [
    "from datetime import datetime"
   ]
  },
  {
   "cell_type": "code",
   "execution_count": 80,
   "id": "0cdae713",
   "metadata": {},
   "outputs": [
    {
     "name": "stdout",
     "output_type": "stream",
     "text": [
      "2023-09-21 14:14:58.690122\n",
      "<class 'str'>\n"
     ]
    }
   ],
   "source": [
    "print(datetime.now())       #Igual que en linea 58\n",
    "ahora = datetime.now()\n",
    "hora = ahora.strftime(\"%H:%M:%S\")\n",
    "print(type(hora))"
   ]
  },
  {
   "cell_type": "markdown",
   "id": "f9db0e96",
   "metadata": {},
   "source": [
    "### Ejercicio 1\n",
    "- Determina si el año actual es bisiesto, imprime el resultado por pantalla. Usa la libreria **`datetime`**."
   ]
  },
  {
   "cell_type": "code",
   "execution_count": 81,
   "id": "7f8fbd2e",
   "metadata": {},
   "outputs": [
    {
     "name": "stdout",
     "output_type": "stream",
     "text": [
      "365 days, 0:00:00\n"
     ]
    }
   ],
   "source": [
    "fecha1 = \"31 December, 2022\"\n",
    "fecha2 = \"31 December, 2023\"\n",
    "objetofecha1 = datetime.strptime(fecha1, \"%d %B, %Y\")\n",
    "objetofecha2 = datetime.strptime(fecha2, \"%d %B, %Y\")\n",
    "resta = objetofecha2 - objetofecha1\n",
    "print(resta)"
   ]
  },
  {
   "cell_type": "markdown",
   "id": "b4fdb9c9",
   "metadata": {},
   "source": [
    "### Resta de fechas\n",
    "\n",
    "Para restar fechas podemos usar los objetos **`date`** y **`datetime`** de la libreria **`datetime`**.\n",
    "\n",
    "Estas operaciones nos retorna un objeto de tipo **`timedelta`**."
   ]
  },
  {
   "cell_type": "code",
   "execution_count": 82,
   "id": "0dc2b362",
   "metadata": {},
   "outputs": [],
   "source": [
    "from datetime import date, datetime"
   ]
  },
  {
   "cell_type": "code",
   "execution_count": 83,
   "id": "586752c5",
   "metadata": {},
   "outputs": [
    {
     "name": "stdout",
     "output_type": "stream",
     "text": [
      "2023 no es bisiesto.\n"
     ]
    }
   ],
   "source": [
    "# Los años bisiestos se consideran años de 366 días\n",
    "añoactual = date(year = 2023, month = 12, day = 31)\n",
    "añoanterior = date(year = 2022, month = 12, day = 31)\n",
    "resta1 = añoactual.strftime(\"%Y, %M, %d\")\n",
    "resta2 = añoanterior.strftime(\"%Y, %M, %d\")\n",
    "dias = str(añoactual - añoanterior)\n",
    "if dias == \"365 days, 0:00:00\":\n",
    "    print(añoactual.strftime(\"%Y\"), \"no es bisiesto.\")\n",
    "else: \n",
    "    print(añoactual.strftime(\"Y\")), \"es bisiesto.\"\n"
   ]
  },
  {
   "cell_type": "code",
   "execution_count": 84,
   "id": "077bbda3",
   "metadata": {},
   "outputs": [],
   "source": [
    "def bisiesto(año):\n",
    "    añosiguiente =  date(year = año, month = 12, day = 31)\n",
    "    añoactual = date(year = año - 1, month = 12, day = 31)\n",
    "    resta1 = añoactual.strftime(\"%Y, %M, %d\")\n",
    "    resta2 = añoanterior.strftime(\"%Y, %M, %d\")\n",
    "    resta = str(añosiguiente -  añoactual)\n",
    "    if resta == \"365 days, 0:00:00\":\n",
    "        print(año, \"No es bisiesto.\")\n",
    "    else:\n",
    "        print(año, \"Es bisiesto.\")\n",
    "    "
   ]
  },
  {
   "cell_type": "code",
   "execution_count": 85,
   "id": "af882193",
   "metadata": {},
   "outputs": [
    {
     "name": "stdout",
     "output_type": "stream",
     "text": [
      "2100 No es bisiesto.\n"
     ]
    }
   ],
   "source": [
    "bisiesto(2100)"
   ]
  },
  {
   "cell_type": "markdown",
   "id": "9ec19d61",
   "metadata": {},
   "source": [
    "### Ejercicio 2\n",
    "- Utiliza el año 2000 y el año 2100 para verificar que el código anterior funciona correctamente. Nota: El año 2000 fue bisiesto y el año 2100 no lo será."
   ]
  },
  {
   "cell_type": "code",
   "execution_count": 86,
   "id": "6d7ac90e",
   "metadata": {},
   "outputs": [
    {
     "name": "stdout",
     "output_type": "stream",
     "text": [
      "365 days, 0:00:00\n"
     ]
    }
   ],
   "source": [
    "# Los años bisiestos se consideran años de 366 días\n",
    "añoactual = date(year = 2101, month = 12, day = 31)\n",
    "añoanterior = date(year = 2100, month = 12, day = 31)\n",
    "resta1 = añoactual.strftime(\"%Y, %M, %d\")\n",
    "resta2 = añoanterior.strftime(\"%Y, %M, %d\")\n",
    "dias = añoactual - añoanterior\n",
    "print(dias)"
   ]
  },
  {
   "cell_type": "markdown",
   "id": "30aaf8f9",
   "metadata": {},
   "source": [
    "### Ejercicio 3\n",
    "- Convierte la fecha **`'Oct 16 2019 2:43PM'`** en un objecto de tipo **`datetime`**. Nota: Convertir una fecha string a una fecha tipo datetime."
   ]
  },
  {
   "cell_type": "code",
   "execution_count": 87,
   "id": "4c0e2d14",
   "metadata": {},
   "outputs": [],
   "source": [
    "import time"
   ]
  },
  {
   "cell_type": "code",
   "execution_count": 88,
   "id": "5a5aee2e",
   "metadata": {},
   "outputs": [
    {
     "name": "stdout",
     "output_type": "stream",
     "text": [
      "2019-10-16 14:43:00\n"
     ]
    }
   ],
   "source": [
    "fecha = \"Oct 16 2019 2:43PM\"\n",
    "datefecha = datetime.strptime(fecha, \"%b %d %Y %I:%M%p\")\n",
    "print(datefecha)"
   ]
  },
  {
   "cell_type": "markdown",
   "id": "dac7380d",
   "metadata": {},
   "source": [
    "### Ejercicio 4\n",
    "- Muestra la hora actual."
   ]
  },
  {
   "cell_type": "code",
   "execution_count": 89,
   "id": "1d0c0aea",
   "metadata": {},
   "outputs": [
    {
     "name": "stdout",
     "output_type": "stream",
     "text": [
      "14\n"
     ]
    }
   ],
   "source": [
    "from datetime import datetime\n",
    "\n",
    "horahora = datetime.now().time().hour\n",
    "print(horahora)"
   ]
  },
  {
   "cell_type": "markdown",
   "id": "4888b068",
   "metadata": {},
   "source": [
    "### Ejercicio 5\n",
    "\n",
    "- Utilizando la fecha y hora actual imprime la siguiente información:\n",
    "\n",
    "1. Fecha y hora actual\n",
    "2. Año actual\n",
    "3. Mes del año\n",
    "4. Numero de la semana del año\n",
    "5. Numero del dia de la semana\n",
    "6. Dia del año\n",
    "7. Dia del mes\n",
    "8. Dia de la semana"
   ]
  },
  {
   "cell_type": "markdown",
   "id": "a276712a",
   "metadata": {},
   "source": [
    "%U\t36\tWeek number of the year (Sunday as the first day of the week) as a zero-padded decimal number. All days in a new year preceding the first Sunday are considered to be in week 0."
   ]
  },
  {
   "cell_type": "code",
   "execution_count": 90,
   "id": "2be25c27",
   "metadata": {},
   "outputs": [
    {
     "data": {
      "text/plain": [
       "'Thu Sep 21 14:14:58 2023, 2023, September, 38, Thursday, 264, 21'"
      ]
     },
     "execution_count": 90,
     "metadata": {},
     "output_type": "execute_result"
    }
   ],
   "source": [
    "objetohora = datetime.now()\n",
    "\n",
    "ejercicio = objetohora.strftime(\"%c, %Y, %B, %U, %A, %j, %d\")\n",
    "ejercicio"
   ]
  },
  {
   "cell_type": "code",
   "execution_count": 91,
   "id": "4f5fe2b2",
   "metadata": {},
   "outputs": [
    {
     "data": {
      "text/plain": [
       "'09/21/23, 14:14:58, 2023, September, 38, Thursday, 264, 21'"
      ]
     },
     "execution_count": 91,
     "metadata": {},
     "output_type": "execute_result"
    }
   ],
   "source": [
    "ejercicio = objetohora.strftime(\"%x, %X, %Y, %B, %U, %A, %j, %d\")\n",
    "ejercicio"
   ]
  },
  {
   "cell_type": "markdown",
   "id": "2b6c624f",
   "metadata": {},
   "source": [
    "### Ejercicio 6\n",
    "\n",
    "- Escribe un código que convierta la siguiente cadena que se encuentra en formato timestamp unix **\"1284105682\"** a un formato que se pueda leer."
   ]
  },
  {
   "cell_type": "code",
   "execution_count": 92,
   "id": "5eaab7d8",
   "metadata": {},
   "outputs": [],
   "source": [
    "fecha = datetime.fromtimestamp(1284105682)\n"
   ]
  },
  {
   "cell_type": "code",
   "execution_count": 93,
   "id": "6580497b",
   "metadata": {},
   "outputs": [
    {
     "name": "stdout",
     "output_type": "stream",
     "text": [
      "2010-09-10 10:01:22\n"
     ]
    }
   ],
   "source": [
    "fechafecha =  datetime.timestamp(fecha)\n",
    "print(datetime.fromtimestamp(fechafecha))"
   ]
  },
  {
   "cell_type": "markdown",
   "id": "9fa710a8",
   "metadata": {},
   "source": [
    "### Ejercicio 7\n",
    "- Escribe un programa que imprima la fecha de 5 días atras."
   ]
  },
  {
   "cell_type": "code",
   "execution_count": 94,
   "id": "c2508c37",
   "metadata": {},
   "outputs": [
    {
     "name": "stdout",
     "output_type": "stream",
     "text": [
      "2023-09-21\n"
     ]
    }
   ],
   "source": [
    "z = int(input(\"¿Cuántos años atrás\"))\n",
    "y = int(input(\"¿Cuántos meses atrás?\"))\n",
    "x = int(input(\"¿Cuántos días atrás?\"))\n",
    "\n",
    "fecha = datetime.now()\n",
    "\n",
    "hoy = int(fecha.strftime(\"%d\"))\n",
    "mes = int(fecha.strftime(\"%m\"))\n",
    "año = int(fecha.strftime(\"%Y\"))\n",
    "hacexdias = hoy - x\n",
    "haceymes = mes - y\n",
    "hacezaño = año - z\n",
    "fechahace5dias = date(year = hacezaño, month = haceymes, day = hacexdias)\n",
    "print(fechahace5dias)"
   ]
  },
  {
   "cell_type": "markdown",
   "id": "ea3d4997",
   "metadata": {},
   "source": [
    "### Ejercicio 8\n",
    "- Utiliza un bucle **`for`** para imprimir los proximos 5 dias."
   ]
  },
  {
   "cell_type": "code",
   "execution_count": 95,
   "id": "311bfc3d",
   "metadata": {},
   "outputs": [
    {
     "name": "stdout",
     "output_type": "stream",
     "text": [
      "2023-09-22\n",
      "2023-09-23\n",
      "2023-09-24\n",
      "2023-09-25\n",
      "2023-09-26\n"
     ]
    }
   ],
   "source": [
    "fecha = datetime.now()\n",
    "hoy = int(fecha.strftime(\"%d\"))\n",
    "for i in range(5):\n",
    "    hoy = hoy + 1\n",
    "    print(date(2023, 9, hoy))"
   ]
  },
  {
   "cell_type": "code",
   "execution_count": 96,
   "id": "d4a15d9e",
   "metadata": {},
   "outputs": [],
   "source": [
    "fecha = datetime.now()\n",
    "hoy = int(fecha.strftime(\"%d\"))\n"
   ]
  },
  {
   "cell_type": "markdown",
   "id": "9f2f692d",
   "metadata": {},
   "source": [
    "### Ejercicio 9\n",
    "- Escribe un código que agregue 5 segundos a la hora actual."
   ]
  },
  {
   "cell_type": "code",
   "execution_count": 99,
   "id": "6299f143",
   "metadata": {},
   "outputs": [
    {
     "data": {
      "text/plain": [
       "'14:15:38'"
      ]
     },
     "execution_count": 99,
     "metadata": {},
     "output_type": "execute_result"
    }
   ],
   "source": [
    "fechayhora = datetime.now()\n",
    "horaactual = datetime.strftime(fechayhora, \"%X\")\n",
    "horaactual"
   ]
  },
  {
   "cell_type": "code",
   "execution_count": null,
   "id": "828c806b",
   "metadata": {},
   "outputs": [],
   "source": []
  },
  {
   "cell_type": "code",
   "execution_count": null,
   "id": "30269f13",
   "metadata": {},
   "outputs": [
    {
     "ename": "SyntaxError",
     "evalue": "invalid syntax (2328929552.py, line 1)",
     "output_type": "error",
     "traceback": [
      "\u001b[1;36m  Cell \u001b[1;32mIn[24], line 1\u001b[1;36m\u001b[0m\n\u001b[1;33m    lkfdvlzdhvmn dcfvjbn\u001b[0m\n\u001b[1;37m                 ^\u001b[0m\n\u001b[1;31mSyntaxError\u001b[0m\u001b[1;31m:\u001b[0m invalid syntax\n"
     ]
    }
   ],
   "source": [
    "lkfdvlzdhvmn dcfvjbn"
   ]
  },
  {
   "cell_type": "markdown",
   "id": "e6fa33cc",
   "metadata": {},
   "source": [
    "### Ejercicio 10\n",
    "\n",
    "- Escribe un código que muestre la fecha de ayer, hoy y mañana."
   ]
  },
  {
   "cell_type": "code",
   "execution_count": null,
   "id": "a1b81653",
   "metadata": {},
   "outputs": [],
   "source": []
  },
  {
   "cell_type": "code",
   "execution_count": null,
   "id": "01cf4839",
   "metadata": {},
   "outputs": [],
   "source": []
  },
  {
   "cell_type": "code",
   "execution_count": null,
   "id": "5c397c62",
   "metadata": {},
   "outputs": [],
   "source": []
  },
  {
   "cell_type": "markdown",
   "id": "bf3cb171",
   "metadata": {},
   "source": [
    "### Ejercicio 11\n",
    "- Escribe un código que convierta una fecha a unix timestamp."
   ]
  },
  {
   "cell_type": "code",
   "execution_count": null,
   "id": "87e59068",
   "metadata": {},
   "outputs": [],
   "source": []
  },
  {
   "cell_type": "code",
   "execution_count": null,
   "id": "a07a78aa",
   "metadata": {},
   "outputs": [],
   "source": []
  },
  {
   "cell_type": "code",
   "execution_count": null,
   "id": "e88b97c1",
   "metadata": {},
   "outputs": [],
   "source": []
  },
  {
   "cell_type": "markdown",
   "id": "44994dbb",
   "metadata": {},
   "source": [
    "### Ejercicio 12\n",
    "\n",
    "- Escribe un código que genere la fecha y hora actual del tipo **`datetime`** como **`string`**. (Dale el formato que quieras.)"
   ]
  },
  {
   "cell_type": "code",
   "execution_count": null,
   "id": "c7e38f97",
   "metadata": {},
   "outputs": [],
   "source": []
  },
  {
   "cell_type": "code",
   "execution_count": null,
   "id": "d4fa4a49",
   "metadata": {},
   "outputs": [],
   "source": []
  },
  {
   "cell_type": "code",
   "execution_count": null,
   "id": "cba05354",
   "metadata": {},
   "outputs": [],
   "source": []
  },
  {
   "cell_type": "markdown",
   "id": "ed6e7b81",
   "metadata": {},
   "source": [
    "### Ejercicio 13\n",
    "\n",
    "- Calcula la cantidad de segundos que han pasado desde el **`01-Jan-2023`**."
   ]
  },
  {
   "cell_type": "code",
   "execution_count": null,
   "id": "66ebcc7c",
   "metadata": {},
   "outputs": [],
   "source": []
  },
  {
   "cell_type": "code",
   "execution_count": null,
   "id": "462a0e80",
   "metadata": {},
   "outputs": [],
   "source": []
  },
  {
   "cell_type": "code",
   "execution_count": null,
   "id": "862141bf",
   "metadata": {},
   "outputs": [],
   "source": []
  }
 ],
 "metadata": {
  "kernelspec": {
   "display_name": "Python 3 (ipykernel)",
   "language": "python",
   "name": "python3"
  },
  "language_info": {
   "codemirror_mode": {
    "name": "ipython",
    "version": 3
   },
   "file_extension": ".py",
   "mimetype": "text/x-python",
   "name": "python",
   "nbconvert_exporter": "python",
   "pygments_lexer": "ipython3",
   "version": "3.11.4"
  }
 },
 "nbformat": 4,
 "nbformat_minor": 5
}
