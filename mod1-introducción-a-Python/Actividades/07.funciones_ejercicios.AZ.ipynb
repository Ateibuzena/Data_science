{
 "cells": [
  {
   "cell_type": "markdown",
   "id": "617e80df",
   "metadata": {},
   "source": [
    "### Funciones ejercicios"
   ]
  },
  {
   "cell_type": "markdown",
   "id": "9ff17fdc",
   "metadata": {},
   "source": [
    "### Ejercicio 1\n",
    "- Crea una función que retorne el minimo de 2 números, no puedes usar la función **`min()`**."
   ]
  },
  {
   "cell_type": "code",
   "execution_count": 4,
   "id": "b2988ac2",
   "metadata": {},
   "outputs": [],
   "source": [
    "def minimun(a,b):\n",
    "    \n",
    "    if a <= b:\n",
    "        print(a, \" es menor que \", b)\n",
    "        return(a)\n",
    "    \n",
    "    else:\n",
    "        print(b, \" es menor que \", a)\n",
    "        return(b)\n",
    "    "
   ]
  },
  {
   "cell_type": "code",
   "execution_count": 3,
   "id": "3f83e40c",
   "metadata": {},
   "outputs": [
    {
     "name": "stdout",
     "output_type": "stream",
     "text": [
      "1  <=  2\n"
     ]
    }
   ],
   "source": [
    "minimun(1,2)"
   ]
  },
  {
   "cell_type": "markdown",
   "id": "299d07e1",
   "metadata": {},
   "source": [
    "### Ejercicio 2\n",
    "- Crea una función que tenga como parametro de entrada 4 números y devuelva la suma y multiplicación de dichos números en dos variables."
   ]
  },
  {
   "cell_type": "code",
   "execution_count": 29,
   "id": "29dc4315",
   "metadata": {},
   "outputs": [],
   "source": [
    "def parametro(a,b,c,d):\n",
    "        x = a + b + c + d\n",
    "        y = a*b*c*d\n",
    "        print(\"la suma de todos los numeros es: \", x)\n",
    "        print(\"la multiplicacion de todos los nunmeros es:\", y)\n",
    "        return([x,y])    "
   ]
  },
  {
   "cell_type": "code",
   "execution_count": 30,
   "id": "771dd0ed",
   "metadata": {},
   "outputs": [
    {
     "name": "stdout",
     "output_type": "stream",
     "text": [
      "la suma de todos los numeros es:  6\n",
      "la multiplicacion de todos los nunmeros es: 4\n",
      "la suma de todos los numeros es:  6\n",
      "la multiplicacion de todos los nunmeros es: 4\n",
      "6\n"
     ]
    }
   ],
   "source": [
    "parametro(1,1,2,2)\n",
    "lista = parametro(1,1,2,2)\n",
    "print(lista[0])"
   ]
  },
  {
   "cell_type": "markdown",
   "id": "b33d16b5",
   "metadata": {},
   "source": [
    "### Ejercicio 3\n",
    "- Crea una función que devuelva los dos números menores en forma de lista de 4 números."
   ]
  },
  {
   "cell_type": "code",
   "execution_count": 31,
   "id": "413447a6",
   "metadata": {},
   "outputs": [],
   "source": [
    "\n",
    "def listademinimos(a,b,c,d):\n",
    "    lista = [a,b,c,d]\n",
    "\n",
    "    minimo = min(lista)\n",
    "    lista.remove(minimo)\n",
    "    \n",
    "    minimo2 = min(lista)\n",
    "    listaminimos = [minimo, minimo2]\n",
    "\n",
    "    return(listaminimos)\n"
   ]
  },
  {
   "cell_type": "code",
   "execution_count": 32,
   "id": "763659b4",
   "metadata": {},
   "outputs": [
    {
     "data": {
      "text/plain": [
       "[1, 1]"
      ]
     },
     "execution_count": 32,
     "metadata": {},
     "output_type": "execute_result"
    }
   ],
   "source": [
    "listademinimos(1,2,3,1)"
   ]
  },
  {
   "cell_type": "markdown",
   "id": "b5b102ac",
   "metadata": {},
   "source": [
    "### Ejercicio 4\n",
    "- Crea una función que devuelva los 10 números menores de una lista de 20 números aleatorios entre 10 y 50. (Recuerda importar la libreria)\n",
    "- La lista de número aleatorios se puede crear fuera o dentro de la función."
   ]
  },
  {
   "cell_type": "code",
   "execution_count": 33,
   "id": "6f33698b",
   "metadata": {},
   "outputs": [],
   "source": [
    "import math\n",
    "import random"
   ]
  },
  {
   "cell_type": "code",
   "execution_count": 34,
   "id": "77d7dacb",
   "metadata": {},
   "outputs": [],
   "source": [
    "def listadiez ():\n",
    "    lista = []\n",
    "    listamenores = []\n",
    "    for i in range(20):\n",
    "        lista.append(random.randint(10,50))\n",
    "    \n",
    "    for n in range(10):\n",
    "        minimo = min(lista)\n",
    "        lista.remove(minimo)\n",
    "        listamenores.append(minimo)\n",
    "\n",
    "    return(listamenores)"
   ]
  },
  {
   "cell_type": "code",
   "execution_count": 35,
   "id": "37b7fd31",
   "metadata": {},
   "outputs": [
    {
     "data": {
      "text/plain": [
       "[13, 17, 18, 18, 20, 21, 23, 27, 32, 32]"
      ]
     },
     "execution_count": 35,
     "metadata": {},
     "output_type": "execute_result"
    }
   ],
   "source": [
    "listadiez()"
   ]
  },
  {
   "cell_type": "markdown",
   "id": "af2c3e2a",
   "metadata": {},
   "source": [
    "### Ejercicio 5\n",
    "- Crea una función que realice la misma tarea que **`len()`**. "
   ]
  },
  {
   "cell_type": "code",
   "execution_count": 36,
   "id": "fd7e71ac",
   "metadata": {},
   "outputs": [],
   "source": [
    "\n",
    "def contador(frase):\n",
    "    contador = 0\n",
    "    for i in frase:\n",
    "        contador = contador + 1\n",
    "    return(contador)"
   ]
  },
  {
   "cell_type": "code",
   "execution_count": 37,
   "id": "d0271389",
   "metadata": {},
   "outputs": [
    {
     "data": {
      "text/plain": [
       "11"
      ]
     },
     "execution_count": 37,
     "metadata": {},
     "output_type": "execute_result"
    }
   ],
   "source": [
    "contador(\"Hola manolo\")"
   ]
  },
  {
   "cell_type": "markdown",
   "id": "16725232",
   "metadata": {},
   "source": [
    "### Ejercicio 6\n",
    "- Escribe una función que:\n",
    "- Tome como parametro de entrada una lista de números y letras\n",
    "- Convierta las letras a su forma en mayuscula.\n",
    "- Que calcule el cuadrado de los números\n",
    "- Que retorne ese resultado en una lista en el mismo orden.\n",
    "\n",
    "**Ejemplo:**\n",
    "\n",
    "**`entrada = [1, 2, 3, 4, \"a\", \"b\", \"c\", \"d\"]`**\n",
    "\n",
    "**`salida = [1, 4, 9, 16, \"A\", \"B\", \"C\", \"D\"]`**"
   ]
  },
  {
   "cell_type": "code",
   "execution_count": 38,
   "id": "f47c456d",
   "metadata": {},
   "outputs": [],
   "source": [
    "def entradasalida(lista):\n",
    "    resultado = []\n",
    "    for n in lista:\n",
    "        if type(n) == int:\n",
    "            n = n**2\n",
    "            resultado.append(n)\n",
    "        else:\n",
    "            n = n.capitalize()\n",
    "            resultado.append(n)\n",
    "    return(resultado)"
   ]
  },
  {
   "cell_type": "code",
   "execution_count": 39,
   "id": "ca5a46ed",
   "metadata": {},
   "outputs": [
    {
     "data": {
      "text/plain": [
       "[1, 4, 9, 16, 'A', 'E', 'I', 'O', 'U']"
      ]
     },
     "execution_count": 39,
     "metadata": {},
     "output_type": "execute_result"
    }
   ],
   "source": [
    "lista = [1,2,3,4,\"a\",\"e\",\"i\",\"o\",\"u\"]\n",
    "entradasalida(lista)"
   ]
  },
  {
   "cell_type": "markdown",
   "id": "b8061721",
   "metadata": {},
   "source": [
    "### Ejercicio 7\n",
    "\n",
    "- Crea una funcion que reciba una lista de enteros y que retorne la misma lista sin numeros repetidos y ordenados."
   ]
  },
  {
   "cell_type": "code",
   "execution_count": 32,
   "id": "3cb92788",
   "metadata": {},
   "outputs": [],
   "source": [
    "def repetidosordenados():\n",
    "    ingress = input(\"Introduce una lista de enteros separados por espacio:\").split()\n",
    "    lista = [int(n) for n in ingress]\n",
    "    \n",
    "    resultado = set(lista)\n",
    "    return sorted(resultado)"
   ]
  },
  {
   "cell_type": "code",
   "execution_count": 33,
   "id": "03e590e1",
   "metadata": {},
   "outputs": [
    {
     "data": {
      "text/plain": [
       "[1, 10, 12, 100, 101]"
      ]
     },
     "execution_count": 33,
     "metadata": {},
     "output_type": "execute_result"
    }
   ],
   "source": [
    "repetidosordenados()"
   ]
  },
  {
   "cell_type": "markdown",
   "id": "cd4a3b21",
   "metadata": {},
   "source": [
    "### Ejercicio 8\n",
    "- Dada una lista de numeros enteros, retornar cuantos numeros hay con un numero par de digitos."
   ]
  },
  {
   "cell_type": "code",
   "execution_count": 9,
   "id": "ce211af8",
   "metadata": {},
   "outputs": [],
   "source": [
    "lista = [230, 2, 45, 1, 30, 234, 450, 34, 1000, 888888, 75848]\n",
    "def pardedigitos(lista):\n",
    "    resultado = [n for n in lista if len(str(n))%2 == 0]        \n",
    "    return len(resultado)"
   ]
  },
  {
   "cell_type": "code",
   "execution_count": 10,
   "id": "5d246781",
   "metadata": {},
   "outputs": [
    {
     "data": {
      "text/plain": [
       "5"
      ]
     },
     "execution_count": 10,
     "metadata": {},
     "output_type": "execute_result"
    }
   ],
   "source": [
    "pardedigitos(lista)"
   ]
  }
 ],
 "metadata": {
  "kernelspec": {
   "display_name": "Python 3 (ipykernel)",
   "language": "python",
   "name": "python3"
  },
  "language_info": {
   "codemirror_mode": {
    "name": "ipython",
    "version": 3
   },
   "file_extension": ".py",
   "mimetype": "text/x-python",
   "name": "python",
   "nbconvert_exporter": "python",
   "pygments_lexer": "ipython3",
   "version": "3.11.4"
  }
 },
 "nbformat": 4,
 "nbformat_minor": 5
}
