{
 "cells": [
  {
   "cell_type": "markdown",
   "id": "de36e953",
   "metadata": {},
   "source": [
    "## Ejercicios funciones especiales"
   ]
  },
  {
   "cell_type": "code",
   "execution_count": 3,
   "id": "a05cc9d4",
   "metadata": {},
   "outputs": [],
   "source": [
    "import random\n",
    "import math"
   ]
  },
  {
   "cell_type": "markdown",
   "id": "14724448",
   "metadata": {},
   "source": [
    "### Operador Ternario"
   ]
  },
  {
   "cell_type": "markdown",
   "id": "15bb5ca3",
   "metadata": {},
   "source": [
    "### Ejercicio 1:\n",
    "- Transforma el siguiente condicional usando el operador ternario:"
   ]
  },
  {
   "cell_type": "code",
   "execution_count": 71,
   "id": "9be8af0f",
   "metadata": {},
   "outputs": [
    {
     "data": {
      "text/plain": [
       "(1718, 'par')"
      ]
     },
     "execution_count": 71,
     "metadata": {},
     "output_type": "execute_result"
    }
   ],
   "source": [
    "valor = random.randint(1000,2000)\n",
    "valor, \"par\" if valor%2 == 0 else \"impar\""
   ]
  },
  {
   "cell_type": "code",
   "execution_count": 74,
   "id": "c35ac239",
   "metadata": {},
   "outputs": [],
   "source": [
    "valor = random.randint(1000,2000)\n",
    "x = \"par\" if valor % 2 == 0 else \"impar\"\n"
   ]
  },
  {
   "cell_type": "markdown",
   "id": "712de00b",
   "metadata": {},
   "source": [
    "### Ejercicio 2:\n",
    "- Transforma el siguiente condicional usando el operador ternario:"
   ]
  },
  {
   "cell_type": "code",
   "execution_count": 3,
   "id": "0d642085",
   "metadata": {},
   "outputs": [
    {
     "data": {
      "text/plain": [
       "(1, 4, 4)"
      ]
     },
     "execution_count": 3,
     "metadata": {},
     "output_type": "execute_result"
    }
   ],
   "source": [
    "a = 1\n",
    "b = 4\n",
    "x = a if a > b else b\n",
    "a, x, b"
   ]
  },
  {
   "cell_type": "markdown",
   "id": "6a223d59",
   "metadata": {},
   "source": [
    "### Ejercicio 3:\n",
    "- Transforma el siguiente condicional usando el operador ternario:"
   ]
  },
  {
   "cell_type": "code",
   "execution_count": 84,
   "id": "2500650b",
   "metadata": {},
   "outputs": [
    {
     "data": {
      "text/plain": [
       "0"
      ]
     },
     "execution_count": 84,
     "metadata": {},
     "output_type": "execute_result"
    }
   ],
   "source": [
    "string = input(\"Ingresa una frase con palabras separadas por espacios: \")\n",
    "x = (len(string.split())) if len(string.split()) > 5 else 0\n",
    "x"
   ]
  },
  {
   "cell_type": "markdown",
   "id": "7047f230",
   "metadata": {},
   "source": [
    "### Ejercicio 4:\n",
    "- Transforma el siguiente condicional usando el operador ternario:"
   ]
  },
  {
   "cell_type": "code",
   "execution_count": 88,
   "id": "620c3c31",
   "metadata": {},
   "outputs": [
    {
     "data": {
      "text/plain": [
       "25"
      ]
     },
     "execution_count": 88,
     "metadata": {},
     "output_type": "execute_result"
    }
   ],
   "source": [
    "n = 5\n",
    "\n",
    "x = n**2 if type(n) == int else n\n",
    "x"
   ]
  },
  {
   "cell_type": "markdown",
   "id": "89ef4b85",
   "metadata": {},
   "source": [
    "### List Comprehensions"
   ]
  },
  {
   "cell_type": "markdown",
   "id": "933f5b6f",
   "metadata": {},
   "source": [
    "### Ejercicio 5:\n",
    "- Inicializa una lista vacia.\n",
    "- Llena la lista con 15 números enteros aleatorios entre 0 y 10 utilizando la función: **`random.randint()`** y un bucle **`for`**.\n",
    "\n",
    "\n",
    "- Después repite el ejercicio utilizando **`list comprehension`**."
   ]
  },
  {
   "cell_type": "code",
   "execution_count": null,
   "id": "6d7109d1",
   "metadata": {},
   "outputs": [],
   "source": [
    "lista = []\n",
    "for i in range(15):\n",
    "    lista.append(random.randint(0,10))\n",
    "lista"
   ]
  },
  {
   "cell_type": "code",
   "execution_count": 110,
   "id": "79eb56a7",
   "metadata": {},
   "outputs": [
    {
     "data": {
      "text/plain": [
       "[5, 10, 1, 10, 4, 9, 5, 6, 1, 2, 8, 2, 4, 8, 1]"
      ]
     },
     "execution_count": 110,
     "metadata": {},
     "output_type": "execute_result"
    }
   ],
   "source": [
    "\n",
    "lista = [random.randint(0,10) for i in range(15)]\n",
    "lista"
   ]
  },
  {
   "cell_type": "markdown",
   "id": "59a80178",
   "metadata": {},
   "source": [
    "### Ejercicio 6:\n",
    "- Inicializa una lista vacia.\n",
    "- Llena la lista 15 números enteros aleatorios entre 1 y 100 utilizando la función: **`random.randint()`** y un bucle **`for`**.\n",
    "- Después inicializa otra lista vacia y llenala con los números impares de la primera lista.\n",
    "\n",
    "\n",
    "\n",
    "- Repite este proceso usando **`list comprehension`**.\n",
    "    - Tendras que hacer dos **`list comprehensions`**, uno para crear la lista con los 15 elementos y el segundo para filtrar."
   ]
  },
  {
   "cell_type": "code",
   "execution_count": 113,
   "id": "476d2a8b",
   "metadata": {},
   "outputs": [
    {
     "data": {
      "text/plain": [
       "([86, 31, 7, 33, 57, 50, 94, 57, 94, 37, 21, 79, 47, 81, 77],\n",
       " [31, 7, 33, 57, 57, 37, 21, 79, 47, 81, 77])"
      ]
     },
     "execution_count": 113,
     "metadata": {},
     "output_type": "execute_result"
    }
   ],
   "source": [
    "lista = [random.randint(0,100) for i in range(15)]\n",
    "listaimpares = [n for n in lista if n%2 != 0]\n",
    "lista, listaimpares"
   ]
  },
  {
   "cell_type": "markdown",
   "id": "a8e42b5b",
   "metadata": {},
   "source": [
    "### Ejercicio 7:\n",
    "- A partir de la siguiente **`lista = [\"1\",\"2\",\"3\",\"4\",\"5\",\"6\"]`**, usando bucles **`for`**, obten el siguiente resultado **`lista = [11, 22, 33, 44, 55, 66]`**.\n",
    "    - **Nota:** los elementos de la primera lista son **`strings`** y los elementos de la segunda lista son **`enteros`**.\n",
    "    \n",
    "    \n",
    "    \n",
    "- Repite el ejercicio pero usando **`list comprehensions`**."
   ]
  },
  {
   "cell_type": "code",
   "execution_count": 114,
   "id": "61a55d17",
   "metadata": {},
   "outputs": [
    {
     "data": {
      "text/plain": [
       "[11, 22, 33, 44, 55, 66]"
      ]
     },
     "execution_count": 114,
     "metadata": {},
     "output_type": "execute_result"
    }
   ],
   "source": [
    "lista = [\"1\", \"2\", \"3\", \"4\", \"5\", \"6\"]\n",
    "resultado = [int(n)*11 for n in lista]\n",
    "resultado"
   ]
  },
  {
   "cell_type": "markdown",
   "id": "184a56f2",
   "metadata": {},
   "source": [
    "### Ejercicio 8:\n",
    "- Inicializa una lista vacia y llenala de 20 números enteros aleatorios del 1 al 100 (llamala **`lista_1`**).\n",
    "- Inicializa otra lista vacia y recorriendo la primera lista, llenala con 0's o 1's si los elementos son pares o impares, respectivamente (llamala **`lista_2`**).\n",
    "    - Ejemplo: \n",
    "        - input: **`lista_1 = [58, 42, 47, 26, 45, 93, 24, 29, 16, 92]`**\n",
    "        - output: **`lista_2 = [0, 0, 1, 0, 1, 1, 0, 1, 0, 0]`**\n",
    "        \n",
    "        \n",
    "- Repite el mismo ejercicio usando **`list comprehension`**."
   ]
  },
  {
   "cell_type": "code",
   "execution_count": 115,
   "id": "af5a77de",
   "metadata": {},
   "outputs": [
    {
     "data": {
      "text/plain": [
       "([15, 86, 20, 98, 97, 85, 2, 68, 88, 3, 62, 58, 65, 54, 6, 22, 39, 86, 57, 52],\n",
       " [0, 1, 0, 1, 0, 1, 0, 1, 0, 1, 0, 1, 0, 1, 0, 1, 0, 1, 0, 1])"
      ]
     },
     "execution_count": 115,
     "metadata": {},
     "output_type": "execute_result"
    }
   ],
   "source": [
    "lista1 = [random.randint(1, 100) for i in range(20)]\n",
    "lista2 = [0 if n%2 == 0 else 1 for n in range(20)]\n",
    "lista1, lista2"
   ]
  },
  {
   "cell_type": "markdown",
   "id": "aca8f0ef",
   "metadata": {},
   "source": [
    "### Dictionaries Comprehensions"
   ]
  },
  {
   "cell_type": "markdown",
   "id": "aa503199",
   "metadata": {},
   "source": [
    "### Ejercicio 8:\n",
    "- Inicializa un diccionario vacio (llamado **`dict_1`**).\n",
    "- Llenalo utilizando la siguiente formula: **`i : int(math.pow(i*random.random(), -1))`** donde **`i`** son los números del 1 hasta el 10. Hazlo usando un bucle **`for`**.\n",
    "\n",
    "\n",
    "\n",
    "- Repite este ejercicio pero usando **`dictionaries comprehensions`**."
   ]
  },
  {
   "cell_type": "code",
   "execution_count": 116,
   "id": "28390c9a",
   "metadata": {},
   "outputs": [
    {
     "data": {
      "text/plain": [
       "{1: 3, 2: 3, 3: 0, 4: 0, 5: 0, 6: 0, 7: 0, 8: 0, 9: 0, 10: 1}"
      ]
     },
     "execution_count": 116,
     "metadata": {},
     "output_type": "execute_result"
    }
   ],
   "source": [
    "dict_1 = {i : int(math.pow(i*random.random(), -1)) for i in range(1,11)}\n",
    "dict_1"
   ]
  },
  {
   "cell_type": "markdown",
   "id": "6d2182b0",
   "metadata": {},
   "source": [
    "### Ejercicio 10:\n",
    "- Inicializa un diccionario vacio (llamado **`dict_1`**).\n",
    "- Llenalo utilizando los elementos de **`lista_1`** y los elementos de **`lista_2`** de forma que los elementos de **`lista_1`** sean las llaves y los elementos de **`lista_2`** sean los valores.\n",
    "\n",
    "\n",
    "- Repite este ejercicio pero usando **`dictionaries comprehensions`**."
   ]
  },
  {
   "cell_type": "code",
   "execution_count": 1,
   "id": "b563777f",
   "metadata": {},
   "outputs": [],
   "source": [
    "lista_1 = [\"indice_0\", \"indice_1\", \"indice_2\", \"indice_3\", \"indice_4\", \"indice_5\", \"indice_6\", \"indice_7\", \"indice_8\"]\n",
    "\n",
    "lista_2 = [65, 91, 79, 19, 100, 49, 4, 18, 93]"
   ]
  },
  {
   "cell_type": "code",
   "execution_count": 5,
   "id": "84b8d749",
   "metadata": {},
   "outputs": [
    {
     "data": {
      "text/plain": [
       "{'indice_0': 65,\n",
       " 'indice_1': 91,\n",
       " 'indice_2': 79,\n",
       " 'indice_3': 19,\n",
       " 'indice_4': 100,\n",
       " 'indice_5': 49,\n",
       " 'indice_6': 4,\n",
       " 'indice_7': 18,\n",
       " 'indice_8': 93}"
      ]
     },
     "execution_count": 5,
     "metadata": {},
     "output_type": "execute_result"
    }
   ],
   "source": [
    "dict_1 = {lista_1[i] : lista_2[i] for i in range(len(lista_1))}\n",
    "dict_1"
   ]
  }
 ],
 "metadata": {
  "kernelspec": {
   "display_name": "Python 3 (ipykernel)",
   "language": "python",
   "name": "python3"
  },
  "language_info": {
   "codemirror_mode": {
    "name": "ipython",
    "version": 3
   },
   "file_extension": ".py",
   "mimetype": "text/x-python",
   "name": "python",
   "nbconvert_exporter": "python",
   "pygments_lexer": "ipython3",
   "version": "3.11.4"
  }
 },
 "nbformat": 4,
 "nbformat_minor": 5
}
