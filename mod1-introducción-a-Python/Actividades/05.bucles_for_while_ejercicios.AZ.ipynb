{
 "cells": [
  {
   "cell_type": "markdown",
   "id": "d6ba5bce",
   "metadata": {},
   "source": [
    "## Ejercicios Bucles"
   ]
  },
  {
   "cell_type": "markdown",
   "id": "80012d75",
   "metadata": {},
   "source": [
    "### Ejercicio 1\n",
    "\n",
    "- Dada la siguiente **lista = [1, 2, 3, 4, 5, 6, 7, 8, 9, 10]**, imprimir cada número sumandole 10 unidades utilizando un bucle **`for`**."
   ]
  },
  {
   "cell_type": "code",
   "execution_count": 17,
   "id": "5436374e",
   "metadata": {},
   "outputs": [
    {
     "name": "stdout",
     "output_type": "stream",
     "text": [
      "1 + 10 = 11\n",
      "2 + 10 = 12\n",
      "3 + 10 = 13\n",
      "4 + 10 = 14\n",
      "5 + 10 = 15\n",
      "6 + 10 = 16\n",
      "7 + 10 = 17\n",
      "8 + 10 = 18\n",
      "9 + 10 = 19\n",
      "10 + 10 = 20\n"
     ]
    }
   ],
   "source": [
    "lista = [1,2,3,4,5,6,7,8,9,10]\n",
    "\n",
    "for i in lista:\n",
    "    print(i,\"+ 10 =\", i+10)"
   ]
  },
  {
   "cell_type": "markdown",
   "id": "615b834a",
   "metadata": {},
   "source": [
    "### Ejercicio 2\n",
    "- Crea un bucle for que muestre la tabla de multiplicar del 1 al 10 de un número dado por el usuario.\n",
    "- Output:\n",
    "\n",
    "```html\n",
    "1 x 2 = 2\n",
    "2 x 2 = 4\n",
    "3 x 2 = 6\n",
    "4 x 2 = 8\n",
    "5 x 2 = 10\n",
    "6 x 2 = 12\n",
    "7 x 2 = 14\n",
    "8 x 2 = 16\n",
    "9 x 2 = 18\n",
    "10 x 2 = 20\n",
    "```"
   ]
  },
  {
   "cell_type": "code",
   "execution_count": 18,
   "id": "4c07823e",
   "metadata": {},
   "outputs": [
    {
     "name": "stdout",
     "output_type": "stream",
     "text": [
      "-1 no es un numero correcto.\n",
      "2 x 1 = 2\n",
      "2 x 2 = 4\n",
      "2 x 3 = 6\n",
      "2 x 4 = 8\n",
      "2 x 5 = 10\n",
      "2 x 6 = 12\n",
      "2 x 7 = 14\n",
      "2 x 8 = 16\n",
      "2 x 9 = 18\n",
      "2 x 10 = 20\n"
     ]
    }
   ],
   "source": [
    "nu = int(input(\"i =\"))\n",
    "lista = [1,2,3,4,5,6,7,8,9,10]\n",
    "\n",
    "for n in lista:\n",
    "    while (nu < 0) or (nu  > 10):\n",
    "        print(nu, \"no es un numero correcto.\")\n",
    "        nu = int(input(\"Ingrese un numero correcto:\"))\n",
    "    print (nu, \"x\", n, \"=\", nu*n)"
   ]
  },
  {
   "cell_type": "markdown",
   "id": "3c8a4c44",
   "metadata": {},
   "source": [
    "### Ejercicio 3\n",
    "- Crear una lista vacia.\n",
    "- Llenar la lista con los numero del 200 al 215 usando un bucle **`for`**."
   ]
  },
  {
   "cell_type": "code",
   "execution_count": 1,
   "id": "92d1be47",
   "metadata": {},
   "outputs": [
    {
     "name": "stdout",
     "output_type": "stream",
     "text": [
      "[200, 201, 202, 203, 204, 205, 206, 207, 208, 209, 210, 211, 212, 213, 214, 215]\n"
     ]
    }
   ],
   "source": [
    "lista = []\n",
    "for i in range(200,216):\n",
    "    lista.append(i)\n",
    "print(lista)"
   ]
  },
  {
   "cell_type": "markdown",
   "id": "073bada8",
   "metadata": {},
   "source": [
    "### Ejercicio 4\n",
    "- Crea una lista de números pares entre el 555 y el 599 utilizando bucle **`for`**."
   ]
  },
  {
   "cell_type": "code",
   "execution_count": 3,
   "id": "2ea6dc60",
   "metadata": {},
   "outputs": [
    {
     "data": {
      "text/plain": [
       "[556,\n",
       " 558,\n",
       " 560,\n",
       " 562,\n",
       " 564,\n",
       " 566,\n",
       " 568,\n",
       " 570,\n",
       " 572,\n",
       " 574,\n",
       " 576,\n",
       " 578,\n",
       " 580,\n",
       " 582,\n",
       " 584,\n",
       " 586,\n",
       " 588,\n",
       " 590,\n",
       " 592,\n",
       " 594,\n",
       " 596,\n",
       " 598]"
      ]
     },
     "execution_count": 3,
     "metadata": {},
     "output_type": "execute_result"
    }
   ],
   "source": [
    "lista_pares = []\n",
    "for i in range (555,600):\n",
    "    if i%2 == 0:\n",
    "        lista_pares.append(i)\n",
    "lista_pares"
   ]
  },
  {
   "cell_type": "markdown",
   "id": "282e98c2",
   "metadata": {},
   "source": [
    "### Ejercicio 5\n",
    "- Crea un bucle **`for`** que sume los valores de la siguiente lista: **[51, 52, 53, 54, 55]**."
   ]
  },
  {
   "cell_type": "code",
   "execution_count": 5,
   "id": "3d4d4485",
   "metadata": {},
   "outputs": [
    {
     "name": "stdout",
     "output_type": "stream",
     "text": [
      "265\n"
     ]
    }
   ],
   "source": [
    "lista = [51, 52, 53, 54, 55]\n",
    "resultado = 0\n",
    "\n",
    "for i in lista:\n",
    "    resultado = (i + resultado)\n",
    "\n",
    "print(resultado)\n"
   ]
  },
  {
   "cell_type": "code",
   "execution_count": null,
   "metadata": {},
   "outputs": [],
   "source": []
  },
  {
   "cell_type": "code",
   "execution_count": 9,
   "id": "1690fae2",
   "metadata": {},
   "outputs": [
    {
     "name": "stdout",
     "output_type": "stream",
     "text": [
      "0\n",
      "51\n",
      "1\n",
      "52\n",
      "2\n",
      "53\n",
      "3\n",
      "54\n",
      "4\n",
      "55\n"
     ]
    }
   ],
   "source": [
    "tupla = (51, 52, 53, 54, 55)\n",
    "i = 0\n",
    "while i < len(tupla):\n",
    "    print(i)\n",
    "    print(tupla[i])\n",
    "    i = i + 1\n",
    "\n",
    "    "
   ]
  },
  {
   "cell_type": "markdown",
   "id": "ac9f3703",
   "metadata": {},
   "source": [
    "### Ejercicio 6\n",
    "- Crea una lista con 5 elementos y cada elemento de esa lista, va a ser una lista con los siguientes datos: **[1, 2, 3]**, utiliza 2 **`for`** anidados."
   ]
  },
  {
   "cell_type": "code",
   "execution_count": null,
   "id": "70ba6e94",
   "metadata": {},
   "outputs": [],
   "source": [
    "lista = [[1,2,3],[1,2,3],[1,2,3],[1,2,3],[1,2,3]]"
   ]
  },
  {
   "cell_type": "code",
   "execution_count": 44,
   "id": "c40c21e9",
   "metadata": {},
   "outputs": [
    {
     "name": "stdout",
     "output_type": "stream",
     "text": [
      "1\n",
      "2\n",
      "1\n",
      "2\n",
      "1\n",
      "2\n",
      "1\n",
      "2\n",
      "1\n",
      "2\n",
      "[[], [], [], [], []]\n"
     ]
    }
   ],
   "source": [
    "listavacia = []\n",
    "\n",
    "for i in range(0,5):\n",
    "    i = lista\n",
    "    listavacia.append(i)\n",
    "    lista = []\n",
    "    for n in range(1,3):\n",
    "        print(n)\n",
    "\n",
    "print(listavacia)"
   ]
  },
  {
   "cell_type": "code",
   "execution_count": null,
   "id": "beeacbeb",
   "metadata": {},
   "outputs": [],
   "source": []
  },
  {
   "cell_type": "markdown",
   "id": "b7bb3dcc",
   "metadata": {},
   "source": [
    "### Ejercicio 7\n",
    "- Crea un bucle que cuente del 10 al 1."
   ]
  },
  {
   "cell_type": "code",
   "execution_count": 7,
   "id": "ac6f8092",
   "metadata": {},
   "outputs": [
    {
     "name": "stdout",
     "output_type": "stream",
     "text": [
      "10\n",
      "9\n",
      "8\n",
      "7\n",
      "6\n",
      "5\n",
      "4\n",
      "3\n",
      "2\n",
      "1\n"
     ]
    }
   ],
   "source": [
    "n = 10\n",
    "\n",
    "while n > 0:\n",
    "    print(n)\n",
    "    n = n - 1\n",
    "    "
   ]
  },
  {
   "cell_type": "markdown",
   "id": "6d158465",
   "metadata": {},
   "source": [
    "### Ejercicio 8\n",
    "- Crea dos variables llamadas **`par`** e **`impar`** e inicializalas en 0.\n",
    "- Dada la siguiente lista de números = **[10, 7, 8, 3, 5, 2, 71, 21, 88]**, crea un bucle que recorra la lista y sume los números pares a la variable **`par`** y sume los números impares a la variable **`impar`**."
   ]
  },
  {
   "cell_type": "code",
   "execution_count": 8,
   "id": "df34a94b",
   "metadata": {},
   "outputs": [
    {
     "name": "stdout",
     "output_type": "stream",
     "text": [
      "108 107\n"
     ]
    }
   ],
   "source": [
    "par = 0\n",
    "impar = 0\n",
    "\n",
    "lista = [10, 7, 8, 3, 5, 2, 71, 21, 88]\n",
    "for i in lista:\n",
    "    if i%2 == 0:\n",
    "        par = par + i\n",
    "    else:\n",
    "        impar = impar + i\n",
    "print(par, impar)"
   ]
  },
  {
   "cell_type": "markdown",
   "id": "367b6971",
   "metadata": {},
   "source": [
    "### Ejercicio 9\n",
    "- Crea una lista con 5 colores diferentes.\n",
    "- Y con bucles anidados imprime las letras de los colores."
   ]
  },
  {
   "cell_type": "code",
   "execution_count": 13,
   "id": "01085cd1",
   "metadata": {},
   "outputs": [
    {
     "data": {
      "text/plain": [
       "{'azul': ['a', 'z', 'u', 'l'],\n",
       " 'rosa': ['r', 'o', 's', 'a'],\n",
       " 'verde': ['v', 'e', 'r', 'd', 'e'],\n",
       " 'rojo': ['r', 'o', 'j', 'o'],\n",
       " 'blanco': ['b', 'l', 'a', 'n', 'c', 'o']}"
      ]
     },
     "execution_count": 13,
     "metadata": {},
     "output_type": "execute_result"
    }
   ],
   "source": [
    "lista = [\"azul\", \"rosa\", \"verde\", \"rojo\", \"blanco\"]\n",
    "dic = {}\n",
    "for i in lista:\n",
    "    valor = []\n",
    "    for n in i:\n",
    "        valor.append(n)\n",
    "    dic[i] = valor  \n",
    "\n",
    "dic"
   ]
  },
  {
   "cell_type": "markdown",
   "id": "bf59c876",
   "metadata": {},
   "source": [
    "### Ejercicio 10\n",
    "- Imprimir el índice y valor de cada elemento de la **lista = [-5, -4, -3, -2, -1, 0, 1, 2, 3, 4, 5]** utilizando un bucle **`for`**"
   ]
  },
  {
   "cell_type": "code",
   "execution_count": null,
   "id": "db8dad4b",
   "metadata": {},
   "outputs": [],
   "source": [
    "lista = [-5, -4, -3, -2, -1, 0, 1, 2, 3, 4, 5]"
   ]
  },
  {
   "cell_type": "code",
   "execution_count": 21,
   "id": "3b6f62e5",
   "metadata": {},
   "outputs": [
    {
     "name": "stdout",
     "output_type": "stream",
     "text": [
      "azul\n",
      "0\n",
      "rosa\n",
      "1\n",
      "verde\n",
      "2\n",
      "rojo\n",
      "3\n",
      "blanco\n",
      "4\n"
     ]
    }
   ],
   "source": [
    "for i in lista:\n",
    "    print(i)\n",
    "    print(lista.index(i)) #index todo\n",
    "    "
   ]
  },
  {
   "cell_type": "markdown",
   "id": "eb2b14d4",
   "metadata": {},
   "source": [
    "### Ejercicio 11\n",
    "- Crea un bucle **`while`** donde le pregunte al usuario un número y si ese número es impar el programa se detiene."
   ]
  },
  {
   "cell_type": "code",
   "execution_count": 26,
   "id": "1f61356a",
   "metadata": {},
   "outputs": [],
   "source": [
    "n = int(input(\"Ingrese un numero: \"))\n",
    "while n%2 == 0:\n",
    "    n = int(input(\"Ingrese un numero: \"))"
   ]
  },
  {
   "cell_type": "markdown",
   "id": "506b594c",
   "metadata": {},
   "source": [
    "### Ejercicio 12\n",
    "- Pide al usuario una frase.\n",
    "- Has un bucle que recorra la frase y que imprima las letras de la frase y cuantas veces aparece."
   ]
  },
  {
   "cell_type": "code",
   "execution_count": 30,
   "id": "6d5eed1e",
   "metadata": {},
   "outputs": [
    {
     "data": {
      "text/plain": [
       "{'h': 1,\n",
       " 'o': 1,\n",
       " 'l': 2,\n",
       " 'a': 11,\n",
       " ' ': 6,\n",
       " 'n': 4,\n",
       " 'm': 1,\n",
       " 'ñ': 1,\n",
       " 'v': 2,\n",
       " 's': 1,\n",
       " 'e': 1,\n",
       " 't': 1}"
      ]
     },
     "execution_count": 30,
     "metadata": {},
     "output_type": "execute_result"
    }
   ],
   "source": [
    "frase = input(\"Ingrese una frase: \")\n",
    "dic = {}\n",
    "for letra in frase:\n",
    "    cantidad = frase.count(letra)\n",
    "    dic[letra] = cantidad\n",
    "\n",
    "dic"
   ]
  }
 ],
 "metadata": {
  "kernelspec": {
   "display_name": "Python 3 (ipykernel)",
   "language": "python",
   "name": "python3"
  },
  "language_info": {
   "codemirror_mode": {
    "name": "ipython",
    "version": 3
   },
   "file_extension": ".py",
   "mimetype": "text/x-python",
   "name": "python",
   "nbconvert_exporter": "python",
   "pygments_lexer": "ipython3",
   "version": "3.11.4"
  }
 },
 "nbformat": 4,
 "nbformat_minor": 5
}
