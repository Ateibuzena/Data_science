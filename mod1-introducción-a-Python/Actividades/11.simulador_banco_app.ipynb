{
 "cells": [
  {
   "cell_type": "markdown",
   "id": "800dbe00",
   "metadata": {},
   "source": [
    "# Simulador de App Banco\n",
    "\n",
    "**Vamos a intentar simular una entidad bancaria que lleve tu registro bancario:**\n",
    "\n",
    "1. Crear una variable llamada **`balance`** e inicializala con un **número flotante aleatorio entre 500 y 1000**. Luego una variable con tu nombre llamada **`nombre`**.\n",
    "\n",
    "========================================================================================================================\n",
    "\n",
    "2. **Inicializa 3 listas vacias** para: Historial de Balance, Ingresos, Salidas. (llamalas **`historial_balance`**, **`ingresos`** y **`salidas`** respectivamente.)\n",
    "\n",
    "========================================================================================================================\n",
    "\n",
    "3. Define una función que se llame **`mostrar_balance`** que tome como parametro el balance actual (**`balance`**) y que haga lo siguiente:\n",
    "    - Imprima por pantalla el siguiente mensaje: **\"Hola `nombre`! Tu balance actual es `balance`.\"**\n",
    "        - **Ejemplo**: **`Hola XXXXXX! Tu balance actual es 1000.`**\n",
    "        \n",
    "    - Luego que verifique si el balance es positivo o negativo:\n",
    "        - En caso de ser negativo que imprima el siguiente mensaje: **`Balance negativo.`**\n",
    "    - No debe retornar nada.\n",
    "    \n",
    "========================================================================================================================\n",
    "\n",
    "4. Define una función que se llame **`ingresar_dinero`** que tome como parametro el balance actual (**`balance`**) y que haga lo siguiente:\n",
    "    - Pida al usuario por pantalla un número para ingresar al banco (este número debe ser un flotante y positivo), llama a esta variable **`ing_banco`**.\n",
    "    \n",
    "    - Crea una lista que contenga la variable **`ing_banco`** y el string **`\"ingreso\"`**, llama a esta lista **`ing_info`**.\n",
    "        - **Ejemplo: `[ing_banco, \"ingreso\"]`**\n",
    "        - **Nota**: el string siempre sera **`\"ingreso\"`**.\n",
    "    \n",
    "    - Agrege esa lista (**`ing_info`**) a la lista **`ingresos`**.\n",
    "    \n",
    "    - Crea una variable que se llame **`nuevo_balance`** que sea la suma de **`balance`** y **`ing_banco`**.\n",
    "    \n",
    "    - Agrege el número **`nuevo_balance`** a la lista **`historial_balance`**.\n",
    "    \n",
    "    - Utilice la función **`mostrar_balance()`** usando como parametro la variable **`nuevo_balance`**.\n",
    "    \n",
    "    - Retorna la variable **`nuevo_balance`**.\n",
    "\n",
    "Al momento de usar esta función ejecuta la siguiente linea: **`balance = ingresar_dinero(balance)`**.\n",
    "    \n",
    "========================================================================================================================\n",
    "\n",
    "5. Define una función que se llame **`pagar_servicio`** que tome como parametro el balance actual (**`balance`**) y que haga lo siguiente:\n",
    "    - Pida al usuario por pantalla el nombre del servicio que va a pagar (esta variable debe ser una cadena), llama a esta variable **`nombre_servicio`**.\n",
    "    \n",
    "    - Pida al usuario el valor que se va a pagar por el servicio (esta debe ser flotante y positivo), llama a esta variable **`coste_servicio`**.\n",
    "    \n",
    "    - Crea una lista que contenga la la variable **`coste_servicio`** y el string **`nombre_servicio`**, llama a esta lista **`servicio_info`**.\n",
    "        - **Ejemplo: `[coste_servicio, nombre_servicio]`** \n",
    "    \n",
    "    - Agrege esa lista (**`servicio_info`**) a la lista **`salidas`**.\n",
    "    \n",
    "    - Crea una variable que se llame **`nuevo_balance`** que sea la resta de **`balance`** y **`coste_servicio`**.\n",
    "    \n",
    "    - Agrege el número **`nuevo_balance`** a la lista **`historial_balance`**.\n",
    "    \n",
    "    - Utilice la función **`mostrar_balance()`** usando como parametro la variable **`nuevo_balance`**.\n",
    "    \n",
    "    - Retorna la variable **`nuevo_balance`**.\n",
    "    \n",
    "Al momento de usar esta función ejecuta la siguiente linea: **`balance = pagar_servicio(balance)`**.\n",
    "    \n",
    "========================================================================================================================\n",
    "\n",
    "6. Define una función que se llame **`mostrar_historial_balance`** que tome como parametro de entrada la lista **`historial_balance`** y que haga lo siguiente:\n",
    "    - Imprima cada elemento de la lista **`historial_balance`** utilizando un bucle **`for`** de la siguiente forma:<br>\n",
    "        **INDICE OPERACION: `indice_operacion`, BALANCE: `balance`€**.\n",
    "        - **Ejemplo: `INDICE OPERACION: 0, BALANCE: 500€`**\n",
    "        \n",
    "    - Luego que imprima por pantalla el **total de operaciones** y el **balance actual**.\n",
    "        - **Ejemplo: `TOTAL DE OPERACIONES: 100, BALANCE ACTUAL: 1000€`**\n",
    "    \n",
    "    - No debe retornar nada.\n",
    "    \n",
    "======================================================================================================================== \n",
    " \n",
    "7. Define una función que se llame **`dicc_balance`** que tome como parametro de entrada la lista **`historial_balance`** y que haga lo siguiente:\n",
    "    - Inicialice un diccionario vacio llamado **`balances`**.\n",
    "    \n",
    "    - Utilzando un bucle **`for`** llenar el diccionario **`balances`** usando la lista **`historial_balance`**, usando como **llave el indice la operación** y como **valor el balance de esa operacion**.\n",
    "    \n",
    "    - Esta función debe retornar el diccionario **`balances`**.\n",
    "\n",
    "Al momento de usar esta función ejecuta la siguiente linea: **`balances_usuario = dicc_balance(historial_balance)`**.\n",
    "    \n",
    "========================================================================================================================\n",
    "\n",
    "8. **Extra:** define una función que haga algo que consideres que haría una App bancaria, utilizando cualquier parametro, recuerda que aun no hemos utilizado para nada las listas **`ingresos`** y **`salidas`**, luego explica en clase que hace la función y su utilidad.\n",
    "    \n",
    "**Si puedes escribe algo de documentación en cada función (opcional) y recuerda importar las librerias que consideres que debas usar.**"
   ]
  },
  {
   "cell_type": "code",
   "execution_count": 153,
   "id": "6ca18e9e",
   "metadata": {},
   "outputs": [],
   "source": [
    "import random\n",
    "import datetime\n",
    "from datetime import date\n",
    "balance = float(random.randint(500, 1000))\n",
    "nombre = \"Ana\"\n",
    "historial_balance = []\n",
    "ingresos = []\n",
    "salidas = []\n",
    "fechas_ingreso = []\n",
    "def mostrar_balance(balance):\n",
    "    print(f\"Hola {nombre}! Tu balance actual es {balance}\")\n",
    "    print(\"Balance negativo.\") if balance < 0 else print(\"Balance positivo.\")\n",
    "    \n",
    "def ingresar_dinero(balance):\n",
    "    \n",
    "    ingreso = -1\n",
    "    now = datetime.datetime.now()\n",
    "    fecha = now.strftime(\"%Y/%B/%d %H:%M:%S\")\n",
    "    fechas_ingreso.append(fecha)\n",
    "    while ingreso < 0:\n",
    "        ingreso = float(input(\"Ingrese una cantidad:\"))\n",
    "        if ingreso > 0:\n",
    "            ingresos_info = [\"ingreso\", ingreso]\n",
    "            if ingresos_info != []:\n",
    "                ingresos.append(ingresos_info)\n",
    "            nuevo_balance = balance + ingreso\n",
    "            historial_balance.append(nuevo_balance)\n",
    "            mostrar_balance(nuevo_balance)\n",
    "        \n",
    "    return nuevo_balance\n",
    "\n",
    "def pagar_servicio(balance):\n",
    "    nombre_servicio = str(input(\"¿Qué va a pagar?: \"))\n",
    "    coste_servicio = -1\n",
    "    while coste_servicio < 0:    \n",
    "        coste_servicio = float(input(\"¿Cuánto va a pagar?:\"))\n",
    "    servicio_info = [coste_servicio, nombre_servicio]\n",
    "    salidas.append(servicio_info)\n",
    "    \n",
    "    nuevo_balance = balance - coste_servicio\n",
    "    historial_balance.append(nuevo_balance)\n",
    "    mostrar_balance(nuevo_balance)\n",
    "    return nuevo_balance\n",
    "\n",
    "def mostrar_historial_balance(historial_balance):\n",
    "    \n",
    "    for i in range(len(historial_balance)):\n",
    "    \n",
    "        print(f\"{i}, {historial_balance[i]}\")\n",
    "    print(f\"TOTAL DE OPERACIONES: {len(historial_balance)}, BALANCE ACTUAL: {balance}\")\n",
    "    \n",
    "def dic_balance (historial_balance):\n",
    "    balances = {}\n",
    "    for i in range(len(historial_balance)):\n",
    "        balances[i]  = historial_balance[i]\n",
    "        \n",
    "    return balances\n",
    "        \n",
    "def historial_ingresos():\n",
    "    dic = {}\n",
    "    for i, n in zip(fechas_ingreso, ingresos):\n",
    "        dic[n[1]] = i\n",
    "    return dic\n",
    "        \n",
    "        "
   ]
  },
  {
   "cell_type": "code",
   "execution_count": 146,
   "id": "497d080b",
   "metadata": {},
   "outputs": [
    {
     "data": {
      "text/plain": [
       "625.0"
      ]
     },
     "execution_count": 146,
     "metadata": {},
     "output_type": "execute_result"
    }
   ],
   "source": [
    "balance"
   ]
  },
  {
   "cell_type": "code",
   "execution_count": 71,
   "id": "825c76c8",
   "metadata": {},
   "outputs": [
    {
     "name": "stdout",
     "output_type": "stream",
     "text": [
      "Hola Ana! Tu balance actual es 825.0\n",
      "Balance positivo.\n"
     ]
    }
   ],
   "source": [
    "balance = pagar_servicio(balance)"
   ]
  },
  {
   "cell_type": "code",
   "execution_count": 72,
   "id": "6e25d20a",
   "metadata": {},
   "outputs": [
    {
     "data": {
      "text/plain": [
       "825.0"
      ]
     },
     "execution_count": 72,
     "metadata": {},
     "output_type": "execute_result"
    }
   ],
   "source": [
    "balance"
   ]
  },
  {
   "cell_type": "code",
   "execution_count": 150,
   "id": "1cb0ebd8",
   "metadata": {},
   "outputs": [
    {
     "data": {
      "text/plain": [
       "[['ingreso', 450.0], ['ingreso', 30.0]]"
      ]
     },
     "execution_count": 150,
     "metadata": {},
     "output_type": "execute_result"
    }
   ],
   "source": [
    "ingresos"
   ]
  },
  {
   "cell_type": "code",
   "execution_count": 75,
   "id": "2d1f2dea",
   "metadata": {},
   "outputs": [
    {
     "data": {
      "text/plain": [
       "[[45.0, 'movistar']]"
      ]
     },
     "execution_count": 75,
     "metadata": {},
     "output_type": "execute_result"
    }
   ],
   "source": [
    "salidas"
   ]
  },
  {
   "cell_type": "code",
   "execution_count": 149,
   "id": "abb19852",
   "metadata": {},
   "outputs": [
    {
     "name": "stdout",
     "output_type": "stream",
     "text": [
      "Hola Ana! Tu balance actual es 1105.0\n",
      "Balance positivo.\n"
     ]
    }
   ],
   "source": [
    "balance = ingresar_dinero(balance)"
   ]
  },
  {
   "cell_type": "code",
   "execution_count": 84,
   "id": "7cbc7c5f",
   "metadata": {},
   "outputs": [
    {
     "data": {
      "text/plain": [
       "693.0"
      ]
     },
     "execution_count": 84,
     "metadata": {},
     "output_type": "execute_result"
    }
   ],
   "source": [
    "balance"
   ]
  },
  {
   "cell_type": "code",
   "execution_count": 151,
   "id": "c6581fee",
   "metadata": {},
   "outputs": [
    {
     "name": "stdout",
     "output_type": "stream",
     "text": [
      "0, 1075.0\n",
      "1, 1105.0\n",
      "TOTAL DE OPERACIONES: 2, BALANCE ACTUAL: 1105.0\n"
     ]
    }
   ],
   "source": [
    "mostrar_historial_balance(historial_balance)"
   ]
  },
  {
   "cell_type": "code",
   "execution_count": 137,
   "id": "811fb378",
   "metadata": {},
   "outputs": [
    {
     "data": {
      "text/plain": [
       "{0: 1007.0, 1: 1457.0}"
      ]
     },
     "execution_count": 137,
     "metadata": {},
     "output_type": "execute_result"
    }
   ],
   "source": [
    "dic_balance(historial_balance)"
   ]
  },
  {
   "cell_type": "code",
   "execution_count": 152,
   "id": "c2f97a03",
   "metadata": {},
   "outputs": [
    {
     "data": {
      "text/plain": [
       "{450.0: '2023/September25 11:36:56', 30.0: '2023/September25 11:37:43'}"
      ]
     },
     "execution_count": 152,
     "metadata": {},
     "output_type": "execute_result"
    }
   ],
   "source": [
    "historial_ingresos()"
   ]
  },
  {
   "cell_type": "code",
   "execution_count": null,
   "id": "dcf1c3fb",
   "metadata": {},
   "outputs": [],
   "source": []
  }
 ],
 "metadata": {
  "kernelspec": {
   "display_name": "Python 3 (ipykernel)",
   "language": "python",
   "name": "python3"
  },
  "language_info": {
   "codemirror_mode": {
    "name": "ipython",
    "version": 3
   },
   "file_extension": ".py",
   "mimetype": "text/x-python",
   "name": "python",
   "nbconvert_exporter": "python",
   "pygments_lexer": "ipython3",
   "version": "3.11.4"
  }
 },
 "nbformat": 4,
 "nbformat_minor": 5
}
