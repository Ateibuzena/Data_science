{
 "cells": [
  {
   "cell_type": "markdown",
   "id": "fcda8787",
   "metadata": {},
   "source": [
    "## Programación Orientada a Objetos Ejercicios"
   ]
  },
  {
   "cell_type": "markdown",
   "id": "d9ec0018",
   "metadata": {},
   "source": [
    "### Ejercicio 1:\n",
    "- Define una clase con el nombre **`CuentaBancaria`**:\n",
    "\n",
    "1. **Parametros**: esta clase va a tomar los parametros: **`nombre`**, **`apellido`**, **`dni`**, **`tipo_cuenta`**.\n",
    "- **`tipo_cuenta`** puede ser **\"Debito\"** o **\"Credito\"**.\n",
    "- Define estos parametros en la clase como atributos con el mismo nombre:\n",
    "    - **Ejemplo:** **`self.nombre = nombre`**\n",
    "            \n",
    "================================================================================================================================            \n",
    "\n",
    "2. **Atributos**: además de los atributos creados en base a los parametros, inicializa los siguientes:\n",
    "- **`email`** que sera un string con la siguiente forma **`nombre.apellido@python.com`** (todo en minúsculas).\n",
    "- **`balance`** que sera un número flotante aleatorio entre 100 y 1000.\n",
    "- **`id_usuario`** que sera un **número aleatorio entre 1000000 y 9999999**.\n",
    "    \n",
    "===============================================================================================================================\n",
    "        \n",
    "3. **Métodos**:\n",
    "- **`usuario_info()`** que no tome parametros y que imprima por pantalla los datos de la persona (**`nombre`**, **`apellido`**, **`email`**, **`dni`**, **`id_usuario`** y **`tipo_cuenta`**)\n",
    "\n",
    "\n",
    "- **`mostrar_balance()`** que no tome parametros y que imprima por pantalla el balance actual de la persona, si el balance es negativo que imprima una advertencia.\n",
    "\n",
    "\n",
    "- **`ingresar()`** que tome como parametro un número positvo (**`ingreso`**) y que modifique el valor del atributo **`balance`** sumandole el valor de **`ingreso`**, luego que llame al método **`mostrar_balance()`**.\n",
    "\n",
    "\n",
    "- **`hacer_bizum()`** que tome como parametro un número positvo (**`bizum`**) y que haga lo siguiente:\n",
    "    - Verifique que **`balance`** >= **`bizum`**.\n",
    "    - Si se cumple la condición entonces que imprima por pantalla **`Bizum realizado con exito`** y que modifique el valor del atributo **`balance`** restandole el valor de **`bizum`**.\n",
    "    - Si no se cumple la condición entonces que imprima por pantalla **`No se puede realizar el bizum, fondos insuficientes`**.\n",
    "    - Luego que llame al método **`mostrar_balance()`**.\n",
    "\n",
    "\n",
    "- **`cambiar_cuenta()`** que no tome parametros de entrada y que al ejecutarse modifique el atributo **`tipo_cuenta`**:\n",
    "    - Si estaba en **Debito** que se cambie por **Credito**.\n",
    "    - Si estaba en **Credito** que se cambie por **Debito**.\n",
    "    - Que imprima por pantalla **`Tu tipo de cuenta ha sido cambiada con exito.`**\n",
    "    \n",
    "- **`exportar_datos()`** que no tome parametros de entrada y que retorne un diccionario con los datos del usuario (**`nombre`**, **`apellido`**, **`email`**, **`dni`**, **`tipo_cuenta`**, **`balance`**).\n",
    "\n",
    "===============================================================================================================================\n",
    "\n",
    "\n",
    "**Inicializa una instacia de esta clase, ejecuta todos los métodos y atributos para verificar que funciona correctamente.**\n",
    "\n",
    "**Define cualquier otro método que se te ocurra.**"
   ]
  },
  {
   "cell_type": "code",
   "execution_count": 35,
   "id": "79d3426a",
   "metadata": {},
   "outputs": [],
   "source": [
    "import random\n",
    "\n",
    "class CuentaBancaria:\n",
    "    \n",
    "    def __init__(self, nombre, apellido, dni):\n",
    "        self.nombre = nombre\n",
    "        self.apellido = apellido\n",
    "        self.email = f\"{self.nombre.lower()}.{self.apellido.lower()}@gmail.com\"\n",
    "        self.dni = dni\n",
    "        self.tipo_cuenta = input(\"ingrese el tipo de cuenta debito o credito:\").lower()\n",
    "        self.balance = float(random.randint(100,1000))\n",
    "        self.id_usuario = random.randint(1000000, 9999999)\n",
    "        \n",
    "    def usuario_info(self):\n",
    "        print(f\"Nombre: {self.nombre}\")\n",
    "        print(f\"Apellido: {self.apellido}\")\n",
    "        print(f\"dni: {self.dni}\")        \n",
    "        print(f\"id_usuario: {self.id_usuario}\")\n",
    "        print(f\"tipo_cuenta: {self.tipo_cuenta}\")\n",
    "    \n",
    "    def mostrar_balance(self):\n",
    "        print(f\"!!BALANCE NEGATIVO¡¡: {self.balance}\") if self.balance < 0 else print(f\"Su balance actual: {self.balance}\")\n",
    "\n",
    "    def ingresar(self, ingreso):\n",
    "        if ingreso > 0:\n",
    "            self.balance = self.balance + ingreso\n",
    "            self.mostrar_balance()\n",
    "        else:\n",
    "            print(\"introduce un valor positivo -.-\")\n",
    "    \n",
    "    def hacer_bizum(self, bizum):\n",
    "        if self.balance >= bizum:\n",
    "            self.balance = self.balance - bizum\n",
    "            print(\"Bizum realizado con éxito.\")\n",
    "        else: \n",
    "            print(\"No se pudo realizar el bizum, fondos insuficientes.\")\n",
    "        self.mostrar_balance()\n",
    "    def cambiar_cuenta(self):\n",
    "        self.tipo_cuenta = \"Credito\" if self.tipo_cuenta == \"debito\" else \"Debito\"\n",
    "        print(\"Tu tipo de cuenta se ha cambiado con éxito.\")\n",
    "    def exportar_datos(self):\n",
    "        dic = {\"Nombre\" : self.nombre,\n",
    "               \"Apellido\": self.apellido,\n",
    "               \"Email\" : self.email,\n",
    "               \"DNI\" : self.dni,\n",
    "               \"ID\" : self.id_usuario,\n",
    "               \"Tipo de cuenta\" : self.tipo_cuenta,\n",
    "               \"Balance actual\" : self.balance\n",
    "               }\n",
    "        return dic\n",
    "        \n",
    "        "
   ]
  },
  {
   "cell_type": "code",
   "execution_count": 36,
   "id": "1031f73a",
   "metadata": {},
   "outputs": [],
   "source": [
    "objeto1 = CuentaBancaria( nombre = \"Ana\", apellido = \"Zubieta\", dni = \"32080473G\")"
   ]
  },
  {
   "cell_type": "code",
   "execution_count": 41,
   "id": "4bf70e83",
   "metadata": {},
   "outputs": [],
   "source": [
    "CuentaDelBancoDeAntonio = CuentaBancaria(nombre = \"Antonio\", apellido = \"Barba Rodríguez\", dni = \"47941350W\")"
   ]
  },
  {
   "cell_type": "code",
   "execution_count": 43,
   "id": "2f685036",
   "metadata": {},
   "outputs": [
    {
     "data": {
      "text/plain": [
       "'credito'"
      ]
     },
     "execution_count": 43,
     "metadata": {},
     "output_type": "execute_result"
    }
   ],
   "source": [
    "CuentaDelBancoDeAntonio.tipo_cuenta"
   ]
  },
  {
   "cell_type": "code",
   "execution_count": 46,
   "id": "731d0988",
   "metadata": {},
   "outputs": [
    {
     "name": "stdout",
     "output_type": "stream",
     "text": [
      "Nombre: Antonio\n",
      "Apellido: Barba Rodríguez\n",
      "dni: 47941350W\n",
      "id_usuario: 4067135\n",
      "tipo_cuenta: credito\n"
     ]
    },
    {
     "data": {
      "text/plain": [
       "{'Nombre': 'Antonio',\n",
       " 'Apellido': 'Barba Rodríguez',\n",
       " 'Email': 'antonio.barba rodríguez@gmail.com',\n",
       " 'DNI': '47941350W',\n",
       " 'ID': 4067135,\n",
       " 'Tipo de cuenta': 'credito',\n",
       " 'Balance actual': 313.0}"
      ]
     },
     "execution_count": 46,
     "metadata": {},
     "output_type": "execute_result"
    }
   ],
   "source": [
    "CuentaDelBancoDeAntonio.usuario_info()\n",
    "CuentaDelBancoDeAntonio.exportar_datos()"
   ]
  },
  {
   "cell_type": "code",
   "execution_count": 39,
   "id": "80cdf0d5",
   "metadata": {},
   "outputs": [
    {
     "data": {
      "text/plain": [
       "{'Nombre': 'Ana',\n",
       " 'Apellido': 'Zubieta',\n",
       " 'Email': 'ana.zubieta@gmail.com',\n",
       " 'DNI': '32080473G',\n",
       " 'ID': 2444465,\n",
       " 'Tipo de cuenta': 'Debito',\n",
       " 'Balance actual': 724.0}"
      ]
     },
     "execution_count": 39,
     "metadata": {},
     "output_type": "execute_result"
    }
   ],
   "source": [
    "objeto1.exportar_datos()"
   ]
  },
  {
   "cell_type": "code",
   "execution_count": 54,
   "id": "50bc3f61",
   "metadata": {},
   "outputs": [],
   "source": [
    "objeto2 = CuentaBancaria(\"Antonio\", \"Barba\", \"49341350W\")"
   ]
  },
  {
   "cell_type": "code",
   "execution_count": 57,
   "id": "5d6e2d63",
   "metadata": {},
   "outputs": [
    {
     "data": {
      "text/plain": [
       "141.0"
      ]
     },
     "execution_count": 57,
     "metadata": {},
     "output_type": "execute_result"
    }
   ],
   "source": [
    "objeto2.balance"
   ]
  },
  {
   "cell_type": "code",
   "execution_count": 58,
   "id": "13f447a2",
   "metadata": {},
   "outputs": [
    {
     "data": {
      "text/plain": [
       "'49341350W'"
      ]
     },
     "execution_count": 58,
     "metadata": {},
     "output_type": "execute_result"
    }
   ],
   "source": [
    "objeto2.dni"
   ]
  },
  {
   "cell_type": "code",
   "execution_count": 59,
   "id": "cde1376c",
   "metadata": {},
   "outputs": [
    {
     "data": {
      "text/plain": [
       "str"
      ]
     },
     "execution_count": 59,
     "metadata": {},
     "output_type": "execute_result"
    }
   ],
   "source": [
    "type(objeto2.dni)"
   ]
  },
  {
   "cell_type": "code",
   "execution_count": null,
   "id": "bd2c21eb",
   "metadata": {},
   "outputs": [],
   "source": []
  }
 ],
 "metadata": {
  "kernelspec": {
   "display_name": "Python 3 (ipykernel)",
   "language": "python",
   "name": "python3"
  },
  "language_info": {
   "codemirror_mode": {
    "name": "ipython",
    "version": 3
   },
   "file_extension": ".py",
   "mimetype": "text/x-python",
   "name": "python",
   "nbconvert_exporter": "python",
   "pygments_lexer": "ipython3",
   "version": "3.11.4"
  }
 },
 "nbformat": 4,
 "nbformat_minor": 5
}
