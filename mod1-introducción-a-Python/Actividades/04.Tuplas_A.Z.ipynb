{
 "cells": [
  {
   "cell_type": "markdown",
   "id": "bd9af8bb",
   "metadata": {},
   "source": [
    "## Ejercicios de tuplas, sets y diccionarios"
   ]
  },
  {
   "cell_type": "markdown",
   "id": "5cd0dbdf",
   "metadata": {},
   "source": [
    "### Tuplas"
   ]
  },
  {
   "cell_type": "markdown",
   "id": "5fcfd082",
   "metadata": {},
   "source": [
    "### Ejercicio 1\n",
    "- Crea una tupla utilizando la función **`range()`**, que tenga un rango del 11 al 19\n",
    "    - Ejemplo: **`tupla = tuple(range(3))`**."
   ]
  },
  {
   "cell_type": "code",
   "execution_count": 1,
   "id": "5767cc8f",
   "metadata": {},
   "outputs": [
    {
     "data": {
      "text/plain": [
       "(11, 12, 13, 14, 15, 16, 17, 18, 19)"
      ]
     },
     "execution_count": 1,
     "metadata": {},
     "output_type": "execute_result"
    }
   ],
   "source": [
    "tupla = tuple(range(11,20))\n",
    "tupla"
   ]
  },
  {
   "cell_type": "markdown",
   "id": "dd868625",
   "metadata": {},
   "source": [
    "- Crea una lista vacia y llenala con los números de la tupla anterior usando un bucle."
   ]
  },
  {
   "cell_type": "code",
   "execution_count": 2,
   "id": "e261324e",
   "metadata": {},
   "outputs": [
    {
     "name": "stdout",
     "output_type": "stream",
     "text": [
      "[11, 12, 13, 14, 15, 16, 17, 18, 19]\n"
     ]
    }
   ],
   "source": [
    "lista = []\n",
    "\n",
    "for i in tupla:\n",
    "    lista.append(i)\n",
    "\n",
    "print(lista)\n",
    "\n"
   ]
  },
  {
   "cell_type": "markdown",
   "id": "8fa8417c",
   "metadata": {},
   "source": [
    "- Ordena la lista de mayor a menor"
   ]
  },
  {
   "cell_type": "code",
   "execution_count": 3,
   "id": "9b9fe725",
   "metadata": {},
   "outputs": [
    {
     "data": {
      "text/plain": [
       "[19, 18, 17, 16, 15, 14, 13, 12, 11]"
      ]
     },
     "execution_count": 3,
     "metadata": {},
     "output_type": "execute_result"
    }
   ],
   "source": [
    "lista.sort()\n",
    "lista.reverse()\n",
    "lista"
   ]
  },
  {
   "cell_type": "markdown",
   "id": "a4aba352",
   "metadata": {},
   "source": [
    "- Transforma la lista a tupla y ordenala de menor a mayor."
   ]
  },
  {
   "cell_type": "code",
   "execution_count": 4,
   "id": "9693f765",
   "metadata": {},
   "outputs": [
    {
     "name": "stdout",
     "output_type": "stream",
     "text": [
      "(11, 12, 13, 14, 15, 16, 17, 18, 19)\n"
     ]
    }
   ],
   "source": [
    "lista.sort()\n",
    "tupla = tuple(lista)\n",
    "print(tupla)"
   ]
  },
  {
   "cell_type": "markdown",
   "id": "11e327bc",
   "metadata": {},
   "source": [
    "- ¿Que tipo de dato es la variable resultante?"
   ]
  },
  {
   "cell_type": "code",
   "execution_count": 5,
   "id": "de6614c0",
   "metadata": {},
   "outputs": [
    {
     "data": {
      "text/plain": [
       "tuple"
      ]
     },
     "execution_count": 5,
     "metadata": {},
     "output_type": "execute_result"
    }
   ],
   "source": [
    "type(tupla)"
   ]
  },
  {
   "cell_type": "markdown",
   "id": "51174939",
   "metadata": {},
   "source": [
    "### Ejercicio 2\n",
    "- Dada la siguiente **frase = \"Fui programado para servir, no para destruir - C3PO\"**, conviertela en tupla, ordenala y manten la tupla. (El resultado final debe ser una tupla)"
   ]
  },
  {
   "cell_type": "code",
   "execution_count": 27,
   "id": "22386983",
   "metadata": {},
   "outputs": [
    {
     "data": {
      "text/plain": [
       "['-', 'C3PO', 'Fui', 'destruir', 'no', 'para', 'para', 'programado', 'servir,']"
      ]
     },
     "execution_count": 27,
     "metadata": {},
     "output_type": "execute_result"
    }
   ],
   "source": [
    "frase = \"Fui programado para servir, no para destruir - C3PO\"\n",
    "tupla = tuple(frase.split(\" \"))\n",
    "tupla = sorted(tupla)\n",
    "tupla"
   ]
  },
  {
   "cell_type": "markdown",
   "id": "12437162",
   "metadata": {},
   "source": [
    "### Ejercicio 3\n",
    "- Del resultado anterior, muestra cuantas veces aparece cada vocal.\n",
    "    - Utiliza un bucle **for** que recorra la siguiente tupla: **(\"a\", \"e\", \"i\", \"o\", \"u\")**"
   ]
  },
  {
   "cell_type": "code",
   "execution_count": 30,
   "id": "fee4bc57",
   "metadata": {},
   "outputs": [
    {
     "name": "stdout",
     "output_type": "stream",
     "text": [
      "-\n",
      "C3PO\n",
      "Fui\n",
      "1 i\n",
      "1 u\n",
      "destruir\n",
      "1 e\n",
      "1 i\n",
      "1 u\n",
      "no\n",
      "1 o\n",
      "para\n",
      "2 a\n",
      "para\n",
      "2 a\n",
      "programado\n",
      "2 a\n",
      "2 o\n",
      "servir,\n",
      "1 e\n",
      "1 i\n"
     ]
    }
   ],
   "source": [
    "vocales = (\"a\", \"e\", \"i\", \"o\", \"u\")\n",
    "for i in tupla:             #Accediendo a cada palabra de la tupla (como una lista de srt)\n",
    "    print (i)\n",
    "    for n in vocales:       # un recorrido de las vocales para poder hacer count sin escribir todas las vocales\n",
    "        if (i.count(n)) != 0:\n",
    "            print(i.count(n), (n))   \n"
   ]
  },
  {
   "cell_type": "code",
   "execution_count": 25,
   "id": "b960c392",
   "metadata": {},
   "outputs": [
    {
     "name": "stdout",
     "output_type": "stream",
     "text": [
      "('Fui', 'programado', 'para', 'servir,', 'no', 'para', 'destruir', '-', 'C3PO')\n"
     ]
    },
    {
     "data": {
      "text/plain": [
       "0"
      ]
     },
     "execution_count": 25,
     "metadata": {},
     "output_type": "execute_result"
    }
   ],
   "source": [
    "vocales = (\"a\", \"e\", \"i\", \"o\", \"u\")\n",
    "print(tupla)\n",
    "a = tupla.count(\"a\")\n",
    "a\n",
    "#i = 0\n",
    "#print(tupla_final.count(\"a\"))\n",
    "#while i < len(vocales):\n",
    "\n",
    "#print(tupla_final.count(vocales[i]), vocales[i])\n",
    "#    i = i + 1\n",
    "\n",
    "\n",
    "\n",
    "\n",
    "\n",
    "\n"
   ]
  },
  {
   "cell_type": "markdown",
   "id": "f8790981",
   "metadata": {},
   "source": [
    "### Ejercicio 4\n",
    "- Dada la siguiente tupla: **(9, 8, 7, 5, \"a\", 3, 6, 5)**, encuentra la forma para eliminar la letra **\"a\"**. (El resultado debe ser una tupla)"
   ]
  },
  {
   "cell_type": "code",
   "execution_count": 114,
   "id": "7fbf5374",
   "metadata": {},
   "outputs": [
    {
     "data": {
      "text/plain": [
       "(9, 8, 7, 5, 3, 6, 5)"
      ]
     },
     "execution_count": 114,
     "metadata": {},
     "output_type": "execute_result"
    }
   ],
   "source": [
    "tupla = (9, 8, 7, \"a\", 5, 3, 6, 5)\n",
    "lista = []\n",
    "\n",
    "for i in tupla:                 # Ejercicio 1 apartado 2 \n",
    "    lista.append(i) \n",
    "\n",
    "if \"a\" in lista:\n",
    "    lista.remove(\"a\")\n",
    "\n",
    "tupla_final = tuple(lista)\n",
    "tupla_final"
   ]
  },
  {
   "cell_type": "markdown",
   "id": "82c7eea3",
   "metadata": {},
   "source": [
    "### Ejercicio 5\n",
    "- Pregunta a un usuario que ingrese 5 elementos diferentes separados por coma y convierte estos elementos a una tupla, pueden ser palabras o un números."
   ]
  },
  {
   "cell_type": "code",
   "execution_count": 136,
   "id": "20c8cf64",
   "metadata": {},
   "outputs": [
    {
     "data": {
      "text/plain": [
       "('hola', 'hola', 'hola')"
      ]
     },
     "execution_count": 136,
     "metadata": {},
     "output_type": "execute_result"
    }
   ],
   "source": [
    "frase = input(\"ingrese 5 elementos separados por coma:\")\n",
    "lista1 = frase.split(\",\" and \" \")\n",
    "tupla = tuple(lista1)\n",
    "tupla\n"
   ]
  },
  {
   "cell_type": "markdown",
   "id": "1743bc9c",
   "metadata": {},
   "source": [
    "### Ejercicio 6\n",
    "- Dada la siguiente lista de tuplas: **[(10, 20, 40), (40, 50, 60), (70, 80, 90)]**, elimina el último elemento de cada tupla dentro de la lista."
   ]
  },
  {
   "cell_type": "code",
   "execution_count": 3,
   "id": "bf3562a3",
   "metadata": {},
   "outputs": [
    {
     "name": "stdout",
     "output_type": "stream",
     "text": [
      "[(10, 20), (40, 50), (70, 80)]\n"
     ]
    }
   ],
   "source": [
    "lista_tuplas = [(10,20,40),(40,50,60),(70,80,90)]\n",
    "lista_tuplas2 = []\n",
    "\n",
    "for i in lista_tuplas:\n",
    "    lista = []  \n",
    "    for n in i :\n",
    "        lista.append(n)\n",
    "\n",
    "    del lista[2]\n",
    "    lista_tuplas2.append(tuple(lista))\n",
    "\n",
    "print(lista_tuplas2)"
   ]
  },
  {
   "cell_type": "markdown",
   "id": "3b2ac10b",
   "metadata": {},
   "source": [
    "### Sets"
   ]
  },
  {
   "cell_type": "markdown",
   "id": "47aecaf8",
   "metadata": {},
   "source": [
    "### Ejercicio 7\n",
    "- Pide al usuario que ingrese 3 empresas de tecnología, estos elementos agregalos al **set_1 = {\"Meta\", \"Google\", \"Amazon\"}**\n",
    "\n",
    "- Verifica que no se repita ninguna empresa y dile al usuario que no se repitio ninguna empresa."
   ]
  },
  {
   "cell_type": "code",
   "execution_count": 2,
   "id": "a7d1d7b5",
   "metadata": {},
   "outputs": [],
   "source": [
    "set_1 = {\"Meta\", \"Google\", \"Amazon\"}"
   ]
  },
  {
   "cell_type": "code",
   "execution_count": 18,
   "id": "81bb4b15",
   "metadata": {},
   "outputs": [
    {
     "name": "stdout",
     "output_type": "stream",
     "text": [
      "{'Hola', 'Amazon', 'ksjksdj', 'kdsjsdk', 'ksdjdskj', 'Google', 'Meta'}\n",
      "No hay ninguna lista repetida\n"
     ]
    }
   ],
   "source": [
    "lista = input(\"Ingrese\").split(\" \")\n",
    "(set_1.intersection(set(lista)))\n",
    "print(set(lista).union(set_1))\n",
    "if set_1.intersection(set(lista)) == set():\n",
    "    print(\"No hay ninguna empresa repetida\")\n"
   ]
  },
  {
   "cell_type": "markdown",
   "id": "1d24f6da",
   "metadata": {},
   "source": [
    "### Ejercicio 8\n",
    "- Repite el ejercicio anterior pero ahora imprime las empresas que se repiten en caso de que existiera uno o más que se repitan."
   ]
  },
  {
   "cell_type": "code",
   "execution_count": null,
   "id": "f27eda2a",
   "metadata": {},
   "outputs": [],
   "source": [
    "set_1 = {\"Meta\", \"Google\", \"Amazon\"}"
   ]
  },
  {
   "cell_type": "code",
   "execution_count": 21,
   "id": "2eb61cf1",
   "metadata": {},
   "outputs": [
    {
     "name": "stdout",
     "output_type": "stream",
     "text": [
      "Esto son los elementos repetidos:  {'Google'}\n",
      "{'amazon', 'dkfjfl', 'Amazon', 'Google', 'kfljk', 'Meta'}\n"
     ]
    }
   ],
   "source": [
    "lista = input(\"Ingrese\").split(\" \")\n",
    "if set_1.intersection(set(lista)) != set():\n",
    "    print(\"Esto son los elementos repetidos: \", set_1.intersection(set(lista)))\n",
    "\n",
    "if set_1.intersection(set(lista)) == set():\n",
    "    print(\"No hay ninguna empresa repetida\")\n",
    "\n",
    "print(set(lista).union(set_1))"
   ]
  },
  {
   "cell_type": "markdown",
   "id": "090eb0fb",
   "metadata": {},
   "source": [
    "### Ejercicio 9\n",
    "- Dadas las siguientes **frase_1 = \"En una galaxia lejana\"** y **frase_2 = \"Una galaxia llamadá Via Lactea\"**, haz la intersección de las palabras."
   ]
  },
  {
   "cell_type": "code",
   "execution_count": 23,
   "id": "656f4cf7",
   "metadata": {},
   "outputs": [
    {
     "name": "stdout",
     "output_type": "stream",
     "text": [
      "{'galaxia'}\n"
     ]
    }
   ],
   "source": [
    "Frase_1 = \"En una galaxia lejana\"\n",
    "Frase_2 = \"Una galaxia llamadá Via Lactea\"\n",
    "\n",
    "print(set(Frase_1.split(\" \")).intersection(set(Frase_2.split())))\n",
    "\n"
   ]
  },
  {
   "cell_type": "markdown",
   "id": "4783b135",
   "metadata": {},
   "source": [
    "### Ejercicio 10\n",
    "- Encuentra la diferencia entre el **set_1 = {9, 8, 7, 6, 5, 4, 3, 2}** y el **set_2 = {9, 8, 10}**\n",
    "- **Extra**: hazlo utilizando un bucle **`for`** y no la función."
   ]
  },
  {
   "cell_type": "code",
   "execution_count": 52,
   "id": "b9c1f6da",
   "metadata": {},
   "outputs": [
    {
     "name": "stdout",
     "output_type": "stream",
     "text": [
      "8\n",
      "9\n",
      "{2, 3, 4, 5, 6, 7, 10}\n"
     ]
    }
   ],
   "source": [
    "set_1 = {9, 8, 7, 6, 5, 4, 3, 2}\n",
    "set_2 = {9, 8, 10}\n",
    "# Usamos update para que guarte el nuevo set en el anterior\n",
    "\n",
    "for i in set_1.intersection(set_2):\n",
    "    set_1.remove(i)\n",
    "    set_2.remove(i)\n",
    "    print(i)\n",
    "\n",
    "set_1.update(set_2)\n",
    "\n",
    "print(set_1)"
   ]
  },
  {
   "cell_type": "markdown",
   "id": "551a5435",
   "metadata": {},
   "source": [
    "### Diccionarios"
   ]
  },
  {
   "cell_type": "markdown",
   "id": "d8f629e4",
   "metadata": {},
   "source": [
    "### Ejercicio 11\n",
    "- Crea un diccionario con 5 elementos (5 llaves y 5 valores)\n",
    "    - **Llave**: Color\n",
    "    - **Valor**: Numero de letras del color"
   ]
  },
  {
   "cell_type": "code",
   "execution_count": 64,
   "id": "9a39578c",
   "metadata": {},
   "outputs": [
    {
     "name": "stdout",
     "output_type": "stream",
     "text": [
      "4\n",
      "4\n",
      "5\n",
      "{'azul': 4, 'rosa': 4, 'verde': 5}\n"
     ]
    }
   ],
   "source": [
    "lista1 = (input(\"Ingrese una lista de 5 colores: \")).split(\" \")\n",
    "lista2 = {}\n",
    "\n",
    "for i in lista1:\n",
    "    lista2.update({i:len(i)})\n",
    "    print(len(i))\n",
    "print(lista2)\n"
   ]
  },
  {
   "cell_type": "code",
   "execution_count": null,
   "id": "19a8538b",
   "metadata": {},
   "outputs": [
    {
     "name": "stdout",
     "output_type": "stream",
     "text": [
      "{'verde': '5', 'amarillo': '8', 'rojo': '4', 'azul': '4', 'rosa': '4'}\n"
     ]
    }
   ],
   "source": [
    "\n",
    "frase = str(input(\"Ingrese 5 colores separados por espacios: \"))\n",
    "llaves = frase.split(\" \")\n",
    "frase2 = str(input(\"Ingrese la cantidad de letras de cada color respectivamente:\"))\n",
    "valor = frase2.split(\" \")\n",
    "i = 0\n",
    "diccionario_1 = {}\n",
    "while i < len(llaves):\n",
    "\n",
    "    diccionario_1[llaves[i]] = valor[i]\n",
    "    i = i + 1\n",
    "\n",
    "print(diccionario_1)"
   ]
  },
  {
   "cell_type": "markdown",
   "id": "e8f4f57c",
   "metadata": {},
   "source": [
    "### Ejercicio 12\n",
    "- Crea un diccionario con 5 elementos pero esta vez pregunta el usuario por cada llave y valor.\n",
    "    - **Llave**: Color\n",
    "    - **Valor**: Numero de letras del color"
   ]
  },
  {
   "cell_type": "code",
   "execution_count": 7,
   "id": "90c9b8de",
   "metadata": {},
   "outputs": [
    {
     "name": "stdout",
     "output_type": "stream",
     "text": [
      "{'ana': '3'}\n"
     ]
    }
   ],
   "source": [
    "listallave = input(\"in\").split(\" \")\n",
    "listavalor = input(\"in\").split(\" \")\n",
    "dic = {}\n",
    "n = 0\n",
    "for i in listallave:\n",
    "    dic[i] = listavalor[n]\n",
    "    n = n +  1\n",
    "\n",
    "print(dic)\n"
   ]
  },
  {
   "cell_type": "markdown",
   "id": "f1d25834",
   "metadata": {},
   "source": [
    "### Ejercicio 13\n",
    "- Repite el ejercicio anterior pero de la siguiente forma:\n",
    "    - Primero crea en una lista los colores y en otra lista el numero de letras\n",
    "    - Después crea el diccionario a partir de las listas."
   ]
  },
  {
   "cell_type": "code",
   "execution_count": null,
   "id": "55cae263",
   "metadata": {},
   "outputs": [],
   "source": [
    "# Crea un diccionario con 5 elementos pero esta vez pregunta el usuario por cada llave y valor.\n",
    "#    - **Llave**: Color\n",
    "#   - **Valor**: Numero de letras del color"
   ]
  },
  {
   "cell_type": "code",
   "execution_count": 11,
   "id": "dd6a9a1c",
   "metadata": {},
   "outputs": [
    {
     "name": "stdout",
     "output_type": "stream",
     "text": [
      "{'azul': '4', 'verde': '5', 'rosa': '4', 'amarillo': '8', 'blanco': '6'}\n"
     ]
    }
   ],
   "source": [
    "numero = 0\n",
    "dic = {}\n",
    "while numero < 5:\n",
    "    color = input(\"Ingrese un color: \")\n",
    "    valor = input(\"Ingrese cuantas letras tiene: \" + (color))\n",
    "    dic[color] = valor\n",
    "    numero = numero + 1\n",
    "print(dic)"
   ]
  },
  {
   "cell_type": "markdown",
   "id": "07d54429",
   "metadata": {},
   "source": [
    "### Ejercicio 14\n",
    "- Pide al usuario que ingrese 3 números distintos y guarda esos números como llaves y crea los valores utilizando la siguiente formula:\n",
    "    - x : x**2, donde x es la llave."
   ]
  },
  {
   "cell_type": "code",
   "execution_count": 14,
   "id": "84ada027",
   "metadata": {},
   "outputs": [
    {
     "name": "stdout",
     "output_type": "stream",
     "text": [
      "{'2': 4, '4': 16, '6': 36}\n"
     ]
    }
   ],
   "source": [
    "llaves = input(\"Ingrese tres números separados: \").split(\" \")\n",
    "\n",
    "dic = {}\n",
    "\n",
    "for x in llaves:\n",
    "    dic[x] = int(x)**2\n",
    "\n",
    "print(dic)"
   ]
  },
  {
   "cell_type": "markdown",
   "id": "225eef27",
   "metadata": {},
   "source": [
    "### Ejercicio 15\n",
    "- Pide al usuario que ingrese una frase y agrega las palabras como keys y la frecuencia de cada palabra como value en un diccionario."
   ]
  },
  {
   "cell_type": "code",
   "execution_count": 3,
   "id": "31dc2dbc",
   "metadata": {},
   "outputs": [
    {
     "name": "stdout",
     "output_type": "stream",
     "text": [
      "{'ana': 5, 'me': 1, 'tienes': 1, 'enamorada': 1}\n"
     ]
    }
   ],
   "source": [
    "frase = input(\"Ingrese una frase de solo palabras separadas por espacios:\").split(\" \")\n",
    "dic = {}\n",
    "for n in frase:\n",
    "    dic[n] = frase.count(n)\n",
    "print(dic)"
   ]
  },
  {
   "cell_type": "markdown",
   "id": "9cce66c7",
   "metadata": {},
   "source": [
    "### Ejercicio 16\n",
    "\n",
    "- Crea un programa donde las keys son 7 números aleatorios entre el 100 y el 200 y en los values debe de estar la palabra par o impar, si el número es par o impar"
   ]
  },
  {
   "cell_type": "code",
   "execution_count": 4,
   "id": "c00f552b",
   "metadata": {},
   "outputs": [],
   "source": [
    "import random"
   ]
  },
  {
   "cell_type": "code",
   "execution_count": 10,
   "id": "2bbd2645",
   "metadata": {},
   "outputs": [
    {
     "name": "stdout",
     "output_type": "stream",
     "text": [
      "116\n",
      "116\n",
      "146\n",
      "146\n",
      "141\n",
      "133\n",
      "147\n",
      "172\n",
      "172\n",
      "124\n",
      "124\n",
      "{116: 'par', 146: 'par', 141: 'impar', 133: 'impar', 147: 'impar', 172: 'par', 124: 'par'}\n"
     ]
    }
   ],
   "source": [
    "\n",
    "dic = {}\n",
    "for i in range(7):\n",
    "    lista.append(random.randint(100,200))\n",
    "    naleatoorio = random.randint(100,200)\n",
    "    print(naleatoorio)\n",
    "\n",
    "    if naleatoorio%2 == 0:\n",
    "        dic[naleatoorio] = \"par\"\n",
    "        print(naleatoorio)\n",
    "    else:\n",
    "        dic[naleatoorio] = \"impar\"\n",
    "print(dic)\n"
   ]
  },
  {
   "cell_type": "markdown",
   "id": "4d474a3b",
   "metadata": {},
   "source": [
    "### Ejercicio 17\n",
    "- Crea un programa donde las keys son 10 números enteros aleatorios entre el 1 y el 50 y para cada value del diccionario vamos a utilizar la siguiente formula x : 1/x"
   ]
  },
  {
   "cell_type": "code",
   "execution_count": 11,
   "id": "3db65c7a",
   "metadata": {},
   "outputs": [
    {
     "name": "stdout",
     "output_type": "stream",
     "text": [
      "34\n",
      "12\n",
      "2\n",
      "6\n",
      "25\n",
      "45\n",
      "7\n",
      "27\n",
      "4\n",
      "36\n",
      "{34: 0.029411764705882353, 12: 0.08333333333333333, 2: 0.5, 6: 0.16666666666666666, 25: 0.04, 45: 0.022222222222222223, 7: 0.14285714285714285, 27: 0.037037037037037035, 4: 0.25, 36: 0.027777777777777776}\n"
     ]
    }
   ],
   "source": [
    "dic = {}\n",
    "for i in range(10):\n",
    "    lista.append(random.randint(1,50))\n",
    "    naleatoorio = random.randint(1,50)\n",
    "    print(naleatoorio)\n",
    "\n",
    "    dic[naleatoorio] = 1/naleatoorio\n",
    "print(dic)"
   ]
  },
  {
   "cell_type": "markdown",
   "id": "d2fb33ad",
   "metadata": {},
   "source": [
    "### Ejercicio 18\n",
    "- Crea un programa que dados los siguientes diccionarios: **d1 = {\"a\" : 125, \"b\" : 130, \"c\" : 150}**, **d2 = {\"e\" :  10, \"b\" : 20, \"a\" : 30}**, sume los items que tienen la misma key y guarde esas keys con la suma de los values en un nuevo diccionario"
   ]
  },
  {
   "cell_type": "code",
   "execution_count": null,
   "id": "c0b2d94b",
   "metadata": {},
   "outputs": [],
   "source": [
    "d1 = {\"a\" : 125, \"b\" : 130, \"c\" : 150}\n",
    "d2 = {\"e\" : 10, \"b\" : 20, \"a\" : 30}"
   ]
  },
  {
   "cell_type": "code",
   "execution_count": null,
   "id": "ba84795f",
   "metadata": {},
   "outputs": [],
   "source": []
  },
  {
   "cell_type": "code",
   "execution_count": null,
   "id": "4cc64315",
   "metadata": {},
   "outputs": [],
   "source": []
  },
  {
   "cell_type": "code",
   "execution_count": null,
   "id": "06bc46b2",
   "metadata": {},
   "outputs": [],
   "source": []
  }
 ],
 "metadata": {
  "kernelspec": {
   "display_name": "Python 3 (ipykernel)",
   "language": "python",
   "name": "python3"
  },
  "language_info": {
   "codemirror_mode": {
    "name": "ipython",
    "version": 3
   },
   "file_extension": ".py",
   "mimetype": "text/x-python",
   "name": "python",
   "nbconvert_exporter": "python",
   "pygments_lexer": "ipython3",
   "version": "3.11.4"
  }
 },
 "nbformat": 4,
 "nbformat_minor": 5
}
