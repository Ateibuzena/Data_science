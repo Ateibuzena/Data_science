{
 "cells": [
  {
   "cell_type": "markdown",
   "id": "c54fd5aa",
   "metadata": {},
   "source": [
    "### Ejercicios clase de Strings"
   ]
  },
  {
   "cell_type": "code",
   "execution_count": 1,
   "id": "bae6c2a9",
   "metadata": {},
   "outputs": [
    {
     "data": {
      "text/plain": [
       "'Nunca confies en un ordenador que no puedas lanzar por una ventana -- Steve Wozniak'"
      ]
     },
     "execution_count": 1,
     "metadata": {},
     "output_type": "execute_result"
    }
   ],
   "source": [
    "frase = \"Nunca confies en un ordenador que no puedas lanzar por una ventana -- Steve Wozniak\"\n",
    "frase"
   ]
  },
  {
   "cell_type": "markdown",
   "id": "605874f4",
   "metadata": {},
   "source": [
    "- Obtener el largo de la frase"
   ]
  },
  {
   "cell_type": "code",
   "execution_count": 2,
   "id": "9ce4991c",
   "metadata": {},
   "outputs": [
    {
     "name": "stdout",
     "output_type": "stream",
     "text": [
      "83\n"
     ]
    }
   ],
   "source": [
    "frase.__len__()     #una forma\n",
    "len(frase)          #otra forma\n",
    "largo_frase = len(frase)\n",
    "\n",
    "print(largo_frase)"
   ]
  },
  {
   "cell_type": "markdown",
   "id": "8fe445bf",
   "metadata": {},
   "source": [
    "- Obtener la frase **\"lanzar por una ventana\"** usando slicing"
   ]
  },
  {
   "cell_type": "code",
   "execution_count": 3,
   "id": "dd8049a0",
   "metadata": {},
   "outputs": [
    {
     "name": "stdout",
     "output_type": "stream",
     "text": [
      "lanzar por una ventana\n"
     ]
    }
   ],
   "source": [
    "frase[44:66]\n",
    "frase_1 = frase[44:66]\n",
    "print(frase_1)"
   ]
  },
  {
   "cell_type": "markdown",
   "id": "e50eb318",
   "metadata": {},
   "source": [
    "- Obtener la sección **\"confies en un ordenador\"** haciando slicing de derecha a izquierda, utilizando indexing negativo"
   ]
  },
  {
   "cell_type": "code",
   "execution_count": 18,
   "id": "9299725f",
   "metadata": {},
   "outputs": [
    {
     "name": "stdout",
     "output_type": "stream",
     "text": [
      " confies en un ordenador\n"
     ]
    }
   ],
   "source": [
    "frase_2 = frase[-78:-54]\n",
    "print(frase_2)"
   ]
  },
  {
   "cell_type": "markdown",
   "id": "f64534b8",
   "metadata": {},
   "source": [
    "1. Guardar en la variable: **`subfrase1`**, la siguiente sección de la variable frase: **\"un ordenador\"**\n",
    "2. Guardar en la variable: **`subfrase2`**, la siguiente sección de la variable frase: **\"por una ventanza\"**\n",
    "3. Guardar en la variable: **`subfrase3`**, la siguiente sección de la variable frase: **\"Steve Wozniak\"**\n",
    "3. Crear la siguiente frase utilizando las variables: **`subfrase1`**, **`subfrase2`**, **`subfrase3`**: **\"un ordenador, por una ventana -- Steve Wozniak\"** y guardarla en una variable."
   ]
  },
  {
   "cell_type": "code",
   "execution_count": 19,
   "id": "eae3f714",
   "metadata": {},
   "outputs": [
    {
     "name": "stdout",
     "output_type": "stream",
     "text": [
      "un ordenador\n"
     ]
    }
   ],
   "source": [
    "# 1. subfrase1 = un ordenador\n",
    "subfrase1 = frase[-66:-54]\n",
    "print(subfrase1)\n"
   ]
  },
  {
   "cell_type": "code",
   "execution_count": 20,
   "id": "3e5b49b9",
   "metadata": {},
   "outputs": [
    {
     "name": "stdout",
     "output_type": "stream",
     "text": [
      "por una ventaza\n",
      "por una ventana\n"
     ]
    }
   ],
   "source": [
    "# 2. subfrase2 = por una ventanza\n",
    "# Teniendo en cuenta que no hay ninguna variable \"frase\" que contenga\n",
    "# la palabra \"ventaza\":\n",
    "subfrase2 = \"por una ventaza\"\n",
    "print(subfrase2)\n",
    "subfrase2_prima = frase[51:66]\n",
    "print(subfrase2_prima)"
   ]
  },
  {
   "cell_type": "code",
   "execution_count": 21,
   "id": "32dec2c4",
   "metadata": {},
   "outputs": [
    {
     "name": "stdout",
     "output_type": "stream",
     "text": [
      "Steve Wozniak\n"
     ]
    }
   ],
   "source": [
    "# 3. subfrase3 = steve wozniak\n",
    "subfrase3 = frase[70:]\n",
    "print(subfrase3)"
   ]
  },
  {
   "cell_type": "code",
   "execution_count": 8,
   "id": "f2292d07",
   "metadata": {},
   "outputs": [
    {
     "data": {
      "text/plain": [
       "'un ordenador,por una ventaza--Steve Wozniak'"
      ]
     },
     "execution_count": 8,
     "metadata": {},
     "output_type": "execute_result"
    }
   ],
   "source": [
    "# 4. subfrase4 = subfrase1 + subfrase2 + subfrase3\n",
    "\n",
    "subfrase = subfrase1 + \",\" + subfrase2 + \"--\" + subfrase3\n",
    "\n",
    "subfrase\n",
    "\n"
   ]
  },
  {
   "cell_type": "markdown",
   "id": "4ed01d93",
   "metadata": {},
   "source": [
    "- Hacer stride de paso 2 con la nueva frase"
   ]
  },
  {
   "cell_type": "code",
   "execution_count": 22,
   "id": "ad0072cd",
   "metadata": {},
   "outputs": [
    {
     "name": "stdout",
     "output_type": "stream",
     "text": [
      "u reao,o n etz-SeeWzi\n"
     ]
    }
   ],
   "source": [
    "print(subfrase[0:-1:2])"
   ]
  },
  {
   "cell_type": "markdown",
   "id": "49f704a6",
   "metadata": {},
   "source": [
    "- Obten las vocales de la palabra **\"Nunca\"** y **\"una\"**, haciendo slicing a la frase y luego stride"
   ]
  },
  {
   "cell_type": "code",
   "execution_count": 24,
   "id": "3e2759c4",
   "metadata": {},
   "outputs": [
    {
     "data": {
      "text/plain": [
       "('ua', 'ua')"
      ]
     },
     "execution_count": 24,
     "metadata": {},
     "output_type": "execute_result"
    }
   ],
   "source": [
    "#frase = \"Nunca confies en un ordenador que no puedas lanzar por una ventana -- Steve Wozniak\"\n",
    "variable = frase[1:5:3]\n",
    "una = frase[55:58:2]\n",
    "variable, una"
   ]
  },
  {
   "cell_type": "markdown",
   "id": "0a42a1a3",
   "metadata": {},
   "source": [
    "- Encuentra el indice de la palabra **\"ordenador\"** y guardarlo en la variable **`indice_1`**"
   ]
  },
  {
   "cell_type": "code",
   "execution_count": 26,
   "id": "f1635b48",
   "metadata": {},
   "outputs": [],
   "source": [
    "nun_ca = frase[0:5]         #nunca = frase[1:5:3]\n",
    "nunca = nun_ca[1::3]\n",
    "una = frase[55:58:2]\n",
    "vocales = nunca + una"
   ]
  },
  {
   "cell_type": "code",
   "execution_count": 12,
   "id": "b91458ad",
   "metadata": {},
   "outputs": [
    {
     "data": {
      "text/plain": [
       "20"
      ]
     },
     "execution_count": 12,
     "metadata": {},
     "output_type": "execute_result"
    }
   ],
   "source": [
    "indice_1 = frase.index(\"ordenador\")\n",
    "indice_1"
   ]
  },
  {
   "cell_type": "markdown",
   "id": "04dc8653",
   "metadata": {},
   "source": [
    "- Encuentra el indice de la palabra **\"ventana\"** y guardalo en la variable **`indice_2`**"
   ]
  },
  {
   "cell_type": "code",
   "execution_count": 13,
   "id": "b01ec2bd",
   "metadata": {},
   "outputs": [
    {
     "data": {
      "text/plain": [
       "59"
      ]
     },
     "execution_count": 13,
     "metadata": {},
     "output_type": "execute_result"
    }
   ],
   "source": [
    "indice_2 = frase.index(\"ventana\")\n",
    "indice_2"
   ]
  },
  {
   "cell_type": "markdown",
   "id": "1ba23cc3",
   "metadata": {},
   "source": [
    "- Obtener la frase: **\"ordenador que no puedas lanzar por una ventana\"** haciendo slicing y utilizando las variables: **`indice_1`** y **`indice_2`**"
   ]
  },
  {
   "cell_type": "code",
   "execution_count": 14,
   "id": "3d07c17e",
   "metadata": {},
   "outputs": [
    {
     "data": {
      "text/plain": [
       "'ordenador que no puedas lanzar por una ventana'"
      ]
     },
     "execution_count": 14,
     "metadata": {},
     "output_type": "execute_result"
    }
   ],
   "source": [
    "frase_3 = frase[indice_1:(indice_2 + 7)]\n",
    "frase_3"
   ]
  },
  {
   "cell_type": "markdown",
   "id": "4ce3d23c",
   "metadata": {},
   "source": [
    "- Verificar si la frase comienza con la cadena **\"nunca\"**"
   ]
  },
  {
   "cell_type": "code",
   "execution_count": 15,
   "id": "21abdbf4",
   "metadata": {},
   "outputs": [
    {
     "data": {
      "text/plain": [
       "0"
      ]
     },
     "execution_count": 15,
     "metadata": {},
     "output_type": "execute_result"
    }
   ],
   "source": [
    "frase.find(\"Nunca\") #con esto nos dice en qué índice está la palabra nunca.\n"
   ]
  },
  {
   "cell_type": "markdown",
   "id": "67350650",
   "metadata": {},
   "source": [
    "- Verificar si la frase termina con **\".\"**"
   ]
  },
  {
   "cell_type": "code",
   "execution_count": 16,
   "id": "fd459e90",
   "metadata": {},
   "outputs": [
    {
     "ename": "ValueError",
     "evalue": "substring not found",
     "output_type": "error",
     "traceback": [
      "\u001b[1;31m---------------------------------------------------------------------------\u001b[0m",
      "\u001b[1;31mValueError\u001b[0m                                Traceback (most recent call last)",
      "Cell \u001b[1;32mIn[16], line 1\u001b[0m\n\u001b[1;32m----> 1\u001b[0m frase\u001b[39m.\u001b[39;49mindex(\u001b[39m\"\u001b[39;49m\u001b[39m.\u001b[39;49m\u001b[39m\"\u001b[39;49m) \u001b[39m#como da error significa que no hay indice para ese str\u001b[39;00m\n\u001b[0;32m      3\u001b[0m frase\u001b[39m.\u001b[39mfind(\u001b[39m\"\u001b[39m\u001b[39m.\u001b[39m\u001b[39m\"\u001b[39m) \u001b[39m# si retorna -1 significa que no se ha encontrado.\u001b[39;00m\n",
      "\u001b[1;31mValueError\u001b[0m: substring not found"
     ]
    }
   ],
   "source": [
    "frase.index(\".\") #como da error significa que no hay indice para ese str\n",
    "\n",
    "frase.find(\".\") # si retorna -1 significa que no se ha encontrado.\n"
   ]
  },
  {
   "cell_type": "markdown",
   "id": "92e148d9",
   "metadata": {},
   "source": [
    "- Separar la frase por la cadena **\"que\"** utilizando **`.split()`**"
   ]
  },
  {
   "cell_type": "code",
   "execution_count": null,
   "id": "d24490e1",
   "metadata": {},
   "outputs": [
    {
     "data": {
      "text/plain": [
       "['Nunca confies en un ordenador ',\n",
       " ' no puedas lanzar por una ventana -- Steve Wozniak']"
      ]
     },
     "execution_count": 25,
     "metadata": {},
     "output_type": "execute_result"
    }
   ],
   "source": [
    "frase.split(\"que\")"
   ]
  },
  {
   "cell_type": "markdown",
   "id": "4bd93d27",
   "metadata": {},
   "source": [
    "- Separar la frase por la letra **\"o\"** utilizando **`.split()`**"
   ]
  },
  {
   "cell_type": "code",
   "execution_count": null,
   "id": "922a9f36",
   "metadata": {},
   "outputs": [
    {
     "data": {
      "text/plain": [
       "['Nunca c',\n",
       " 'nfies en un ',\n",
       " 'rdenad',\n",
       " 'r que n',\n",
       " ' puedas lanzar p',\n",
       " 'r una ventana -- Steve W',\n",
       " 'zniak']"
      ]
     },
     "execution_count": 26,
     "metadata": {},
     "output_type": "execute_result"
    }
   ],
   "source": [
    "frase.split(\"o\") # Equivalente a un intro en la frase."
   ]
  },
  {
   "cell_type": "markdown",
   "id": "fb6a50cc",
   "metadata": {},
   "source": [
    "- Cuenta cuantas veces aparecen las vocales en la frase."
   ]
  },
  {
   "cell_type": "code",
   "execution_count": null,
   "id": "e3bdc740",
   "metadata": {},
   "outputs": [
    {
     "data": {
      "text/plain": [
       "25"
      ]
     },
     "execution_count": 29,
     "metadata": {},
     "output_type": "execute_result"
    }
   ],
   "source": [
    "vocales = frase.count(\"a\") + frase.count(\"e\") + frase.count(\"i\") + frase.count(\"o\")\n",
    "+ frase.count(\"u\")\n",
    "vocales"
   ]
  },
  {
   "cell_type": "code",
   "execution_count": null,
   "id": "04bac0f8",
   "metadata": {},
   "outputs": [],
   "source": [
    "################################################################################################################################"
   ]
  }
 ],
 "metadata": {
  "kernelspec": {
   "display_name": "Python 3 (ipykernel)",
   "language": "python",
   "name": "python3"
  },
  "language_info": {
   "codemirror_mode": {
    "name": "ipython",
    "version": 3
   },
   "file_extension": ".py",
   "mimetype": "text/x-python",
   "name": "python",
   "nbconvert_exporter": "python",
   "pygments_lexer": "ipython3",
   "version": "3.11.0"
  }
 },
 "nbformat": 4,
 "nbformat_minor": 5
}
