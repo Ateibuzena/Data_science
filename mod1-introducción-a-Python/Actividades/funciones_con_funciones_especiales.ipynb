{
 "cells": [
  {
   "cell_type": "markdown",
   "id": "617e80df",
   "metadata": {},
   "source": [
    "### Funciones ejercicios"
   ]
  },
  {
   "cell_type": "markdown",
   "id": "9ff17fdc",
   "metadata": {},
   "source": [
    "### Ejercicio 1\n",
    "- Crea una función que retorne el minimo de 2 números, no puedes usar la función **`min()`**."
   ]
  },
  {
   "cell_type": "code",
   "execution_count": 1,
   "id": "6417b198",
   "metadata": {},
   "outputs": [],
   "source": [
    "def minimun(a,b):\n",
    "    print(a, \" <= \", b) if a <= b else print(b, \" < \", a)"
   ]
  },
  {
   "cell_type": "code",
   "execution_count": 2,
   "id": "b2988ac2",
   "metadata": {},
   "outputs": [
    {
     "name": "stdout",
     "output_type": "stream",
     "text": [
      "1  <=  2\n"
     ]
    }
   ],
   "source": [
    "minimun(1,2)"
   ]
  },
  {
   "cell_type": "markdown",
   "id": "299d07e1",
   "metadata": {},
   "source": [
    "### Ejercicio 2\n",
    "- Crea una función que tenga como parametro de entrada 4 números y devuelva la suma y multiplicación de dichos números en dos variables."
   ]
  },
  {
   "cell_type": "code",
   "execution_count": 3,
   "id": "29dc4315",
   "metadata": {},
   "outputs": [],
   "source": [
    "def parametro(a,b,c,d):\n",
    "        x = a + b + c + d\n",
    "        y = a*b*c*d\n",
    "        print(\"la suma de todos los numeros es: \", x)\n",
    "        print(\"la multiplicacion de todos los nunmeros es:\", y)\n",
    "        return([x,y])    "
   ]
  },
  {
   "cell_type": "code",
   "execution_count": 18,
   "id": "771dd0ed",
   "metadata": {},
   "outputs": [
    {
     "name": "stdout",
     "output_type": "stream",
     "text": [
      "la suma de todos los numeros es:  6\n",
      "la multiplicacion de todos los nunmeros es: 4\n"
     ]
    },
    {
     "data": {
      "text/plain": [
       "[6, 4]"
      ]
     },
     "execution_count": 18,
     "metadata": {},
     "output_type": "execute_result"
    }
   ],
   "source": [
    "parametro(1,1,2,2)\n"
   ]
  },
  {
   "cell_type": "markdown",
   "id": "b33d16b5",
   "metadata": {},
   "source": [
    "### Ejercicio 3\n",
    "- Crea una función que devuelva los dos números menores en forma de lista de 4 números."
   ]
  },
  {
   "cell_type": "code",
   "execution_count": 5,
   "id": "413447a6",
   "metadata": {},
   "outputs": [],
   "source": [
    "\n",
    "def listademinimos(a,b,c,d):\n",
    "    lista = [a,b,c,d]\n",
    "\n",
    "    minimo = min(lista)\n",
    "    lista.remove(minimo)\n",
    "    \n",
    "    minimo2 = min(lista)\n",
    "    listaminimos = [minimo, minimo2]\n",
    "\n",
    "    return(listaminimos)\n"
   ]
  },
  {
   "cell_type": "code",
   "execution_count": 6,
   "id": "763659b4",
   "metadata": {},
   "outputs": [
    {
     "data": {
      "text/plain": [
       "[1, 1]"
      ]
     },
     "execution_count": 6,
     "metadata": {},
     "output_type": "execute_result"
    }
   ],
   "source": [
    "listademinimos(1,2,3,1)"
   ]
  },
  {
   "cell_type": "markdown",
   "id": "b5b102ac",
   "metadata": {},
   "source": [
    "### Ejercicio 4\n",
    "- Crea una función que devuelva los 10 números menores de una lista de 20 números aleatorios entre 10 y 50. (Recuerda importar la libreria)\n",
    "- La lista de número aleatorios se puede crear fuera o dentro de la función."
   ]
  },
  {
   "cell_type": "code",
   "execution_count": 3,
   "id": "6f33698b",
   "metadata": {},
   "outputs": [],
   "source": [
    "import math\n",
    "import random"
   ]
  },
  {
   "cell_type": "code",
   "execution_count": 46,
   "id": "75a0b833",
   "metadata": {},
   "outputs": [],
   "source": [
    "\n",
    "def minimolista():\n",
    "    lista = [random.randint(10, 50) for i in range(20)]\n",
    "    lista.sort()\n",
    "\n",
    "    listamenores = lista[0:10]\n",
    "    return(listamenores)\n",
    "        "
   ]
  },
  {
   "cell_type": "code",
   "execution_count": 47,
   "id": "475213eb",
   "metadata": {},
   "outputs": [
    {
     "data": {
      "text/plain": [
       "[11, 15, 15, 24, 25, 27, 28, 30, 32, 33]"
      ]
     },
     "execution_count": 47,
     "metadata": {},
     "output_type": "execute_result"
    }
   ],
   "source": [
    "minimolista()"
   ]
  },
  {
   "cell_type": "code",
   "execution_count": 12,
   "id": "77d7dacb",
   "metadata": {},
   "outputs": [],
   "source": [
    "def listadiez ():\n",
    "    lista = []\n",
    "    listamenores = []\n",
    "    for i in range(20):\n",
    "        lista.append(random.randint(10,50))\n",
    "    \n",
    "    for n in range(10):\n",
    "        minimo = min(lista)\n",
    "        lista.remove(minimo)\n",
    "        listamenores.append(minimo)\n",
    "\n",
    "    return(listamenores)"
   ]
  },
  {
   "cell_type": "code",
   "execution_count": 13,
   "id": "37b7fd31",
   "metadata": {},
   "outputs": [
    {
     "data": {
      "text/plain": [
       "[13, 14, 16, 20, 20, 22, 23, 27, 28, 29]"
      ]
     },
     "execution_count": 13,
     "metadata": {},
     "output_type": "execute_result"
    }
   ],
   "source": [
    "listadiez()"
   ]
  },
  {
   "cell_type": "markdown",
   "id": "af2c3e2a",
   "metadata": {},
   "source": [
    "### Ejercicio 5\n",
    "- Crea una función que realice la misma tarea que **`len()`**. "
   ]
  },
  {
   "cell_type": "code",
   "execution_count": 52,
   "id": "fd7e71ac",
   "metadata": {},
   "outputs": [],
   "source": [
    "\n",
    "def contador(frase):\n",
    "    \n",
    "    contador = [n for n in frase]\n",
    "    \n",
    "    \n",
    "    return(contador)"
   ]
  },
  {
   "cell_type": "code",
   "execution_count": 53,
   "id": "d0271389",
   "metadata": {},
   "outputs": [
    {
     "data": {
      "text/plain": [
       "['H', 'o', 'l', 'a', ' ', 'm', 'a', 'n', 'o', 'l', 'o']"
      ]
     },
     "execution_count": 53,
     "metadata": {},
     "output_type": "execute_result"
    }
   ],
   "source": [
    "contador(\"Hola manolo\")"
   ]
  },
  {
   "cell_type": "markdown",
   "id": "16725232",
   "metadata": {},
   "source": [
    "### Ejercicio 6\n",
    "- Escribe una función que:\n",
    "- Tome como parametro de entrada una lista de números y letras\n",
    "- Convierta las letras a su forma en mayuscula.\n",
    "- Que calcule el cuadrado de los números\n",
    "- Que retorne ese resultado en una lista en el mismo orden.\n",
    "\n",
    "**Ejemplo:**\n",
    "\n",
    "**`entrada = [1, 2, 3, 4, \"a\", \"b\", \"c\", \"d\"]`**\n",
    "\n",
    "**`salida = [1, 4, 9, 16, \"A\", \"B\", \"C\", \"D\"]`**"
   ]
  },
  {
   "cell_type": "code",
   "execution_count": 12,
   "id": "f47c456d",
   "metadata": {},
   "outputs": [],
   "source": [
    "def entradasalida(lista):\n",
    "    resultado = []\n",
    "    for n in lista:\n",
    "        if type(n) == int:\n",
    "            n = n**2\n",
    "            resultado.append(n)\n",
    "        else:\n",
    "            n = n.capitalize()\n",
    "            resultado.append(n)\n",
    "    return(resultado)"
   ]
  },
  {
   "cell_type": "code",
   "execution_count": 13,
   "id": "ca5a46ed",
   "metadata": {},
   "outputs": [
    {
     "data": {
      "text/plain": [
       "[1, 4, 9, 16, 'A', 'E', 'I', 'O', 'U']"
      ]
     },
     "execution_count": 13,
     "metadata": {},
     "output_type": "execute_result"
    }
   ],
   "source": [
    "lista = [1,2,3,4,\"a\",\"e\",\"i\",\"o\",\"u\"]\n",
    "entradasalida(lista)"
   ]
  },
  {
   "cell_type": "markdown",
   "id": "b8061721",
   "metadata": {},
   "source": [
    "### Ejercicio 7\n",
    "\n",
    "- Crea una funcion que reciba una lista de enteros y que retorne la misma lista sin numeros repetidos y ordenados."
   ]
  },
  {
   "cell_type": "code",
   "execution_count": 14,
   "id": "3cb92788",
   "metadata": {},
   "outputs": [],
   "source": [
    "def repetidosordenados(lista):\n",
    "    lista.sort()\n",
    "    resultado = list(set(lista))\n",
    "    return(resultado)"
   ]
  },
  {
   "cell_type": "code",
   "execution_count": 15,
   "id": "03e590e1",
   "metadata": {},
   "outputs": [
    {
     "data": {
      "text/plain": [
       "[1, 2, 3, 4, 6, 7]"
      ]
     },
     "execution_count": 15,
     "metadata": {},
     "output_type": "execute_result"
    }
   ],
   "source": [
    "repetidosordenados([4,3,2,1,1,3,6,7])"
   ]
  },
  {
   "cell_type": "markdown",
   "id": "cd4a3b21",
   "metadata": {},
   "source": [
    "### Ejercicio 8\n",
    "- Dada una lista de numeros enteros, retornar cuantos numeros hay con un numero par de digitos."
   ]
  },
  {
   "cell_type": "code",
   "execution_count": 1,
   "id": "ce211af8",
   "metadata": {},
   "outputs": [],
   "source": [
    "lista = [230, 2, 45, 1, 30, 234, 450, 34, 1000, 888888, 75848]\n",
    "def pardedigitos(lista):\n",
    "    resultado = [n for n in lista if len(str(n))%2 == 0]        \n",
    "    return len(resultado)"
   ]
  },
  {
   "cell_type": "code",
   "execution_count": 2,
   "id": "5d246781",
   "metadata": {},
   "outputs": [
    {
     "data": {
      "text/plain": [
       "5"
      ]
     },
     "execution_count": 2,
     "metadata": {},
     "output_type": "execute_result"
    }
   ],
   "source": [
    "pardedigitos(lista)"
   ]
  }
 ],
 "metadata": {
  "kernelspec": {
   "display_name": "Python 3 (ipykernel)",
   "language": "python",
   "name": "python3"
  },
  "language_info": {
   "codemirror_mode": {
    "name": "ipython",
    "version": 3
   },
   "file_extension": ".py",
   "mimetype": "text/x-python",
   "name": "python",
   "nbconvert_exporter": "python",
   "pygments_lexer": "ipython3",
   "version": "3.11.4"
  }
 },
 "nbformat": 4,
 "nbformat_minor": 5
}
