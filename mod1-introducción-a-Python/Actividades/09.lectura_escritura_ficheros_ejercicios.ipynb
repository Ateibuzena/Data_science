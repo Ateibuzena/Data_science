{
 "cells": [
  {
   "cell_type": "markdown",
   "id": "b995a9c2",
   "metadata": {},
   "source": [
    "## Lectura y Escritura de ficheros Ejercicios"
   ]
  },
  {
   "cell_type": "markdown",
   "id": "4cf125fc",
   "metadata": {},
   "source": [
    "### Ejercicio 1:\n",
    "- Pide al usuario por pantalla un número entero.\n",
    "- Crear un archivo llamado **`\"ejercicio_1.txt\"`** y llenalo con la tabla de multiplicar de ese número.\n",
    "\n",
    "**`Output:`**\n",
    "\n",
    "**`1 X 0 = 0`**<br>\n",
    "**`1 X 1 = 1`**<br>\n",
    "**`1 X 2 = 2`**<br>\n",
    "**`1 X 3 = 3`**<br>\n",
    "**`1 X 4 = 4`**<br>\n",
    "**`1 X 5 = 5`**<br>\n",
    "**`1 X 6 = 6`**<br>\n",
    "**`1 X 7 = 7`**<br>\n",
    "**`1 X 8 = 8`**<br>\n",
    "**`1 X 9 = 9`**<br>"
   ]
  },
  {
   "cell_type": "code",
   "execution_count": 122,
   "id": "c4c1261e",
   "metadata": {},
   "outputs": [],
   "source": [
    "\n",
    "n = int(input(\"Ingrese un numero entero: \"))\n",
    "archivo = open(\"ejercicio_1.txt\", \"r+\")\n",
    "lista = [f\"{i} x {n} = {n*i} \\n\" for i in range(101)]\n",
    "\n",
    "archivo.writelines(lista)\n",
    "\n",
    "archivo.close()"
   ]
  },
  {
   "cell_type": "code",
   "execution_count": 81,
   "id": "f67fe28f",
   "metadata": {},
   "outputs": [
    {
     "data": {
      "text/plain": [
       "['0 x 5 = 0 \\n',\n",
       " '1 x 5 = 5 \\n',\n",
       " '2 x 5 = 10 \\n',\n",
       " '3 x 5 = 15 \\n',\n",
       " '4 x 5 = 20 \\n',\n",
       " '5 x 5 = 25 \\n',\n",
       " '6 x 5 = 30 \\n',\n",
       " '7 x 5 = 35 \\n',\n",
       " '8 x 5 = 40 \\n',\n",
       " '9 x 5 = 45 \\n',\n",
       " '10 x 5 = 50 \\n',\n",
       " '11 x 5 = 55 \\n',\n",
       " '12 x 5 = 60 \\n',\n",
       " '13 x 5 = 65 \\n',\n",
       " '14 x 5 = 70 \\n',\n",
       " '15 x 5 = 75 \\n',\n",
       " '16 x 5 = 80 \\n',\n",
       " '17 x 5 = 85 \\n',\n",
       " '18 x 5 = 90 \\n',\n",
       " '19 x 5 = 95 \\n',\n",
       " '20 x 5 = 100 \\n',\n",
       " '21 x 5 = 105 \\n',\n",
       " '22 x 5 = 110 \\n',\n",
       " '23 x 5 = 115 \\n',\n",
       " '24 x 5 = 120 \\n',\n",
       " '25 x 5 = 125 \\n',\n",
       " '26 x 5 = 130 \\n',\n",
       " '27 x 5 = 135 \\n',\n",
       " '28 x 5 = 140 \\n',\n",
       " '29 x 5 = 145 \\n',\n",
       " '30 x 5 = 150 \\n',\n",
       " '31 x 5 = 155 \\n',\n",
       " '32 x 5 = 160 \\n',\n",
       " '33 x 5 = 165 \\n',\n",
       " '34 x 5 = 170 \\n',\n",
       " '35 x 5 = 175 \\n',\n",
       " '36 x 5 = 180 \\n',\n",
       " '37 x 5 = 185 \\n',\n",
       " '38 x 5 = 190 \\n',\n",
       " '39 x 5 = 195 \\n',\n",
       " '40 x 5 = 200 \\n',\n",
       " '41 x 5 = 205 \\n',\n",
       " '42 x 5 = 210 \\n',\n",
       " '43 x 5 = 215 \\n',\n",
       " '44 x 5 = 220 \\n',\n",
       " '45 x 5 = 225 \\n',\n",
       " '46 x 5 = 230 \\n',\n",
       " '47 x 5 = 235 \\n',\n",
       " '48 x 5 = 240 \\n',\n",
       " '49 x 5 = 245 \\n',\n",
       " '50 x 5 = 250 \\n',\n",
       " '51 x 5 = 255 \\n',\n",
       " '52 x 5 = 260 \\n',\n",
       " '53 x 5 = 265 \\n',\n",
       " '54 x 5 = 270 \\n',\n",
       " '55 x 5 = 275 \\n',\n",
       " '56 x 5 = 280 \\n',\n",
       " '57 x 5 = 285 \\n',\n",
       " '58 x 5 = 290 \\n',\n",
       " '59 x 5 = 295 \\n',\n",
       " '60 x 5 = 300 \\n',\n",
       " '61 x 5 = 305 \\n',\n",
       " '62 x 5 = 310 \\n',\n",
       " '63 x 5 = 315 \\n',\n",
       " '64 x 5 = 320 \\n',\n",
       " '65 x 5 = 325 \\n',\n",
       " '66 x 5 = 330 \\n',\n",
       " '67 x 5 = 335 \\n',\n",
       " '68 x 5 = 340 \\n',\n",
       " '69 x 5 = 345 \\n',\n",
       " '70 x 5 = 350 \\n',\n",
       " '71 x 5 = 355 \\n',\n",
       " '72 x 5 = 360 \\n',\n",
       " '73 x 5 = 365 \\n',\n",
       " '74 x 5 = 370 \\n',\n",
       " '75 x 5 = 375 \\n',\n",
       " '76 x 5 = 380 \\n',\n",
       " '77 x 5 = 385 \\n',\n",
       " '78 x 5 = 390 \\n',\n",
       " '79 x 5 = 395 \\n',\n",
       " '80 x 5 = 400 \\n',\n",
       " '81 x 5 = 405 \\n',\n",
       " '82 x 5 = 410 \\n',\n",
       " '83 x 5 = 415 \\n',\n",
       " '84 x 5 = 420 \\n',\n",
       " '85 x 5 = 425 \\n',\n",
       " '86 x 5 = 430 \\n',\n",
       " '87 x 5 = 435 \\n',\n",
       " '88 x 5 = 440 \\n',\n",
       " '89 x 5 = 445 \\n',\n",
       " '90 x 5 = 450 \\n',\n",
       " '91 x 5 = 455 \\n',\n",
       " '92 x 5 = 460 \\n',\n",
       " '93 x 5 = 465 \\n',\n",
       " '94 x 5 = 470 \\n',\n",
       " '95 x 5 = 475 \\n',\n",
       " '96 x 5 = 480 \\n',\n",
       " '97 x 5 = 485 \\n',\n",
       " '98 x 5 = 490 \\n',\n",
       " '99 x 5 = 495 \\n',\n",
       " '100 x 5 = 500 \\n']"
      ]
     },
     "execution_count": 81,
     "metadata": {},
     "output_type": "execute_result"
    }
   ],
   "source": [
    "lista"
   ]
  },
  {
   "cell_type": "markdown",
   "id": "a2a75f0b",
   "metadata": {},
   "source": [
    "### Ejercicio 2:\n",
    "- Lee el archivo **`\"ejemplo_2.txt\"`** y guarda su contenido en una variable.\n",
    "- Muestra cuantas palabras hay en total y su frecuencia."
   ]
  },
  {
   "cell_type": "code",
   "execution_count": 119,
   "id": "5b4e5baf",
   "metadata": {},
   "outputs": [
    {
     "name": "stdout",
     "output_type": "stream",
     "text": [
      "el 1\n",
      "kike 1\n",
      "este 1\n",
      "es 2\n",
      "subnormal 1\n",
      "yo 1\n",
      "flipo 1\n",
      "es 2\n",
      "que 2\n",
      "no 1\n",
      "entiendo 1\n",
      "nada 1\n",
      "de 1\n",
      "lo 1\n",
      "que 2\n",
      "pretende 1\n",
      "madre 1\n",
      "mia 1\n"
     ]
    }
   ],
   "source": [
    "lectura = open(\"../ejemplo_2.txt\", \"r\")\n",
    "contenido = lectura.read().split(\"\\n\")\n",
    "contenido.remove(contenido[len(contenido)-1])\n",
    "listascontenido = []\n",
    "[listascontenido.extend(i.split(\" \")) for i in contenido]\n",
    "[print(i, listascontenido.count(i)) for i in listascontenido]\n",
    "lectura.close()"
   ]
  },
  {
   "cell_type": "code",
   "execution_count": 123,
   "id": "f4c51cbc",
   "metadata": {},
   "outputs": [
    {
     "name": "stdout",
     "output_type": "stream",
     "text": [
      "102 {'0 x 5 = 0 ': 1, '1 x 5 = 5 ': 1, '2 x 5 = 10 ': 1, '3 x 5 = 15 ': 1, '4 x 5 = 20 ': 1, '5 x 5 = 25 ': 1, '6 x 5 = 30 ': 1, '7 x 5 = 35 ': 1, '8 x 5 = 40 ': 1, '9 x 5 = 45 ': 1, '10 x 5 = 50 ': 1, '11 x 5 = 55 ': 1, '12 x 5 = 60 ': 1, '13 x 5 = 65 ': 1, '14 x 5 = 70 ': 1, '15 x 5 = 75 ': 1, '16 x 5 = 80 ': 1, '17 x 5 = 85 ': 1, '18 x 5 = 90 ': 1, '19 x 5 = 95 ': 1, '20 x 5 = 100 ': 1, '21 x 5 = 105 ': 1, '22 x 5 = 110 ': 1, '23 x 5 = 115 ': 1, '24 x 5 = 120 ': 1, '25 x 5 = 125 ': 1, '26 x 5 = 130 ': 1, '27 x 5 = 135 ': 1, '28 x 5 = 140 ': 1, '29 x 5 = 145 ': 1, '30 x 5 = 150 ': 1, '31 x 5 = 155 ': 1, '32 x 5 = 160 ': 1, '33 x 5 = 165 ': 1, '34 x 5 = 170 ': 1, '35 x 5 = 175 ': 1, '36 x 5 = 180 ': 1, '37 x 5 = 185 ': 1, '38 x 5 = 190 ': 1, '39 x 5 = 195 ': 1, '40 x 5 = 200 ': 1, '41 x 5 = 205 ': 1, '42 x 5 = 210 ': 1, '43 x 5 = 215 ': 1, '44 x 5 = 220 ': 1, '45 x 5 = 225 ': 1, '46 x 5 = 230 ': 1, '47 x 5 = 235 ': 1, '48 x 5 = 240 ': 1, '49 x 5 = 245 ': 1, '50 x 5 = 250 ': 1, '51 x 5 = 255 ': 1, '52 x 5 = 260 ': 1, '53 x 5 = 265 ': 1, '54 x 5 = 270 ': 1, '55 x 5 = 275 ': 1, '56 x 5 = 280 ': 1, '57 x 5 = 285 ': 1, '58 x 5 = 290 ': 1, '59 x 5 = 295 ': 1, '60 x 5 = 300 ': 1, '61 x 5 = 305 ': 1, '62 x 5 = 310 ': 1, '63 x 5 = 315 ': 1, '64 x 5 = 320 ': 1, '65 x 5 = 325 ': 1, '66 x 5 = 330 ': 1, '67 x 5 = 335 ': 1, '68 x 5 = 340 ': 1, '69 x 5 = 345 ': 1, '70 x 5 = 350 ': 1, '71 x 5 = 355 ': 1, '72 x 5 = 360 ': 1, '73 x 5 = 365 ': 1, '74 x 5 = 370 ': 1, '75 x 5 = 375 ': 1, '76 x 5 = 380 ': 1, '77 x 5 = 385 ': 1, '78 x 5 = 390 ': 1, '79 x 5 = 395 ': 1, '80 x 5 = 400 ': 1, '81 x 5 = 405 ': 1, '82 x 5 = 410 ': 1, '83 x 5 = 415 ': 1, '84 x 5 = 420 ': 1, '85 x 5 = 425 ': 1, '86 x 5 = 430 ': 1, '87 x 5 = 435 ': 1, '88 x 5 = 440 ': 1, '89 x 5 = 445 ': 1, '90 x 5 = 450 ': 1, '91 x 5 = 455 ': 1, '92 x 5 = 460 ': 1, '93 x 5 = 465 ': 1, '94 x 5 = 470 ': 1, '95 x 5 = 475 ': 1, '96 x 5 = 480 ': 1, '97 x 5 = 485 ': 1, '98 x 5 = 490 ': 1, '99 x 5 = 495 ': 1, '100 x 5 = 500 ': 1}\n"
     ]
    }
   ],
   "source": [
    "archivo = open(\"ejercicio_1.txt\", \"r\")\n",
    "archivointerno = archivo.read().split(\"\\n\")\n",
    "\n",
    "indice = 0\n",
    "dic = {}\n",
    "\n",
    "while indice < len(archivointerno)-1:\n",
    "    \n",
    "    dic[archivointerno[indice]] = archivointerno.count(archivointerno[indice])\n",
    "    indice = indice + 1\n",
    "   \n",
    "print(len(archivointerno), dic)\n",
    "\n",
    "archivo.close()"
   ]
  },
  {
   "cell_type": "markdown",
   "id": "0a55082d",
   "metadata": {},
   "source": [
    "### Ejercicio 3:\n",
    "- Define una función que tome como parametro el nombre de un archivo y que pida por pantalla al usuario:\n",
    "    1. **`Nombre`**\n",
    "    2. **`Un número entero`**\n",
    "    3. **`Una palabra`**\n",
    "    4. **`Nombre de Ciudad`**\n",
    "    5. Escribe el código para escribir esos datos en una sola linea en el archivo (**`Sin sobreescribir el archivo`**).\n",
    "    6. No debe retornar nada.\n",
    "- El archivo puede tener cualquier nombre, pero vamos a llamarlo **`\"ejercicio_3.txt\"`**.\n",
    "- Ejecuta esa función 5 veces. Asegurate de que el código funciona correctamente."
   ]
  },
  {
   "cell_type": "code",
   "execution_count": 142,
   "id": "f6ab2faf",
   "metadata": {},
   "outputs": [],
   "source": [
    "def funcion(nombrearchivo):\n",
    "    \n",
    "    lectura = open(nombrearchivo, \"x\")\n",
    "    lectura.writelines([input(\"Nombre: \"), \" \", input(\"N: \"), \" \", input(\"Palabra: \"), \" \", input(\"Ciudad: \")])\n",
    "    lectura.close()\n",
    "    "
   ]
  },
  {
   "cell_type": "code",
   "execution_count": 143,
   "id": "5105e052",
   "metadata": {},
   "outputs": [],
   "source": [
    "funcion(\"Identidad.txt\")"
   ]
  },
  {
   "cell_type": "markdown",
   "id": "9c3c0af9",
   "metadata": {},
   "source": [
    "### Ejercicio 4:\n",
    "- Lee el archivo binario **`\"datos.pkl\"`** (recuerda importar la libreria).\n",
    "- Guarda ese objeto en la variable **`datos`**."
   ]
  },
  {
   "cell_type": "code",
   "execution_count": 152,
   "id": "72814f7b",
   "metadata": {},
   "outputs": [],
   "source": [
    "import pickle\n",
    "\n",
    "with open(\"../ejemplo_binario.pkl\", \"br\") as file:\n",
    "    datos = pickle.dump(file)\n",
    "\n",
    "# datos"
   ]
  },
  {
   "cell_type": "code",
   "execution_count": 166,
   "id": "6c5f9ffe",
   "metadata": {},
   "outputs": [],
   "source": [
    "import os"
   ]
  },
  {
   "cell_type": "code",
   "execution_count": 153,
   "id": "95827732",
   "metadata": {},
   "outputs": [
    {
     "data": {
      "text/plain": [
       "(<_io.BufferedReader name='../ejemplo_binario.pkl'>,\n",
       " [0, 1, 2, 3, 4, 5, 6, 7, 8, 9])"
      ]
     },
     "execution_count": 153,
     "metadata": {},
     "output_type": "execute_result"
    }
   ],
   "source": [
    "file, datos"
   ]
  },
  {
   "cell_type": "code",
   "execution_count": 6,
   "id": "bb66637f",
   "metadata": {},
   "outputs": [
    {
     "data": {
      "text/plain": [
       "1000000"
      ]
     },
     "execution_count": 6,
     "metadata": {},
     "output_type": "execute_result"
    }
   ],
   "source": [
    "len(datos)"
   ]
  },
  {
   "cell_type": "markdown",
   "id": "4c45a63c",
   "metadata": {},
   "source": [
    "### Ejercicio 5:\n",
    "- Usando la variable **`datos`** encuentra los elementos que tengan **`\"V1\"`** en su nombre."
   ]
  },
  {
   "cell_type": "code",
   "execution_count": 167,
   "id": "c3f2ff75",
   "metadata": {},
   "outputs": [
    {
     "data": {
      "text/plain": [
       "[0, 1, 2, 3, 4, 5, 6, 7, 8, 9]"
      ]
     },
     "execution_count": 167,
     "metadata": {},
     "output_type": "execute_result"
    }
   ],
   "source": [
    "datos"
   ]
  },
  {
   "cell_type": "code",
   "execution_count": 168,
   "id": "eb340606",
   "metadata": {},
   "outputs": [
    {
     "ename": "AttributeError",
     "evalue": "'list' object has no attribute 'items'",
     "output_type": "error",
     "traceback": [
      "\u001b[1;31m---------------------------------------------------------------------------\u001b[0m",
      "\u001b[1;31mAttributeError\u001b[0m                            Traceback (most recent call last)",
      "\u001b[1;32mc:\\Users\\Ane Zubieta\\datascience\\data-science-and-ia\\dia_7\\Ejercicios\\10.lectura_escritura_ficheros_ejercicios.ipynb Celda 18\u001b[0m line \u001b[0;36m3\n\u001b[0;32m      <a href='vscode-notebook-cell:/c%3A/Users/Ane%20Zubieta/datascience/data-science-and-ia/dia_7/Ejercicios/10.lectura_escritura_ficheros_ejercicios.ipynb#X24sZmlsZQ%3D%3D?line=0'>1</a>\u001b[0m lista_elementos \u001b[39m=\u001b[39m []\n\u001b[1;32m----> <a href='vscode-notebook-cell:/c%3A/Users/Ane%20Zubieta/datascience/data-science-and-ia/dia_7/Ejercicios/10.lectura_escritura_ficheros_ejercicios.ipynb#X24sZmlsZQ%3D%3D?line=2'>3</a>\u001b[0m \u001b[39mfor\u001b[39;00m key, value \u001b[39min\u001b[39;00m datos\u001b[39m.\u001b[39;49mitems():\n\u001b[0;32m      <a href='vscode-notebook-cell:/c%3A/Users/Ane%20Zubieta/datascience/data-science-and-ia/dia_7/Ejercicios/10.lectura_escritura_ficheros_ejercicios.ipynb#X24sZmlsZQ%3D%3D?line=4'>5</a>\u001b[0m     \u001b[39mif\u001b[39;00m \u001b[39m\"\u001b[39m\u001b[39mV1\u001b[39m\u001b[39m\"\u001b[39m \u001b[39min\u001b[39;00m value[\u001b[39m\"\u001b[39m\u001b[39mnombre\u001b[39m\u001b[39m\"\u001b[39m]:\n\u001b[0;32m      <a href='vscode-notebook-cell:/c%3A/Users/Ane%20Zubieta/datascience/data-science-and-ia/dia_7/Ejercicios/10.lectura_escritura_ficheros_ejercicios.ipynb#X24sZmlsZQ%3D%3D?line=5'>6</a>\u001b[0m         lista_elementos\u001b[39m.\u001b[39mappend(value[\u001b[39m\"\u001b[39m\u001b[39mnombre\u001b[39m\u001b[39m\"\u001b[39m])\n",
      "\u001b[1;31mAttributeError\u001b[0m: 'list' object has no attribute 'items'"
     ]
    }
   ],
   "source": [
    "lista_elementos = []\n",
    "\n",
    "for key, value in datos.items():\n",
    "\n",
    "    if \"V1\" in value[\"nombre\"]:\n",
    "        lista_elementos.append(value[\"nombre\"])\n",
    "        \n",
    "len(lista_elementos)"
   ]
  },
  {
   "cell_type": "code",
   "execution_count": 156,
   "id": "b78cb5d4",
   "metadata": {},
   "outputs": [
    {
     "data": {
      "text/plain": [
       "0"
      ]
     },
     "execution_count": 156,
     "metadata": {},
     "output_type": "execute_result"
    }
   ],
   "source": [
    "datos[0]"
   ]
  },
  {
   "cell_type": "code",
   "execution_count": null,
   "id": "39b2bd32",
   "metadata": {},
   "outputs": [],
   "source": []
  },
  {
   "cell_type": "markdown",
   "id": "69914934",
   "metadata": {},
   "source": [
    "### Ejercicio 6:\n",
    "- Usando la variable **`datos`** muestra los indices donde **`\"tipo\"`** sea **`entrada`**."
   ]
  },
  {
   "cell_type": "code",
   "execution_count": 20,
   "id": "31dd936f",
   "metadata": {},
   "outputs": [],
   "source": [
    "lista_indices = list()\n",
    "\n",
    "for key, value in datos.items():\n",
    "    \n",
    "    if value[\"tipo\"] == \"entrada\":\n",
    "        \n",
    "        lista_indices.append(key)"
   ]
  },
  {
   "cell_type": "code",
   "execution_count": 1,
   "id": "c94a169c",
   "metadata": {
    "collapsed": true
   },
   "outputs": [
    {
     "ename": "NameError",
     "evalue": "name 'lista_indices' is not defined",
     "output_type": "error",
     "traceback": [
      "\u001b[1;31m---------------------------------------------------------------------------\u001b[0m",
      "\u001b[1;31mNameError\u001b[0m                                 Traceback (most recent call last)",
      "\u001b[1;32mc:\\Users\\Ane Zubieta\\datascience\\data-science-and-ia\\dia_7\\Ejercicios\\10.lectura_escritura_ficheros_ejercicios.ipynb Celda 23\u001b[0m line \u001b[0;36m1\n\u001b[1;32m----> <a href='vscode-notebook-cell:/c%3A/Users/Ane%20Zubieta/datascience/data-science-and-ia/dia_7/Ejercicios/10.lectura_escritura_ficheros_ejercicios.ipynb#X31sZmlsZQ%3D%3D?line=0'>1</a>\u001b[0m lista_indices\n",
      "\u001b[1;31mNameError\u001b[0m: name 'lista_indices' is not defined"
     ]
    }
   ],
   "source": [
    "lista_indices"
   ]
  },
  {
   "cell_type": "code",
   "execution_count": null,
   "id": "4f12063f",
   "metadata": {},
   "outputs": [],
   "source": []
  },
  {
   "cell_type": "markdown",
   "id": "6da566f2",
   "metadata": {},
   "source": [
    "### Ejercicio 7:\n",
    "- Usando la variable **`datos`** muestra los indices que sean del año **`2016`**."
   ]
  },
  {
   "cell_type": "code",
   "execution_count": 25,
   "id": "7a229bb9",
   "metadata": {},
   "outputs": [
    {
     "data": {
      "text/plain": [
       "43320"
      ]
     },
     "execution_count": 25,
     "metadata": {},
     "output_type": "execute_result"
    }
   ],
   "source": [
    "lista_indices = list()\n",
    "\n",
    "for key, value in datos.items():\n",
    "    \n",
    "    if value[\"fecha\"].startswith(\"2016\"):\n",
    "        \n",
    "        lista_indices.append(key)\n",
    "             \n",
    "len(lista_indices)"
   ]
  },
  {
   "cell_type": "code",
   "execution_count": 27,
   "id": "84d12d8f",
   "metadata": {},
   "outputs": [
    {
     "data": {
      "text/plain": [
       "{'id_producto': 2713856,\n",
       " 'nombre': 'Ordenador Blanco Pequeño V2',\n",
       " 'cantidad': 388,\n",
       " 'fecha': '2016-01-01',\n",
       " 'tipo': 'salida'}"
      ]
     },
     "execution_count": 27,
     "metadata": {},
     "output_type": "execute_result"
    }
   ],
   "source": [
    "datos[696080]"
   ]
  },
  {
   "cell_type": "code",
   "execution_count": null,
   "id": "66d7e9c2",
   "metadata": {},
   "outputs": [],
   "source": []
  }
 ],
 "metadata": {
  "kernelspec": {
   "display_name": "Python 3 (ipykernel)",
   "language": "python",
   "name": "python3"
  },
  "language_info": {
   "codemirror_mode": {
    "name": "ipython",
    "version": 3
   },
   "file_extension": ".py",
   "mimetype": "text/x-python",
   "name": "python",
   "nbconvert_exporter": "python",
   "pygments_lexer": "ipython3",
   "version": "3.11.4"
  }
 },
 "nbformat": 4,
 "nbformat_minor": 5
}
