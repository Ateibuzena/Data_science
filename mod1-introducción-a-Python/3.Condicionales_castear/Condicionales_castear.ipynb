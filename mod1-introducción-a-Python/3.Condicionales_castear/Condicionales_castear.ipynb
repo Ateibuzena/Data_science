{
 "cells": [
  {
   "cell_type": "markdown",
   "id": "17446dec",
   "metadata": {},
   "source": [
    "## Condicionales\n",
    "\n",
    "Las sentencias condicionales se usan para tomar decisiones, éstas evalúan una operación lógica (declaraciones o statements), es decir una expresión que de como resultado **True** o **False** , y ejecuta una pieza de código u otro dependiendo del resultado. **Dependiendo de la estructura del condicional se ejecutará o no una o varias lineas de código.**\n",
    "\n",
    "###  if\n",
    "\n",
    "Es la base del condicional, **`if`** evaluará si una declaración es **`True`** o **`False`** y, dependiendo del resultado, ejecutará una linea de código u otro.\n",
    "\n",
    "**Ejemplo:**"
   ]
  },
  {
   "cell_type": "code",
   "execution_count": null,
   "id": "bf1e8357",
   "metadata": {},
   "outputs": [],
   "source": [
    "edad = 18\n",
    "\n",
    "if edad >= 18:\n",
    "    print(\"Persona mayor de edad.\")"
   ]
  },
  {
   "cell_type": "code",
   "execution_count": null,
   "id": "a1c83fd5",
   "metadata": {},
   "outputs": [],
   "source": [
    "edad = 17\n",
    "\n",
    "if edad >= 18:\n",
    "    print(\"Persona mayor de edad.\")"
   ]
  },
  {
   "cell_type": "markdown",
   "id": "fa8a74c1",
   "metadata": {},
   "source": [
    "### else\n",
    "\n",
    "Es el complemento del **`if`**, usando **`else`** podemos dar otro resultado si la condición no se cumple.\n",
    "\n",
    "**El condicional `else` no es obligatorio y no necesita que le demos una declaración.**\n",
    "\n",
    "**Cuando se ejecuta el `if` NO se ejecuta el `else` y cuando NO se ejecuta el `if` se ejecuta el `else`.**"
   ]
  },
  {
   "cell_type": "code",
   "execution_count": null,
   "id": "7e183140",
   "metadata": {},
   "outputs": [],
   "source": [
    "edad = 18\n",
    "\n",
    "if edad >= 18:\n",
    "    print(\"Persona mayor de edad.\")\n",
    "    \n",
    "else:\n",
    "    print(\"Condición no se cumple, persona menor de edad\")"
   ]
  },
  {
   "cell_type": "code",
   "execution_count": null,
   "id": "450e9802",
   "metadata": {},
   "outputs": [],
   "source": [
    "edad = 17\n",
    "\n",
    "if edad >= 18:\n",
    "    print(\"Persona mayor de edad.\")\n",
    "    \n",
    "else:\n",
    "    print(\"Condición no se cumple, persona menor de edad\")"
   ]
  },
  {
   "cell_type": "markdown",
   "id": "df11f27d",
   "metadata": {},
   "source": [
    "### elif\n",
    "\n",
    "Abreviatura de **`else if`**, está nos ayuda a verificar diferentes comprobaciones, **es opcional usarlo y al igual que el `if` necesita una condición para comprobar, podemos usar tantos `elif` como queramos**."
   ]
  },
  {
   "cell_type": "code",
   "execution_count": null,
   "id": "5aca3084",
   "metadata": {},
   "outputs": [],
   "source": [
    "edad = 15\n",
    "\n",
    "if edad >= 18:\n",
    "    print(\"Persona mayor de edad.\")\n",
    "    \n",
    "elif edad == 17:\n",
    "    print(\"Persona menor de edad, con 17 años.\")\n",
    "    \n",
    "elif edad == 15:\n",
    "    print(\"Persona menor de edad, con 15 años.\")\n",
    "    \n",
    "elif edad == 13:\n",
    "    print(\"Persona menor de edad, con 13 años.\")\n",
    "    \n",
    "else:\n",
    "    print(\"Persona menor de 13 años.\")"
   ]
  },
  {
   "cell_type": "markdown",
   "id": "da44d3d8",
   "metadata": {},
   "source": [
    "### Condicionales anidados\n",
    "\n",
    "Al igual que las listas en Python, se pueden anidar condicionales, esto nos permite hacer código más complejo."
   ]
  },
  {
   "cell_type": "code",
   "execution_count": null,
   "id": "299af74f",
   "metadata": {},
   "outputs": [],
   "source": [
    "edad = 18\n",
    "direccion = \"Madrid\"\n",
    "\n",
    "if direccion == \"Madrid\":\n",
    "    \n",
    "    if edad >= 18:\n",
    "        print(\"Vive en Madrid, mayor de edad.\")\n",
    "        \n",
    "    elif (edad >= 15) and (edad < 18):\n",
    "        print(\"Vive en Madrid, menor de 18 pero mayor de 15 años.\")\n",
    "        \n",
    "    else:\n",
    "        print(\"Vive en Madrid, menor de 15 años.\")\n",
    "    \n",
    "else:\n",
    "    \n",
    "    print(\"No vive en Madrid.\")\n",
    "    \n",
    "    if edad >= 18:\n",
    "        print(\"Mayor de edad.\")\n",
    "    else:\n",
    "        print(\"Menor de edad\")"
   ]
  },
  {
   "cell_type": "markdown",
   "id": "6fb3a031",
   "metadata": {},
   "source": [
    "## Casting (conversión)\n",
    "\n",
    "En python y otros lenguajes, **`casting`** es un termino usado para cambiar el tipo de dato de una variable, como convertir un número **`float`** a **`int`** o una **`tuple`** a **`list`** (o viceversa).\n",
    "\n",
    "Para hacer **`casting`** o castear, usamos las funciones **`built-in`** de Python, que también son palabras reservadas:\n",
    "\n",
    "|Función      |Tipo              |\n",
    "|-------------|------------------|\n",
    "| **int()**   |Entero            |\n",
    "| **float()** |Flotante (Decimal)|\n",
    "| **bool()**  |Booleano          |\n",
    "| **str()**   |String            |\n",
    "| **tuple()** |Tupla             |\n",
    "| **list()**  |Lista             |\n",
    "| **set()**   |Set (o conjunto)  |\n",
    "| **dict()**  |Diccionario       |\n",
    "\n",
    "\n",
    "**Dependiendo del tipo de dato original podremos castear una variable a un tipo de dato u otro.**\n",
    "\n",
    "Por ejemplo, podemos transformar un numero a una cadena de caracteres, pero no podemos transformar una cadena de caracteres con letras a un numero entero."
   ]
  },
  {
   "cell_type": "code",
   "execution_count": 3,
   "id": "e3718466",
   "metadata": {},
   "outputs": [
    {
     "data": {
      "text/plain": [
       "int"
      ]
     },
     "execution_count": 3,
     "metadata": {},
     "output_type": "execute_result"
    }
   ],
   "source": [
    "entero = 1000\n",
    "type(entero)\n"
   ]
  },
  {
   "cell_type": "code",
   "execution_count": 5,
   "id": "f9e93fd9",
   "metadata": {},
   "outputs": [
    {
     "data": {
      "text/plain": [
       "str"
      ]
     },
     "execution_count": 5,
     "metadata": {},
     "output_type": "execute_result"
    }
   ],
   "source": [
    "# castear entero a string\n",
    "entero_casteado_a_str = str(entero)\n",
    "type(entero_casteado_a_str)"
   ]
  },
  {
   "cell_type": "code",
   "execution_count": 6,
   "id": "f2ef3260",
   "metadata": {},
   "outputs": [
    {
     "data": {
      "text/plain": [
       "1000"
      ]
     },
     "execution_count": 6,
     "metadata": {},
     "output_type": "execute_result"
    }
   ],
   "source": [
    "string = \"1000\"\n",
    "\n",
    "int(string)"
   ]
  },
  {
   "cell_type": "code",
   "execution_count": 9,
   "id": "08a875fb",
   "metadata": {},
   "outputs": [
    {
     "data": {
      "text/plain": [
       "1000.0"
      ]
     },
     "execution_count": 9,
     "metadata": {},
     "output_type": "execute_result"
    }
   ],
   "source": [
    "float(string)"
   ]
  },
  {
   "cell_type": "code",
   "execution_count": null,
   "id": "456f2c4e",
   "metadata": {},
   "outputs": [],
   "source": [
    "string = \"Hola\" #las lestras no podemos castearlas a enteros\n",
    "\n",
    "int(string)"
   ]
  },
  {
   "cell_type": "code",
   "execution_count": null,
   "id": "ea8adf53",
   "metadata": {},
   "outputs": [],
   "source": [
    "tupla = (1, 2, 3, 4, 5, 6)\n",
    "\n",
    "list(tupla)"
   ]
  },
  {
   "cell_type": "code",
   "execution_count": null,
   "id": "bed1a870",
   "metadata": {},
   "outputs": [],
   "source": [
    "set(tupla)"
   ]
  },
  {
   "cell_type": "code",
   "execution_count": 10,
   "id": "4f3d65fa",
   "metadata": {},
   "outputs": [
    {
     "ename": "ValueError",
     "evalue": "could not convert string to float: '100a00'",
     "output_type": "error",
     "traceback": [
      "\u001b[1;31m---------------------------------------------------------------------------\u001b[0m",
      "\u001b[1;31mValueError\u001b[0m                                Traceback (most recent call last)",
      "Cell \u001b[1;32mIn[10], line 3\u001b[0m\n\u001b[0;32m      1\u001b[0m string \u001b[39m=\u001b[39m \u001b[39m\"\u001b[39m\u001b[39m100a00\u001b[39m\u001b[39m\"\u001b[39m\n\u001b[1;32m----> 3\u001b[0m \u001b[39mfloat\u001b[39;49m(string)\n",
      "\u001b[1;31mValueError\u001b[0m: could not convert string to float: '100a00'"
     ]
    }
   ],
   "source": [
    "string = \"100a00\"\n",
    "\n",
    "float(string)"
   ]
  },
  {
   "cell_type": "markdown",
   "id": "b671f45c",
   "metadata": {},
   "source": [
    "## input\n",
    "\n",
    "La función **`input()`** pide al usuario que ingrese por teclado un mensaje, puede ser una variable, un numero, una cadena de caracteres, una lista... Esta función SIEMPRE retorna una **`string`**, por lo que si el usuario ingresa un número tendremos que castearlo para poder usarlo como número."
   ]
  },
  {
   "cell_type": "code",
   "execution_count": null,
   "id": "9fd2a010",
   "metadata": {},
   "outputs": [],
   "source": [
    "input(\"Ingrese edad:\")"
   ]
  },
  {
   "cell_type": "code",
   "execution_count": 12,
   "id": "74ef2a3b",
   "metadata": {},
   "outputs": [
    {
     "data": {
      "text/plain": [
       "5"
      ]
     },
     "execution_count": 12,
     "metadata": {},
     "output_type": "execute_result"
    }
   ],
   "source": [
    "edad = int(input(\"Ingrese edad: \"))\n",
    "edad"
   ]
  },
  {
   "cell_type": "code",
   "execution_count": null,
   "id": "d7e790c8",
   "metadata": {},
   "outputs": [],
   "source": [
    "print(edad)"
   ]
  },
  {
   "cell_type": "code",
   "execution_count": null,
   "id": "2ca104ef",
   "metadata": {},
   "outputs": [],
   "source": [
    "type(edad)"
   ]
  },
  {
   "cell_type": "code",
   "execution_count": null,
   "id": "7d29fb9d",
   "metadata": {},
   "outputs": [],
   "source": [
    "edad = int(input(\"Ingrese edad: \"))\n",
    "\n",
    "type(edad)"
   ]
  },
  {
   "cell_type": "code",
   "execution_count": 28,
   "id": "163fcf59",
   "metadata": {},
   "outputs": [
    {
     "data": {
      "text/plain": [
       "int"
      ]
     },
     "execution_count": 28,
     "metadata": {},
     "output_type": "execute_result"
    }
   ],
   "source": [
    "numeros = input(\"ingrese una lista de numeros sin espacios\")\n",
    "n1 = []\n",
    "for n in numeros:       #bucle para ir cambiando los elementos de la lista (numeros)\n",
    "    n1.append(int(n))       # a entero y guardarlos en una lista nuve (n1)\n",
    "type(n1[5])         #acceder a un elemento de la lista\n"
   ]
  },
  {
   "cell_type": "markdown",
   "id": "3efc0d6e",
   "metadata": {},
   "source": [
    "for n in n1:\n",
    "    print(type(n))"
   ]
  },
  {
   "cell_type": "code",
   "execution_count": null,
   "id": "54fc22f7",
   "metadata": {},
   "outputs": [],
   "source": [
    "numeros = numeros.split(\" \")\n",
    "\n",
    "numeros"
   ]
  },
  {
   "cell_type": "code",
   "execution_count": null,
   "id": "02cda025",
   "metadata": {},
   "outputs": [],
   "source": [
    "################################################################################################################################"
   ]
  }
 ],
 "metadata": {
  "kernelspec": {
   "display_name": "Python 3 (ipykernel)",
   "language": "python",
   "name": "python3"
  },
  "language_info": {
   "codemirror_mode": {
    "name": "ipython",
    "version": 3
   },
   "file_extension": ".py",
   "mimetype": "text/x-python",
   "name": "python",
   "nbconvert_exporter": "python",
   "pygments_lexer": "ipython3",
   "version": "3.11.4"
  }
 },
 "nbformat": 4,
 "nbformat_minor": 5
}
