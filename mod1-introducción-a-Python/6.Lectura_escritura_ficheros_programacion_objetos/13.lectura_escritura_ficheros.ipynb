{
 "cells": [
  {
   "cell_type": "markdown",
   "id": "32512ffb",
   "metadata": {},
   "source": [
    "## Lectura y Escritura de archivos\n",
    "\n",
    "En python para leer y escribir un archivo (o fichero) usamos la función **`open`**. Ésta función toma como parametros el **`path`** o ruta de un archivo y el modo de apertura, que pueden ser cualquiera de los siguientes (por defecto es **`r`**):\n",
    "\n",
    "\n",
    "|Modo    |Descripción                                                          |\n",
    "|--------|---------------------------------------------------------------------|\n",
    "|**`r`** |Abre el fichero en modo lectura.                                     |\n",
    "|**`r+`**|Abre el fichero en modo lectura y escritura. Sobreescribe el archivo.|\n",
    "|**`w`** |Abre el fichero solo en modo escritura. Sobreescribe el archivo.     |\n",
    "|**`a`** |Añade una linea al final del fichero en caso de que ya exista.       |\n",
    "|**`x`** |Crea un nuevo archivo y lo abre para escritura.                      |\n",
    "|**`br`**|Abre ficheros binarios en modo lectura (imagenes).                   |\n",
    "|**`bw`**|Abre ficheros binarios en modo escritura. Sobreescribe el archivo.   |\n",
    "|**`b+`**|Abre ficheros binarios en modo lectura y escritura.                  |\n",
    "\n",
    "Para usar la función **`open`** tenemos principalmente 2 formas:\n",
    "1. Usando **`open()`** y el método **`close()`**:\n",
    " \n",
    "```python\n",
    "    file = open(path, mode)\n",
    "    data = file.read()\n",
    "    file.close()\n",
    "```\n",
    "2. Usando la función **`with open()`**:\n",
    "```python\n",
    "    with open(path, mode) as file:\n",
    "        data = file.read()\n",
    "```\n",
    "\n",
    "Cuando solo usamos la función **`open()`** tenemos que \"cerrar\" el archivo \"manualmente\", en cambio si usamos **`with open()`** no tenemos que preocuparnos por esto, ya que su principal función es abrir y cerrar el archivo, por lo que es más recomendado usar la segunda forma, además de que simplifica el código.\n",
    "\n",
    "Un tercer parametro puede ser indicado a la función **`open()`** y este es el **`encoding`**, por defecto no usa ninguno encoding, esto tiene un uso especial si tenemos ficheros con caracteres especiales, como los acentos o la letra **ñ**. El encoding más usado para esto sería **`utf-8`**.\n",
    "\n",
    "\n",
    "### Escritura de archivos\n",
    "\n",
    "Para escribir archivos usamos los siguientes métodos:\n",
    "\n",
    "|Método                     |Descripción                                                 |\n",
    "|---------------------------|------------------------------------------------------------|\n",
    "|**`file.write(string)`**   |Inserta la cadena \"string\" en una sola linea al archivo.    |\n",
    "|**`file.writelines(list)`**|Inserta las cadenas de la lista \"list\" al final del archivo.|\n",
    "\n",
    "**Aunque no es obligatorio, es buena práctica agregar el salto de linea `\\n` en cada string que agregemos al fichero.**\n",
    "\n",
    "\n",
    "### Lectura de archivos\n",
    "\n",
    "Para leer archivos usamos los siguientes métodos:\n",
    "\n",
    "|Método                     |Descripción                                                                                                |\n",
    "|---------------------------|----------------------------------------------------------------------------------------------------------|\n",
    "|**`file.read(n)`**    |Lee los primero \"n\" caracteres del archivo, si no se especifica \"n\" lee todo el archivo en una sola cadena.|\n",
    "|**`file.readline(n)`** |Lee una sola linea del archivo, si se especifica \"n\", leerá los primeros n-caracteres de esa linea.            |\n",
    "|**`file.readlines()`**|Lee todo el archivo y retorna en una lista cada linea del archivo.                                            |"
   ]
  },
  {
   "cell_type": "code",
   "execution_count": 5,
   "id": "f536fa17",
   "metadata": {},
   "outputs": [
    {
     "data": {
      "text/plain": [
       "'hola vergacion how are you?'"
      ]
     },
     "execution_count": 5,
     "metadata": {},
     "output_type": "execute_result"
    }
   ],
   "source": [
    "# Sintaxis 1\n",
    "# Leer todo el archivo con .read()\n",
    "\n",
    "file = open(\"Ana.txt\", \"r\")\n",
    "data = file.read()\n",
    "file.close()\n",
    "\n",
    "data\n",
    "\n",
    "# Nos retorna un string"
   ]
  },
  {
   "cell_type": "code",
   "execution_count": 6,
   "id": "fcd0c2f6",
   "metadata": {},
   "outputs": [
    {
     "name": "stdout",
     "output_type": "stream",
     "text": [
      "hola vergacion how are you?\n"
     ]
    }
   ],
   "source": [
    "print(data)"
   ]
  },
  {
   "cell_type": "code",
   "execution_count": 7,
   "id": "10e49770",
   "metadata": {},
   "outputs": [
    {
     "data": {
      "text/plain": [
       "'hola vergacion how are you?'"
      ]
     },
     "execution_count": 7,
     "metadata": {},
     "output_type": "execute_result"
    }
   ],
   "source": [
    "# Sintaxis 2\n",
    "# Leer todo el archivo con .read()\n",
    "\n",
    "with open(\"Ana.txt\", \"r\") as file:\n",
    "    data_1 = file.read()\n",
    "    \n",
    "data_1\n",
    "\n",
    "# Nos retorna un string"
   ]
  },
  {
   "cell_type": "code",
   "execution_count": 8,
   "id": "5f991f80",
   "metadata": {},
   "outputs": [
    {
     "name": "stdout",
     "output_type": "stream",
     "text": [
      "hola vergacion how are you?\n"
     ]
    }
   ],
   "source": [
    "print(data_1)"
   ]
  },
  {
   "cell_type": "code",
   "execution_count": null,
   "id": "4f3d4499",
   "metadata": {},
   "outputs": [],
   "source": [
    "# Sintaxis 2\n",
    "# Leer todo el archivo con .readline()\n",
    "\n",
    "with open(\"ejemplo_1.txt\", \"r\") as file:\n",
    "    data = file.readline()\n",
    "    \n",
    "data\n",
    "\n",
    "# Con .readline() solo leemos una linea y nos retorna en forma de string"
   ]
  },
  {
   "cell_type": "code",
   "execution_count": 15,
   "id": "50efb33b",
   "metadata": {},
   "outputs": [
    {
     "data": {
      "text/plain": [
       "'3) Tercera linea.\\n'"
      ]
     },
     "execution_count": 15,
     "metadata": {},
     "output_type": "execute_result"
    }
   ],
   "source": [
    "# Sintaxis 2\n",
    "# Leer todo el archivo con .readlines()\n",
    "\n",
    "with open(\"ejemplo_1.txt\", \"r\") as file:\n",
    "    data = file.readlines()\n",
    "    \n",
    "data[2]\n",
    "\n",
    "# Nos retorna una lista"
   ]
  },
  {
   "cell_type": "code",
   "execution_count": null,
   "id": "fc5605fe",
   "metadata": {},
   "outputs": [],
   "source": [
    "# Vamos a crear un archivo llamado \"ejemplo_2.txt\", que sea identico a \"ejemplo_1.txt\"\n",
    "\n",
    "with open(\"ejemplo_2.txt\", \"w\") as file:\n",
    "    file.write(data_1)"
   ]
  },
  {
   "cell_type": "code",
   "execution_count": null,
   "id": "17bbe207",
   "metadata": {},
   "outputs": [],
   "source": [
    "# Vamos a agregar al archivo de \"ejemplo_2.txt\" el string \"Nueva linea\"\n",
    "\n",
    "with open(\"ejemplo_2.txt\", \"w\") as file:\n",
    "    file.write(\"Nueva linea\\n\")"
   ]
  },
  {
   "cell_type": "code",
   "execution_count": null,
   "id": "111484d8",
   "metadata": {},
   "outputs": [],
   "source": [
    "# Veamos el resultado    \n",
    "    \n",
    "with open(\"ejemplo_2.txt\", \"r\") as file:\n",
    "    print(file.read())\n",
    "    \n",
    "    \n",
    "# Como el modo \"w\" sobreescribe el archivo, se pierde la información\n",
    "# Para no perder la información se usa \"a\""
   ]
  },
  {
   "cell_type": "code",
   "execution_count": 11,
   "id": "b313b0db",
   "metadata": {},
   "outputs": [
    {
     "name": "stdout",
     "output_type": "stream",
     "text": [
      "hola vergacion how are you?Eres una verga\n",
      "\n",
      " Eres una verga\n",
      "\n",
      "Eres una verga\n",
      "\n"
     ]
    }
   ],
   "source": [
    "# Vamos a agregar al archivo \"Nuevo intento\", esta vez intentando no sobreescribir el archivo\n",
    "\n",
    "with open(\"Ana.txt\", \"a\") as file:\n",
    "    file.write(\"\\nEres una verga\\n\")\n",
    "    \n",
    "with open(\"Ana.txt\", \"r\") as file:\n",
    "    print(file.read())"
   ]
  },
  {
   "cell_type": "code",
   "execution_count": null,
   "id": "34f990f9",
   "metadata": {},
   "outputs": [],
   "source": [
    "with open(\"ejemplo_3.txt\", \"r\") as file:\n",
    "    data = file.read()\n",
    "    \n",
    "data"
   ]
  },
  {
   "cell_type": "markdown",
   "id": "c09de3cf",
   "metadata": {},
   "source": [
    "### Libreria pickle\n",
    "\n",
    "**`pickle`** es una libreria que viene por defecto en python, esta libreria escribe y lee ficheros en modo binario. Estos archivos tiene extensión **`.pkl`**.\n",
    "\n",
    "La principal ventaja de usar **`pickle`** es que podemos guardar de forma binaria cualquier objeto en python y este objeto conserva sus propiedades. En los ejemplos anteriores todo se guardaba como cadena de caracteres. Además, los archivos binarios ocupan menos espacio en memoria.\n",
    "\n",
    "|Funcion               |Descripción                                                                                                     |\n",
    "|----------------------|----------------------------------------------------------------------------------------------------------------|\n",
    "|**`.dump(obj, file)`**|Toma como parametro el objeto que se quiere guardar y el objeto file, guarda el objeto en un archivo binario.|\n",
    "|**`.load(file)`**|Toma como parametro el objeto file y lee el fichero binario.                                                   |"
   ]
  },
  {
   "cell_type": "code",
   "execution_count": 19,
   "id": "5ad4c2a2",
   "metadata": {},
   "outputs": [],
   "source": [
    "import pickle"
   ]
  },
  {
   "cell_type": "code",
   "execution_count": 17,
   "id": "6a608b57",
   "metadata": {},
   "outputs": [],
   "source": [
    "lista = [0, 1, 2, 3, 4, 5, 6, 7, 8, 9]"
   ]
  },
  {
   "cell_type": "code",
   "execution_count": 21,
   "id": "075ec231",
   "metadata": {},
   "outputs": [],
   "source": [
    "with open(\"ejemplo_binario.pkl\", \"bw\") as file:\n",
    "    pickle.dump(lista, file)"
   ]
  },
  {
   "cell_type": "code",
   "execution_count": 22,
   "id": "f8a6c05b",
   "metadata": {},
   "outputs": [
    {
     "data": {
      "text/plain": [
       "[0, 1, 2, 3, 4, 5, 6, 7, 8, 9]"
      ]
     },
     "execution_count": 22,
     "metadata": {},
     "output_type": "execute_result"
    }
   ],
   "source": [
    "with open(\"ejemplo_binario.pkl\", \"br\") as file:\n",
    "    lista_2 = pickle.load(file)\n",
    "    \n",
    "lista_2"
   ]
  },
  {
   "cell_type": "code",
   "execution_count": 23,
   "id": "89eb279b",
   "metadata": {},
   "outputs": [
    {
     "data": {
      "text/plain": [
       "list"
      ]
     },
     "execution_count": 23,
     "metadata": {},
     "output_type": "execute_result"
    }
   ],
   "source": [
    "type(lista_2)"
   ]
  },
  {
   "cell_type": "markdown",
   "id": "f67847e8",
   "metadata": {},
   "source": [
    "### Libreria os\n",
    "\n",
    "El modulo **`os`** nos permite realizar operaciones dependiente del Sistema Operativo, con este modulo vamos a ser capaces de recorrer los distintos directorios y ficheros del sistema.\n",
    "\n",
    "|Funciones                        |Descripción                                                                                           |\n",
    "|---------------------------------|-----------------------------------------------------------------------------------------------------|\n",
    "|**`os.getcwd()`**                |Nos retorna la ruta en la que estamos trabajando en forma de string.                                 |\n",
    "|**`os.chdir(path)`**             |Nos permite cambiar de ruta de trabajo, tiene como parametro la ruta a la que queremos cambiar.|\n",
    "|**`os.listdir()`**               |Nos retorna una lista con el nombre de los directorios y ficheros de esa ruta.                       |\n",
    "|**`os.mkdir(path)`**             |Crea un nuevo directorio en la ruta que le indiquemos.                                               |\n",
    "|**`os.rmdir(path)`**             |Elimina el directorio de la ruta que le indiquemos.                                                   |\n",
    "|**`os.rename(nombre1, nombre2)`**|Renombra un archivo/directorio, toma 2 parametros, el nombre del objeto y el nuevo nombre.           |\n",
    "|**`os.stat(path)`**              |Retorna la información de ese archivo/fichero.                                                       |"
   ]
  },
  {
   "cell_type": "code",
   "execution_count": 24,
   "id": "807218cf",
   "metadata": {},
   "outputs": [],
   "source": [
    "import os"
   ]
  },
  {
   "cell_type": "code",
   "execution_count": 58,
   "id": "b66cfdd3",
   "metadata": {},
   "outputs": [
    {
     "data": {
      "text/plain": [
       "'c:\\\\Users\\\\Ane Zubieta\\\\datascience\\\\data-science-and-ia\\\\dia_7'"
      ]
     },
     "execution_count": 58,
     "metadata": {},
     "output_type": "execute_result"
    }
   ],
   "source": [
    "os.getcwd()"
   ]
  },
  {
   "cell_type": "code",
   "execution_count": 57,
   "id": "8f4c14e7",
   "metadata": {},
   "outputs": [],
   "source": [
    "os.chdir(\"./dia_7/\")"
   ]
  },
  {
   "cell_type": "code",
   "execution_count": 60,
   "id": "57a3932f",
   "metadata": {},
   "outputs": [
    {
     "data": {
      "text/plain": [
       "'c:\\\\Users\\\\Ane Zubieta\\\\datascience\\\\data-science-and-ia\\\\dia_7'"
      ]
     },
     "execution_count": 60,
     "metadata": {},
     "output_type": "execute_result"
    }
   ],
   "source": [
    "os.getcwd()"
   ]
  },
  {
   "cell_type": "code",
   "execution_count": 59,
   "id": "5de9d68d",
   "metadata": {},
   "outputs": [
    {
     "data": {
      "text/plain": [
       "['13.lectura_escritura_ficheros.ipynb',\n",
       " '14.programación_orientada_objetos.ipynb',\n",
       " 'Ana.txt',\n",
       " 'ejemplo_1.txt',\n",
       " 'ejemplo_2.txt',\n",
       " 'ejemplo_binario.pkl']"
      ]
     },
     "execution_count": 59,
     "metadata": {},
     "output_type": "execute_result"
    }
   ],
   "source": [
    "os.listdir()"
   ]
  },
  {
   "cell_type": "code",
   "execution_count": 66,
   "id": "8137df93",
   "metadata": {},
   "outputs": [],
   "source": [
    "os.mkdir(\"prueba_os\")   #Carpeta"
   ]
  },
  {
   "cell_type": "code",
   "execution_count": 67,
   "id": "a6aebc4a",
   "metadata": {},
   "outputs": [
    {
     "data": {
      "text/plain": [
       "['13.lectura_escritura_ficheros.ipynb',\n",
       " '14.programación_orientada_objetos.ipynb',\n",
       " 'Ana.txt',\n",
       " 'ejemplo_1.txt',\n",
       " 'ejemplo_2.txt',\n",
       " 'ejemplo_binario.pkl',\n",
       " 'prueba_os']"
      ]
     },
     "execution_count": 67,
     "metadata": {},
     "output_type": "execute_result"
    }
   ],
   "source": [
    "os.listdir()"
   ]
  },
  {
   "cell_type": "code",
   "execution_count": 68,
   "id": "9eda6119",
   "metadata": {},
   "outputs": [],
   "source": [
    "os.rmdir(\"prueba_os\")   "
   ]
  },
  {
   "cell_type": "code",
   "execution_count": 69,
   "id": "bec966f4",
   "metadata": {},
   "outputs": [
    {
     "data": {
      "text/plain": [
       "['13.lectura_escritura_ficheros.ipynb',\n",
       " '14.programación_orientada_objetos.ipynb',\n",
       " 'Ana.txt',\n",
       " 'ejemplo_1.txt',\n",
       " 'ejemplo_2.txt',\n",
       " 'ejemplo_binario.pkl']"
      ]
     },
     "execution_count": 69,
     "metadata": {},
     "output_type": "execute_result"
    }
   ],
   "source": [
    "os.listdir()"
   ]
  },
  {
   "cell_type": "code",
   "execution_count": 70,
   "id": "67c19c7a",
   "metadata": {},
   "outputs": [],
   "source": [
    "os.rename(\"Ana.txt\", \"prueba_rename.txt\")"
   ]
  },
  {
   "cell_type": "code",
   "execution_count": 71,
   "id": "e65f28a6",
   "metadata": {},
   "outputs": [
    {
     "data": {
      "text/plain": [
       "['13.lectura_escritura_ficheros.ipynb',\n",
       " '14.programación_orientada_objetos.ipynb',\n",
       " 'ejemplo_1.txt',\n",
       " 'ejemplo_2.txt',\n",
       " 'ejemplo_binario.pkl',\n",
       " 'prueba_rename.txt']"
      ]
     },
     "execution_count": 71,
     "metadata": {},
     "output_type": "execute_result"
    }
   ],
   "source": [
    "os.listdir()"
   ]
  },
  {
   "cell_type": "code",
   "execution_count": 74,
   "id": "c7383233",
   "metadata": {},
   "outputs": [
    {
     "data": {
      "text/plain": [
       "os.stat_result(st_mode=33206, st_ino=11258999068474375, st_dev=3970291590, st_nlink=1, st_uid=0, st_gid=0, st_size=183, st_atime=1695315727, st_mtime=1695312323, st_ctime=1695312852)"
      ]
     },
     "execution_count": 74,
     "metadata": {},
     "output_type": "execute_result"
    }
   ],
   "source": [
    "os.stat(\"ejemplo_1.txt\")"
   ]
  },
  {
   "cell_type": "code",
   "execution_count": null,
   "id": "e3bceaf4",
   "metadata": {},
   "outputs": [],
   "source": [
    "################################################################################################################################"
   ]
  }
 ],
 "metadata": {
  "kernelspec": {
   "display_name": "Python 3 (ipykernel)",
   "language": "python",
   "name": "python3"
  },
  "language_info": {
   "codemirror_mode": {
    "name": "ipython",
    "version": 3
   },
   "file_extension": ".py",
   "mimetype": "text/x-python",
   "name": "python",
   "nbconvert_exporter": "python",
   "pygments_lexer": "ipython3",
   "version": "3.11.4"
  }
 },
 "nbformat": 4,
 "nbformat_minor": 5
}
