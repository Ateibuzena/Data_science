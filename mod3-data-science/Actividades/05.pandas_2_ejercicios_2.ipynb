{
 "cells": [
  {
   "cell_type": "markdown",
   "id": "c0dfa3ba",
   "metadata": {},
   "source": [
    "## Ejercicio pandas 2"
   ]
  },
  {
   "cell_type": "code",
   "execution_count": 1,
   "id": "a48526c3",
   "metadata": {},
   "outputs": [],
   "source": [
    "import numpy as np\n",
    "import pandas as pd\n",
    "import warnings\n",
    "warnings.filterwarnings('ignore')  # para quitar warnings"
   ]
  },
  {
   "cell_type": "markdown",
   "id": "b4b00b26",
   "metadata": {},
   "source": [
    "### Ejercicio 0:\n",
    "- Carga ambos archivos **`titanic_1.csv`** y **`titanic_2.csv`** y guardalos en **`df1`** y **`df2`** respectivamente:"
   ]
  },
  {
   "cell_type": "code",
   "execution_count": 2,
   "id": "3395863d",
   "metadata": {},
   "outputs": [],
   "source": [
    "df1 = pd.read_csv(\"../data/titanic_1.csv\")\n",
    "df2 = pd.read_csv(\"../data/titanic_2.csv\")"
   ]
  },
  {
   "cell_type": "markdown",
   "id": "69fdda19",
   "metadata": {},
   "source": [
    "### Ejercicio 1:\n",
    "- Mostrar las estadisticas de cada uno de los DataFrames."
   ]
  },
  {
   "cell_type": "code",
   "execution_count": 3,
   "id": "700ec390",
   "metadata": {},
   "outputs": [],
   "source": [
    "estadisticasdf1 = df1.describe()\n",
    "estadisticasdf2 = df2.describe()"
   ]
  },
  {
   "cell_type": "code",
   "execution_count": 4,
   "id": "f21f443c",
   "metadata": {},
   "outputs": [
    {
     "name": "stdout",
     "output_type": "stream",
     "text": [
      "       PassengerId         Age\n",
      "count   891.000000  714.000000\n",
      "mean    446.000000   29.699118\n",
      "std     257.353842   14.526497\n",
      "min       1.000000    0.420000\n",
      "25%     223.500000   20.125000\n",
      "50%     446.000000   28.000000\n",
      "75%     668.500000   38.000000\n",
      "max     891.000000   80.000000\n"
     ]
    }
   ],
   "source": [
    "print(estadisticasdf1)"
   ]
  },
  {
   "cell_type": "markdown",
   "id": "75bb80b3",
   "metadata": {},
   "source": [
    "### Ejercicio 2:\n",
    "- Unir los DataFrames para obtener solo uno."
   ]
  },
  {
   "cell_type": "markdown",
   "id": "6979899e",
   "metadata": {},
   "source": [
    "CON MERGE!!!!!"
   ]
  },
  {
   "cell_type": "code",
   "execution_count": 5,
   "id": "41f6d33f",
   "metadata": {},
   "outputs": [],
   "source": [
    "finaldf = pd.concat([df1, df2], axis = 1) #axis = 1 pegara de forma horizontal"
   ]
  },
  {
   "cell_type": "code",
   "execution_count": 6,
   "id": "ac4e3205",
   "metadata": {},
   "outputs": [
    {
     "data": {
      "text/html": [
       "<div>\n",
       "<style scoped>\n",
       "    .dataframe tbody tr th:only-of-type {\n",
       "        vertical-align: middle;\n",
       "    }\n",
       "\n",
       "    .dataframe tbody tr th {\n",
       "        vertical-align: top;\n",
       "    }\n",
       "\n",
       "    .dataframe thead th {\n",
       "        text-align: right;\n",
       "    }\n",
       "</style>\n",
       "<table border=\"1\" class=\"dataframe\">\n",
       "  <thead>\n",
       "    <tr style=\"text-align: right;\">\n",
       "      <th></th>\n",
       "      <th>PassengerId</th>\n",
       "      <th>Name</th>\n",
       "      <th>Sex</th>\n",
       "      <th>Age</th>\n",
       "      <th>PassengerId</th>\n",
       "      <th>Survived</th>\n",
       "      <th>Pclass</th>\n",
       "      <th>Ticket</th>\n",
       "      <th>Fare</th>\n",
       "    </tr>\n",
       "  </thead>\n",
       "  <tbody>\n",
       "    <tr>\n",
       "      <th>0</th>\n",
       "      <td>1</td>\n",
       "      <td>Braund, Mr. Owen Harris</td>\n",
       "      <td>male</td>\n",
       "      <td>22.0</td>\n",
       "      <td>1</td>\n",
       "      <td>0</td>\n",
       "      <td>3</td>\n",
       "      <td>A/5 21171</td>\n",
       "      <td>7.2500</td>\n",
       "    </tr>\n",
       "    <tr>\n",
       "      <th>1</th>\n",
       "      <td>2</td>\n",
       "      <td>Cumings, Mrs. John Bradley (Florence Briggs Th...</td>\n",
       "      <td>female</td>\n",
       "      <td>38.0</td>\n",
       "      <td>2</td>\n",
       "      <td>1</td>\n",
       "      <td>1</td>\n",
       "      <td>PC 17599</td>\n",
       "      <td>71.2833</td>\n",
       "    </tr>\n",
       "    <tr>\n",
       "      <th>2</th>\n",
       "      <td>3</td>\n",
       "      <td>Heikkinen, Miss. Laina</td>\n",
       "      <td>female</td>\n",
       "      <td>26.0</td>\n",
       "      <td>3</td>\n",
       "      <td>1</td>\n",
       "      <td>3</td>\n",
       "      <td>STON/O2. 3101282</td>\n",
       "      <td>7.9250</td>\n",
       "    </tr>\n",
       "    <tr>\n",
       "      <th>3</th>\n",
       "      <td>4</td>\n",
       "      <td>Futrelle, Mrs. Jacques Heath (Lily May Peel)</td>\n",
       "      <td>female</td>\n",
       "      <td>35.0</td>\n",
       "      <td>4</td>\n",
       "      <td>1</td>\n",
       "      <td>1</td>\n",
       "      <td>113803</td>\n",
       "      <td>53.1000</td>\n",
       "    </tr>\n",
       "    <tr>\n",
       "      <th>4</th>\n",
       "      <td>5</td>\n",
       "      <td>Allen, Mr. William Henry</td>\n",
       "      <td>male</td>\n",
       "      <td>35.0</td>\n",
       "      <td>5</td>\n",
       "      <td>0</td>\n",
       "      <td>3</td>\n",
       "      <td>373450</td>\n",
       "      <td>8.0500</td>\n",
       "    </tr>\n",
       "    <tr>\n",
       "      <th>...</th>\n",
       "      <td>...</td>\n",
       "      <td>...</td>\n",
       "      <td>...</td>\n",
       "      <td>...</td>\n",
       "      <td>...</td>\n",
       "      <td>...</td>\n",
       "      <td>...</td>\n",
       "      <td>...</td>\n",
       "      <td>...</td>\n",
       "    </tr>\n",
       "    <tr>\n",
       "      <th>886</th>\n",
       "      <td>887</td>\n",
       "      <td>Montvila, Rev. Juozas</td>\n",
       "      <td>male</td>\n",
       "      <td>27.0</td>\n",
       "      <td>887</td>\n",
       "      <td>0</td>\n",
       "      <td>2</td>\n",
       "      <td>211536</td>\n",
       "      <td>13.0000</td>\n",
       "    </tr>\n",
       "    <tr>\n",
       "      <th>887</th>\n",
       "      <td>888</td>\n",
       "      <td>Graham, Miss. Margaret Edith</td>\n",
       "      <td>female</td>\n",
       "      <td>19.0</td>\n",
       "      <td>888</td>\n",
       "      <td>1</td>\n",
       "      <td>1</td>\n",
       "      <td>112053</td>\n",
       "      <td>30.0000</td>\n",
       "    </tr>\n",
       "    <tr>\n",
       "      <th>888</th>\n",
       "      <td>889</td>\n",
       "      <td>Johnston, Miss. Catherine Helen \"Carrie\"</td>\n",
       "      <td>female</td>\n",
       "      <td>NaN</td>\n",
       "      <td>889</td>\n",
       "      <td>0</td>\n",
       "      <td>3</td>\n",
       "      <td>W./C. 6607</td>\n",
       "      <td>23.4500</td>\n",
       "    </tr>\n",
       "    <tr>\n",
       "      <th>889</th>\n",
       "      <td>890</td>\n",
       "      <td>Behr, Mr. Karl Howell</td>\n",
       "      <td>male</td>\n",
       "      <td>26.0</td>\n",
       "      <td>890</td>\n",
       "      <td>1</td>\n",
       "      <td>1</td>\n",
       "      <td>111369</td>\n",
       "      <td>30.0000</td>\n",
       "    </tr>\n",
       "    <tr>\n",
       "      <th>890</th>\n",
       "      <td>891</td>\n",
       "      <td>Dooley, Mr. Patrick</td>\n",
       "      <td>male</td>\n",
       "      <td>32.0</td>\n",
       "      <td>891</td>\n",
       "      <td>0</td>\n",
       "      <td>3</td>\n",
       "      <td>370376</td>\n",
       "      <td>7.7500</td>\n",
       "    </tr>\n",
       "  </tbody>\n",
       "</table>\n",
       "<p>891 rows × 9 columns</p>\n",
       "</div>"
      ],
      "text/plain": [
       "     PassengerId                                               Name     Sex  \\\n",
       "0              1                            Braund, Mr. Owen Harris    male   \n",
       "1              2  Cumings, Mrs. John Bradley (Florence Briggs Th...  female   \n",
       "2              3                             Heikkinen, Miss. Laina  female   \n",
       "3              4       Futrelle, Mrs. Jacques Heath (Lily May Peel)  female   \n",
       "4              5                           Allen, Mr. William Henry    male   \n",
       "..           ...                                                ...     ...   \n",
       "886          887                              Montvila, Rev. Juozas    male   \n",
       "887          888                       Graham, Miss. Margaret Edith  female   \n",
       "888          889           Johnston, Miss. Catherine Helen \"Carrie\"  female   \n",
       "889          890                              Behr, Mr. Karl Howell    male   \n",
       "890          891                                Dooley, Mr. Patrick    male   \n",
       "\n",
       "      Age  PassengerId  Survived  Pclass            Ticket     Fare  \n",
       "0    22.0            1         0       3         A/5 21171   7.2500  \n",
       "1    38.0            2         1       1          PC 17599  71.2833  \n",
       "2    26.0            3         1       3  STON/O2. 3101282   7.9250  \n",
       "3    35.0            4         1       1            113803  53.1000  \n",
       "4    35.0            5         0       3            373450   8.0500  \n",
       "..    ...          ...       ...     ...               ...      ...  \n",
       "886  27.0          887         0       2            211536  13.0000  \n",
       "887  19.0          888         1       1            112053  30.0000  \n",
       "888   NaN          889         0       3        W./C. 6607  23.4500  \n",
       "889  26.0          890         1       1            111369  30.0000  \n",
       "890  32.0          891         0       3            370376   7.7500  \n",
       "\n",
       "[891 rows x 9 columns]"
      ]
     },
     "execution_count": 6,
     "metadata": {},
     "output_type": "execute_result"
    }
   ],
   "source": [
    "finaldf"
   ]
  },
  {
   "cell_type": "markdown",
   "id": "606daf44",
   "metadata": {},
   "source": [
    "### Ejercicio 3:\n",
    "- Imprimir las últimas 5 filas de las columnas de nombre y edad"
   ]
  },
  {
   "cell_type": "code",
   "execution_count": 7,
   "id": "5dbe3ccb",
   "metadata": {},
   "outputs": [
    {
     "data": {
      "text/plain": [
       "Index(['PassengerId', 'Name', 'Sex', 'Age', 'PassengerId', 'Survived',\n",
       "       'Pclass', 'Ticket', 'Fare'],\n",
       "      dtype='object')"
      ]
     },
     "execution_count": 7,
     "metadata": {},
     "output_type": "execute_result"
    }
   ],
   "source": [
    "finaldf.columns"
   ]
  },
  {
   "cell_type": "code",
   "execution_count": 8,
   "id": "b1a68577",
   "metadata": {},
   "outputs": [
    {
     "data": {
      "text/plain": [
       "0                                Braund, Mr. Owen Harris\n",
       "1      Cumings, Mrs. John Bradley (Florence Briggs Th...\n",
       "2                                 Heikkinen, Miss. Laina\n",
       "3           Futrelle, Mrs. Jacques Heath (Lily May Peel)\n",
       "4                               Allen, Mr. William Henry\n",
       "                             ...                        \n",
       "886                                Montvila, Rev. Juozas\n",
       "887                         Graham, Miss. Margaret Edith\n",
       "888             Johnston, Miss. Catherine Helen \"Carrie\"\n",
       "889                                Behr, Mr. Karl Howell\n",
       "890                                  Dooley, Mr. Patrick\n",
       "Name: Name, Length: 891, dtype: object"
      ]
     },
     "execution_count": 8,
     "metadata": {},
     "output_type": "execute_result"
    }
   ],
   "source": [
    "finaldf[\"Name\"]"
   ]
  },
  {
   "cell_type": "code",
   "execution_count": 9,
   "id": "1ac48459",
   "metadata": {},
   "outputs": [
    {
     "data": {
      "text/plain": [
       "0      22.0\n",
       "1      38.0\n",
       "2      26.0\n",
       "3      35.0\n",
       "4      35.0\n",
       "       ... \n",
       "886    27.0\n",
       "887    19.0\n",
       "888     NaN\n",
       "889    26.0\n",
       "890    32.0\n",
       "Name: Age, Length: 891, dtype: float64"
      ]
     },
     "execution_count": 9,
     "metadata": {},
     "output_type": "execute_result"
    }
   ],
   "source": [
    "finaldf.Age"
   ]
  },
  {
   "cell_type": "code",
   "execution_count": 10,
   "id": "bc29460c",
   "metadata": {},
   "outputs": [
    {
     "data": {
      "text/html": [
       "<div>\n",
       "<style scoped>\n",
       "    .dataframe tbody tr th:only-of-type {\n",
       "        vertical-align: middle;\n",
       "    }\n",
       "\n",
       "    .dataframe tbody tr th {\n",
       "        vertical-align: top;\n",
       "    }\n",
       "\n",
       "    .dataframe thead th {\n",
       "        text-align: right;\n",
       "    }\n",
       "</style>\n",
       "<table border=\"1\" class=\"dataframe\">\n",
       "  <thead>\n",
       "    <tr style=\"text-align: right;\">\n",
       "      <th></th>\n",
       "      <th>Name</th>\n",
       "      <th>Age</th>\n",
       "    </tr>\n",
       "  </thead>\n",
       "  <tbody>\n",
       "    <tr>\n",
       "      <th>885</th>\n",
       "      <td>Rice, Mrs. William (Margaret Norton)</td>\n",
       "      <td>39.0</td>\n",
       "    </tr>\n",
       "    <tr>\n",
       "      <th>886</th>\n",
       "      <td>Montvila, Rev. Juozas</td>\n",
       "      <td>27.0</td>\n",
       "    </tr>\n",
       "    <tr>\n",
       "      <th>887</th>\n",
       "      <td>Graham, Miss. Margaret Edith</td>\n",
       "      <td>19.0</td>\n",
       "    </tr>\n",
       "    <tr>\n",
       "      <th>888</th>\n",
       "      <td>Johnston, Miss. Catherine Helen \"Carrie\"</td>\n",
       "      <td>NaN</td>\n",
       "    </tr>\n",
       "    <tr>\n",
       "      <th>889</th>\n",
       "      <td>Behr, Mr. Karl Howell</td>\n",
       "      <td>26.0</td>\n",
       "    </tr>\n",
       "  </tbody>\n",
       "</table>\n",
       "</div>"
      ],
      "text/plain": [
       "                                         Name   Age\n",
       "885      Rice, Mrs. William (Margaret Norton)  39.0\n",
       "886                     Montvila, Rev. Juozas  27.0\n",
       "887              Graham, Miss. Margaret Edith  19.0\n",
       "888  Johnston, Miss. Catherine Helen \"Carrie\"   NaN\n",
       "889                     Behr, Mr. Karl Howell  26.0"
      ]
     },
     "execution_count": 10,
     "metadata": {},
     "output_type": "execute_result"
    }
   ],
   "source": [
    "finaldf[885:890][[\"Name\", \"Age\"]]"
   ]
  },
  {
   "cell_type": "markdown",
   "id": "f8e06689",
   "metadata": {},
   "source": [
    "### Ejercicio 4:\n",
    "- Imprimir las primeras 10 filas de las instancias que en sexo sean igual a femenino."
   ]
  },
  {
   "cell_type": "code",
   "execution_count": 11,
   "id": "6558bf13",
   "metadata": {},
   "outputs": [
    {
     "data": {
      "text/html": [
       "<div>\n",
       "<style scoped>\n",
       "    .dataframe tbody tr th:only-of-type {\n",
       "        vertical-align: middle;\n",
       "    }\n",
       "\n",
       "    .dataframe tbody tr th {\n",
       "        vertical-align: top;\n",
       "    }\n",
       "\n",
       "    .dataframe thead th {\n",
       "        text-align: right;\n",
       "    }\n",
       "</style>\n",
       "<table border=\"1\" class=\"dataframe\">\n",
       "  <thead>\n",
       "    <tr style=\"text-align: right;\">\n",
       "      <th></th>\n",
       "      <th>PassengerId</th>\n",
       "      <th>Name</th>\n",
       "      <th>Sex</th>\n",
       "      <th>Age</th>\n",
       "      <th>PassengerId</th>\n",
       "      <th>Survived</th>\n",
       "      <th>Pclass</th>\n",
       "      <th>Ticket</th>\n",
       "      <th>Fare</th>\n",
       "    </tr>\n",
       "  </thead>\n",
       "  <tbody>\n",
       "    <tr>\n",
       "      <th>1</th>\n",
       "      <td>2</td>\n",
       "      <td>Cumings, Mrs. John Bradley (Florence Briggs Th...</td>\n",
       "      <td>female</td>\n",
       "      <td>38.0</td>\n",
       "      <td>2</td>\n",
       "      <td>1</td>\n",
       "      <td>1</td>\n",
       "      <td>PC 17599</td>\n",
       "      <td>71.2833</td>\n",
       "    </tr>\n",
       "    <tr>\n",
       "      <th>2</th>\n",
       "      <td>3</td>\n",
       "      <td>Heikkinen, Miss. Laina</td>\n",
       "      <td>female</td>\n",
       "      <td>26.0</td>\n",
       "      <td>3</td>\n",
       "      <td>1</td>\n",
       "      <td>3</td>\n",
       "      <td>STON/O2. 3101282</td>\n",
       "      <td>7.9250</td>\n",
       "    </tr>\n",
       "    <tr>\n",
       "      <th>3</th>\n",
       "      <td>4</td>\n",
       "      <td>Futrelle, Mrs. Jacques Heath (Lily May Peel)</td>\n",
       "      <td>female</td>\n",
       "      <td>35.0</td>\n",
       "      <td>4</td>\n",
       "      <td>1</td>\n",
       "      <td>1</td>\n",
       "      <td>113803</td>\n",
       "      <td>53.1000</td>\n",
       "    </tr>\n",
       "    <tr>\n",
       "      <th>8</th>\n",
       "      <td>9</td>\n",
       "      <td>Johnson, Mrs. Oscar W (Elisabeth Vilhelmina Berg)</td>\n",
       "      <td>female</td>\n",
       "      <td>27.0</td>\n",
       "      <td>9</td>\n",
       "      <td>1</td>\n",
       "      <td>3</td>\n",
       "      <td>347742</td>\n",
       "      <td>11.1333</td>\n",
       "    </tr>\n",
       "    <tr>\n",
       "      <th>9</th>\n",
       "      <td>10</td>\n",
       "      <td>Nasser, Mrs. Nicholas (Adele Achem)</td>\n",
       "      <td>female</td>\n",
       "      <td>14.0</td>\n",
       "      <td>10</td>\n",
       "      <td>1</td>\n",
       "      <td>2</td>\n",
       "      <td>237736</td>\n",
       "      <td>30.0708</td>\n",
       "    </tr>\n",
       "    <tr>\n",
       "      <th>10</th>\n",
       "      <td>11</td>\n",
       "      <td>Sandstrom, Miss. Marguerite Rut</td>\n",
       "      <td>female</td>\n",
       "      <td>4.0</td>\n",
       "      <td>11</td>\n",
       "      <td>1</td>\n",
       "      <td>3</td>\n",
       "      <td>PP 9549</td>\n",
       "      <td>16.7000</td>\n",
       "    </tr>\n",
       "    <tr>\n",
       "      <th>11</th>\n",
       "      <td>12</td>\n",
       "      <td>Bonnell, Miss. Elizabeth</td>\n",
       "      <td>female</td>\n",
       "      <td>58.0</td>\n",
       "      <td>12</td>\n",
       "      <td>1</td>\n",
       "      <td>1</td>\n",
       "      <td>113783</td>\n",
       "      <td>26.5500</td>\n",
       "    </tr>\n",
       "    <tr>\n",
       "      <th>14</th>\n",
       "      <td>15</td>\n",
       "      <td>Vestrom, Miss. Hulda Amanda Adolfina</td>\n",
       "      <td>female</td>\n",
       "      <td>14.0</td>\n",
       "      <td>15</td>\n",
       "      <td>0</td>\n",
       "      <td>3</td>\n",
       "      <td>350406</td>\n",
       "      <td>7.8542</td>\n",
       "    </tr>\n",
       "    <tr>\n",
       "      <th>15</th>\n",
       "      <td>16</td>\n",
       "      <td>Hewlett, Mrs. (Mary D Kingcome)</td>\n",
       "      <td>female</td>\n",
       "      <td>55.0</td>\n",
       "      <td>16</td>\n",
       "      <td>1</td>\n",
       "      <td>2</td>\n",
       "      <td>248706</td>\n",
       "      <td>16.0000</td>\n",
       "    </tr>\n",
       "    <tr>\n",
       "      <th>18</th>\n",
       "      <td>19</td>\n",
       "      <td>Vander Planke, Mrs. Julius (Emelia Maria Vande...</td>\n",
       "      <td>female</td>\n",
       "      <td>31.0</td>\n",
       "      <td>19</td>\n",
       "      <td>0</td>\n",
       "      <td>3</td>\n",
       "      <td>345763</td>\n",
       "      <td>18.0000</td>\n",
       "    </tr>\n",
       "  </tbody>\n",
       "</table>\n",
       "</div>"
      ],
      "text/plain": [
       "    PassengerId                                               Name     Sex  \\\n",
       "1             2  Cumings, Mrs. John Bradley (Florence Briggs Th...  female   \n",
       "2             3                             Heikkinen, Miss. Laina  female   \n",
       "3             4       Futrelle, Mrs. Jacques Heath (Lily May Peel)  female   \n",
       "8             9  Johnson, Mrs. Oscar W (Elisabeth Vilhelmina Berg)  female   \n",
       "9            10                Nasser, Mrs. Nicholas (Adele Achem)  female   \n",
       "10           11                    Sandstrom, Miss. Marguerite Rut  female   \n",
       "11           12                           Bonnell, Miss. Elizabeth  female   \n",
       "14           15               Vestrom, Miss. Hulda Amanda Adolfina  female   \n",
       "15           16                   Hewlett, Mrs. (Mary D Kingcome)   female   \n",
       "18           19  Vander Planke, Mrs. Julius (Emelia Maria Vande...  female   \n",
       "\n",
       "     Age  PassengerId  Survived  Pclass            Ticket     Fare  \n",
       "1   38.0            2         1       1          PC 17599  71.2833  \n",
       "2   26.0            3         1       3  STON/O2. 3101282   7.9250  \n",
       "3   35.0            4         1       1            113803  53.1000  \n",
       "8   27.0            9         1       3            347742  11.1333  \n",
       "9   14.0           10         1       2            237736  30.0708  \n",
       "10   4.0           11         1       3           PP 9549  16.7000  \n",
       "11  58.0           12         1       1            113783  26.5500  \n",
       "14  14.0           15         0       3            350406   7.8542  \n",
       "15  55.0           16         1       2            248706  16.0000  \n",
       "18  31.0           19         0       3            345763  18.0000  "
      ]
     },
     "execution_count": 11,
     "metadata": {},
     "output_type": "execute_result"
    }
   ],
   "source": [
    "finaldf[finaldf[\"Sex\"] == \"female\"].head(10)"
   ]
  },
  {
   "cell_type": "markdown",
   "id": "e534d75e",
   "metadata": {},
   "source": [
    "### Ejercicio 5:\n",
    "- Imprimir las instancias que en la columna **`Fare`** sean menor a 33 y en la columna **`Pclass`** igual a 2."
   ]
  },
  {
   "cell_type": "code",
   "execution_count": 12,
   "id": "0db7aad9",
   "metadata": {},
   "outputs": [
    {
     "data": {
      "text/html": [
       "<div>\n",
       "<style scoped>\n",
       "    .dataframe tbody tr th:only-of-type {\n",
       "        vertical-align: middle;\n",
       "    }\n",
       "\n",
       "    .dataframe tbody tr th {\n",
       "        vertical-align: top;\n",
       "    }\n",
       "\n",
       "    .dataframe thead th {\n",
       "        text-align: right;\n",
       "    }\n",
       "</style>\n",
       "<table border=\"1\" class=\"dataframe\">\n",
       "  <thead>\n",
       "    <tr style=\"text-align: right;\">\n",
       "      <th></th>\n",
       "      <th>PassengerId</th>\n",
       "      <th>Name</th>\n",
       "      <th>Sex</th>\n",
       "      <th>Age</th>\n",
       "      <th>PassengerId</th>\n",
       "      <th>Survived</th>\n",
       "      <th>Pclass</th>\n",
       "      <th>Ticket</th>\n",
       "      <th>Fare</th>\n",
       "    </tr>\n",
       "  </thead>\n",
       "  <tbody>\n",
       "    <tr>\n",
       "      <th>9</th>\n",
       "      <td>10</td>\n",
       "      <td>Nasser, Mrs. Nicholas (Adele Achem)</td>\n",
       "      <td>female</td>\n",
       "      <td>14.0</td>\n",
       "      <td>10</td>\n",
       "      <td>1</td>\n",
       "      <td>2</td>\n",
       "      <td>237736</td>\n",
       "      <td>30.0708</td>\n",
       "    </tr>\n",
       "    <tr>\n",
       "      <th>15</th>\n",
       "      <td>16</td>\n",
       "      <td>Hewlett, Mrs. (Mary D Kingcome)</td>\n",
       "      <td>female</td>\n",
       "      <td>55.0</td>\n",
       "      <td>16</td>\n",
       "      <td>1</td>\n",
       "      <td>2</td>\n",
       "      <td>248706</td>\n",
       "      <td>16.0000</td>\n",
       "    </tr>\n",
       "    <tr>\n",
       "      <th>17</th>\n",
       "      <td>18</td>\n",
       "      <td>Williams, Mr. Charles Eugene</td>\n",
       "      <td>male</td>\n",
       "      <td>NaN</td>\n",
       "      <td>18</td>\n",
       "      <td>1</td>\n",
       "      <td>2</td>\n",
       "      <td>244373</td>\n",
       "      <td>13.0000</td>\n",
       "    </tr>\n",
       "    <tr>\n",
       "      <th>20</th>\n",
       "      <td>21</td>\n",
       "      <td>Fynney, Mr. Joseph J</td>\n",
       "      <td>male</td>\n",
       "      <td>35.0</td>\n",
       "      <td>21</td>\n",
       "      <td>0</td>\n",
       "      <td>2</td>\n",
       "      <td>239865</td>\n",
       "      <td>26.0000</td>\n",
       "    </tr>\n",
       "    <tr>\n",
       "      <th>21</th>\n",
       "      <td>22</td>\n",
       "      <td>Beesley, Mr. Lawrence</td>\n",
       "      <td>male</td>\n",
       "      <td>34.0</td>\n",
       "      <td>22</td>\n",
       "      <td>1</td>\n",
       "      <td>2</td>\n",
       "      <td>248698</td>\n",
       "      <td>13.0000</td>\n",
       "    </tr>\n",
       "    <tr>\n",
       "      <th>...</th>\n",
       "      <td>...</td>\n",
       "      <td>...</td>\n",
       "      <td>...</td>\n",
       "      <td>...</td>\n",
       "      <td>...</td>\n",
       "      <td>...</td>\n",
       "      <td>...</td>\n",
       "      <td>...</td>\n",
       "      <td>...</td>\n",
       "    </tr>\n",
       "    <tr>\n",
       "      <th>866</th>\n",
       "      <td>867</td>\n",
       "      <td>Duran y More, Miss. Asuncion</td>\n",
       "      <td>female</td>\n",
       "      <td>27.0</td>\n",
       "      <td>867</td>\n",
       "      <td>1</td>\n",
       "      <td>2</td>\n",
       "      <td>SC/PARIS 2149</td>\n",
       "      <td>13.8583</td>\n",
       "    </tr>\n",
       "    <tr>\n",
       "      <th>874</th>\n",
       "      <td>875</td>\n",
       "      <td>Abelson, Mrs. Samuel (Hannah Wizosky)</td>\n",
       "      <td>female</td>\n",
       "      <td>28.0</td>\n",
       "      <td>875</td>\n",
       "      <td>1</td>\n",
       "      <td>2</td>\n",
       "      <td>P/PP 3381</td>\n",
       "      <td>24.0000</td>\n",
       "    </tr>\n",
       "    <tr>\n",
       "      <th>880</th>\n",
       "      <td>881</td>\n",
       "      <td>Shelley, Mrs. William (Imanita Parrish Hall)</td>\n",
       "      <td>female</td>\n",
       "      <td>25.0</td>\n",
       "      <td>881</td>\n",
       "      <td>1</td>\n",
       "      <td>2</td>\n",
       "      <td>230433</td>\n",
       "      <td>26.0000</td>\n",
       "    </tr>\n",
       "    <tr>\n",
       "      <th>883</th>\n",
       "      <td>884</td>\n",
       "      <td>Banfield, Mr. Frederick James</td>\n",
       "      <td>male</td>\n",
       "      <td>28.0</td>\n",
       "      <td>884</td>\n",
       "      <td>0</td>\n",
       "      <td>2</td>\n",
       "      <td>C.A./SOTON 34068</td>\n",
       "      <td>10.5000</td>\n",
       "    </tr>\n",
       "    <tr>\n",
       "      <th>886</th>\n",
       "      <td>887</td>\n",
       "      <td>Montvila, Rev. Juozas</td>\n",
       "      <td>male</td>\n",
       "      <td>27.0</td>\n",
       "      <td>887</td>\n",
       "      <td>0</td>\n",
       "      <td>2</td>\n",
       "      <td>211536</td>\n",
       "      <td>13.0000</td>\n",
       "    </tr>\n",
       "  </tbody>\n",
       "</table>\n",
       "<p>163 rows × 9 columns</p>\n",
       "</div>"
      ],
      "text/plain": [
       "     PassengerId                                          Name     Sex   Age  \\\n",
       "9             10           Nasser, Mrs. Nicholas (Adele Achem)  female  14.0   \n",
       "15            16              Hewlett, Mrs. (Mary D Kingcome)   female  55.0   \n",
       "17            18                  Williams, Mr. Charles Eugene    male   NaN   \n",
       "20            21                          Fynney, Mr. Joseph J    male  35.0   \n",
       "21            22                         Beesley, Mr. Lawrence    male  34.0   \n",
       "..           ...                                           ...     ...   ...   \n",
       "866          867                  Duran y More, Miss. Asuncion  female  27.0   \n",
       "874          875         Abelson, Mrs. Samuel (Hannah Wizosky)  female  28.0   \n",
       "880          881  Shelley, Mrs. William (Imanita Parrish Hall)  female  25.0   \n",
       "883          884                 Banfield, Mr. Frederick James    male  28.0   \n",
       "886          887                         Montvila, Rev. Juozas    male  27.0   \n",
       "\n",
       "     PassengerId  Survived  Pclass            Ticket     Fare  \n",
       "9             10         1       2            237736  30.0708  \n",
       "15            16         1       2            248706  16.0000  \n",
       "17            18         1       2            244373  13.0000  \n",
       "20            21         0       2            239865  26.0000  \n",
       "21            22         1       2            248698  13.0000  \n",
       "..           ...       ...     ...               ...      ...  \n",
       "866          867         1       2     SC/PARIS 2149  13.8583  \n",
       "874          875         1       2         P/PP 3381  24.0000  \n",
       "880          881         1       2            230433  26.0000  \n",
       "883          884         0       2  C.A./SOTON 34068  10.5000  \n",
       "886          887         0       2            211536  13.0000  \n",
       "\n",
       "[163 rows x 9 columns]"
      ]
     },
     "execution_count": 12,
     "metadata": {},
     "output_type": "execute_result"
    }
   ],
   "source": [
    "finaldf[(finaldf[\"Fare\"] < 33) & (finaldf[\"Pclass\"] == 2)]"
   ]
  },
  {
   "cell_type": "markdown",
   "id": "6d002006",
   "metadata": {},
   "source": [
    "### Ejercicio 6:\n",
    "- Del resultado anterior obten el número de hombres y el número de mujeres."
   ]
  },
  {
   "cell_type": "code",
   "execution_count": 13,
   "id": "f854c556",
   "metadata": {},
   "outputs": [
    {
     "data": {
      "text/plain": [
       "male      95\n",
       "female    68\n",
       "Name: Sex, dtype: int64"
      ]
     },
     "execution_count": 13,
     "metadata": {},
     "output_type": "execute_result"
    }
   ],
   "source": [
    "finaldf[(finaldf[\"Fare\"] < 33) & (finaldf[\"Pclass\"] == 2)][\"Sex\"].value_counts()"
   ]
  },
  {
   "cell_type": "code",
   "execution_count": 14,
   "id": "51f1de2d",
   "metadata": {},
   "outputs": [],
   "source": [
    "mujeres = finaldf[(finaldf[\"Fare\"] < 33) & (finaldf[\"Pclass\"] == 2) & (finaldf[\"Sex\"] == \"female\")].shape[0]"
   ]
  },
  {
   "cell_type": "code",
   "execution_count": 15,
   "id": "3b46e2bf",
   "metadata": {},
   "outputs": [
    {
     "data": {
      "text/plain": [
       "68"
      ]
     },
     "execution_count": 15,
     "metadata": {},
     "output_type": "execute_result"
    }
   ],
   "source": [
    "mujeres"
   ]
  },
  {
   "cell_type": "code",
   "execution_count": 16,
   "id": "d3bc0489",
   "metadata": {},
   "outputs": [],
   "source": [
    "hombres = finaldf[(finaldf[\"Fare\"] < 33) & (finaldf[\"Pclass\"] == 2) & (finaldf[\"Sex\"] == \"male\")].shape"
   ]
  },
  {
   "cell_type": "code",
   "execution_count": 17,
   "id": "4a406dde",
   "metadata": {},
   "outputs": [
    {
     "data": {
      "text/plain": [
       "(95, 9)"
      ]
     },
     "execution_count": 17,
     "metadata": {},
     "output_type": "execute_result"
    }
   ],
   "source": [
    "hombres"
   ]
  },
  {
   "cell_type": "markdown",
   "id": "d80b4f7e",
   "metadata": {},
   "source": [
    "### Ejercicio 7:\n",
    "- Obten el costo total de los tickets de hombres y el costo total de los tickets de mujeres."
   ]
  },
  {
   "cell_type": "markdown",
   "id": "c99286fe",
   "metadata": {},
   "source": [
    "Puede que haya valores que NO son numéricos en la columna Ticket, so:\n",
    "pd.to_numeric(finaldf['Ticket'], errors='coerce')  Este código intenta convertir la columna \"Ticket\" a números. Si la conversión no es posible, se establecerá el valor como NaN debido al argumento errors='coerce'.\n",
    "Una vez convertidos en NaN podremos filtrar la columna Ticket donde los valores son NaN, restaurarla o eliminarlas.\n",
    "\n",
    "Un mejor método sería filtrar la columna Ticket donde los valores son ALFANUMERICOS, de esta manera:\n",
    "\n",
    "# Filtrar las filas donde el valor en la columna \"Ticket\" contiene valores con letras o con letras y numeros a la vez (pero no los valores que contienen numeros solamente)\n",
    "\n",
    "```python\n",
    "alfanumericos = finaldf[finaldf['Ticket'].str.match(r'^[a-zA-Z]+[a-zA-Z0-9]*$')]\n",
    "```\n",
    "La expresión regular \n",
    "```python \n",
    "(r'^[a-zA-Z]+[a-zA-Z0-9]*$') \n",
    "```\n",
    "busca cadenas que comiencen con una o más letras \n",
    "```python\n",
    "(^[a-zA-Z]+)\n",
    "``` \n",
    "seguidas opcionalmente por cero o más letras y/o números \n",
    "```python\n",
    "([a-zA-Z0-9]*$)\n",
    "```\n",
    "Esto garantiza que las cadenas contengan al menos una letra y pueden tener una combinación de letras y números después.\n",
    "\n",
    "#Si quisieramos las filas donde la columna \"Ticket\" contiene valores alfanumericos (letras, numeros o una combinacion de ambas): \n",
    "```python\n",
    "alfanumericos = finaldf[finaldf['Ticket'].str.match(r'^[a-zA-Z0-9]+$')]\n",
    "```\n",
    "\n",
    "***^*** indica el inicio de la cadena, ***$*** indica el final\n",
    "***+*** significa \"una o más veces\", lo que indica que el patrón anterior \n",
    "(en este caso, \n",
    "```python\n",
    "[a-zA-Z0-9]+$)\n",
    "``` \n",
    "debe aparecer al menos una vez en la cadena.\n",
    "***\"*\"*** significa \"cero o más veces\", lo que indica que el patrón anterior \n",
    "```python\n",
    "([a-zA-Z0-9]*$)\n",
    "``` \n",
    "puede aparecer cero veces o más en la cadena.\n",
    "\n",
    "Aqui: \n",
    "```python\n",
    "(r'^[a-zA-Z]+[a-zA-Z0-9]*$')\n",
    "``` \n",
    "estamos buscando cadenas que empiecen por letras y sigan con letras o numeros.\n",
    "Aqui: \n",
    "```python\n",
    "(r'^[a-zA-Z0-9]+$')\n",
    "``` \n",
    "estamos buscando cadenas que empiecen por letras, números u ambos."
   ]
  },
  {
   "cell_type": "code",
   "execution_count": 18,
   "id": "fa426cdd",
   "metadata": {},
   "outputs": [],
   "source": [
    "#Creamos una nueva columna \"Ticket_numeros\" para filtrar las filas donde el valor ticket es un numero, las que tengan otro tipo de valor le añadiremos \"NaN\":\n",
    "finaldf['Ticket_numeros'] = pd.to_numeric(finaldf['Ticket'], errors='coerce')\n",
    "# \"pd.to_numeric\" intentan convertir los valores de la columna Ticket en numeros.\n",
    "# \"errors = 'coerce' \" le dice a la función que si no lo consigue con un valor, lo convierta en NaN\n",
    "costofemale = finaldf[(finaldf['Ticket_numeros'].notna()) & (finaldf['Sex'] == 'female')][\"Ticket_numeros\"].sum()\n",
    "# \"notna()\" es una funcion que evita los NaNs, esta es la primera condición\n",
    "# La segunda condición es que el Sexo sea femenino.\n",
    "# la función \" sum() \" sumará los valores de la columna Ticket_numeros que cumplan esas condiciones.\n",
    "# Lo mismo con \"male\"\n",
    "costomale = finaldf[(finaldf[\"Ticket_numeros\"].notna()) & (finaldf[\"Sex\"] == \"male\")][\"Ticket_numeros\"].sum()"
   ]
  },
  {
   "cell_type": "code",
   "execution_count": 19,
   "id": "1a62954a",
   "metadata": {},
   "outputs": [],
   "source": [
    "# Eliminamos la columna que hemos creado para filtrar y sobreescribimos el dataframe para que quede como antes:\n",
    "finaldf.drop(columns=['Ticket_numeros'], inplace=True)"
   ]
  },
  {
   "cell_type": "code",
   "execution_count": 20,
   "id": "ca26b776",
   "metadata": {},
   "outputs": [
    {
     "data": {
      "text/plain": [
       "(55259323.0, 116811238.0)"
      ]
     },
     "execution_count": 20,
     "metadata": {},
     "output_type": "execute_result"
    }
   ],
   "source": [
    "costofemale, costomale"
   ]
  },
  {
   "cell_type": "markdown",
   "id": "de11e972",
   "metadata": {},
   "source": [
    "Esto sería lo que yo iba hacer antes de ponerme a investigar: \n",
    "Esto sumaría valores numéricos como no numéricos, y el resultado es ilegible.3"
   ]
  },
  {
   "cell_type": "code",
   "execution_count": 21,
   "id": "3db5791f",
   "metadata": {},
   "outputs": [],
   "source": [
    "costomale = finaldf[(finaldf[\"Sex\"] == \"male\")][\"Ticket\"].sum()\n",
    "costofemale = finaldf[(finaldf[\"Sex\"] == \"female\")][\"Ticket\"].sum()"
   ]
  },
  {
   "cell_type": "code",
   "execution_count": 22,
   "id": "75940d39",
   "metadata": {},
   "outputs": [
    {
     "name": "stdout",
     "output_type": "stream",
     "text": [
      "A/5 2117137345033087717463349909A/5. 2151347082382652244373239865248698113788263119950349216PC 17601C.A. 24579PC 176041137892677A./5. 2152349253S.C./A.4. 2356737037126623101295A/4. 39886113509199472697CA 2144266936973347088PC 176052661S.P. 3464315151C.A. 33111S.O.C. 1487926801601348123349208374746248738345767345779113059W./C. 6608SOTON/OQ 392086343275343276347466W.E.P. 5734C.A. 2315364500374910PC 17754PC 177592443673492153528175403101276349207312991349249110465324669STON/O 2. 310129437036911668PC 17558S.O.C. 14879A4. 54510237736352812651370372C 17369347061349241SOTON/O.Q. 3101307C.A. 29178SC/PARIS 21331138037534PC 17593365222231945C.A. 33112350043230080244310S.O.P. 1166A.5. 11206A/5. 851Fa 265302PC 17597SOTON/OQ 392090315037CA. 23433713623470683150933101295363291PC 173181601111240382652STON/O 2. 3101280177643504044133250653LINESC/PARIS 2131347077230136113767111428364849349247284242300803687034579345770CA. 234331012642628A/5 354031012782699112277SOTON/O.Q. 3101311A/5 21174250646367229243847W/C 14208SOTON/OQ 3920892203672144034923419943PP 4348SW/PP 751A/5 21173236171347067237442C.A. 295662670728665SCO/W 1585W./C. 14263STON/O 2. 310127526941992811751244252362316113514A/5. 3336384461347077110413112059C.A. 172483101295347083113798LINEPC 17596239853382652336439347464345778A/5. 10482113056349239345774349206237798SC/Paris 2163349233PC 17612269319988367226LINEA/5 2466113781P/PP 3381349243F.C.C. 1352929011A/5 21172349219CA. 2343345364113043PC 175823457643492251137767598113784230080248740244361229236C.A. 37671315088726711351026953492372647345783347088SC/PARIS 2167SOTON/O.Q. 3101310370365C 7076117653101267323951PC 177601135032648347069STON/O 2. 3101293349227S.O.C. 14879CA 2144367655113760350034310127735005228403244278STON/O 2. 3101289341826STON/O2. 31012792866434706429106312992349222394140239853STON/O 2. 310126928228349254A/5. 13032315082370129A/4. 34244364851SOTON/O.Q. 392078110564STON/O 2. 31012741350719950C.A. 187233457693470766530633638113794113786C.A. 346516530311305117453A/5 28173492401350937106019952364506111320234360A/S 2816SOTON/O.Q. 310130623985311379236209323592315089110465310273460350060CA 2144239854A/5 35941196711771A.5. 18509C.A. 3767165304SOTON/OQ 3101317113787PC 17609A/4 453802627C.A. 6212350035315086PC 17758111427C 40011601382651SOTON/OQ 3101316PC 174733492093696737111034924234925226242700367232PC 17483310129629104264126901130503644982908PC 17761693SC/PARIS 2146363291C.A. 33112174212443583309792620113807PC 17757372622349251218629SOTON/OQ 392082A/4 488713492052686350417S.W./PP 752PC 17474A/4. 20589358585STON/O 2. 3101286284031304934112375651356714973A./5. 3235STON/O 2. 3101273A/5 3902SC/AH 29037345773LINE2664PC 17485349214113796364511111426349910349246113804SOTON/O.Q. 310130537037736451234708031028265911753265335002954636369632195333492243349122704234774313214112052STON/O 2. 3101292C.A. 319213765643500501601PC 1757234923113213S.O./P.P. 7513492218475S.O.C. 148793492232975135273PC 1761126235727349210STON/O 2. 3101285S.O.C. 14879234686312993A/5 3536F.C. 12750C.A. 24580244270239856349912342826PC 17755PC 175726563CA 214429750SC/Paris 21233101295349228350036174741601267211380024873136359217421348121PC 1747536864350025250655PC 174762661113028199967545250647348124365683470623500481223325064311380631509423685326992398552842523363954636PC 177553492013492181698819877376566STON/O 2. 3101288WE/P 5735C.A. 267311377333509739209634578034920425064935004229108363294358585SOTON/O2 310127226633470741123793711108471345781350047267434707838312136865113501W./C. 6607SOTON/O.Q. 3101312374887382652C.A. 2315PC 1759312460239865PC 1760034920328213268525064711376026253470893470631120502487233474A/4 4887128206364499112058S.C./PARIS 2079C 70753470883150981997231012953683231601S.C./PARIS 20793672282910626713474682223315097392092160111774SOTON/O2 3101287S.O./P.P. 32683315090C.A. 5547CA. 2343349213248727347082347060113055262935002628134233866PC 175903457773477423492486953457657534349212349217349257C.A./SOTON 34068SOTON/OQ 392076211536111369370376\n"
     ]
    }
   ],
   "source": [
    "print(costomale)"
   ]
  },
  {
   "cell_type": "markdown",
   "id": "46387b3e",
   "metadata": {},
   "source": [
    "### Ejercicio 8:\n",
    "- Obten el costo total de los tickets por cada clase (1, 2 y 3) y el número de pasajeros de cada clase."
   ]
  },
  {
   "cell_type": "code",
   "execution_count": 23,
   "id": "47c5519f",
   "metadata": {},
   "outputs": [],
   "source": [
    "#Creamos una columna con los valores numéricos de la columna ticket y los que tengan otro tipo de valor serán NaNs\n",
    "finaldf[\"Ticket_numeros\"] = pd.to_numeric(finaldf['Ticket'], errors='coerce')"
   ]
  },
  {
   "cell_type": "code",
   "execution_count": 24,
   "id": "9fc59434",
   "metadata": {},
   "outputs": [],
   "source": [
    "costoclase1 = finaldf[(finaldf[\"Ticket_numeros\"].notna()) & (finaldf[\"Pclass\"] == 1)][\"Ticket_numeros\"].sum()\n",
    "costoclase2 = finaldf[(finaldf[\"Ticket_numeros\"].notna()) & (finaldf[\"Pclass\"] == 2)][\"Ticket_numeros\"].sum()\n",
    "costoclase3 = finaldf[(finaldf[\"Ticket_numeros\"].notna()) & (finaldf[\"Pclass\"] == 3)][\"Ticket_numeros\"].sum()\n",
    "pasajerosclase1 = finaldf[(finaldf[\"Ticket_numeros\"].notna()) & (finaldf[\"Pclass\"] == 1)][\"Pclass\"].sum()\n",
    "pasajerosclase2 = finaldf[(finaldf[\"Ticket_numeros\"].notna()) & (finaldf[\"Pclass\"] == 2)][\"Pclass\"].sum()\n",
    "pasajerosclase3 = finaldf[(finaldf[\"Ticket_numeros\"].notna()) & (finaldf[\"Pclass\"] == 3)][\"Pclass\"].sum()"
   ]
  },
  {
   "cell_type": "code",
   "execution_count": 25,
   "id": "ce87b8cd",
   "metadata": {},
   "outputs": [],
   "source": [
    "clase_1 = {pasajerosclase1 : costoclase1}\n",
    "clase_2 = {pasajerosclase2 : costoclase2}\n",
    "clase_3 = {pasajerosclase3 : costoclase3}"
   ]
  },
  {
   "cell_type": "code",
   "execution_count": 26,
   "id": "89cde504",
   "metadata": {},
   "outputs": [
    {
     "name": "stdout",
     "output_type": "stream",
     "text": [
      "{152: 9668033.0} {254: 21831792.0} {1146: 140570736.0}\n"
     ]
    }
   ],
   "source": [
    "print(clase_1,\n",
    "      clase_2,\n",
    "      clase_3)"
   ]
  },
  {
   "cell_type": "code",
   "execution_count": 27,
   "id": "1c3b6d34",
   "metadata": {},
   "outputs": [],
   "source": [
    "# Eliminamos la columana que creamos y sobreescribimos:\n",
    "finaldf.drop(columns=['Ticket_numeros'], inplace=True)"
   ]
  },
  {
   "cell_type": "markdown",
   "id": "97fae7e6",
   "metadata": {},
   "source": [
    "### Ejercicio 9:\n",
    "- Crear una columna con el apellido de cada pasajero y agregala al DataFrame."
   ]
  },
  {
   "cell_type": "code",
   "execution_count": 28,
   "id": "1ca800e9",
   "metadata": {},
   "outputs": [
    {
     "data": {
      "text/plain": [
       "0                                Braund, Mr. Owen Harris\n",
       "1      Cumings, Mrs. John Bradley (Florence Briggs Th...\n",
       "2                                 Heikkinen, Miss. Laina\n",
       "3           Futrelle, Mrs. Jacques Heath (Lily May Peel)\n",
       "4                               Allen, Mr. William Henry\n",
       "                             ...                        \n",
       "886                                Montvila, Rev. Juozas\n",
       "887                         Graham, Miss. Margaret Edith\n",
       "888             Johnston, Miss. Catherine Helen \"Carrie\"\n",
       "889                                Behr, Mr. Karl Howell\n",
       "890                                  Dooley, Mr. Patrick\n",
       "Name: Name, Length: 891, dtype: object"
      ]
     },
     "execution_count": 28,
     "metadata": {},
     "output_type": "execute_result"
    }
   ],
   "source": [
    "finaldf.Name"
   ]
  },
  {
   "cell_type": "code",
   "execution_count": 29,
   "id": "b91bb7d9",
   "metadata": {},
   "outputs": [],
   "source": [
    "#El apellido es la primera palabra que aparece en el nombre.\n",
    "#Creamos una columna nueva añadiendo parte de los datos de otra columna con la funcion aply() y lambda para decirle el limite de hasta donde tiene que añadir:\n",
    "                                #    AÑADIR X HASTA (X SEPARADAS POR COMA) INDICE 0\n",
    "                                # Es decir, hemos separado las X por coma y le hemos dicho que coja el indice 0\n",
    "finaldf[\"Surname\"] = finaldf[\"Name\"].apply(lambda x: x.split(\",\")[0])"
   ]
  },
  {
   "cell_type": "code",
   "execution_count": 30,
   "id": "51ff38cc",
   "metadata": {},
   "outputs": [
    {
     "data": {
      "text/plain": [
       "0         Braund\n",
       "1        Cumings\n",
       "2      Heikkinen\n",
       "3       Futrelle\n",
       "4          Allen\n",
       "         ...    \n",
       "886     Montvila\n",
       "887       Graham\n",
       "888     Johnston\n",
       "889         Behr\n",
       "890       Dooley\n",
       "Name: Surname, Length: 891, dtype: object"
      ]
     },
     "execution_count": 30,
     "metadata": {},
     "output_type": "execute_result"
    }
   ],
   "source": [
    "finaldf.Surname"
   ]
  },
  {
   "cell_type": "markdown",
   "id": "28cf8844",
   "metadata": {},
   "source": [
    "### Ejercicio 10:\n",
    "- Encuentra si se repiten apellidos en la columna que se creo en el ejercicio anterior. (Usa .value_counts())"
   ]
  },
  {
   "cell_type": "code",
   "execution_count": 31,
   "id": "bc3e5a06",
   "metadata": {},
   "outputs": [
    {
     "data": {
      "text/plain": [
       "Andersson    9\n",
       "Sage         7\n",
       "Panula       6\n",
       "Skoog        6\n",
       "Carter       6\n",
       "            ..\n",
       "Hanna        1\n",
       "Lewy         1\n",
       "Mineff       1\n",
       "Haas         1\n",
       "Dooley       1\n",
       "Name: Surname, Length: 667, dtype: int64"
      ]
     },
     "execution_count": 31,
     "metadata": {},
     "output_type": "execute_result"
    }
   ],
   "source": [
    "finaldf.Surname.value_counts()\n",
    "# Si algún valor es distinto de 1, es que se repiten."
   ]
  },
  {
   "cell_type": "markdown",
   "id": "a9d5d876",
   "metadata": {},
   "source": [
    "### Ejercicio 11:\n",
    "- Encuentra los apellidos que se repiten en la columna recien creada. Es decir, solo muestra los apellidos que aparecen más de 1 vez."
   ]
  },
  {
   "cell_type": "code",
   "execution_count": 32,
   "id": "e25f047e",
   "metadata": {},
   "outputs": [],
   "source": [
    "Surnames = finaldf[\"Surname\"].value_counts()"
   ]
  },
  {
   "cell_type": "code",
   "execution_count": 33,
   "id": "26e3399d",
   "metadata": {},
   "outputs": [],
   "source": [
    "Surepetidos = Surnames[Surnames > 1].index"
   ]
  },
  {
   "cell_type": "code",
   "execution_count": 34,
   "id": "a956fa67",
   "metadata": {},
   "outputs": [
    {
     "data": {
      "text/plain": [
       "Index(['Andersson', 'Sage', 'Panula', 'Skoog', 'Carter', 'Goodwin', 'Johnson',\n",
       "       'Rice', 'Lefebre', 'Asplund',\n",
       "       ...\n",
       "       'Allen', 'Futrelle', 'Oreskovic', 'Peter', 'Doling', 'Hocking',\n",
       "       'Kantor', 'Petroff', 'Johnston', 'Dean'],\n",
       "      dtype='object', length=133)"
      ]
     },
     "execution_count": 34,
     "metadata": {},
     "output_type": "execute_result"
    }
   ],
   "source": [
    "Surepetidos"
   ]
  },
  {
   "cell_type": "markdown",
   "id": "382c4cfb",
   "metadata": {},
   "source": [
    "### Ejercicio 12:\n",
    "- Imprime los primeros 10 pasajeros que tengan un **`PassengerID`** multiplo de 3."
   ]
  },
  {
   "cell_type": "code",
   "execution_count": 35,
   "id": "cf0a1869",
   "metadata": {},
   "outputs": [],
   "source": [
    "#Problemas con los indices, voy a resetar los indices:\n",
    "finaldf = finaldf.reset_index(drop=True)"
   ]
  },
  {
   "cell_type": "markdown",
   "id": "78553d8c",
   "metadata": {},
   "source": [
    "merge mejor que concatenar, segun la columna que le de \n",
    "concat confias que el orden sea el mismo "
   ]
  },
  {
   "cell_type": "code",
   "execution_count": 37,
   "id": "50bcf607",
   "metadata": {},
   "outputs": [
    {
     "data": {
      "text/html": [
       "<div>\n",
       "<style scoped>\n",
       "    .dataframe tbody tr th:only-of-type {\n",
       "        vertical-align: middle;\n",
       "    }\n",
       "\n",
       "    .dataframe tbody tr th {\n",
       "        vertical-align: top;\n",
       "    }\n",
       "\n",
       "    .dataframe thead th {\n",
       "        text-align: right;\n",
       "    }\n",
       "</style>\n",
       "<table border=\"1\" class=\"dataframe\">\n",
       "  <thead>\n",
       "    <tr style=\"text-align: right;\">\n",
       "      <th></th>\n",
       "      <th>PassengerId</th>\n",
       "      <th>Name</th>\n",
       "      <th>Sex</th>\n",
       "      <th>Age</th>\n",
       "      <th>PassengerId</th>\n",
       "      <th>Survived</th>\n",
       "      <th>Pclass</th>\n",
       "      <th>Ticket</th>\n",
       "      <th>Fare</th>\n",
       "      <th>Surname</th>\n",
       "    </tr>\n",
       "  </thead>\n",
       "  <tbody>\n",
       "    <tr>\n",
       "      <th>0</th>\n",
       "      <td>1</td>\n",
       "      <td>Braund, Mr. Owen Harris</td>\n",
       "      <td>male</td>\n",
       "      <td>22.0</td>\n",
       "      <td>1</td>\n",
       "      <td>0</td>\n",
       "      <td>3</td>\n",
       "      <td>A/5 21171</td>\n",
       "      <td>7.2500</td>\n",
       "      <td>Braund</td>\n",
       "    </tr>\n",
       "    <tr>\n",
       "      <th>1</th>\n",
       "      <td>2</td>\n",
       "      <td>Cumings, Mrs. John Bradley (Florence Briggs Th...</td>\n",
       "      <td>female</td>\n",
       "      <td>38.0</td>\n",
       "      <td>2</td>\n",
       "      <td>1</td>\n",
       "      <td>1</td>\n",
       "      <td>PC 17599</td>\n",
       "      <td>71.2833</td>\n",
       "      <td>Cumings</td>\n",
       "    </tr>\n",
       "    <tr>\n",
       "      <th>2</th>\n",
       "      <td>3</td>\n",
       "      <td>Heikkinen, Miss. Laina</td>\n",
       "      <td>female</td>\n",
       "      <td>26.0</td>\n",
       "      <td>3</td>\n",
       "      <td>1</td>\n",
       "      <td>3</td>\n",
       "      <td>STON/O2. 3101282</td>\n",
       "      <td>7.9250</td>\n",
       "      <td>Heikkinen</td>\n",
       "    </tr>\n",
       "    <tr>\n",
       "      <th>3</th>\n",
       "      <td>4</td>\n",
       "      <td>Futrelle, Mrs. Jacques Heath (Lily May Peel)</td>\n",
       "      <td>female</td>\n",
       "      <td>35.0</td>\n",
       "      <td>4</td>\n",
       "      <td>1</td>\n",
       "      <td>1</td>\n",
       "      <td>113803</td>\n",
       "      <td>53.1000</td>\n",
       "      <td>Futrelle</td>\n",
       "    </tr>\n",
       "    <tr>\n",
       "      <th>4</th>\n",
       "      <td>5</td>\n",
       "      <td>Allen, Mr. William Henry</td>\n",
       "      <td>male</td>\n",
       "      <td>35.0</td>\n",
       "      <td>5</td>\n",
       "      <td>0</td>\n",
       "      <td>3</td>\n",
       "      <td>373450</td>\n",
       "      <td>8.0500</td>\n",
       "      <td>Allen</td>\n",
       "    </tr>\n",
       "    <tr>\n",
       "      <th>...</th>\n",
       "      <td>...</td>\n",
       "      <td>...</td>\n",
       "      <td>...</td>\n",
       "      <td>...</td>\n",
       "      <td>...</td>\n",
       "      <td>...</td>\n",
       "      <td>...</td>\n",
       "      <td>...</td>\n",
       "      <td>...</td>\n",
       "      <td>...</td>\n",
       "    </tr>\n",
       "    <tr>\n",
       "      <th>886</th>\n",
       "      <td>887</td>\n",
       "      <td>Montvila, Rev. Juozas</td>\n",
       "      <td>male</td>\n",
       "      <td>27.0</td>\n",
       "      <td>887</td>\n",
       "      <td>0</td>\n",
       "      <td>2</td>\n",
       "      <td>211536</td>\n",
       "      <td>13.0000</td>\n",
       "      <td>Montvila</td>\n",
       "    </tr>\n",
       "    <tr>\n",
       "      <th>887</th>\n",
       "      <td>888</td>\n",
       "      <td>Graham, Miss. Margaret Edith</td>\n",
       "      <td>female</td>\n",
       "      <td>19.0</td>\n",
       "      <td>888</td>\n",
       "      <td>1</td>\n",
       "      <td>1</td>\n",
       "      <td>112053</td>\n",
       "      <td>30.0000</td>\n",
       "      <td>Graham</td>\n",
       "    </tr>\n",
       "    <tr>\n",
       "      <th>888</th>\n",
       "      <td>889</td>\n",
       "      <td>Johnston, Miss. Catherine Helen \"Carrie\"</td>\n",
       "      <td>female</td>\n",
       "      <td>NaN</td>\n",
       "      <td>889</td>\n",
       "      <td>0</td>\n",
       "      <td>3</td>\n",
       "      <td>W./C. 6607</td>\n",
       "      <td>23.4500</td>\n",
       "      <td>Johnston</td>\n",
       "    </tr>\n",
       "    <tr>\n",
       "      <th>889</th>\n",
       "      <td>890</td>\n",
       "      <td>Behr, Mr. Karl Howell</td>\n",
       "      <td>male</td>\n",
       "      <td>26.0</td>\n",
       "      <td>890</td>\n",
       "      <td>1</td>\n",
       "      <td>1</td>\n",
       "      <td>111369</td>\n",
       "      <td>30.0000</td>\n",
       "      <td>Behr</td>\n",
       "    </tr>\n",
       "    <tr>\n",
       "      <th>890</th>\n",
       "      <td>891</td>\n",
       "      <td>Dooley, Mr. Patrick</td>\n",
       "      <td>male</td>\n",
       "      <td>32.0</td>\n",
       "      <td>891</td>\n",
       "      <td>0</td>\n",
       "      <td>3</td>\n",
       "      <td>370376</td>\n",
       "      <td>7.7500</td>\n",
       "      <td>Dooley</td>\n",
       "    </tr>\n",
       "  </tbody>\n",
       "</table>\n",
       "<p>891 rows × 10 columns</p>\n",
       "</div>"
      ],
      "text/plain": [
       "     PassengerId                                               Name     Sex  \\\n",
       "0              1                            Braund, Mr. Owen Harris    male   \n",
       "1              2  Cumings, Mrs. John Bradley (Florence Briggs Th...  female   \n",
       "2              3                             Heikkinen, Miss. Laina  female   \n",
       "3              4       Futrelle, Mrs. Jacques Heath (Lily May Peel)  female   \n",
       "4              5                           Allen, Mr. William Henry    male   \n",
       "..           ...                                                ...     ...   \n",
       "886          887                              Montvila, Rev. Juozas    male   \n",
       "887          888                       Graham, Miss. Margaret Edith  female   \n",
       "888          889           Johnston, Miss. Catherine Helen \"Carrie\"  female   \n",
       "889          890                              Behr, Mr. Karl Howell    male   \n",
       "890          891                                Dooley, Mr. Patrick    male   \n",
       "\n",
       "      Age  PassengerId  Survived  Pclass            Ticket     Fare    Surname  \n",
       "0    22.0            1         0       3         A/5 21171   7.2500     Braund  \n",
       "1    38.0            2         1       1          PC 17599  71.2833    Cumings  \n",
       "2    26.0            3         1       3  STON/O2. 3101282   7.9250  Heikkinen  \n",
       "3    35.0            4         1       1            113803  53.1000   Futrelle  \n",
       "4    35.0            5         0       3            373450   8.0500      Allen  \n",
       "..    ...          ...       ...     ...               ...      ...        ...  \n",
       "886  27.0          887         0       2            211536  13.0000   Montvila  \n",
       "887  19.0          888         1       1            112053  30.0000     Graham  \n",
       "888   NaN          889         0       3        W./C. 6607  23.4500   Johnston  \n",
       "889  26.0          890         1       1            111369  30.0000       Behr  \n",
       "890  32.0          891         0       3            370376   7.7500     Dooley  \n",
       "\n",
       "[891 rows x 10 columns]"
      ]
     },
     "execution_count": 37,
     "metadata": {},
     "output_type": "execute_result"
    }
   ],
   "source": [
    "finaldf"
   ]
  },
  {
   "cell_type": "code",
   "execution_count": 36,
   "id": "853570fa",
   "metadata": {},
   "outputs": [
    {
     "ename": "ValueError",
     "evalue": "cannot reindex on an axis with duplicate labels",
     "output_type": "error",
     "traceback": [
      "\u001b[1;31m---------------------------------------------------------------------------\u001b[0m",
      "\u001b[1;31mValueError\u001b[0m                                Traceback (most recent call last)",
      "\u001b[1;32mc:\\Users\\Ane Zubieta\\Documents\\datascienceandia\\mod3-data-science\\04_10_2023_dia_15\\ejercicios\\05.pandas_2_ejercicios_2.ipynb Celda 52\u001b[0m line \u001b[0;36m1\n\u001b[1;32m----> <a href='vscode-notebook-cell:/c%3A/Users/Ane%20Zubieta/Documents/datascienceandia/mod3-data-science/04_10_2023_dia_15/ejercicios/05.pandas_2_ejercicios_2.ipynb#Y102sZmlsZQ%3D%3D?line=0'>1</a>\u001b[0m resultados \u001b[39m=\u001b[39m finaldf[finaldf[\u001b[39m\"\u001b[39;49m\u001b[39mPassengerId\u001b[39;49m\u001b[39m\"\u001b[39;49m]\u001b[39m.\u001b[39;49mapply(\u001b[39mlambda\u001b[39;49;00m x : x \u001b[39m%\u001b[39;49m \u001b[39m3\u001b[39;49m \u001b[39m==\u001b[39;49m \u001b[39m0\u001b[39;49m)]\u001b[39m.\u001b[39mhead(\u001b[39m10\u001b[39m)\n",
      "File \u001b[1;32mc:\\Users\\Ane Zubieta\\AppData\\Local\\Programs\\Python\\Python311\\Lib\\site-packages\\pandas\\core\\frame.py:3492\u001b[0m, in \u001b[0;36mDataFrame.__getitem__\u001b[1;34m(self, key)\u001b[0m\n\u001b[0;32m   3490\u001b[0m \u001b[39m# Do we have a (boolean) DataFrame?\u001b[39;00m\n\u001b[0;32m   3491\u001b[0m \u001b[39mif\u001b[39;00m \u001b[39misinstance\u001b[39m(key, DataFrame):\n\u001b[1;32m-> 3492\u001b[0m     \u001b[39mreturn\u001b[39;00m \u001b[39mself\u001b[39;49m\u001b[39m.\u001b[39;49mwhere(key)\n\u001b[0;32m   3494\u001b[0m \u001b[39m# Do we have a (boolean) 1d indexer?\u001b[39;00m\n\u001b[0;32m   3495\u001b[0m \u001b[39mif\u001b[39;00m com\u001b[39m.\u001b[39mis_bool_indexer(key):\n",
      "File \u001b[1;32mc:\\Users\\Ane Zubieta\\AppData\\Local\\Programs\\Python\\Python311\\Lib\\site-packages\\pandas\\util\\_decorators.py:311\u001b[0m, in \u001b[0;36mdeprecate_nonkeyword_arguments.<locals>.decorate.<locals>.wrapper\u001b[1;34m(*args, **kwargs)\u001b[0m\n\u001b[0;32m    305\u001b[0m \u001b[39mif\u001b[39;00m \u001b[39mlen\u001b[39m(args) \u001b[39m>\u001b[39m num_allow_args:\n\u001b[0;32m    306\u001b[0m     warnings\u001b[39m.\u001b[39mwarn(\n\u001b[0;32m    307\u001b[0m         msg\u001b[39m.\u001b[39mformat(arguments\u001b[39m=\u001b[39marguments),\n\u001b[0;32m    308\u001b[0m         \u001b[39mFutureWarning\u001b[39;00m,\n\u001b[0;32m    309\u001b[0m         stacklevel\u001b[39m=\u001b[39mstacklevel,\n\u001b[0;32m    310\u001b[0m     )\n\u001b[1;32m--> 311\u001b[0m \u001b[39mreturn\u001b[39;00m func(\u001b[39m*\u001b[39;49margs, \u001b[39m*\u001b[39;49m\u001b[39m*\u001b[39;49mkwargs)\n",
      "File \u001b[1;32mc:\\Users\\Ane Zubieta\\AppData\\Local\\Programs\\Python\\Python311\\Lib\\site-packages\\pandas\\core\\frame.py:10961\u001b[0m, in \u001b[0;36mDataFrame.where\u001b[1;34m(self, cond, other, inplace, axis, level, errors, try_cast)\u001b[0m\n\u001b[0;32m  10948\u001b[0m \u001b[39m@deprecate_nonkeyword_arguments\u001b[39m(\n\u001b[0;32m  10949\u001b[0m     version\u001b[39m=\u001b[39m\u001b[39mNone\u001b[39;00m, allowed_args\u001b[39m=\u001b[39m[\u001b[39m\"\u001b[39m\u001b[39mself\u001b[39m\u001b[39m\"\u001b[39m, \u001b[39m\"\u001b[39m\u001b[39mcond\u001b[39m\u001b[39m\"\u001b[39m, \u001b[39m\"\u001b[39m\u001b[39mother\u001b[39m\u001b[39m\"\u001b[39m]\n\u001b[0;32m  10950\u001b[0m )\n\u001b[1;32m   (...)\u001b[0m\n\u001b[0;32m  10959\u001b[0m     try_cast\u001b[39m=\u001b[39mlib\u001b[39m.\u001b[39mno_default,\n\u001b[0;32m  10960\u001b[0m ):\n\u001b[1;32m> 10961\u001b[0m     \u001b[39mreturn\u001b[39;00m \u001b[39msuper\u001b[39;49m()\u001b[39m.\u001b[39;49mwhere(cond, other, inplace, axis, level, errors, try_cast)\n",
      "File \u001b[1;32mc:\\Users\\Ane Zubieta\\AppData\\Local\\Programs\\Python\\Python311\\Lib\\site-packages\\pandas\\core\\generic.py:9310\u001b[0m, in \u001b[0;36mNDFrame.where\u001b[1;34m(self, cond, other, inplace, axis, level, errors, try_cast)\u001b[0m\n\u001b[0;32m   9302\u001b[0m \u001b[39mif\u001b[39;00m try_cast \u001b[39mis\u001b[39;00m \u001b[39mnot\u001b[39;00m lib\u001b[39m.\u001b[39mno_default:\n\u001b[0;32m   9303\u001b[0m     warnings\u001b[39m.\u001b[39mwarn(\n\u001b[0;32m   9304\u001b[0m         \u001b[39m\"\u001b[39m\u001b[39mtry_cast keyword is deprecated and will be removed in a \u001b[39m\u001b[39m\"\u001b[39m\n\u001b[0;32m   9305\u001b[0m         \u001b[39m\"\u001b[39m\u001b[39mfuture version.\u001b[39m\u001b[39m\"\u001b[39m,\n\u001b[0;32m   9306\u001b[0m         \u001b[39mFutureWarning\u001b[39;00m,\n\u001b[0;32m   9307\u001b[0m         stacklevel\u001b[39m=\u001b[39mfind_stack_level(),\n\u001b[0;32m   9308\u001b[0m     )\n\u001b[1;32m-> 9310\u001b[0m \u001b[39mreturn\u001b[39;00m \u001b[39mself\u001b[39;49m\u001b[39m.\u001b[39;49m_where(cond, other, inplace, axis, level, errors\u001b[39m=\u001b[39;49merrors)\n",
      "File \u001b[1;32mc:\\Users\\Ane Zubieta\\AppData\\Local\\Programs\\Python\\Python311\\Lib\\site-packages\\pandas\\core\\generic.py:9077\u001b[0m, in \u001b[0;36mNDFrame._where\u001b[1;34m(self, cond, other, inplace, axis, level, errors)\u001b[0m\n\u001b[0;32m   9074\u001b[0m     cond \u001b[39m=\u001b[39m cond\u001b[39m.\u001b[39mastype(\u001b[39mbool\u001b[39m)\n\u001b[0;32m   9076\u001b[0m cond \u001b[39m=\u001b[39m \u001b[39m-\u001b[39mcond \u001b[39mif\u001b[39;00m inplace \u001b[39melse\u001b[39;00m cond\n\u001b[1;32m-> 9077\u001b[0m cond \u001b[39m=\u001b[39m cond\u001b[39m.\u001b[39;49mreindex(\u001b[39mself\u001b[39;49m\u001b[39m.\u001b[39;49m_info_axis, axis\u001b[39m=\u001b[39;49m\u001b[39mself\u001b[39;49m\u001b[39m.\u001b[39;49m_info_axis_number, copy\u001b[39m=\u001b[39;49m\u001b[39mFalse\u001b[39;49;00m)\n\u001b[0;32m   9079\u001b[0m \u001b[39m# try to align with other\u001b[39;00m\n\u001b[0;32m   9080\u001b[0m \u001b[39mif\u001b[39;00m \u001b[39misinstance\u001b[39m(other, NDFrame):\n\u001b[0;32m   9081\u001b[0m \n\u001b[0;32m   9082\u001b[0m     \u001b[39m# align with me\u001b[39;00m\n",
      "File \u001b[1;32mc:\\Users\\Ane Zubieta\\AppData\\Local\\Programs\\Python\\Python311\\Lib\\site-packages\\pandas\\util\\_decorators.py:324\u001b[0m, in \u001b[0;36mrewrite_axis_style_signature.<locals>.decorate.<locals>.wrapper\u001b[1;34m(*args, **kwargs)\u001b[0m\n\u001b[0;32m    322\u001b[0m \u001b[39m@wraps\u001b[39m(func)\n\u001b[0;32m    323\u001b[0m \u001b[39mdef\u001b[39;00m \u001b[39mwrapper\u001b[39m(\u001b[39m*\u001b[39margs, \u001b[39m*\u001b[39m\u001b[39m*\u001b[39mkwargs) \u001b[39m-\u001b[39m\u001b[39m>\u001b[39m Callable[\u001b[39m.\u001b[39m\u001b[39m.\u001b[39m\u001b[39m.\u001b[39m, Any]:\n\u001b[1;32m--> 324\u001b[0m     \u001b[39mreturn\u001b[39;00m func(\u001b[39m*\u001b[39;49margs, \u001b[39m*\u001b[39;49m\u001b[39m*\u001b[39;49mkwargs)\n",
      "File \u001b[1;32mc:\\Users\\Ane Zubieta\\AppData\\Local\\Programs\\Python\\Python311\\Lib\\site-packages\\pandas\\core\\frame.py:4804\u001b[0m, in \u001b[0;36mDataFrame.reindex\u001b[1;34m(self, *args, **kwargs)\u001b[0m\n\u001b[0;32m   4802\u001b[0m kwargs\u001b[39m.\u001b[39mpop(\u001b[39m\"\u001b[39m\u001b[39maxis\u001b[39m\u001b[39m\"\u001b[39m, \u001b[39mNone\u001b[39;00m)\n\u001b[0;32m   4803\u001b[0m kwargs\u001b[39m.\u001b[39mpop(\u001b[39m\"\u001b[39m\u001b[39mlabels\u001b[39m\u001b[39m\"\u001b[39m, \u001b[39mNone\u001b[39;00m)\n\u001b[1;32m-> 4804\u001b[0m \u001b[39mreturn\u001b[39;00m \u001b[39msuper\u001b[39;49m()\u001b[39m.\u001b[39;49mreindex(\u001b[39m*\u001b[39;49m\u001b[39m*\u001b[39;49mkwargs)\n",
      "File \u001b[1;32mc:\\Users\\Ane Zubieta\\AppData\\Local\\Programs\\Python\\Python311\\Lib\\site-packages\\pandas\\core\\generic.py:4966\u001b[0m, in \u001b[0;36mNDFrame.reindex\u001b[1;34m(self, *args, **kwargs)\u001b[0m\n\u001b[0;32m   4963\u001b[0m     \u001b[39mreturn\u001b[39;00m \u001b[39mself\u001b[39m\u001b[39m.\u001b[39m_reindex_multi(axes, copy, fill_value)\n\u001b[0;32m   4965\u001b[0m \u001b[39m# perform the reindex on the axes\u001b[39;00m\n\u001b[1;32m-> 4966\u001b[0m \u001b[39mreturn\u001b[39;00m \u001b[39mself\u001b[39;49m\u001b[39m.\u001b[39;49m_reindex_axes(\n\u001b[0;32m   4967\u001b[0m     axes, level, limit, tolerance, method, fill_value, copy\n\u001b[0;32m   4968\u001b[0m )\u001b[39m.\u001b[39m__finalize__(\u001b[39mself\u001b[39m, method\u001b[39m=\u001b[39m\u001b[39m\"\u001b[39m\u001b[39mreindex\u001b[39m\u001b[39m\"\u001b[39m)\n",
      "File \u001b[1;32mc:\\Users\\Ane Zubieta\\AppData\\Local\\Programs\\Python\\Python311\\Lib\\site-packages\\pandas\\core\\frame.py:4617\u001b[0m, in \u001b[0;36mDataFrame._reindex_axes\u001b[1;34m(self, axes, level, limit, tolerance, method, fill_value, copy)\u001b[0m\n\u001b[0;32m   4615\u001b[0m columns \u001b[39m=\u001b[39m axes[\u001b[39m\"\u001b[39m\u001b[39mcolumns\u001b[39m\u001b[39m\"\u001b[39m]\n\u001b[0;32m   4616\u001b[0m \u001b[39mif\u001b[39;00m columns \u001b[39mis\u001b[39;00m \u001b[39mnot\u001b[39;00m \u001b[39mNone\u001b[39;00m:\n\u001b[1;32m-> 4617\u001b[0m     frame \u001b[39m=\u001b[39m frame\u001b[39m.\u001b[39;49m_reindex_columns(\n\u001b[0;32m   4618\u001b[0m         columns, method, copy, level, fill_value, limit, tolerance\n\u001b[0;32m   4619\u001b[0m     )\n\u001b[0;32m   4621\u001b[0m index \u001b[39m=\u001b[39m axes[\u001b[39m\"\u001b[39m\u001b[39mindex\u001b[39m\u001b[39m\"\u001b[39m]\n\u001b[0;32m   4622\u001b[0m \u001b[39mif\u001b[39;00m index \u001b[39mis\u001b[39;00m \u001b[39mnot\u001b[39;00m \u001b[39mNone\u001b[39;00m:\n",
      "File \u001b[1;32mc:\\Users\\Ane Zubieta\\AppData\\Local\\Programs\\Python\\Python311\\Lib\\site-packages\\pandas\\core\\frame.py:4662\u001b[0m, in \u001b[0;36mDataFrame._reindex_columns\u001b[1;34m(self, new_columns, method, copy, level, fill_value, limit, tolerance)\u001b[0m\n\u001b[0;32m   4649\u001b[0m \u001b[39mdef\u001b[39;00m \u001b[39m_reindex_columns\u001b[39m(\n\u001b[0;32m   4650\u001b[0m     \u001b[39mself\u001b[39m,\n\u001b[0;32m   4651\u001b[0m     new_columns,\n\u001b[1;32m   (...)\u001b[0m\n\u001b[0;32m   4657\u001b[0m     tolerance\u001b[39m=\u001b[39m\u001b[39mNone\u001b[39;00m,\n\u001b[0;32m   4658\u001b[0m ):\n\u001b[0;32m   4659\u001b[0m     new_columns, indexer \u001b[39m=\u001b[39m \u001b[39mself\u001b[39m\u001b[39m.\u001b[39mcolumns\u001b[39m.\u001b[39mreindex(\n\u001b[0;32m   4660\u001b[0m         new_columns, method\u001b[39m=\u001b[39mmethod, level\u001b[39m=\u001b[39mlevel, limit\u001b[39m=\u001b[39mlimit, tolerance\u001b[39m=\u001b[39mtolerance\n\u001b[0;32m   4661\u001b[0m     )\n\u001b[1;32m-> 4662\u001b[0m     \u001b[39mreturn\u001b[39;00m \u001b[39mself\u001b[39;49m\u001b[39m.\u001b[39;49m_reindex_with_indexers(\n\u001b[0;32m   4663\u001b[0m         {\u001b[39m1\u001b[39;49m: [new_columns, indexer]},\n\u001b[0;32m   4664\u001b[0m         copy\u001b[39m=\u001b[39;49mcopy,\n\u001b[0;32m   4665\u001b[0m         fill_value\u001b[39m=\u001b[39;49mfill_value,\n\u001b[0;32m   4666\u001b[0m         allow_dups\u001b[39m=\u001b[39;49m\u001b[39mFalse\u001b[39;49;00m,\n\u001b[0;32m   4667\u001b[0m     )\n",
      "File \u001b[1;32mc:\\Users\\Ane Zubieta\\AppData\\Local\\Programs\\Python\\Python311\\Lib\\site-packages\\pandas\\core\\generic.py:5032\u001b[0m, in \u001b[0;36mNDFrame._reindex_with_indexers\u001b[1;34m(self, reindexers, fill_value, copy, allow_dups)\u001b[0m\n\u001b[0;32m   5029\u001b[0m     indexer \u001b[39m=\u001b[39m ensure_platform_int(indexer)\n\u001b[0;32m   5031\u001b[0m \u001b[39m# TODO: speed up on homogeneous DataFrame objects (see _reindex_multi)\u001b[39;00m\n\u001b[1;32m-> 5032\u001b[0m new_data \u001b[39m=\u001b[39m new_data\u001b[39m.\u001b[39;49mreindex_indexer(\n\u001b[0;32m   5033\u001b[0m     index,\n\u001b[0;32m   5034\u001b[0m     indexer,\n\u001b[0;32m   5035\u001b[0m     axis\u001b[39m=\u001b[39;49mbaxis,\n\u001b[0;32m   5036\u001b[0m     fill_value\u001b[39m=\u001b[39;49mfill_value,\n\u001b[0;32m   5037\u001b[0m     allow_dups\u001b[39m=\u001b[39;49mallow_dups,\n\u001b[0;32m   5038\u001b[0m     copy\u001b[39m=\u001b[39;49mcopy,\n\u001b[0;32m   5039\u001b[0m )\n\u001b[0;32m   5040\u001b[0m \u001b[39m# If we've made a copy once, no need to make another one\u001b[39;00m\n\u001b[0;32m   5041\u001b[0m copy \u001b[39m=\u001b[39m \u001b[39mFalse\u001b[39;00m\n",
      "File \u001b[1;32mc:\\Users\\Ane Zubieta\\AppData\\Local\\Programs\\Python\\Python311\\Lib\\site-packages\\pandas\\core\\internals\\managers.py:679\u001b[0m, in \u001b[0;36mBaseBlockManager.reindex_indexer\u001b[1;34m(self, new_axis, indexer, axis, fill_value, allow_dups, copy, consolidate, only_slice, use_na_proxy)\u001b[0m\n\u001b[0;32m    677\u001b[0m \u001b[39m# some axes don't allow reindexing with dups\u001b[39;00m\n\u001b[0;32m    678\u001b[0m \u001b[39mif\u001b[39;00m \u001b[39mnot\u001b[39;00m allow_dups:\n\u001b[1;32m--> 679\u001b[0m     \u001b[39mself\u001b[39;49m\u001b[39m.\u001b[39;49maxes[axis]\u001b[39m.\u001b[39;49m_validate_can_reindex(indexer)\n\u001b[0;32m    681\u001b[0m \u001b[39mif\u001b[39;00m axis \u001b[39m>\u001b[39m\u001b[39m=\u001b[39m \u001b[39mself\u001b[39m\u001b[39m.\u001b[39mndim:\n\u001b[0;32m    682\u001b[0m     \u001b[39mraise\u001b[39;00m \u001b[39mIndexError\u001b[39;00m(\u001b[39m\"\u001b[39m\u001b[39mRequested axis not found in manager\u001b[39m\u001b[39m\"\u001b[39m)\n",
      "File \u001b[1;32mc:\\Users\\Ane Zubieta\\AppData\\Local\\Programs\\Python\\Python311\\Lib\\site-packages\\pandas\\core\\indexes\\base.py:4107\u001b[0m, in \u001b[0;36mIndex._validate_can_reindex\u001b[1;34m(self, indexer)\u001b[0m\n\u001b[0;32m   4105\u001b[0m \u001b[39m# trying to reindex on an axis with duplicates\u001b[39;00m\n\u001b[0;32m   4106\u001b[0m \u001b[39mif\u001b[39;00m \u001b[39mnot\u001b[39;00m \u001b[39mself\u001b[39m\u001b[39m.\u001b[39m_index_as_unique \u001b[39mand\u001b[39;00m \u001b[39mlen\u001b[39m(indexer):\n\u001b[1;32m-> 4107\u001b[0m     \u001b[39mraise\u001b[39;00m \u001b[39mValueError\u001b[39;00m(\u001b[39m\"\u001b[39m\u001b[39mcannot reindex on an axis with duplicate labels\u001b[39m\u001b[39m\"\u001b[39m)\n",
      "\u001b[1;31mValueError\u001b[0m: cannot reindex on an axis with duplicate labels"
     ]
    }
   ],
   "source": [
    "resultados = finaldf[finaldf[\"PassengerId\"].apply(lambda x : x % 3 == 0)].head(10)"
   ]
  },
  {
   "cell_type": "code",
   "execution_count": null,
   "id": "d6a927a9",
   "metadata": {},
   "outputs": [
    {
     "ename": "ValueError",
     "evalue": "cannot reindex on an axis with duplicate labels",
     "output_type": "error",
     "traceback": [
      "\u001b[1;31m---------------------------------------------------------------------------\u001b[0m",
      "\u001b[1;31mValueError\u001b[0m                                Traceback (most recent call last)",
      "\u001b[1;32mc:\\Users\\Ane Zubieta\\Documents\\datascienceandia\\mod3-data-science\\04_10_2023_dia_15\\ejercicios\\05.pandas_2_ejercicios_2.ipynb Celda 52\u001b[0m line \u001b[0;36m1\n\u001b[1;32m----> <a href='vscode-notebook-cell:/c%3A/Users/Ane%20Zubieta/Documents/datascienceandia/mod3-data-science/04_10_2023_dia_15/ejercicios/05.pandas_2_ejercicios_2.ipynb#Y231sZmlsZQ%3D%3D?line=0'>1</a>\u001b[0m resultados \u001b[39m=\u001b[39m finaldf[finaldf[\u001b[39m\"\u001b[39;49m\u001b[39mPassengerId\u001b[39;49m\u001b[39m\"\u001b[39;49m] \u001b[39m%\u001b[39;49m \u001b[39m3\u001b[39;49m \u001b[39m==\u001b[39;49m \u001b[39m0\u001b[39;49m]\u001b[39m.\u001b[39mhead(\u001b[39m10\u001b[39m)\n",
      "File \u001b[1;32mc:\\Users\\Ane Zubieta\\AppData\\Local\\Programs\\Python\\Python311\\Lib\\site-packages\\pandas\\core\\frame.py:3492\u001b[0m, in \u001b[0;36mDataFrame.__getitem__\u001b[1;34m(self, key)\u001b[0m\n\u001b[0;32m   3490\u001b[0m \u001b[39m# Do we have a (boolean) DataFrame?\u001b[39;00m\n\u001b[0;32m   3491\u001b[0m \u001b[39mif\u001b[39;00m \u001b[39misinstance\u001b[39m(key, DataFrame):\n\u001b[1;32m-> 3492\u001b[0m     \u001b[39mreturn\u001b[39;00m \u001b[39mself\u001b[39;49m\u001b[39m.\u001b[39;49mwhere(key)\n\u001b[0;32m   3494\u001b[0m \u001b[39m# Do we have a (boolean) 1d indexer?\u001b[39;00m\n\u001b[0;32m   3495\u001b[0m \u001b[39mif\u001b[39;00m com\u001b[39m.\u001b[39mis_bool_indexer(key):\n",
      "File \u001b[1;32mc:\\Users\\Ane Zubieta\\AppData\\Local\\Programs\\Python\\Python311\\Lib\\site-packages\\pandas\\util\\_decorators.py:311\u001b[0m, in \u001b[0;36mdeprecate_nonkeyword_arguments.<locals>.decorate.<locals>.wrapper\u001b[1;34m(*args, **kwargs)\u001b[0m\n\u001b[0;32m    305\u001b[0m \u001b[39mif\u001b[39;00m \u001b[39mlen\u001b[39m(args) \u001b[39m>\u001b[39m num_allow_args:\n\u001b[0;32m    306\u001b[0m     warnings\u001b[39m.\u001b[39mwarn(\n\u001b[0;32m    307\u001b[0m         msg\u001b[39m.\u001b[39mformat(arguments\u001b[39m=\u001b[39marguments),\n\u001b[0;32m    308\u001b[0m         \u001b[39mFutureWarning\u001b[39;00m,\n\u001b[0;32m    309\u001b[0m         stacklevel\u001b[39m=\u001b[39mstacklevel,\n\u001b[0;32m    310\u001b[0m     )\n\u001b[1;32m--> 311\u001b[0m \u001b[39mreturn\u001b[39;00m func(\u001b[39m*\u001b[39;49margs, \u001b[39m*\u001b[39;49m\u001b[39m*\u001b[39;49mkwargs)\n",
      "File \u001b[1;32mc:\\Users\\Ane Zubieta\\AppData\\Local\\Programs\\Python\\Python311\\Lib\\site-packages\\pandas\\core\\frame.py:10961\u001b[0m, in \u001b[0;36mDataFrame.where\u001b[1;34m(self, cond, other, inplace, axis, level, errors, try_cast)\u001b[0m\n\u001b[0;32m  10948\u001b[0m \u001b[39m@deprecate_nonkeyword_arguments\u001b[39m(\n\u001b[0;32m  10949\u001b[0m     version\u001b[39m=\u001b[39m\u001b[39mNone\u001b[39;00m, allowed_args\u001b[39m=\u001b[39m[\u001b[39m\"\u001b[39m\u001b[39mself\u001b[39m\u001b[39m\"\u001b[39m, \u001b[39m\"\u001b[39m\u001b[39mcond\u001b[39m\u001b[39m\"\u001b[39m, \u001b[39m\"\u001b[39m\u001b[39mother\u001b[39m\u001b[39m\"\u001b[39m]\n\u001b[0;32m  10950\u001b[0m )\n\u001b[1;32m   (...)\u001b[0m\n\u001b[0;32m  10959\u001b[0m     try_cast\u001b[39m=\u001b[39mlib\u001b[39m.\u001b[39mno_default,\n\u001b[0;32m  10960\u001b[0m ):\n\u001b[1;32m> 10961\u001b[0m     \u001b[39mreturn\u001b[39;00m \u001b[39msuper\u001b[39;49m()\u001b[39m.\u001b[39;49mwhere(cond, other, inplace, axis, level, errors, try_cast)\n",
      "File \u001b[1;32mc:\\Users\\Ane Zubieta\\AppData\\Local\\Programs\\Python\\Python311\\Lib\\site-packages\\pandas\\core\\generic.py:9310\u001b[0m, in \u001b[0;36mNDFrame.where\u001b[1;34m(self, cond, other, inplace, axis, level, errors, try_cast)\u001b[0m\n\u001b[0;32m   9302\u001b[0m \u001b[39mif\u001b[39;00m try_cast \u001b[39mis\u001b[39;00m \u001b[39mnot\u001b[39;00m lib\u001b[39m.\u001b[39mno_default:\n\u001b[0;32m   9303\u001b[0m     warnings\u001b[39m.\u001b[39mwarn(\n\u001b[0;32m   9304\u001b[0m         \u001b[39m\"\u001b[39m\u001b[39mtry_cast keyword is deprecated and will be removed in a \u001b[39m\u001b[39m\"\u001b[39m\n\u001b[0;32m   9305\u001b[0m         \u001b[39m\"\u001b[39m\u001b[39mfuture version.\u001b[39m\u001b[39m\"\u001b[39m,\n\u001b[0;32m   9306\u001b[0m         \u001b[39mFutureWarning\u001b[39;00m,\n\u001b[0;32m   9307\u001b[0m         stacklevel\u001b[39m=\u001b[39mfind_stack_level(),\n\u001b[0;32m   9308\u001b[0m     )\n\u001b[1;32m-> 9310\u001b[0m \u001b[39mreturn\u001b[39;00m \u001b[39mself\u001b[39;49m\u001b[39m.\u001b[39;49m_where(cond, other, inplace, axis, level, errors\u001b[39m=\u001b[39;49merrors)\n",
      "File \u001b[1;32mc:\\Users\\Ane Zubieta\\AppData\\Local\\Programs\\Python\\Python311\\Lib\\site-packages\\pandas\\core\\generic.py:9077\u001b[0m, in \u001b[0;36mNDFrame._where\u001b[1;34m(self, cond, other, inplace, axis, level, errors)\u001b[0m\n\u001b[0;32m   9074\u001b[0m     cond \u001b[39m=\u001b[39m cond\u001b[39m.\u001b[39mastype(\u001b[39mbool\u001b[39m)\n\u001b[0;32m   9076\u001b[0m cond \u001b[39m=\u001b[39m \u001b[39m-\u001b[39mcond \u001b[39mif\u001b[39;00m inplace \u001b[39melse\u001b[39;00m cond\n\u001b[1;32m-> 9077\u001b[0m cond \u001b[39m=\u001b[39m cond\u001b[39m.\u001b[39;49mreindex(\u001b[39mself\u001b[39;49m\u001b[39m.\u001b[39;49m_info_axis, axis\u001b[39m=\u001b[39;49m\u001b[39mself\u001b[39;49m\u001b[39m.\u001b[39;49m_info_axis_number, copy\u001b[39m=\u001b[39;49m\u001b[39mFalse\u001b[39;49;00m)\n\u001b[0;32m   9079\u001b[0m \u001b[39m# try to align with other\u001b[39;00m\n\u001b[0;32m   9080\u001b[0m \u001b[39mif\u001b[39;00m \u001b[39misinstance\u001b[39m(other, NDFrame):\n\u001b[0;32m   9081\u001b[0m \n\u001b[0;32m   9082\u001b[0m     \u001b[39m# align with me\u001b[39;00m\n",
      "File \u001b[1;32mc:\\Users\\Ane Zubieta\\AppData\\Local\\Programs\\Python\\Python311\\Lib\\site-packages\\pandas\\util\\_decorators.py:324\u001b[0m, in \u001b[0;36mrewrite_axis_style_signature.<locals>.decorate.<locals>.wrapper\u001b[1;34m(*args, **kwargs)\u001b[0m\n\u001b[0;32m    322\u001b[0m \u001b[39m@wraps\u001b[39m(func)\n\u001b[0;32m    323\u001b[0m \u001b[39mdef\u001b[39;00m \u001b[39mwrapper\u001b[39m(\u001b[39m*\u001b[39margs, \u001b[39m*\u001b[39m\u001b[39m*\u001b[39mkwargs) \u001b[39m-\u001b[39m\u001b[39m>\u001b[39m Callable[\u001b[39m.\u001b[39m\u001b[39m.\u001b[39m\u001b[39m.\u001b[39m, Any]:\n\u001b[1;32m--> 324\u001b[0m     \u001b[39mreturn\u001b[39;00m func(\u001b[39m*\u001b[39;49margs, \u001b[39m*\u001b[39;49m\u001b[39m*\u001b[39;49mkwargs)\n",
      "File \u001b[1;32mc:\\Users\\Ane Zubieta\\AppData\\Local\\Programs\\Python\\Python311\\Lib\\site-packages\\pandas\\core\\frame.py:4804\u001b[0m, in \u001b[0;36mDataFrame.reindex\u001b[1;34m(self, *args, **kwargs)\u001b[0m\n\u001b[0;32m   4802\u001b[0m kwargs\u001b[39m.\u001b[39mpop(\u001b[39m\"\u001b[39m\u001b[39maxis\u001b[39m\u001b[39m\"\u001b[39m, \u001b[39mNone\u001b[39;00m)\n\u001b[0;32m   4803\u001b[0m kwargs\u001b[39m.\u001b[39mpop(\u001b[39m\"\u001b[39m\u001b[39mlabels\u001b[39m\u001b[39m\"\u001b[39m, \u001b[39mNone\u001b[39;00m)\n\u001b[1;32m-> 4804\u001b[0m \u001b[39mreturn\u001b[39;00m \u001b[39msuper\u001b[39;49m()\u001b[39m.\u001b[39;49mreindex(\u001b[39m*\u001b[39;49m\u001b[39m*\u001b[39;49mkwargs)\n",
      "File \u001b[1;32mc:\\Users\\Ane Zubieta\\AppData\\Local\\Programs\\Python\\Python311\\Lib\\site-packages\\pandas\\core\\generic.py:4966\u001b[0m, in \u001b[0;36mNDFrame.reindex\u001b[1;34m(self, *args, **kwargs)\u001b[0m\n\u001b[0;32m   4963\u001b[0m     \u001b[39mreturn\u001b[39;00m \u001b[39mself\u001b[39m\u001b[39m.\u001b[39m_reindex_multi(axes, copy, fill_value)\n\u001b[0;32m   4965\u001b[0m \u001b[39m# perform the reindex on the axes\u001b[39;00m\n\u001b[1;32m-> 4966\u001b[0m \u001b[39mreturn\u001b[39;00m \u001b[39mself\u001b[39;49m\u001b[39m.\u001b[39;49m_reindex_axes(\n\u001b[0;32m   4967\u001b[0m     axes, level, limit, tolerance, method, fill_value, copy\n\u001b[0;32m   4968\u001b[0m )\u001b[39m.\u001b[39m__finalize__(\u001b[39mself\u001b[39m, method\u001b[39m=\u001b[39m\u001b[39m\"\u001b[39m\u001b[39mreindex\u001b[39m\u001b[39m\"\u001b[39m)\n",
      "File \u001b[1;32mc:\\Users\\Ane Zubieta\\AppData\\Local\\Programs\\Python\\Python311\\Lib\\site-packages\\pandas\\core\\frame.py:4617\u001b[0m, in \u001b[0;36mDataFrame._reindex_axes\u001b[1;34m(self, axes, level, limit, tolerance, method, fill_value, copy)\u001b[0m\n\u001b[0;32m   4615\u001b[0m columns \u001b[39m=\u001b[39m axes[\u001b[39m\"\u001b[39m\u001b[39mcolumns\u001b[39m\u001b[39m\"\u001b[39m]\n\u001b[0;32m   4616\u001b[0m \u001b[39mif\u001b[39;00m columns \u001b[39mis\u001b[39;00m \u001b[39mnot\u001b[39;00m \u001b[39mNone\u001b[39;00m:\n\u001b[1;32m-> 4617\u001b[0m     frame \u001b[39m=\u001b[39m frame\u001b[39m.\u001b[39;49m_reindex_columns(\n\u001b[0;32m   4618\u001b[0m         columns, method, copy, level, fill_value, limit, tolerance\n\u001b[0;32m   4619\u001b[0m     )\n\u001b[0;32m   4621\u001b[0m index \u001b[39m=\u001b[39m axes[\u001b[39m\"\u001b[39m\u001b[39mindex\u001b[39m\u001b[39m\"\u001b[39m]\n\u001b[0;32m   4622\u001b[0m \u001b[39mif\u001b[39;00m index \u001b[39mis\u001b[39;00m \u001b[39mnot\u001b[39;00m \u001b[39mNone\u001b[39;00m:\n",
      "File \u001b[1;32mc:\\Users\\Ane Zubieta\\AppData\\Local\\Programs\\Python\\Python311\\Lib\\site-packages\\pandas\\core\\frame.py:4662\u001b[0m, in \u001b[0;36mDataFrame._reindex_columns\u001b[1;34m(self, new_columns, method, copy, level, fill_value, limit, tolerance)\u001b[0m\n\u001b[0;32m   4649\u001b[0m \u001b[39mdef\u001b[39;00m \u001b[39m_reindex_columns\u001b[39m(\n\u001b[0;32m   4650\u001b[0m     \u001b[39mself\u001b[39m,\n\u001b[0;32m   4651\u001b[0m     new_columns,\n\u001b[1;32m   (...)\u001b[0m\n\u001b[0;32m   4657\u001b[0m     tolerance\u001b[39m=\u001b[39m\u001b[39mNone\u001b[39;00m,\n\u001b[0;32m   4658\u001b[0m ):\n\u001b[0;32m   4659\u001b[0m     new_columns, indexer \u001b[39m=\u001b[39m \u001b[39mself\u001b[39m\u001b[39m.\u001b[39mcolumns\u001b[39m.\u001b[39mreindex(\n\u001b[0;32m   4660\u001b[0m         new_columns, method\u001b[39m=\u001b[39mmethod, level\u001b[39m=\u001b[39mlevel, limit\u001b[39m=\u001b[39mlimit, tolerance\u001b[39m=\u001b[39mtolerance\n\u001b[0;32m   4661\u001b[0m     )\n\u001b[1;32m-> 4662\u001b[0m     \u001b[39mreturn\u001b[39;00m \u001b[39mself\u001b[39;49m\u001b[39m.\u001b[39;49m_reindex_with_indexers(\n\u001b[0;32m   4663\u001b[0m         {\u001b[39m1\u001b[39;49m: [new_columns, indexer]},\n\u001b[0;32m   4664\u001b[0m         copy\u001b[39m=\u001b[39;49mcopy,\n\u001b[0;32m   4665\u001b[0m         fill_value\u001b[39m=\u001b[39;49mfill_value,\n\u001b[0;32m   4666\u001b[0m         allow_dups\u001b[39m=\u001b[39;49m\u001b[39mFalse\u001b[39;49;00m,\n\u001b[0;32m   4667\u001b[0m     )\n",
      "File \u001b[1;32mc:\\Users\\Ane Zubieta\\AppData\\Local\\Programs\\Python\\Python311\\Lib\\site-packages\\pandas\\core\\generic.py:5032\u001b[0m, in \u001b[0;36mNDFrame._reindex_with_indexers\u001b[1;34m(self, reindexers, fill_value, copy, allow_dups)\u001b[0m\n\u001b[0;32m   5029\u001b[0m     indexer \u001b[39m=\u001b[39m ensure_platform_int(indexer)\n\u001b[0;32m   5031\u001b[0m \u001b[39m# TODO: speed up on homogeneous DataFrame objects (see _reindex_multi)\u001b[39;00m\n\u001b[1;32m-> 5032\u001b[0m new_data \u001b[39m=\u001b[39m new_data\u001b[39m.\u001b[39;49mreindex_indexer(\n\u001b[0;32m   5033\u001b[0m     index,\n\u001b[0;32m   5034\u001b[0m     indexer,\n\u001b[0;32m   5035\u001b[0m     axis\u001b[39m=\u001b[39;49mbaxis,\n\u001b[0;32m   5036\u001b[0m     fill_value\u001b[39m=\u001b[39;49mfill_value,\n\u001b[0;32m   5037\u001b[0m     allow_dups\u001b[39m=\u001b[39;49mallow_dups,\n\u001b[0;32m   5038\u001b[0m     copy\u001b[39m=\u001b[39;49mcopy,\n\u001b[0;32m   5039\u001b[0m )\n\u001b[0;32m   5040\u001b[0m \u001b[39m# If we've made a copy once, no need to make another one\u001b[39;00m\n\u001b[0;32m   5041\u001b[0m copy \u001b[39m=\u001b[39m \u001b[39mFalse\u001b[39;00m\n",
      "File \u001b[1;32mc:\\Users\\Ane Zubieta\\AppData\\Local\\Programs\\Python\\Python311\\Lib\\site-packages\\pandas\\core\\internals\\managers.py:679\u001b[0m, in \u001b[0;36mBaseBlockManager.reindex_indexer\u001b[1;34m(self, new_axis, indexer, axis, fill_value, allow_dups, copy, consolidate, only_slice, use_na_proxy)\u001b[0m\n\u001b[0;32m    677\u001b[0m \u001b[39m# some axes don't allow reindexing with dups\u001b[39;00m\n\u001b[0;32m    678\u001b[0m \u001b[39mif\u001b[39;00m \u001b[39mnot\u001b[39;00m allow_dups:\n\u001b[1;32m--> 679\u001b[0m     \u001b[39mself\u001b[39;49m\u001b[39m.\u001b[39;49maxes[axis]\u001b[39m.\u001b[39;49m_validate_can_reindex(indexer)\n\u001b[0;32m    681\u001b[0m \u001b[39mif\u001b[39;00m axis \u001b[39m>\u001b[39m\u001b[39m=\u001b[39m \u001b[39mself\u001b[39m\u001b[39m.\u001b[39mndim:\n\u001b[0;32m    682\u001b[0m     \u001b[39mraise\u001b[39;00m \u001b[39mIndexError\u001b[39;00m(\u001b[39m\"\u001b[39m\u001b[39mRequested axis not found in manager\u001b[39m\u001b[39m\"\u001b[39m)\n",
      "File \u001b[1;32mc:\\Users\\Ane Zubieta\\AppData\\Local\\Programs\\Python\\Python311\\Lib\\site-packages\\pandas\\core\\indexes\\base.py:4107\u001b[0m, in \u001b[0;36mIndex._validate_can_reindex\u001b[1;34m(self, indexer)\u001b[0m\n\u001b[0;32m   4105\u001b[0m \u001b[39m# trying to reindex on an axis with duplicates\u001b[39;00m\n\u001b[0;32m   4106\u001b[0m \u001b[39mif\u001b[39;00m \u001b[39mnot\u001b[39;00m \u001b[39mself\u001b[39m\u001b[39m.\u001b[39m_index_as_unique \u001b[39mand\u001b[39;00m \u001b[39mlen\u001b[39m(indexer):\n\u001b[1;32m-> 4107\u001b[0m     \u001b[39mraise\u001b[39;00m \u001b[39mValueError\u001b[39;00m(\u001b[39m\"\u001b[39m\u001b[39mcannot reindex on an axis with duplicate labels\u001b[39m\u001b[39m\"\u001b[39m)\n",
      "\u001b[1;31mValueError\u001b[0m: cannot reindex on an axis with duplicate labels"
     ]
    }
   ],
   "source": [
    "resultados = finaldf[finaldf[\"PassengerId\"] % 3 == 0].head(10)"
   ]
  },
  {
   "cell_type": "code",
   "execution_count": null,
   "id": "e0fb02d9",
   "metadata": {},
   "outputs": [],
   "source": []
  },
  {
   "cell_type": "code",
   "execution_count": null,
   "id": "0910b0e6",
   "metadata": {},
   "outputs": [],
   "source": []
  },
  {
   "cell_type": "markdown",
   "id": "8f8dc46f",
   "metadata": {},
   "source": [
    "### Ejercicio 13:\n",
    "- ¿Cuales son los apellidos de los pasajeros que son mujeres y menores de 20 años?"
   ]
  },
  {
   "cell_type": "code",
   "execution_count": null,
   "id": "6f05d72a",
   "metadata": {},
   "outputs": [],
   "source": []
  },
  {
   "cell_type": "code",
   "execution_count": null,
   "id": "bcfb6b10",
   "metadata": {},
   "outputs": [],
   "source": []
  },
  {
   "cell_type": "code",
   "execution_count": null,
   "id": "115a919c",
   "metadata": {},
   "outputs": [],
   "source": []
  },
  {
   "cell_type": "markdown",
   "id": "0d19ff1d",
   "metadata": {},
   "source": [
    "### Ejercicio 14:\n",
    "- ¿Cuales son los apellidos de los pasajeros que son hombres y mayor de 45 años?"
   ]
  },
  {
   "cell_type": "code",
   "execution_count": null,
   "id": "fa9ec747",
   "metadata": {},
   "outputs": [],
   "source": []
  },
  {
   "cell_type": "code",
   "execution_count": null,
   "id": "73540b18",
   "metadata": {},
   "outputs": [],
   "source": []
  },
  {
   "cell_type": "code",
   "execution_count": null,
   "id": "3620716c",
   "metadata": {},
   "outputs": [],
   "source": []
  },
  {
   "cell_type": "markdown",
   "id": "e3d2ddc1",
   "metadata": {},
   "source": [
    "### Ejercicio 15:\n",
    "- Compara si coinciden los apellidos generados en los ejercicios anteriores."
   ]
  },
  {
   "cell_type": "code",
   "execution_count": null,
   "id": "0bd8f994",
   "metadata": {},
   "outputs": [],
   "source": []
  },
  {
   "cell_type": "code",
   "execution_count": null,
   "id": "9ad8721d",
   "metadata": {},
   "outputs": [],
   "source": []
  },
  {
   "cell_type": "code",
   "execution_count": null,
   "id": "ea6f74eb",
   "metadata": {},
   "outputs": [],
   "source": []
  },
  {
   "cell_type": "markdown",
   "id": "591cb3a1",
   "metadata": {},
   "source": [
    "### Ejercicio 16:\n",
    "- Encuentra los 10 pasajeros que no sobrevivieron más jovenes e imprime cuantos son hombres y cuantos son mujeres."
   ]
  },
  {
   "cell_type": "code",
   "execution_count": null,
   "id": "c5ec7a5c",
   "metadata": {},
   "outputs": [],
   "source": []
  },
  {
   "cell_type": "code",
   "execution_count": null,
   "id": "74891e2c",
   "metadata": {},
   "outputs": [],
   "source": []
  },
  {
   "cell_type": "code",
   "execution_count": null,
   "id": "bef9f278",
   "metadata": {},
   "outputs": [],
   "source": []
  },
  {
   "cell_type": "markdown",
   "id": "18ec5580",
   "metadata": {},
   "source": [
    "### Ejercicio 17:\n",
    "-  En un DataFrame muestra 3 pasajeros que sean hombres y 3 que sean mujeres, que hayan sobrevivido y para cada clase de la columna Pclass."
   ]
  },
  {
   "cell_type": "code",
   "execution_count": null,
   "id": "ce0a95a3",
   "metadata": {},
   "outputs": [],
   "source": []
  },
  {
   "cell_type": "code",
   "execution_count": null,
   "id": "c6704274",
   "metadata": {},
   "outputs": [],
   "source": []
  },
  {
   "cell_type": "code",
   "execution_count": null,
   "id": "52e701cc",
   "metadata": {},
   "outputs": [],
   "source": []
  },
  {
   "cell_type": "markdown",
   "id": "62aa7e57",
   "metadata": {},
   "source": [
    "### Ejercicio 18:\n",
    "- Obtener el tipo de elementos de cada columna y convierte los que sean \"int64\" a \"int32\". Evalua la memoria que consume antes y después de convertir las columnas y comenta la diferencia."
   ]
  },
  {
   "cell_type": "code",
   "execution_count": null,
   "id": "2adde1e4",
   "metadata": {},
   "outputs": [],
   "source": []
  },
  {
   "cell_type": "code",
   "execution_count": null,
   "id": "1e8c0d95",
   "metadata": {},
   "outputs": [],
   "source": []
  },
  {
   "cell_type": "code",
   "execution_count": null,
   "id": "94f2d200",
   "metadata": {},
   "outputs": [],
   "source": []
  },
  {
   "cell_type": "markdown",
   "id": "99bb5d71",
   "metadata": {},
   "source": [
    "### Ejercicio 19:\n",
    "- Encuentra a los pasajeros de la clase 1 y 3 entre 20 y 25 años y comprueba si son más hombres o mujeres."
   ]
  },
  {
   "cell_type": "code",
   "execution_count": null,
   "id": "967bfec6",
   "metadata": {},
   "outputs": [],
   "source": []
  },
  {
   "cell_type": "code",
   "execution_count": null,
   "id": "a6265d21",
   "metadata": {},
   "outputs": [],
   "source": []
  },
  {
   "cell_type": "code",
   "execution_count": null,
   "id": "8d36a925",
   "metadata": {},
   "outputs": [],
   "source": []
  },
  {
   "cell_type": "markdown",
   "id": "61a74deb",
   "metadata": {},
   "source": [
    "### Ejercicio 20:\n",
    "- Agrega una nueva columna al DataFrame que se llame: \"Rango edad\" y va a categorizar de la siguiente manera:\n",
    "    - Niño < 11 años\n",
    "    - Joven < 18 años\n",
    "    - Adulto < 50 años\n",
    "    - Mayor >= 50 años"
   ]
  },
  {
   "cell_type": "code",
   "execution_count": null,
   "id": "34ba18c7",
   "metadata": {},
   "outputs": [],
   "source": []
  },
  {
   "cell_type": "code",
   "execution_count": null,
   "id": "62e9cf3f",
   "metadata": {},
   "outputs": [],
   "source": []
  },
  {
   "cell_type": "code",
   "execution_count": null,
   "id": "e7a9330a",
   "metadata": {},
   "outputs": [],
   "source": []
  },
  {
   "cell_type": "markdown",
   "id": "675ad30a",
   "metadata": {},
   "source": [
    "### Ejercicio 21:\n",
    "- Encontrar a los pasajeros \"jovenes\" y \"mayores\" de la clase 2 y 3 que hayan sobrevivido. Imprimir los 10 primeros."
   ]
  },
  {
   "cell_type": "code",
   "execution_count": null,
   "id": "1b6181a3",
   "metadata": {},
   "outputs": [],
   "source": []
  },
  {
   "cell_type": "code",
   "execution_count": null,
   "id": "e9455a78",
   "metadata": {},
   "outputs": [],
   "source": []
  },
  {
   "cell_type": "code",
   "execution_count": null,
   "id": "c596d6f4",
   "metadata": {},
   "outputs": [],
   "source": []
  },
  {
   "cell_type": "markdown",
   "id": "2d55b763",
   "metadata": {},
   "source": [
    "### Ejercicio 22:\n",
    "- Encuentra la edad promedio de todos los pasajeros y reemmplazala por los NaN en la columna de Age y ejecuta el ejercicio anterior."
   ]
  },
  {
   "cell_type": "code",
   "execution_count": null,
   "id": "e3685698",
   "metadata": {},
   "outputs": [],
   "source": []
  },
  {
   "cell_type": "code",
   "execution_count": null,
   "id": "505533c3",
   "metadata": {},
   "outputs": [],
   "source": []
  },
  {
   "cell_type": "code",
   "execution_count": null,
   "id": "23d0fdb9",
   "metadata": {},
   "outputs": [],
   "source": []
  },
  {
   "cell_type": "markdown",
   "id": "cf4a4f37",
   "metadata": {},
   "source": [
    "### Ejercicio 23:\n",
    "- Cambia a español la columna **`Sex`**."
   ]
  },
  {
   "cell_type": "code",
   "execution_count": null,
   "id": "31ce34ac",
   "metadata": {},
   "outputs": [],
   "source": []
  },
  {
   "cell_type": "code",
   "execution_count": null,
   "id": "6bd14502",
   "metadata": {},
   "outputs": [],
   "source": []
  },
  {
   "cell_type": "code",
   "execution_count": null,
   "id": "204b46f3",
   "metadata": {},
   "outputs": [],
   "source": []
  },
  {
   "cell_type": "markdown",
   "id": "5c9834c8",
   "metadata": {},
   "source": [
    "### Ejercicio 24:\n",
    "- Convierte a mayusculas todas las columnas que los valores sean cadenas."
   ]
  },
  {
   "cell_type": "code",
   "execution_count": null,
   "id": "da755f85",
   "metadata": {},
   "outputs": [],
   "source": []
  },
  {
   "cell_type": "code",
   "execution_count": null,
   "id": "128e274f",
   "metadata": {},
   "outputs": [],
   "source": []
  },
  {
   "cell_type": "code",
   "execution_count": null,
   "id": "23d4dda3",
   "metadata": {},
   "outputs": [],
   "source": []
  },
  {
   "cell_type": "markdown",
   "id": "c56e5a3b",
   "metadata": {},
   "source": [
    "### Ejercicio 25:\n",
    "- Agrupa por sexo y rango de edad y encuentra la edad promedio."
   ]
  },
  {
   "cell_type": "code",
   "execution_count": null,
   "id": "4d8c243e",
   "metadata": {},
   "outputs": [],
   "source": []
  },
  {
   "cell_type": "code",
   "execution_count": null,
   "id": "dff1b94f",
   "metadata": {},
   "outputs": [],
   "source": []
  },
  {
   "cell_type": "code",
   "execution_count": null,
   "id": "f8067c0b",
   "metadata": {},
   "outputs": [],
   "source": []
  },
  {
   "cell_type": "markdown",
   "id": "cd9632e8",
   "metadata": {},
   "source": [
    "### Ejercicio 26:\n",
    "- Divide la columna name en las siguientes columnas:\n",
    "    - Mrs/Miss\n",
    "    - Apellido\n",
    "    - Nombre(s)\n",
    "    \n",
    "**Nota: Ignora el resto de información.**"
   ]
  },
  {
   "cell_type": "code",
   "execution_count": null,
   "id": "8e1f2ef6",
   "metadata": {},
   "outputs": [],
   "source": []
  },
  {
   "cell_type": "code",
   "execution_count": null,
   "id": "6bec4f40",
   "metadata": {},
   "outputs": [],
   "source": []
  },
  {
   "cell_type": "code",
   "execution_count": null,
   "id": "f6d8f68f",
   "metadata": {},
   "outputs": [],
   "source": []
  }
 ],
 "metadata": {
  "kernelspec": {
   "display_name": "Python 3 (ipykernel)",
   "language": "python",
   "name": "python3"
  },
  "language_info": {
   "codemirror_mode": {
    "name": "ipython",
    "version": 3
   },
   "file_extension": ".py",
   "mimetype": "text/x-python",
   "name": "python",
   "nbconvert_exporter": "python",
   "pygments_lexer": "ipython3",
   "version": "3.11.0"
  }
 },
 "nbformat": 4,
 "nbformat_minor": 5
}
