{
 "cells": [
  {
   "cell_type": "markdown",
   "id": "221cc933",
   "metadata": {},
   "source": [
    "## NumPy\n",
    "\n",
    "**`NumPy`** es una librería utilizada para el manejo de arreglos (arrays) y matrices multidimensionales, cuenta con múltiples funciones para trabajar con estos objetos. Una matriz en **`NumPy`** es una cuadricula de valores, todos del mismo tipo e indexados.\n",
    "\n",
    "```python\n",
    "import numpy as np\n",
    "```"
   ]
  },
  {
   "cell_type": "code",
   "execution_count": 4,
   "id": "04664844",
   "metadata": {},
   "outputs": [],
   "source": [
    "import numpy as np"
   ]
  },
  {
   "cell_type": "code",
   "execution_count": 5,
   "id": "e9d1c7c9",
   "metadata": {},
   "outputs": [],
   "source": [
    "lista = [1, 2, 3]"
   ]
  },
  {
   "cell_type": "code",
   "execution_count": 6,
   "id": "f1df22c7",
   "metadata": {},
   "outputs": [
    {
     "data": {
      "text/plain": [
       "list"
      ]
     },
     "execution_count": 6,
     "metadata": {},
     "output_type": "execute_result"
    }
   ],
   "source": [
    "type(lista)"
   ]
  },
  {
   "cell_type": "code",
   "execution_count": 7,
   "id": "4bd2b057",
   "metadata": {},
   "outputs": [
    {
     "data": {
      "text/plain": [
       "numpy.ndarray"
      ]
     },
     "execution_count": 7,
     "metadata": {},
     "output_type": "execute_result"
    }
   ],
   "source": [
    "# Usando np.array() podemos castear una lista a un objeto numpy.ndarray\n",
    "type(np.array(lista))"
   ]
  },
  {
   "cell_type": "markdown",
   "id": "5cd70c79",
   "metadata": {},
   "source": [
    "### Arreglos (arrays) de 1 dimensión (vector).\n",
    "\n",
    "| Método           | Atributo   |\n",
    "|------------------|------------|\n",
    "|**`.argmin()`**   |**`.dtype`**|\n",
    "|**`.argmax()`**   |**`.ndim`** |\n",
    "|**`.cumsum()`**   |**`.size`** |\n",
    "|**`.cumprod()`**  |**`.shape`**|\n",
    "|**`.dot()`**      | **`.T`**   |\n",
    "|**`.flatten()`**  |            |\n",
    "|**`.max()`**      |            |\n",
    "|**`.min()`**      |            |\n",
    "|**`.mean()`**     |            |\n",
    "|**`.reshape()`**  |            |\n",
    "|**`.transpose()`**|            |\n",
    "|**`.sum()`**      |            |\n",
    "|**`.sort()`**     |            |\n",
    "|**`.tolist()`**   |            |"
   ]
  },
  {
   "cell_type": "code",
   "execution_count": 8,
   "id": "32d5ed80",
   "metadata": {},
   "outputs": [
    {
     "data": {
      "text/plain": [
       "array([-2. ,  4. ,  1. ,  3.5])"
      ]
     },
     "execution_count": 8,
     "metadata": {},
     "output_type": "execute_result"
    }
   ],
   "source": [
    "vector = [-2, 4, 1, 3.5]\n",
    "\n",
    "vector = np.array(vector)\n",
    "\n",
    "vector"
   ]
  },
  {
   "cell_type": "code",
   "execution_count": 9,
   "id": "90b68668",
   "metadata": {},
   "outputs": [
    {
     "name": "stdout",
     "output_type": "stream",
     "text": [
      "0\n",
      "1\n"
     ]
    }
   ],
   "source": [
    "# .argmin() y .argmax() retornan el indice del minimo y del maximo respectivamente\n",
    "print(vector.argmin())\n",
    "print(vector.argmax())"
   ]
  },
  {
   "cell_type": "code",
   "execution_count": 10,
   "id": "c6fff054",
   "metadata": {},
   "outputs": [
    {
     "name": "stdout",
     "output_type": "stream",
     "text": [
      "[-2.   2.   3.   6.5]\n",
      "[ -2.  -8.  -8. -28.]\n"
     ]
    }
   ],
   "source": [
    "# .cumsum() y cumprod() retorna un np.array() con la suma acumulada y el producto acumulado respectivamente\n",
    "\n",
    "print(vector.cumsum())\n",
    "print(vector.cumprod())"
   ]
  },
  {
   "cell_type": "code",
   "execution_count": 11,
   "id": "836f163c",
   "metadata": {},
   "outputs": [
    {
     "data": {
      "text/plain": [
       "array([[-2. ,  4. ,  1. ,  3.5]])"
      ]
     },
     "execution_count": 11,
     "metadata": {},
     "output_type": "execute_result"
    }
   ],
   "source": [
    "# .reshape() cambia la \"forma\" de la matriz\n",
    "\n",
    "matriz_1 = vector.reshape(1, 4)\n",
    "\n",
    "matriz_1"
   ]
  },
  {
   "cell_type": "code",
   "execution_count": 12,
   "id": "5360e7b1",
   "metadata": {},
   "outputs": [
    {
     "name": "stdout",
     "output_type": "stream",
     "text": [
      "[[-2. ]\n",
      " [ 4. ]\n",
      " [ 1. ]\n",
      " [ 3.5]]\n",
      "--------------------\n",
      "[[-2. ]\n",
      " [ 4. ]\n",
      " [ 1. ]\n",
      " [ 3.5]]\n"
     ]
    }
   ],
   "source": [
    "# .transpose() hace la transpuesta de la matriz, también se puede usar .T\n",
    "\n",
    "print(matriz_1.transpose())\n",
    "\n",
    "print(\"-\"*20)\n",
    "\n",
    "print(matriz_1.T)"
   ]
  },
  {
   "cell_type": "code",
   "execution_count": 13,
   "id": "cab9c78e",
   "metadata": {},
   "outputs": [
    {
     "data": {
      "text/plain": [
       "[[-2.0, 4.0, 1.0, 3.5]]"
      ]
     },
     "execution_count": 13,
     "metadata": {},
     "output_type": "execute_result"
    }
   ],
   "source": [
    "# .tolist() retorna el array en una lista\n",
    "\n",
    "matriz_1.tolist()"
   ]
  },
  {
   "cell_type": "code",
   "execution_count": 14,
   "id": "8e97e799",
   "metadata": {},
   "outputs": [
    {
     "data": {
      "text/plain": [
       "[array([-2. ,  4. ,  1. ,  3.5])]"
      ]
     },
     "execution_count": 14,
     "metadata": {},
     "output_type": "execute_result"
    }
   ],
   "source": [
    "list(matriz_1)"
   ]
  },
  {
   "cell_type": "code",
   "execution_count": 15,
   "id": "cc4e66c9",
   "metadata": {},
   "outputs": [
    {
     "data": {
      "text/plain": [
       "array([-2. ,  4. ,  1. ,  3.5])"
      ]
     },
     "execution_count": 15,
     "metadata": {},
     "output_type": "execute_result"
    }
   ],
   "source": [
    "vector"
   ]
  },
  {
   "cell_type": "code",
   "execution_count": 16,
   "id": "d23e4452",
   "metadata": {},
   "outputs": [
    {
     "data": {
      "text/plain": [
       "array([[-2. ,  4. ,  1. ,  3.5]])"
      ]
     },
     "execution_count": 16,
     "metadata": {},
     "output_type": "execute_result"
    }
   ],
   "source": [
    "matriz_1"
   ]
  },
  {
   "cell_type": "code",
   "execution_count": 17,
   "id": "b9c5aa51",
   "metadata": {},
   "outputs": [
    {
     "data": {
      "text/plain": [
       "array([-2. ,  4. ,  1. ,  3.5])"
      ]
     },
     "execution_count": 17,
     "metadata": {},
     "output_type": "execute_result"
    }
   ],
   "source": [
    "# .flatten() retorna un vector plano con los elementos de la matriz\n",
    "\n",
    "matriz_1.flatten()"
   ]
  },
  {
   "cell_type": "code",
   "execution_count": 18,
   "id": "129dc8d4",
   "metadata": {},
   "outputs": [
    {
     "name": "stdout",
     "output_type": "stream",
     "text": [
      "Antes de .sort() [-2.   4.   1.   3.5]\n",
      "Después de .sort() [-2.   1.   3.5  4. ]\n"
     ]
    }
   ],
   "source": [
    "# .sort() ordena la matriz de menor a mayor, lo hace in-place\n",
    "\n",
    "print(\"Antes de .sort()\", vector)\n",
    "\n",
    "vector.sort()\n",
    "\n",
    "print(\"Después de .sort()\", vector)"
   ]
  },
  {
   "cell_type": "code",
   "execution_count": 19,
   "id": "314df444",
   "metadata": {},
   "outputs": [
    {
     "data": {
      "text/plain": [
       "array([-2. ,  1. ,  3.5,  4. ])"
      ]
     },
     "execution_count": 19,
     "metadata": {},
     "output_type": "execute_result"
    }
   ],
   "source": [
    "vector"
   ]
  },
  {
   "cell_type": "code",
   "execution_count": 20,
   "id": "af24eeb6",
   "metadata": {},
   "outputs": [
    {
     "data": {
      "text/plain": [
       "1"
      ]
     },
     "execution_count": 20,
     "metadata": {},
     "output_type": "execute_result"
    }
   ],
   "source": [
    "# .ndim retorna el número de dimensiones\n",
    "\n",
    "vector.ndim"
   ]
  },
  {
   "cell_type": "code",
   "execution_count": 21,
   "id": "a826a8a7",
   "metadata": {},
   "outputs": [
    {
     "data": {
      "text/plain": [
       "4"
      ]
     },
     "execution_count": 21,
     "metadata": {},
     "output_type": "execute_result"
    }
   ],
   "source": [
    "# .size retorna el número de elementos\n",
    "\n",
    "vector.size"
   ]
  },
  {
   "cell_type": "code",
   "execution_count": 22,
   "id": "9c100a65",
   "metadata": {},
   "outputs": [
    {
     "data": {
      "text/plain": [
       "(4,)"
      ]
     },
     "execution_count": 22,
     "metadata": {},
     "output_type": "execute_result"
    }
   ],
   "source": [
    "# .shape retorna en una tupla las dimesiones de la matriz\n",
    "\n",
    "vector.shape"
   ]
  },
  {
   "cell_type": "code",
   "execution_count": 23,
   "id": "5bca1414",
   "metadata": {},
   "outputs": [
    {
     "data": {
      "text/plain": [
       "dtype('float64')"
      ]
     },
     "execution_count": 23,
     "metadata": {},
     "output_type": "execute_result"
    }
   ],
   "source": [
    "# .dtype retorna el tipo de dato de los elementos de la matriz\n",
    "\n",
    "vector.dtype"
   ]
  },
  {
   "cell_type": "markdown",
   "id": "fd3b3064",
   "metadata": {},
   "source": [
    "### Arreglos (arrays) de 2 dimensiones (matrices).\n",
    "\n",
    "Comparte los métodos y atributos de los vectores por que son de la misma clase.\n",
    "\n",
    "Existen varias funciones para inicializar matrices o arrays:\n",
    "\n",
    "| Función                  | Descripción                                                                             |\n",
    "|--------------------------|-----------------------------------------------------------------------------------------|\n",
    "|**`np.empty((n, m))`**    | Inicializa una matriz **nxm** vacia.                                                    |\n",
    "|**`np.zeros((n, m))`**    | Inicializa una matriz **nxm** de ceros.                                                 |\n",
    "|**`np.ones((n, m))`**     | Inicializa una matriz **nxm** de unos.                                                  |\n",
    "|**`np.eye(n)`**           | Inicializa la matriz identidad de orden **n**.                                          |\n",
    "|**`np.identity(n)`**      | Inicializa la matriz identidad de orden **n**.                                          |\n",
    "|**`np.full(shape, elem)`**| Inicializa una matriz con la forma de **`shape`** usando los elementos de **`elem`**.   |\n",
    "|**`np.linspace(a, b, p)`**| Inicializa un array de **`p`** elementos entre **`a`** y **`b`**, todos **x-distantes**.|"
   ]
  },
  {
   "cell_type": "code",
   "execution_count": 24,
   "id": "4e7e29d5",
   "metadata": {},
   "outputs": [
    {
     "data": {
      "text/plain": [
       "array([[ 1,  2,  3, 10],\n",
       "       [ 4,  5,  6, 20],\n",
       "       [ 7,  8,  9, 30]])"
      ]
     },
     "execution_count": 24,
     "metadata": {},
     "output_type": "execute_result"
    }
   ],
   "source": [
    "matriz = np.array([[1, 2, 3, 10], \n",
    "                   [4, 5, 6, 20], \n",
    "                   [7, 8, 9, 30]])\n",
    "\n",
    "matriz"
   ]
  },
  {
   "cell_type": "code",
   "execution_count": 25,
   "id": "7a0fc954",
   "metadata": {},
   "outputs": [
    {
     "name": "stdout",
     "output_type": "stream",
     "text": [
      "[[ 1  2  3 10]\n",
      " [ 4  5  6 20]\n",
      " [ 7  8  9 30]]\n"
     ]
    }
   ],
   "source": [
    "print(matriz)"
   ]
  },
  {
   "cell_type": "code",
   "execution_count": 26,
   "id": "ea934ad2",
   "metadata": {},
   "outputs": [
    {
     "data": {
      "text/plain": [
       "array([ 1,  2,  3, 10,  4,  5,  6, 20,  7,  8,  9, 30])"
      ]
     },
     "execution_count": 26,
     "metadata": {},
     "output_type": "execute_result"
    }
   ],
   "source": [
    "matriz.flatten()"
   ]
  },
  {
   "cell_type": "code",
   "execution_count": 27,
   "id": "5a434d59",
   "metadata": {},
   "outputs": [
    {
     "data": {
      "text/plain": [
       "array([[ 1,  2],\n",
       "       [ 3, 10],\n",
       "       [ 4,  5],\n",
       "       [ 6, 20],\n",
       "       [ 7,  8],\n",
       "       [ 9, 30]])"
      ]
     },
     "execution_count": 27,
     "metadata": {},
     "output_type": "execute_result"
    }
   ],
   "source": [
    "matriz.reshape(6, 2)"
   ]
  },
  {
   "cell_type": "code",
   "execution_count": 28,
   "id": "2aac080b",
   "metadata": {},
   "outputs": [
    {
     "name": "stdout",
     "output_type": "stream",
     "text": [
      "[[6.23042070e-307 4.67296746e-307 1.69121096e-306 9.34605715e-307\n",
      "  8.01106038e-307]\n",
      " [7.56603881e-307 1.42419938e-306 7.56603881e-307 8.45603440e-307\n",
      "  3.56043054e-307]\n",
      " [1.60219306e-306 6.23059726e-307 1.06811422e-306 3.56043054e-307\n",
      "  1.37961641e-306]\n",
      " [9.45697982e-308 8.01097889e-307 1.78020169e-306 7.56601165e-307\n",
      "  1.02359984e-306]\n",
      " [1.33510679e-306 2.22522597e-306 6.23053614e-307 9.34608432e-307\n",
      "  2.56765117e-312]]\n"
     ]
    }
   ],
   "source": [
    "# Aunque muestre numeros dentro de la matriz, np.empty() la inicializa vacia, estos números que se ven\n",
    "# Estan en memoria y numpy los usa para mostrar la matriz\n",
    "\n",
    "empty = np.empty(shape = (5, 5), dtype = \"float\")\n",
    "\n",
    "print(empty)"
   ]
  },
  {
   "cell_type": "code",
   "execution_count": 29,
   "id": "7efe5c70",
   "metadata": {},
   "outputs": [
    {
     "name": "stdout",
     "output_type": "stream",
     "text": [
      "[[1 1 1 1 1]\n",
      " [1 1 1 1 1]\n",
      " [1 1 1 1 1]\n",
      " [1 1 1 1 1]\n",
      " [1 1 1 1 1]]\n"
     ]
    }
   ],
   "source": [
    "# Inicializa una matriz de 1's.\n",
    "\n",
    "ones = np.ones(shape = (5, 5), dtype = \"int8\")\n",
    "\n",
    "print(ones)"
   ]
  },
  {
   "cell_type": "code",
   "execution_count": 30,
   "id": "3afe6662",
   "metadata": {},
   "outputs": [
    {
     "name": "stdout",
     "output_type": "stream",
     "text": [
      "[[0 0 0 0 0]\n",
      " [0 0 0 0 0]\n",
      " [0 0 0 0 0]\n",
      " [0 0 0 0 0]\n",
      " [0 0 0 0 0]]\n"
     ]
    }
   ],
   "source": [
    "# Inicializa una matriz de 0's.\n",
    "\n",
    "zeros = np.zeros(shape = (5, 5), dtype = \"int8\")\n",
    "\n",
    "print(zeros)"
   ]
  },
  {
   "cell_type": "code",
   "execution_count": 31,
   "id": "b0faa89f",
   "metadata": {},
   "outputs": [
    {
     "data": {
      "text/plain": [
       "array([[1., 0., 0., 0., 0.],\n",
       "       [0., 1., 0., 0., 0.],\n",
       "       [0., 0., 1., 0., 0.],\n",
       "       [0., 0., 0., 1., 0.],\n",
       "       [0., 0., 0., 0., 1.]])"
      ]
     },
     "execution_count": 31,
     "metadata": {},
     "output_type": "execute_result"
    }
   ],
   "source": [
    "# Matriz identidad\n",
    "\n",
    "np.eye(5)"
   ]
  },
  {
   "cell_type": "code",
   "execution_count": 32,
   "id": "d1ccc458",
   "metadata": {},
   "outputs": [
    {
     "name": "stdout",
     "output_type": "stream",
     "text": [
      "[[0 1 2 3 4]\n",
      " [0 1 2 3 4]\n",
      " [0 1 2 3 4]\n",
      " [0 1 2 3 4]\n",
      " [0 1 2 3 4]]\n"
     ]
    }
   ],
   "source": [
    "# np.full() crea una lista con forma \"shape\" y la llena con un iterable.\n",
    "\n",
    "full = np.full(shape = (5, 5), fill_value = range(5))\n",
    "\n",
    "print(full)"
   ]
  },
  {
   "cell_type": "code",
   "execution_count": 33,
   "id": "5ff662d1",
   "metadata": {},
   "outputs": [
    {
     "name": "stdout",
     "output_type": "stream",
     "text": [
      "[ 1.          1.73333333  2.46666667  3.2         3.93333333  4.66666667\n",
      "  5.4         6.13333333  6.86666667  7.6         8.33333333  9.06666667\n",
      "  9.8        10.53333333 11.26666667 12.        ]\n"
     ]
    }
   ],
   "source": [
    "# np.linspace(a, b, p) crea un array de \"p\" elementos entre \"a\" y \"b\", todos x-distantes\n",
    "\n",
    "linspace = np.linspace(1, 12, 16)\n",
    "\n",
    "print(linspace)"
   ]
  },
  {
   "cell_type": "markdown",
   "id": "254762c3",
   "metadata": {},
   "source": [
    "### Slicing en NumPy\n",
    "\n",
    "En Python para hacer slicing de una lista de listas debiamos escribir primero la \"fila\" y de segundo la \"columna\" asi:\n",
    "```python\n",
    "lista[a][b]\n",
    "```\n",
    "\n",
    "Usando un **`np.array()`** podemos usar la siguiente notación:\n",
    "```python\n",
    "array[a, b]\n",
    "```\n",
    "\n",
    "Incluso, podemos pasar un **slicing** dentro del **slicing** para filtrar aun más los datos:\n",
    "```python\n",
    "array[a1 : a2, b1 : b2]\n",
    "```\n",
    "\n",
    "También podemos hacer **indexing** dentro del **slicing**\n",
    "\n",
    "```python\n",
    "array[[a1, a3], [b2, b4]]\n",
    "```"
   ]
  },
  {
   "cell_type": "code",
   "execution_count": 34,
   "id": "12a6a5ff",
   "metadata": {},
   "outputs": [
    {
     "name": "stdout",
     "output_type": "stream",
     "text": [
      "[[1 0 0 0 0]\n",
      " [0 0 2 0 0]\n",
      " [1 1 0 0 1]\n",
      " [2 1 1 1 0]\n",
      " [1 2 1 2 2]]\n"
     ]
    }
   ],
   "source": [
    "matriz = np.array([[1, 0, 0, 0, 0], [0, 0, 2, 0, 0], [1, 1, 0, 0, 1], [2, 1, 1, 1, 0], [1, 2, 1, 2, 2]])\n",
    "\n",
    "print(matriz)"
   ]
  },
  {
   "cell_type": "code",
   "execution_count": 62,
   "id": "20d743e8",
   "metadata": {},
   "outputs": [
    {
     "data": {
      "text/plain": [
       "2"
      ]
     },
     "execution_count": 62,
     "metadata": {},
     "output_type": "execute_result"
    }
   ],
   "source": [
    "dimension = matriz.ndim\n",
    "dimension"
   ]
  },
  {
   "cell_type": "code",
   "execution_count": 35,
   "id": "21dbaeca",
   "metadata": {},
   "outputs": [
    {
     "data": {
      "text/plain": [
       "2"
      ]
     },
     "execution_count": 35,
     "metadata": {},
     "output_type": "execute_result"
    }
   ],
   "source": [
    "# Hacer\n",
    "\n",
    "matriz[4][1]"
   ]
  },
  {
   "cell_type": "code",
   "execution_count": 36,
   "id": "ec4d8249",
   "metadata": {},
   "outputs": [
    {
     "data": {
      "text/plain": [
       "2"
      ]
     },
     "execution_count": 36,
     "metadata": {},
     "output_type": "execute_result"
    }
   ],
   "source": [
    "# Es igual que hacer\n",
    "\n",
    "matriz[4, 1]"
   ]
  },
  {
   "cell_type": "code",
   "execution_count": 37,
   "id": "52d4413b",
   "metadata": {},
   "outputs": [
    {
     "data": {
      "text/plain": [
       "array([[0, 2, 0],\n",
       "       [1, 0, 0],\n",
       "       [1, 1, 1]])"
      ]
     },
     "execution_count": 37,
     "metadata": {},
     "output_type": "execute_result"
    }
   ],
   "source": [
    "# Slicing\n",
    "matriz[1:4, 1:4]"
   ]
  },
  {
   "cell_type": "code",
   "execution_count": 38,
   "id": "93e46fc8",
   "metadata": {},
   "outputs": [
    {
     "data": {
      "text/plain": [
       "array([2, 0])"
      ]
     },
     "execution_count": 38,
     "metadata": {},
     "output_type": "execute_result"
    }
   ],
   "source": [
    "# Slicing + Indexing\n",
    "\n",
    "matriz[[1, 3], [2, 4]]"
   ]
  },
  {
   "cell_type": "markdown",
   "id": "a53ed0b5",
   "metadata": {},
   "source": [
    "### Operaciones con Arrays"
   ]
  },
  {
   "cell_type": "code",
   "execution_count": 39,
   "id": "a67f60f0",
   "metadata": {},
   "outputs": [
    {
     "name": "stdout",
     "output_type": "stream",
     "text": [
      "[[20 40]\n",
      " [30 50]]\n",
      "--------------------\n",
      "[[4 5]\n",
      " [2 3]]\n"
     ]
    }
   ],
   "source": [
    "A = np.array([[20, 40], [30, 50]])\n",
    "B = np.array([[4, 5], [2, 3]])\n",
    "\n",
    "print(A)\n",
    "print(\"-\"*20)\n",
    "print(B)"
   ]
  },
  {
   "cell_type": "code",
   "execution_count": 40,
   "id": "ddedeb57",
   "metadata": {},
   "outputs": [
    {
     "data": {
      "text/plain": [
       "array([[24, 45],\n",
       "       [32, 53]])"
      ]
     },
     "execution_count": 40,
     "metadata": {},
     "output_type": "execute_result"
    }
   ],
   "source": [
    "# Suma\n",
    "\n",
    "A + B"
   ]
  },
  {
   "cell_type": "code",
   "execution_count": 41,
   "id": "d72056b3",
   "metadata": {},
   "outputs": [
    {
     "data": {
      "text/plain": [
       "array([[16, 35],\n",
       "       [28, 47]])"
      ]
     },
     "execution_count": 41,
     "metadata": {},
     "output_type": "execute_result"
    }
   ],
   "source": [
    "# Resta\n",
    "A - B"
   ]
  },
  {
   "cell_type": "code",
   "execution_count": 42,
   "id": "dd2e20b7",
   "metadata": {},
   "outputs": [
    {
     "data": {
      "text/plain": [
       "array([[100, 200],\n",
       "       [150, 250]])"
      ]
     },
     "execution_count": 42,
     "metadata": {},
     "output_type": "execute_result"
    }
   ],
   "source": [
    "# Multiplicación por escalar\n",
    "\n",
    "A * 5"
   ]
  },
  {
   "cell_type": "code",
   "execution_count": 43,
   "id": "825278f1",
   "metadata": {},
   "outputs": [
    {
     "data": {
      "text/plain": [
       "array([[ 80, 200],\n",
       "       [ 60, 150]])"
      ]
     },
     "execution_count": 43,
     "metadata": {},
     "output_type": "execute_result"
    }
   ],
   "source": [
    "# Multiplicación elemento a elemento (no es la forma matemática de multiplicar)\n",
    "\n",
    "A * B"
   ]
  },
  {
   "cell_type": "code",
   "execution_count": 44,
   "id": "9357e55c",
   "metadata": {},
   "outputs": [
    {
     "data": {
      "text/plain": [
       "array([[ 4.,  8.],\n",
       "       [ 6., 10.]])"
      ]
     },
     "execution_count": 44,
     "metadata": {},
     "output_type": "execute_result"
    }
   ],
   "source": [
    "# División por escalar\n",
    "\n",
    "A / 5"
   ]
  },
  {
   "cell_type": "code",
   "execution_count": 45,
   "id": "28efadce",
   "metadata": {},
   "outputs": [
    {
     "data": {
      "text/plain": [
       "array([[160, 220],\n",
       "       [220, 300]])"
      ]
     },
     "execution_count": 45,
     "metadata": {},
     "output_type": "execute_result"
    }
   ],
   "source": [
    "# Producto de matrices (también conocido como producto de vectorial)\n",
    "\n",
    "A.dot(B)"
   ]
  },
  {
   "cell_type": "code",
   "execution_count": 46,
   "id": "1841c7ec",
   "metadata": {},
   "outputs": [
    {
     "name": "stdout",
     "output_type": "stream",
     "text": [
      "[[20 40]\n",
      " [30 50]]\n",
      "--------------------\n",
      "[[4 5]\n",
      " [2 3]]\n"
     ]
    }
   ],
   "source": [
    "print(A)\n",
    "print(\"-\"*20)\n",
    "print(B)"
   ]
  },
  {
   "cell_type": "markdown",
   "id": "547b4361",
   "metadata": {},
   "source": [
    "#### Concatenar"
   ]
  },
  {
   "cell_type": "code",
   "execution_count": 47,
   "id": "269d0b12",
   "metadata": {},
   "outputs": [
    {
     "data": {
      "text/plain": [
       "array([[20, 40],\n",
       "       [30, 50],\n",
       "       [ 4,  5],\n",
       "       [ 2,  3]])"
      ]
     },
     "execution_count": 47,
     "metadata": {},
     "output_type": "execute_result"
    }
   ],
   "source": [
    "# Concatenar verticalmente\n",
    "\n",
    "np.concatenate((A, B), axis = 0)"
   ]
  },
  {
   "cell_type": "code",
   "execution_count": 48,
   "id": "0d17002e",
   "metadata": {},
   "outputs": [
    {
     "data": {
      "text/plain": [
       "array([[20, 40,  4,  5],\n",
       "       [30, 50,  2,  3]])"
      ]
     },
     "execution_count": 48,
     "metadata": {},
     "output_type": "execute_result"
    }
   ],
   "source": [
    "# Concatenar horizontalmente\n",
    "\n",
    "np.concatenate((A, B), axis = 1)"
   ]
  },
  {
   "cell_type": "markdown",
   "id": "ae907e98",
   "metadata": {},
   "source": [
    "### Números aleatorios en NumPy\n",
    "\n",
    "|Función                             |Descripción                                                                                                                                         |\n",
    "|------------------------------------|----------------------------------------------------------------------------------------------------------------------------------------------------|\n",
    "|**`np.random.random(n)`**           | Genera un número aleatorio entre 0 y 1, si damos el parametro **`n`** genera una lista de **`n`** elementos aleatorios entre 0 y 1, solo genera vectores.                                                                                                                       |\n",
    "|**`np.random.rand(shape)`**         | Genera un array de forma **shape** con números aleatorios entre 0 y 1.                                                                             |\n",
    "|**`np.random.randn(shape)`**        | Genera un array de forma **shape** con números aleatorios entre -1 y 1.                                                                           |\n",
    "|**`no.random.randint(a, b, size)`** | Genera un array de tamaño **size** con numeros enteros aleatorios entre **a** y **b**.                                                             |\n",
    "|**`np.random.choice(obj, size, p)`**| Genera un array de tamaño **size** con los elementos de **obj**, se le pueden dar pesos a los elementos usando **p**, retorna elementos repetidos.|\n",
    "|**`np.random.seed(n)`**             | Genera una semilla.                                                                                                                                 |\n",
    "|**`np.random.RandomState(n)`**      | Genera una semilla.                                                                                                                                 |"
   ]
  },
  {
   "cell_type": "code",
   "execution_count": 49,
   "id": "b3288efd",
   "metadata": {},
   "outputs": [
    {
     "data": {
      "text/plain": [
       "array([[0.3544102 , 0.49086535, 0.65145098, 0.52640091, 0.56975228],\n",
       "       [0.04191724, 0.90881773, 0.46660888, 0.46605319, 0.5422092 ],\n",
       "       [0.7544436 , 0.59349714, 0.41857573, 0.77895015, 0.52159124],\n",
       "       [0.47210364, 0.4344529 , 0.32647105, 0.50325945, 0.89932836],\n",
       "       [0.82279791, 0.83473386, 0.55136156, 0.07000084, 0.08333143]])"
      ]
     },
     "execution_count": 49,
     "metadata": {},
     "output_type": "execute_result"
    }
   ],
   "source": [
    "np.random.random(size = (5, 5))"
   ]
  },
  {
   "cell_type": "code",
   "execution_count": 50,
   "id": "c8ed8fa8",
   "metadata": {},
   "outputs": [
    {
     "name": "stdout",
     "output_type": "stream",
     "text": [
      "0.5093742536882544\n",
      "------------------------------\n",
      "[0.65962172 0.07627396 0.23243038 0.25876255 0.02997695]\n"
     ]
    }
   ],
   "source": [
    "print(np.random.random())\n",
    "\n",
    "print(\"-\"*30)\n",
    "\n",
    "print(np.random.random(5))"
   ]
  },
  {
   "cell_type": "code",
   "execution_count": 51,
   "id": "8aad0c3b",
   "metadata": {},
   "outputs": [
    {
     "name": "stdout",
     "output_type": "stream",
     "text": [
      "0.11630318209052704\n",
      "------------------------------\n",
      "[[0.73988037 0.61034682 0.55853548]\n",
      " [0.38241565 0.64024475 0.8725487 ]]\n"
     ]
    }
   ],
   "source": [
    "print(np.random.rand())\n",
    "\n",
    "print(\"-\"*30)\n",
    "\n",
    "print(np.random.rand(2, 3))"
   ]
  },
  {
   "cell_type": "code",
   "execution_count": 52,
   "id": "250d0d26",
   "metadata": {},
   "outputs": [
    {
     "name": "stdout",
     "output_type": "stream",
     "text": [
      "0.16766446955597702\n",
      "------------------------------\n",
      "[[ 0.46698616 -0.13637005  0.05303795]\n",
      " [ 0.38795619 -0.51852489 -1.40002099]]\n"
     ]
    }
   ],
   "source": [
    "print(np.random.randn())\n",
    "\n",
    "print(\"-\"*30)\n",
    "\n",
    "print(np.random.randn(2, 3))"
   ]
  },
  {
   "cell_type": "code",
   "execution_count": 53,
   "id": "deb7b024",
   "metadata": {},
   "outputs": [
    {
     "name": "stdout",
     "output_type": "stream",
     "text": [
      "9\n",
      "------------------------------\n",
      "[[4 6 8 8 4]\n",
      " [7 7 1 8 8]\n",
      " [8 4 2 3 3]\n",
      " [3 8 2 8 1]\n",
      " [4 6 6 6 5]]\n"
     ]
    }
   ],
   "source": [
    "print(np.random.randint(0, 10))\n",
    "\n",
    "print(\"-\"*30)\n",
    "\n",
    "print(np.random.randint(1, 10, size = [5, 5]))"
   ]
  },
  {
   "cell_type": "code",
   "execution_count": 54,
   "id": "8f34224a",
   "metadata": {},
   "outputs": [
    {
     "name": "stdout",
     "output_type": "stream",
     "text": [
      "['a' 'a' 'a' 'i' 'a' 'a' 'a' 'a' 'a' 'a']\n"
     ]
    }
   ],
   "source": [
    "print(np.random.choice([\"a\", \"e\", \"i\", \"o\", \"u\"], size = 10, p = [0.6, 0.1, 0.1, 0.1, 0.1])) "
   ]
  },
  {
   "cell_type": "code",
   "execution_count": 55,
   "id": "fcaa9040",
   "metadata": {},
   "outputs": [
    {
     "name": "stdout",
     "output_type": "stream",
     "text": [
      "0.05056170714293955\n",
      "0.05056170714293955\n",
      "0.05056170714293955\n",
      "0.05056170714293955\n",
      "0.05056170714293955\n"
     ]
    }
   ],
   "source": [
    "for i in range(5):\n",
    "    np.random.seed(4)\n",
    "    print(np.random.randn())"
   ]
  },
  {
   "cell_type": "code",
   "execution_count": 56,
   "id": "719185bd",
   "metadata": {},
   "outputs": [
    {
     "name": "stdout",
     "output_type": "stream",
     "text": [
      "0.43599490214200376\n",
      "8\n",
      "0.499951333237829\n",
      "------------------------------\n",
      "0.43599490214200376\n",
      "8\n",
      "-0.9959089311068651\n",
      "------------------------------\n",
      "0.43599490214200376\n",
      "8\n",
      "0.6935985082913116\n",
      "------------------------------\n",
      "0.43599490214200376\n",
      "8\n",
      "-0.41830152002691007\n",
      "------------------------------\n"
     ]
    }
   ],
   "source": [
    "for i in range(4):\n",
    "    rs = np.random.RandomState(2)\n",
    "    print(rs.rand())\n",
    "    print(rs.randint(0, 10))\n",
    "    print(np.random.randn()) # No usa rs\n",
    "    print(\"-\"*30)    "
   ]
  },
  {
   "cell_type": "code",
   "execution_count": 57,
   "id": "27335492",
   "metadata": {},
   "outputs": [
    {
     "name": "stdout",
     "output_type": "stream",
     "text": [
      "0.8488176972685787\n",
      "5\n",
      "-0.15590853388271336\n",
      "------------------------------\n",
      "0.27540092860641197\n",
      "5\n",
      "-0.5017896732977485\n",
      "------------------------------\n",
      "0.02495303232907431\n",
      "1\n",
      "-0.9021190404034566\n",
      "------------------------------\n",
      "0.8724294447722278\n",
      "4\n",
      "0.6891445632908499\n",
      "------------------------------\n"
     ]
    }
   ],
   "source": [
    "np.random.seed(15)\n",
    "\n",
    "for i in range(4):\n",
    "    print(np.random.rand())\n",
    "    print(np.random.randint(0, 10))\n",
    "    print(np.random.randn())\n",
    "    print(\"-\"*30)  "
   ]
  },
  {
   "cell_type": "code",
   "execution_count": 58,
   "id": "49b47b97",
   "metadata": {},
   "outputs": [
    {
     "data": {
      "text/plain": [
       "array([[3.02, 0.12, -0.04, 0.27, 0.52, 0.84],\n",
       "       [-0.39, 0.28, 1.10, -0.46, -0.37, -0.22],\n",
       "       [-0.13, -1.55, -1.23, -1.46, -0.85, 1.30],\n",
       "       [1.22, 0.35, 0.27, 1.07, 0.54, 0.90],\n",
       "       [-0.83, -0.39, 0.45, 0.94, 0.59, 1.56],\n",
       "       [-0.06, -1.26, 0.88, 0.71, -0.65, -0.45]])"
      ]
     },
     "execution_count": 58,
     "metadata": {},
     "output_type": "execute_result"
    }
   ],
   "source": [
    "# Código para establecer el número de decimales (Cambiar {0:0.2f} para elegir el número de decimales)\n",
    "\n",
    "np.set_printoptions(formatter = {\"float\" : lambda x: \"{0:0.2f}\".format(x)})\n",
    "\n",
    "np.random.randn(6, 6)"
   ]
  },
  {
   "cell_type": "code",
   "execution_count": 59,
   "id": "57fad6e7",
   "metadata": {},
   "outputs": [
    {
     "data": {
      "text/plain": [
       "array([[-0.15, -0.42, 0.68, -0.73, 0.79, -0.07],\n",
       "       [-0.74, -0.30, 0.21, 0.25, -0.69, -1.03],\n",
       "       [0.70, 2.22, -0.25, 0.47, -1.19, 0.36],\n",
       "       [0.64, 1.98, -0.34, -2.02, 0.16, -0.63],\n",
       "       [1.59, 0.84, -0.56, -0.43, 0.34, -1.03],\n",
       "       [1.48, -1.21, -0.24, -1.81, 0.14, -0.42]])"
      ]
     },
     "execution_count": 59,
     "metadata": {},
     "output_type": "execute_result"
    }
   ],
   "source": [
    "np.random.randn(6, 6)"
   ]
  },
  {
   "cell_type": "code",
   "execution_count": 60,
   "id": "8c6a06b3",
   "metadata": {},
   "outputs": [
    {
     "data": {
      "text/plain": [
       "array([[0.35, 0.49, 0.65, 0.53, 0.57],\n",
       "       [0.04, 0.91, 0.47, 0.47, 0.54],\n",
       "       [0.75, 0.59, 0.42, 0.78, 0.52],\n",
       "       [0.47, 0.43, 0.33, 0.50, 0.90],\n",
       "       [0.82, 0.83, 0.55, 0.07, 0.08]])"
      ]
     },
     "execution_count": 60,
     "metadata": {},
     "output_type": "execute_result"
    }
   ],
   "source": [
    "np.empty((5, 5), dtype = \"float64\")"
   ]
  },
  {
   "cell_type": "markdown",
   "id": "581990ef",
   "metadata": {},
   "source": [
    "si alguna vez poniendo la ruta del archivo y te da un error de Unicode xxxxx o algo así se arregla pd.read_excel(r\"C: con la r esa antes de las comillas X"
   ]
  },
  {
   "cell_type": "code",
   "execution_count": 61,
   "id": "d6263c75",
   "metadata": {},
   "outputs": [],
   "source": [
    "################################################################################################################################"
   ]
  }
 ],
 "metadata": {
  "kernelspec": {
   "display_name": "Python 3 (ipykernel)",
   "language": "python",
   "name": "python3"
  },
  "language_info": {
   "codemirror_mode": {
    "name": "ipython",
    "version": 3
   },
   "file_extension": ".py",
   "mimetype": "text/x-python",
   "name": "python",
   "nbconvert_exporter": "python",
   "pygments_lexer": "ipython3",
   "version": "3.11.0"
  }
 },
 "nbformat": 4,
 "nbformat_minor": 5
}
