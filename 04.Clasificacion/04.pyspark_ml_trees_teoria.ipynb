{
 "cells": [
  {
   "cell_type": "code",
   "execution_count": null,
   "metadata": {
    "_cell_guid": "b1076dfc-b9ad-4769-8c92-a6c4dae69d19",
    "_uuid": "8f2839f25d086af736a60e9eeb907d3b93b6e0e5"
   },
   "outputs": [],
   "source": [
    "!pip install pyspark"
   ]
  },
  {
   "cell_type": "code",
   "execution_count": null,
   "metadata": {
    "tags": []
   },
   "outputs": [],
   "source": [
    "from pyspark.sql import SparkSession\n",
    "spark = SparkSession.builder.appName(\"Trees\").getOrCreate()"
   ]
  },
  {
   "cell_type": "code",
   "execution_count": null,
   "metadata": {
    "tags": []
   },
   "outputs": [],
   "source": [
    "data = spark.read.format(\"libsvm\").load(\"../data/sample_libsvm_data.txt\")\n",
    "\n",
    "data.show()"
   ]
  },
  {
   "cell_type": "code",
   "execution_count": null,
   "metadata": {
    "tags": []
   },
   "outputs": [],
   "source": [
    "data.printSchema()"
   ]
  },
  {
   "cell_type": "code",
   "execution_count": null,
   "metadata": {
    "tags": []
   },
   "outputs": [],
   "source": [
    "train, test = data.randomSplit(weights = [0.7, 0.3], seed = 42)"
   ]
  },
  {
   "cell_type": "markdown",
   "metadata": {},
   "source": [
    "## DecisionTreeClassifier"
   ]
  },
  {
   "cell_type": "code",
   "execution_count": null,
   "metadata": {
    "tags": []
   },
   "outputs": [],
   "source": [
    "from pyspark.ml.classification import DecisionTreeClassifier\n",
    "\n",
    "dtc = DecisionTreeClassifier(featuresCol = \"features\",\n",
    "                             labelCol = \"label\",\n",
    "                             predictionCol = \"prediction\", \n",
    "                             maxDepth = 10)\n",
    "\n",
    "model = dtc.fit(train)\n",
    "\n",
    "y_hat = model.transform(test)\n",
    "\n",
    "y_hat.show(10)"
   ]
  },
  {
   "cell_type": "code",
   "execution_count": null,
   "metadata": {
    "tags": []
   },
   "outputs": [],
   "source": [
    "from pyspark.ml.evaluation import MulticlassClassificationEvaluator\n",
    "\n",
    "evaluator = MulticlassClassificationEvaluator(labelCol = \"label\",\n",
    "                                              predictionCol = \"prediction\",\n",
    "                                              metricName = \"accuracy\")\n",
    "\n",
    "accuracy = evaluator.evaluate(y_hat)\n",
    "\n",
    "print(accuracy)"
   ]
  },
  {
   "cell_type": "markdown",
   "metadata": {},
   "source": [
    "## RandomForestClassifier"
   ]
  },
  {
   "cell_type": "code",
   "execution_count": null,
   "metadata": {
    "tags": []
   },
   "outputs": [],
   "source": [
    "from pyspark.ml.classification import RandomForestClassifier\n",
    "\n",
    "rfc = RandomForestClassifier(featuresCol = \"features\",\n",
    "                             labelCol = \"label\",\n",
    "                             predictionCol = \"prediction\",\n",
    "                             numTrees = 100)\n",
    "\n",
    "model = rfc.fit(train)\n",
    "\n",
    "y_hat = model.transform(test)\n",
    "\n",
    "y_hat.show(10)"
   ]
  },
  {
   "cell_type": "code",
   "execution_count": null,
   "metadata": {
    "tags": []
   },
   "outputs": [],
   "source": [
    "evaluator = MulticlassClassificationEvaluator(labelCol = \"label\",\n",
    "                                              predictionCol = \"prediction\",\n",
    "                                              metricName = \"accuracy\")\n",
    "\n",
    "accuracy = evaluator.evaluate(y_hat)\n",
    "\n",
    "print(accuracy)"
   ]
  },
  {
   "cell_type": "markdown",
   "metadata": {
    "execution": {
     "iopub.execute_input": "2021-11-29T11:55:51.724100Z",
     "iopub.status.busy": "2021-11-29T11:55:51.723145Z",
     "iopub.status.idle": "2021-11-29T11:55:51.727678Z",
     "shell.execute_reply": "2021-11-29T11:55:51.726939Z",
     "shell.execute_reply.started": "2021-11-29T11:55:51.724044Z"
    }
   },
   "source": [
    "## GradientBoostingClassifier"
   ]
  },
  {
   "cell_type": "code",
   "execution_count": null,
   "metadata": {
    "tags": []
   },
   "outputs": [],
   "source": [
    "from pyspark.ml.classification import GBTClassifier\n",
    "\n",
    "gbt = GBTClassifier(featuresCol = \"features\",\n",
    "                    labelCol = \"label\",\n",
    "                    predictionCol = \"prediction\", \n",
    "                    maxIter = 100)\n",
    "\n",
    "model = gbt.fit(train)\n",
    "\n",
    "y_hat = model.transform(test)\n",
    "\n",
    "y_hat.show(10)"
   ]
  },
  {
   "cell_type": "code",
   "execution_count": null,
   "metadata": {
    "tags": []
   },
   "outputs": [],
   "source": [
    "evaluator = MulticlassClassificationEvaluator(labelCol = \"label\",\n",
    "                                              predictionCol = \"prediction\",\n",
    "                                              metricName = \"accuracy\")\n",
    "\n",
    "accuracy = evaluator.evaluate(y_hat)\n",
    "\n",
    "print(accuracy)"
   ]
  },
  {
   "cell_type": "code",
   "execution_count": null,
   "metadata": {},
   "outputs": [],
   "source": [
    "################################################################################################################################"
   ]
  }
 ],
 "metadata": {
  "kernelspec": {
   "display_name": "hackaboss",
   "language": "python",
   "name": "hackaboss"
  },
  "language_info": {
   "codemirror_mode": {
    "name": "ipython",
    "version": 3
   },
   "file_extension": ".py",
   "mimetype": "text/x-python",
   "name": "python",
   "nbconvert_exporter": "python",
   "pygments_lexer": "ipython3",
   "version": "3.9.12"
  }
 },
 "nbformat": 4,
 "nbformat_minor": 4
}
