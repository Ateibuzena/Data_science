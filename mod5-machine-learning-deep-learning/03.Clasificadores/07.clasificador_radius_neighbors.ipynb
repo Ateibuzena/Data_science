{
 "cells": [
  {
   "cell_type": "markdown",
   "metadata": {},
   "source": [
    "## **RADIUS NEIGHBORS CLASSIFIER**\n",
    "\n",
    "Es una extensión del algoritmo de k-Nearest Neighbors, que hace predicciones utilizando todas las instancias en el radio de una nueva instancia en lugar de los k-vecinos más cercanos.\n",
    "\n",
    "Como tal, el enfoque basado en el radio para seleccionar vecinos es más apropiado para datos dispersos, evitando que las instancias que están muy lejos en el espacio de características (atributos) contribuyan a la predicción.\n",
    "\n",
    "- El radio es definido por el usuario y por lo general se asume que los valores del conjunto de entrenamiento estan en un rango de 0 a 1 (Normalizados).\n",
    "\n",
    "_**Documentacion:** https://scikit-learn.org/stable/modules/generated/sklearn.neighbors.RadiusNeighborsClassifier.html_\n",
    "\n",
    "![ml_12.jpg](attachment:ml_12.jpg)\n",
    "\n",
    "\n",
    "- Este enfoque **es apropiado para aquellos conjuntos de datos donde es deseable que la contribución de los vecinos sea proporcional a la densidad de instancias** en el espacio de características (atributos).\n",
    "\n",
    "\n",
    "- Dado un radio fijo, **las regiones densas del espacio de características (atributos) contribuirán con más información y las regiones dispersas contribuirán con menos información**.\n",
    "\n",
    "\n",
    "- Este último caso es el más deseable y **evita que las instancias muy lejanas en el espacio de características (atributos) de la nueva instancia contribuyan a la predicción**.\n",
    "\n",
    "\n",
    "- Como tal, el **`RadiusNeighborsClassifier()`** puede ser **más apropiado** para problemas de predicción donde hay **regiones escasas del espacio de características (atributos)**.\n",
    "\n",
    "\n",
    "- **Si los datos han sido normalizados, el radio debe de estar entre 0 y sqrt(n).**"
   ]
  },
  {
   "cell_type": "markdown",
   "metadata": {},
   "source": [
    "### **LIBRERÍAS NECESARIAS**"
   ]
  },
  {
   "cell_type": "code",
   "execution_count": 2,
   "metadata": {},
   "outputs": [],
   "source": [
    "import numpy as np\n",
    "import pandas as pd\n",
    "import matplotlib.pyplot as plt\n",
    "import seaborn as sns\n",
    "\n",
    "# Procesamiento\n",
    "from sklearn.preprocessing import LabelEncoder\n",
    "from sklearn.preprocessing import MinMaxScaler\n",
    "\n",
    "# Separación Train y Test\n",
    "from sklearn.model_selection import train_test_split\n",
    "\n",
    "# Modelo\n",
    "from sklearn.neighbors import RadiusNeighborsClassifier\n",
    "\n",
    "# Métricas\n",
    "from sklearn.metrics import accuracy_score"
   ]
  },
  {
   "cell_type": "code",
   "execution_count": 13,
   "metadata": {},
   "outputs": [],
   "source": [
    "df = pd.read_csv(\"../Data/iris.csv\")"
   ]
  },
  {
   "cell_type": "markdown",
   "metadata": {},
   "source": [
    "### **SEPARACIÓN TRAIN Y TEST**"
   ]
  },
  {
   "cell_type": "code",
   "execution_count": 14,
   "metadata": {},
   "outputs": [
    {
     "data": {
      "text/plain": [
       "((150, 4), (150,))"
      ]
     },
     "execution_count": 14,
     "metadata": {},
     "output_type": "execute_result"
    }
   ],
   "source": [
    "X = df.drop(\"Clase\", axis = 1)\n",
    "\n",
    "y = df[\"Clase\"]\n",
    "\n",
    "X.shape, y.shape"
   ]
  },
  {
   "cell_type": "code",
   "execution_count": 15,
   "metadata": {},
   "outputs": [
    {
     "name": "stdout",
     "output_type": "stream",
     "text": [
      "X_train: (120, 4), y_train: (120,)\n",
      "X_test: (30, 4),  y_test: (30,)\n"
     ]
    }
   ],
   "source": [
    "X_train, X_test, y_train, y_test = train_test_split(X, y, test_size = 0.20, random_state = 42, stratify= y)\n",
    "\n",
    "# El parámetro stratify nos ayuda a que la separación de datos en train y test sigan la misma distribución a partir\n",
    "# de la columna indicada.\n",
    "print(f\"X_train: {X_train.shape}, y_train: {y_train.shape}\")\n",
    "print(f\"X_test: {X_test.shape},  y_test: {y_test.shape}\")"
   ]
  },
  {
   "cell_type": "markdown",
   "metadata": {},
   "source": [
    "### **PREPROCESAMIENTO DE DATOS**"
   ]
  },
  {
   "cell_type": "code",
   "execution_count": 16,
   "metadata": {},
   "outputs": [],
   "source": [
    "# labelEncoder sobre la columna \"Clase\" para transformarla a numerica\n",
    "clase_LabelEncoder = LabelEncoder()\n",
    "clase_train = clase_LabelEncoder.fit_transform(y_train) # En este ejemplo estoy usando fit_transform()\n",
    "y_train = clase_train\n",
    "clase_test = clase_LabelEncoder.transform(y_test)\n",
    "y_test = clase_test"
   ]
  },
  {
   "cell_type": "markdown",
   "metadata": {},
   "source": [
    "### **NORMALIZACIÓN DE DATOS**"
   ]
  },
  {
   "cell_type": "code",
   "execution_count": 17,
   "metadata": {},
   "outputs": [],
   "source": [
    "scaler = MinMaxScaler()\n",
    "\n",
    "x_train_scaler = scaler.fit(X_train)\n",
    "X_train_scaler = scaler.transform(X_train)\n",
    "X_test_scaler = scaler.transform(X_test)\n",
    "\n",
    "# No hace falta escalar la y porque son clases"
   ]
  },
  {
   "cell_type": "markdown",
   "metadata": {},
   "source": [
    "### **MODELO Y PREDICCIONES**"
   ]
  },
  {
   "cell_type": "code",
   "execution_count": 18,
   "metadata": {},
   "outputs": [],
   "source": [
    "model = RadiusNeighborsClassifier(radius = 0.5)\n",
    "model.fit(X_train_scaler, y_train)\n",
    "yhat = model.predict(X_test_scaler)"
   ]
  },
  {
   "cell_type": "markdown",
   "metadata": {},
   "source": [
    "### **MÉTRICAS**"
   ]
  },
  {
   "cell_type": "code",
   "execution_count": 19,
   "metadata": {},
   "outputs": [
    {
     "name": "stdout",
     "output_type": "stream",
     "text": [
      "Accuracy: 0.8666666666666667\n"
     ]
    }
   ],
   "source": [
    "print(f\"Accuracy: {accuracy_score(y_test, yhat)}\")"
   ]
  },
  {
   "cell_type": "code",
   "execution_count": 20,
   "metadata": {},
   "outputs": [
    {
     "data": {
      "text/html": [
       "<div>\n",
       "<style scoped>\n",
       "    .dataframe tbody tr th:only-of-type {\n",
       "        vertical-align: middle;\n",
       "    }\n",
       "\n",
       "    .dataframe tbody tr th {\n",
       "        vertical-align: top;\n",
       "    }\n",
       "\n",
       "    .dataframe thead th {\n",
       "        text-align: right;\n",
       "    }\n",
       "</style>\n",
       "<table border=\"1\" class=\"dataframe\">\n",
       "  <thead>\n",
       "    <tr style=\"text-align: right;\">\n",
       "      <th></th>\n",
       "      <th>Iris-setosa</th>\n",
       "      <th>Iris-versicolor</th>\n",
       "      <th>Iris-virginica</th>\n",
       "    </tr>\n",
       "  </thead>\n",
       "  <tbody>\n",
       "    <tr>\n",
       "      <th>0</th>\n",
       "      <td>1.000000</td>\n",
       "      <td>0.000000</td>\n",
       "      <td>0.000000</td>\n",
       "    </tr>\n",
       "    <tr>\n",
       "      <th>1</th>\n",
       "      <td>0.000000</td>\n",
       "      <td>0.535211</td>\n",
       "      <td>0.464789</td>\n",
       "    </tr>\n",
       "    <tr>\n",
       "      <th>2</th>\n",
       "      <td>0.032258</td>\n",
       "      <td>0.903226</td>\n",
       "      <td>0.064516</td>\n",
       "    </tr>\n",
       "    <tr>\n",
       "      <th>3</th>\n",
       "      <td>0.032258</td>\n",
       "      <td>0.903226</td>\n",
       "      <td>0.064516</td>\n",
       "    </tr>\n",
       "    <tr>\n",
       "      <th>4</th>\n",
       "      <td>1.000000</td>\n",
       "      <td>0.000000</td>\n",
       "      <td>0.000000</td>\n",
       "    </tr>\n",
       "  </tbody>\n",
       "</table>\n",
       "</div>"
      ],
      "text/plain": [
       "   Iris-setosa  Iris-versicolor  Iris-virginica\n",
       "0     1.000000         0.000000        0.000000\n",
       "1     0.000000         0.535211        0.464789\n",
       "2     0.032258         0.903226        0.064516\n",
       "3     0.032258         0.903226        0.064516\n",
       "4     1.000000         0.000000        0.000000"
      ]
     },
     "execution_count": 20,
     "metadata": {},
     "output_type": "execute_result"
    }
   ],
   "source": [
    "# Con los datos de test normalizados\n",
    "nombres_columnas = df[\"Clase\"].unique().tolist()\n",
    "# .predict_proba() retorna la probabilidad de una instancia de perterner a cada clase.\n",
    "\n",
    "data = model.predict_proba(X_test_scaler)\n",
    "# Como tenemos 3 clases diferentes entonces muestra la probabilidad de cada elemento de \n",
    "# Pertenerce a la clase 1, clase 2 o clase 3.\n",
    "# El algormito elige a la clase a la que debe pertenecer donde el valor sea mayor.\n",
    "df_predict_proba = pd.DataFrame(data, columns=nombres_columnas)\n",
    "df_predict_proba.head(5)"
   ]
  },
  {
   "cell_type": "code",
   "execution_count": 21,
   "metadata": {},
   "outputs": [
    {
     "data": {
      "text/plain": [
       "(array([array([0.04509297, 0.29593439, 0.18137688, 0.1199127 , 0.1199127 ,\n",
       "               0.12870227, 0.06080112, 0.07753445, 0.1016274 , 0.22544401,\n",
       "               0.11785113, 0.12944951, 0.18713494, 0.15476242, 0.30095688,\n",
       "               0.28549726, 0.27168895, 0.25840952, 0.38967284, 0.33626147,\n",
       "               0.3893522 , 0.15476242, 0.17450835, 0.20687881, 0.30655269,\n",
       "               0.25529471, 0.27003086, 0.36195523, 0.36982019, 0.47904716,\n",
       "               0.38569224, 0.40812467, 0.31880044, 0.47405689, 0.15476242,\n",
       "               0.13995495, 0.28852174])                                   ],\n",
       "       dtype=object),\n",
       " array([array([  0,  48,  40,  49,  50,  15,  93, 119,  58,  63, 116,  89,  47,\n",
       "                 3,  72,  54,  71,  70,  16,  19,  21, 115,  23, 114, 110,  27,\n",
       "                29,  30,  60,  99, 104,  92,  83,  42,  80,  44,  45], dtype=int64)],\n",
       "       dtype=object))"
      ]
     },
     "execution_count": 21,
     "metadata": {},
     "output_type": "execute_result"
    }
   ],
   "source": [
    "model.radius_neighbors([X_test_scaler[0]])"
   ]
  },
  {
   "cell_type": "markdown",
   "metadata": {},
   "source": [
    "### **RadiusNeighborsClassifier para varios radios**"
   ]
  },
  {
   "cell_type": "code",
   "execution_count": 44,
   "metadata": {},
   "outputs": [],
   "source": [
    "def bucle_radio(desde, hasta, radio, X_train_scaler, y_train, X_test_scaler, y_test):\n",
    "    list_accuracy = list()\n",
    "    # se generarán 300 valores de radio en total, comenzando desde \"desde\" y avanzando en incrementos de \"radio\" hasta llegar a \"hasta\"\n",
    "    for radio in np.arange(desde, hasta, radio):\n",
    "        \n",
    "        try:\n",
    "            # Modelo\n",
    "            model = RadiusNeighborsClassifier(radius = radio)\n",
    "            model.fit(X_train_scaler, y_train)\n",
    "\n",
    "            # Predicciones\n",
    "            yhat = model.predict(X_test_scaler)\n",
    "\n",
    "            # Metricas\n",
    "            accuracy = accuracy_score(y_test, yhat)\n",
    "            #if accuracy > 0.95:\n",
    "            list_accuracy.append([radio, accuracy])\n",
    "            \n",
    "        except:\n",
    "            list_accuracy.append([radio, np.nan])\n",
    "        \n",
    "    df_radios = pd.DataFrame(data = list_accuracy, columns = [\"radio\", \"accuracy\"]).dropna()\n",
    "    df_radios.sort_values(\"accuracy\", ascending = False, inplace=True)\n",
    "    df_radios.reset_index(drop=True, inplace=True)\n",
    "\n",
    "    return  df_radios"
   ]
  },
  {
   "cell_type": "code",
   "execution_count": 45,
   "metadata": {},
   "outputs": [
    {
     "data": {
      "text/html": [
       "<div>\n",
       "<style scoped>\n",
       "    .dataframe tbody tr th:only-of-type {\n",
       "        vertical-align: middle;\n",
       "    }\n",
       "\n",
       "    .dataframe tbody tr th {\n",
       "        vertical-align: top;\n",
       "    }\n",
       "\n",
       "    .dataframe thead th {\n",
       "        text-align: right;\n",
       "    }\n",
       "</style>\n",
       "<table border=\"1\" class=\"dataframe\">\n",
       "  <thead>\n",
       "    <tr style=\"text-align: right;\">\n",
       "      <th></th>\n",
       "      <th>radio</th>\n",
       "      <th>accuracy</th>\n",
       "    </tr>\n",
       "  </thead>\n",
       "  <tbody>\n",
       "    <tr>\n",
       "      <th>0</th>\n",
       "      <td>0.13</td>\n",
       "      <td>0.966667</td>\n",
       "    </tr>\n",
       "    <tr>\n",
       "      <th>1</th>\n",
       "      <td>0.22</td>\n",
       "      <td>0.966667</td>\n",
       "    </tr>\n",
       "    <tr>\n",
       "      <th>2</th>\n",
       "      <td>0.14</td>\n",
       "      <td>0.966667</td>\n",
       "    </tr>\n",
       "    <tr>\n",
       "      <th>3</th>\n",
       "      <td>0.16</td>\n",
       "      <td>0.966667</td>\n",
       "    </tr>\n",
       "    <tr>\n",
       "      <th>4</th>\n",
       "      <td>0.17</td>\n",
       "      <td>0.966667</td>\n",
       "    </tr>\n",
       "  </tbody>\n",
       "</table>\n",
       "</div>"
      ],
      "text/plain": [
       "   radio  accuracy\n",
       "0   0.13  0.966667\n",
       "1   0.22  0.966667\n",
       "2   0.14  0.966667\n",
       "3   0.16  0.966667\n",
       "4   0.17  0.966667"
      ]
     },
     "execution_count": 45,
     "metadata": {},
     "output_type": "execute_result"
    }
   ],
   "source": [
    "df_radios = bucle_radio(0, 3, 0.01, X_train_scaler, y_train, X_test_scaler, y_test)\n",
    "df_radios.head(5)"
   ]
  },
  {
   "cell_type": "code",
   "execution_count": 53,
   "metadata": {},
   "outputs": [
    {
     "data": {
      "image/png": "[encoded data removed]",
      "text/plain": [
       "<Figure size 1000x700 with 1 Axes>"
      ]
     },
     "metadata": {},
     "output_type": "display_data"
    }
   ],
   "source": [
    "plt.figure(figsize = (10, 7))\n",
    "\n",
    "plt.plot(df_radios[\"accuracy\"])\n",
    "\n",
    "plt.ylabel(\"Accuracy\")\n",
    "plt.xlabel(\"Number of Radius\")\n",
    "\n",
    "plt.xticks(ticks = range(len(df_radios[\"radio\"])), labels = np.round(df_radios[\"radio\"], 2), rotation = 90)\n",
    "\n",
    "plt.show()"
   ]
  },
  {
   "cell_type": "code",
   "execution_count": 39,
   "metadata": {},
   "outputs": [
    {
     "data": {
      "text/plain": [
       "0"
      ]
     },
     "execution_count": 39,
     "metadata": {},
     "output_type": "execute_result"
    }
   ],
   "source": [
    "mejor_indice = np.argmax(df_radios[\"accuracy\"])\n",
    "mejor_indice"
   ]
  },
  {
   "cell_type": "code",
   "execution_count": 54,
   "metadata": {},
   "outputs": [
    {
     "data": {
      "text/plain": [
       "radio       0.130000\n",
       "accuracy    0.966667\n",
       "Name: 0, dtype: float64"
      ]
     },
     "execution_count": 54,
     "metadata": {},
     "output_type": "execute_result"
    }
   ],
   "source": [
    "df_radios.loc[mejor_indice, [\"radio\", \"accuracy\"]]\n",
    "\n",
    "# (radio, accuracy)"
   ]
  },
  {
   "cell_type": "markdown",
   "metadata": {},
   "source": [
    "### **Ejercicio 1:**\n",
    "- Utiliza el dataset del titanic para practicar **RadiusNeighbors**"
   ]
  },
  {
   "cell_type": "code",
   "execution_count": 5,
   "metadata": {},
   "outputs": [
    {
     "name": "stdout",
     "output_type": "stream",
     "text": [
      "X_train: (710, 13), y_train: (710,)\n",
      "X_test: (178, 13), y_test: (178,)\n"
     ]
    }
   ],
   "source": [
    "df = pd.read_csv(filepath_or_buffer = \"../Data/titanic_preprocesamiento.csv\")\n",
    "\n",
    "X = df.drop([\"Survived\"], axis = 1)\n",
    "y = df[\"Survived\"]\n",
    "\n",
    "# Train, Test\n",
    "X_train, X_test, y_train, y_test = train_test_split(X, y, test_size = 0.2, random_state = 42, stratify = y)\n",
    "\n",
    "print(f\"X_train: {X_train.shape}, y_train: {y_train.shape}\")\n",
    "print(f\"X_test: {X_test.shape}, y_test: {y_test.shape}\")\n",
    "\n",
    "# MinMaxScaler\n",
    "x_scaler = MinMaxScaler()\n",
    "X_train = x_scaler.fit_transform(X_train)\n",
    "X_test = x_scaler.transform(X_test)"
   ]
  },
  {
   "cell_type": "code",
   "execution_count": 6,
   "metadata": {},
   "outputs": [
    {
     "name": "stdout",
     "output_type": "stream",
     "text": [
      "0.8033707865168539\n"
     ]
    }
   ],
   "source": [
    "rnn = RadiusNeighborsClassifier()\n",
    "\n",
    "rnn.fit(X_train, y_train)\n",
    "\n",
    "yhat_rnn = rnn.predict(X_test)\n",
    "\n",
    "accuracy_rnn = accuracy_score(y_test, yhat_rnn)\n",
    "\n",
    "print(accuracy_rnn)"
   ]
  }
 ],
 "metadata": {
  "kernelspec": {
   "display_name": "hack_a_boss",
   "language": "python",
   "name": "python3"
  },
  "language_info": {
   "codemirror_mode": {
    "name": "ipython",
    "version": 3
   },
   "file_extension": ".py",
   "mimetype": "text/x-python",
   "name": "python",
   "nbconvert_exporter": "python",
   "pygments_lexer": "ipython3",
   "version": "3.11.5"
  }
 },
 "nbformat": 4,
 "nbformat_minor": 2
}
