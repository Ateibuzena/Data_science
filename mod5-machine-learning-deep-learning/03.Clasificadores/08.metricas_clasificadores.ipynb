{
 "cells": [
  {
   "cell_type": "markdown",
   "id": "7a3c0e43",
   "metadata": {},
   "source": [
    "## **MÉTRICAS PARA CLASIFICADORES**"
   ]
  },
  {
   "attachments": {
    "ml_13.png": {
     "image/png": "[encoded data removed]"
    }
   },
   "cell_type": "markdown",
   "id": "b269a8ff",
   "metadata": {},
   "source": [
    "- **Indice de Jaccard**: también conocido como el coeficiente de similitud de Jaccard se puede definir como el tamaño de la intersección dividido por el tamaño de la unión de dos conjuntos.\n",
    "\n",
    "$$Jaccard(y, \\hat{y}) = \\frac{\\left | y \\cap \\hat{y} \\right |}{\\left | y \\right | + \\left | \\hat{y} \\right | - \\left | y \\cap \\hat{y} \\right |}$$\n",
    "\n",
    "\n",
    "- **Matriz de confusión**: La matriz de confusión es una herramienta utilizada principalmente en estadística y machine learning que evalúa la precisión de una clasificación. Dentro de sus ventajas se encuentra la de poder observar en una matriz, los porcentajes de predicciones correctas e incorrectas por clase. La matriz muestra las predicciones correctas y equivocadas, en comparación con los valores reales. \n",
    "\n",
    "![ml_13.png](attachment:ml_13.png)\n",
    "\n",
    "\n",
    "- **Accuracy (Exactitud o Rendimiento)**: Proporciona información sobre el porcentaje de patrones clasificados correctamente. Para clases desbalanceadas es mejor utilizar otra métrica.\n",
    "\n",
    "$$Accuracy = \\frac{VP + VN}{VP + FN + FP + VN}$$\n",
    "\n",
    "- **Precision**: La precisión mide la habilidad del clasificador para no predecir un caso negativo como un caso positivo.\n",
    "\n",
    "$$Precision = \\frac{VP }{VP + FP}$$\n",
    "\n",
    "- **Recall (Sensibilidad o  Exhaustividad)**: Es la habilidad del clasificador para predecir casos positivos como positivos. Esta métrica se suele utilizar en el ámbito médico debido a que da prioridad a predicción o clasificación de pacientes enfermos como enfermos sin dar el mismo nivel de importancia si un paciente sano se clasifica como enfermo.\n",
    "\n",
    "$$Recall = \\frac{VP + VN}{VP + FN}$$\n",
    "\n",
    "\n",
    "- **Specificity (Especificidad)**: Muestra la habilidad del clasificador para predecir verdaderos negativos reales correctamente. \n",
    "\n",
    "$$ Specificity = \\frac{VN}{VN + FP}$$\n",
    "\n",
    "\n",
    "- **F1-Score**: Es la media armónica entre la precisión y la sensibilidad.\n",
    "\n",
    "$$F1 = 2 * \\frac{Precision * Recall}{Precision + Recall}$$\n",
    "\n",
    "\n",
    "- **Curva ROC (Receiver Operating Characteristics/Característica Operativa del Receptor)**:\n",
    "\n",
    "    Es la representación de la proporción de verdaderos positivos frente a la proporción de falsos positivos.\n",
    "    \n",
    "    Es una curva que se grafica a través de los siguientes ejes: \n",
    "    - **Eje Y**: Recall.\n",
    "    - **Eje X**: 1 - Specificity."
   ]
  },
  {
   "cell_type": "markdown",
   "metadata": {},
   "source": [
    "### **LIBRERÍAS NECESARIAS**"
   ]
  },
  {
   "cell_type": "code",
   "execution_count": 37,
   "id": "83bef998",
   "metadata": {},
   "outputs": [],
   "source": [
    "import numpy as np\n",
    "import pandas as pd\n",
    "import matplotlib.pyplot as plt\n",
    "import seaborn as sns\n",
    "\n",
    "# SEPARACIÓN TRAIN Y TEST\n",
    "from sklearn.model_selection import train_test_split\n",
    "\n",
    "# MODELO\n",
    "from sklearn.neighbors import KNeighborsClassifier\n",
    "\n",
    "# CONSEGUIR DATASETS DE SKLEARN\n",
    "from sklearn import datasets\n",
    "\n",
    "# MÉTRICAS\n",
    "from sklearn.metrics import jaccard_score\n",
    "from sklearn.metrics import accuracy_score\n",
    "from sklearn.metrics import precision_score\n",
    "from sklearn.metrics import recall_score\n",
    "from sklearn.metrics import f1_score\n",
    "from sklearn.metrics import roc_auc_score\n",
    "\n",
    "from sklearn.metrics import confusion_matrix\n",
    "from sklearn.metrics import classification_report\n",
    "\n",
    "from sklearn.metrics import roc_curve\n",
    "from sklearn.metrics import auc"
   ]
  },
  {
   "cell_type": "markdown",
   "id": "5d11a6e8",
   "metadata": {},
   "source": [
    "### **DATASEST Y SEPARACIÓN TRAIN Y TEST**"
   ]
  },
  {
   "cell_type": "code",
   "execution_count": 57,
   "id": "2b9db305",
   "metadata": {},
   "outputs": [],
   "source": [
    "iris = datasets.load_iris()\n",
    "\n",
    "X = iris.data\n",
    "y = iris.target"
   ]
  },
  {
   "cell_type": "code",
   "execution_count": 59,
   "metadata": {},
   "outputs": [
    {
     "data": {
      "text/plain": [
       "150"
      ]
     },
     "execution_count": 59,
     "metadata": {},
     "output_type": "execute_result"
    }
   ],
   "source": [
    "len(y)"
   ]
  },
  {
   "cell_type": "code",
   "execution_count": 3,
   "id": "0f47b1b6",
   "metadata": {},
   "outputs": [
    {
     "name": "stdout",
     "output_type": "stream",
     "text": [
      "Train: (105, 4), (105,)\n",
      "Train: (45, 4), (45,)\n"
     ]
    }
   ],
   "source": [
    "X_train, X_test, y_train, y_test = train_test_split(X, y, test_size = 0.3, random_state = 42)\n",
    "\n",
    "print(f\"Train: {X_train.shape}, {y_train.shape}\")\n",
    "print(f\"Train: {X_test.shape}, {y_test.shape}\")"
   ]
  },
  {
   "cell_type": "markdown",
   "metadata": {},
   "source": [
    "### **MODELO Y PREDICCIONES**"
   ]
  },
  {
   "cell_type": "code",
   "execution_count": 4,
   "id": "a2489821",
   "metadata": {},
   "outputs": [
    {
     "data": {
      "text/plain": [
       "array([1, 0, 2, 1, 1, 0, 1, 2, 1, 1, 2, 0, 0, 0, 0, 1, 2, 1, 1, 2, 0, 2,\n",
       "       0, 2, 2, 2, 2, 2, 0, 0, 0, 0, 1, 0, 0, 2, 1, 0, 0, 0, 2, 1, 1, 0,\n",
       "       0])"
      ]
     },
     "execution_count": 4,
     "metadata": {},
     "output_type": "execute_result"
    }
   ],
   "source": [
    "clf = KNeighborsClassifier(3)\n",
    "clf.fit(X_train, y_train)\n",
    "\n",
    "yhat = clf.predict(X_test)\n",
    "yhat"
   ]
  },
  {
   "cell_type": "markdown",
   "id": "b0b72efe",
   "metadata": {},
   "source": [
    "## **MÉTRICAS**"
   ]
  },
  {
   "cell_type": "code",
   "execution_count": 5,
   "id": "b43c2d4d",
   "metadata": {},
   "outputs": [
    {
     "name": "stdout",
     "output_type": "stream",
     "text": [
      "Similitud (JACCARD INDEX): 1.0\n",
      "Exactitud (ACURACY): 1.0\n",
      "Precisión (PRECISION): 1.0\n",
      "Sensibilidad (RECALL): 1.0\n",
      "F1-score (PRECISION + RECALL): 1.0\n"
     ]
    }
   ],
   "source": [
    "print(\"Similitud (JACCARD INDEX):\", jaccard_score(y_test, yhat, average = \"macro\"))\n",
    "print(\"Exactitud (ACURACY):\"    , accuracy_score(y_test, yhat))\n",
    "print(\"Precisión (PRECISION):\"    , precision_score(y_test, yhat, average = \"macro\"))\n",
    "print(\"Sensibilidad (RECALL):\" , recall_score(y_test, yhat, average = \"macro\"))\n",
    "print(\"F1-score (PRECISION + RECALL):\"     , f1_score(y_test, yhat, average = \"macro\"))"
   ]
  },
  {
   "cell_type": "markdown",
   "id": "8ac90bb3",
   "metadata": {},
   "source": [
    "**Matriz de confusion**"
   ]
  },
  {
   "cell_type": "markdown",
   "metadata": {},
   "source": [
    "![Texto alternativo](../Imagenes%20Notebooks/Matriz_clasificacion.png)"
   ]
  },
  {
   "cell_type": "markdown",
   "metadata": {},
   "source": [
    "La matriz de confusión es una herramienta que se utiliza en el campo de la clasificación de modelos para evaluar el rendimiento de un algoritmo de aprendizaje automático. Se utiliza comúnmente en problemas de clasificación binaria y también se puede extender a problemas de clasificación multiclase.\n",
    "\n",
    "En el contexto del modelo Gaussian Naive Bayes (GaussianNB), que es un clasificador probabilístico basado en el teorema de Bayes con la suposición de independencia condicional entre las características, la matriz de confusión muestra la cantidad de predicciones correctas e incorrectas hechas por el modelo en cada clase.\n",
    "\n",
    "La matriz de confusión generalmente tiene cuatro entradas:\n",
    "\n",
    "- **Verdaderos positivos (TP):** La cantidad de instancias positivas que fueron clasificadas correctamente como positivas por el modelo.\n",
    "  \n",
    "- **Falsos positivos (FP):** La cantidad de instancias negativas que fueron incorrectamente clasificadas como positivas por el modelo.\n",
    "\n",
    "- **Falsos negativos (FN):** La cantidad de instancias positivas que fueron incorrectamente clasificadas como negativas por el modelo.\n",
    "\n",
    "- **Verdaderos negativos (TN):** La cantidad de instancias negativas que fueron clasificadas correctamente como negativas por el modelo. Se encuentran en la suma de los elementos fuera de la fila y columna de cada clase en la matriz_confusion\n",
    "\n",
    "A partir de estas cuatro métricas, se pueden derivar diversas métricas de evaluación del rendimiento del modelo, como la precisión, la sensibilidad, la especificidad y la puntuación F1.\n",
    "\n",
    "La interpretación de la matriz de confusión es esencial para comprender cómo se está desempeñando un modelo en tareas específicas y para identificar posibles áreas de mejora. Puedes utilizar funciones de bibliotecas de Python como scikit-learn para calcular y visualizar la matriz de confusión en el contexto de un modelo GaussianNB."
   ]
  },
  {
   "cell_type": "markdown",
   "metadata": {},
   "source": [
    "### Para una matriz de confusión 2x2:\n",
    "\n",
    "1. **TP (Verdaderos Positivos):**\n",
    "   $ TP = \\text{C1,1} $\n",
    "\n",
    "2. **FP (Falsos Positivos):**\n",
    "   $ FP = \\text{C2,1} $\n",
    "\n",
    "3. **TN (Verdaderos Negativos):**\n",
    "   $ TN = \\text{C2,2} $\n",
    "\n",
    "4. **FN (Falsos Negativos):**\n",
    "   $ FN = \\text{C1,2} $"
   ]
  },
  {
   "cell_type": "markdown",
   "metadata": {},
   "source": [
    "![Texto alternativo](../Imagenes%20Notebooks/Matriz_clasificación_2x2.png)"
   ]
  },
  {
   "cell_type": "markdown",
   "metadata": {},
   "source": [
    "### Para una matriz de confusión nxn (n > 2):\n",
    "\n",
    "Dado que hay más clases, las fórmulas son un poco más complicadas. Supongamos que $ N $ es el número de clases. En este caso, $ C_{i,j} $ representa el número de instancias de la clase $ i $ que fueron clasificadas como clase $ j $.\n",
    "\n",
    "1. **TP (Verdaderos Positivos) para la clase \\( k \\):**\n",
    "   $ TP_k = C_{k,k} $\n",
    "\n",
    "2. **FP (Falsos Positivos) para la clase \\( k \\):**\n",
    "   $ FP_k = \\sum_{i=1, i\\neq k}^{N} C_{i,k} $\n",
    "\n",
    "3. **TN (Verdaderos Negativos) para la clase \\( k \\):**\n",
    "   $ TN_k = \\sum_{i=1, i\\neq k}^{N} \\sum_{j=1, j\\neq k}^{N} C_{i,j} $\n",
    "\n",
    "4. **FN (Falsos Negativos) para la clase \\( k \\):**\n",
    "   $ FN_k = \\sum_{j=1, j\\neq k}^{N} C_{k,j} $\n",
    "\n",
    "Estas fórmulas permiten calcular las métricas de rendimiento para cada clase en un problema de clasificación con más de dos clases. Puedes usar estas métricas para evaluar el rendimiento del modelo en cada clase por separado.\n",
    "```"
   ]
  },
  {
   "cell_type": "markdown",
   "metadata": {},
   "source": [
    "![Texto alternativo](../Imagenes%20Notebooks/Ejemplo_matriz_confusión_3x3.png)"
   ]
  },
  {
   "cell_type": "code",
   "execution_count": 27,
   "id": "a5c9697b",
   "metadata": {},
   "outputs": [],
   "source": [
    "matriz_confusion = confusion_matrix(y_test, yhat, labels = [0, 1, 2]) "
   ]
  },
  {
   "cell_type": "code",
   "execution_count": 28,
   "metadata": {},
   "outputs": [
    {
     "data": {
      "text/plain": [
       "array([19,  0,  0], dtype=int64)"
      ]
     },
     "execution_count": 28,
     "metadata": {},
     "output_type": "execute_result"
    }
   ],
   "source": [
    "matriz_confusion[0] # Accedemos a la fila 0.."
   ]
  },
  {
   "cell_type": "code",
   "execution_count": 30,
   "metadata": {},
   "outputs": [
    {
     "data": {
      "text/plain": [
       "[19, 0, 0]"
      ]
     },
     "execution_count": 30,
     "metadata": {},
     "output_type": "execute_result"
    }
   ],
   "source": [
    "columna_0 = [fila[0] for fila in matriz_confusion] # Accediendo a la columna\n",
    "columna_0"
   ]
  },
  {
   "cell_type": "code",
   "execution_count": 32,
   "id": "10518e61-8593-4fd8-9066-9f86a8b0e919",
   "metadata": {},
   "outputs": [
    {
     "data": {
      "image/png": "[encoded data removed]",
      "text/plain": [
       "<Figure size 640x480 with 2 Axes>"
      ]
     },
     "metadata": {},
     "output_type": "display_data"
    }
   ],
   "source": [
    "sns.heatmap(matriz_confusion, annot=True)"
   ]
  },
  {
   "cell_type": "markdown",
   "id": "08772bfc",
   "metadata": {},
   "source": [
    "### **REPORTE CLASIFICADOR** (Classification Report)"
   ]
  },
  {
   "cell_type": "markdown",
   "metadata": {},
   "source": [
    "El método `classification_report` en scikit-learn genera un informe de clasificación que proporciona varias métricas útiles para evaluar el rendimiento de un modelo de clasificación. Este informe incluye precision, recall, f1-score y support para cada clase, así como el promedio ponderado de estas métricas. La información se presenta de manera tabular para facilitar su lectura.\n",
    "\n",
    "Aquí hay una descripción general de las métricas que generalmente se incluyen en el informe de clasificación:\n",
    "\n",
    "1. **Precision (Precisión):** La precisión es la proporción de verdaderos positivos (TP) con respecto a la suma de verdaderos positivos y falsos positivos (FP). Se calcula como \\( \\frac{TP}{TP + FP} \\). Mide la exactitud de las predicciones positivas del modelo.\n",
    "\n",
    "2. **Recall (Recuperación o Sensibilidad):** El recall es la proporción de verdaderos positivos (TP) con respecto a la suma de verdaderos positivos y falsos negativos (FN). Se calcula como \\( \\frac{TP}{TP + FN} \\). Mide la capacidad del modelo para capturar todas las instancias positivas.\n",
    "\n",
    "3. **F1-Score:** El F1-Score es la media armónica de precisión y recall. Se calcula como \\( \\frac{2 \\cdot \\text{Precision} \\cdot \\text{Recall}}{\\text{Precision} + \\text{Recall}} \\). Proporciona un equilibrio entre precisión y recall.\n",
    "\n",
    "4. **Support:** El soporte es el número total de instancias de la clase en los datos reales.\n",
    "\n",
    "El informe de clasificación generalmente se presenta en una tabla que muestra estas métricas para cada clase, así como el promedio ponderado de las métricas para todas las clases.\n",
    "\n",
    "La impresión de `classification_report(y_test, yhat, digits=3)` mostrará este informe para las predicciones `yhat` en comparación con las etiquetas reales `y_test`. La opción `digits=3` controla la cantidad de dígitos que se muestran en las métricas. Este informe es una herramienta útil para comprender cómo se está desempeñando tu modelo en cada clase y para identificar áreas que podrían necesitar mejora."
   ]
  },
  {
   "cell_type": "code",
   "execution_count": 33,
   "id": "dd4a8cc0",
   "metadata": {},
   "outputs": [
    {
     "name": "stdout",
     "output_type": "stream",
     "text": [
      "              precision    recall  f1-score   support\n",
      "\n",
      "           0      1.000     1.000     1.000        19\n",
      "           1      1.000     1.000     1.000        13\n",
      "           2      1.000     1.000     1.000        13\n",
      "\n",
      "    accuracy                          1.000        45\n",
      "   macro avg      1.000     1.000     1.000        45\n",
      "weighted avg      1.000     1.000     1.000        45\n",
      "\n"
     ]
    }
   ],
   "source": [
    "print(classification_report(y_test, yhat, digits = 3)) # el parámetro digits especifica la cantidad de dígitos a mostrar después del punto decimal en los resultados"
   ]
  },
  {
   "cell_type": "markdown",
   "metadata": {},
   "source": [
    "En el contexto del informe de clasificación generado por `classification_report` en scikit-learn, las líneas \"accuracy\", \"macro avg\" y \"weighted avg\" representan diferentes métricas de resumen que resaltan el rendimiento general del modelo en diferentes aspectos.\n",
    "\n",
    "1. **Accuracy (Precisión Global):** La línea \"accuracy\" indica la precisión global del modelo, es decir, la proporción de instancias clasificadas correctamente (verdaderos positivos y verdaderos negativos) entre el total de instancias. Se calcula como \\(\\frac{TP + TN}{TP + TN + FP + FN}\\).\n",
    "\n",
    "2. **Macro Avg (Promedio Macro):** La línea \"macro avg\" muestra el promedio no ponderado de las métricas para cada clase. Calcula las métricas para cada clase por separado y luego toma el promedio simple de esas métricas. Esto no tiene en cuenta el desequilibrio de clases.\n",
    "\n",
    "3. **Weighted Avg (Promedio Ponderado):** La línea \"weighted avg\" muestra el promedio ponderado de las métricas para cada clase, donde el peso se calcula como el soporte (número de instancias) de cada clase. Este promedio tiene en cuenta el desequilibrio de clases, por lo que las clases con más instancias tienen un impacto mayor en el resultado final.\n",
    "\n",
    "En resumen:\n",
    "\n",
    "- **Accuracy:** Mide la precisión global del modelo.\n",
    "  \n",
    "- **Macro Avg:** Ofrece un promedio no ponderado de las métricas para cada clase.\n",
    "\n",
    "- **Weighted Avg:** Proporciona un promedio ponderado de las métricas, teniendo en cuenta el desequilibrio de clases.\n",
    "\n",
    "Estas métricas te brindan diferentes perspectivas sobre el rendimiento del modelo, y es importante considerarlas en conjunto para obtener una comprensión completa."
   ]
  },
  {
   "cell_type": "markdown",
   "id": "9913f979",
   "metadata": {},
   "source": [
    "### **CURVA ROC**\n",
    "\n",
    "Una curva ROC es un gráfico que resume el rendimiento de un modelo de clasificación binaria en la clase positiva.\n",
    "\n",
    "La curva ROC (Receiver Operating Characteristic) es una representación gráfica que ilustra el rendimiento de un clasificador binario en diferentes niveles de umbral. En una curva ROC, se traza la tasa de verdaderos positivos (TPR o sensibilidad) en el eje y contra la tasa de falsos positivos (FPR) en el eje x para diferentes umbrales de decisión.\n",
    "\n",
    "Aquí hay algunos elementos clave que se pueden observar en una curva ROC:\n",
    "\n",
    "1. **Sensibilidad (TPR):** Representa la proporción de positivos reales que se clasificaron correctamente como positivos. A medida que el umbral de decisión disminuye, la sensibilidad tiende a aumentar.\n",
    "\n",
    "2. **Tasa de Falsos Positivos (FPR):** Representa la proporción de negativos reales que se clasificaron incorrectamente como positivos. A medida que el umbral de decisión disminuye, la FPR también tiende a aumentar.\n",
    "\n",
    "3. **Área bajo la curva (AUC-ROC):** Es una métrica numérica que resume el rendimiento del clasificador en términos de sensibilidad y FPR. Un AUC-ROC más alto indica un mejor rendimiento del clasificador. Un AUC-ROC de 0.5 sugiere un rendimiento similar al azar, mientras que un AUC-ROC de 1.0 indica un rendimiento perfecto.\n",
    "\n",
    "4. **Línea de referencia:** La línea diagonal desde (0,0) hasta (1,1) representa el rendimiento de un clasificador aleatorio.\n",
    "\n",
    "Al observar la curva ROC, idealmente, quieres que la curva se acerque lo más posible al rincón superior izquierdo, lo que indica altas tasas de verdaderos positivos y bajas tasas de falsos positivos. Sin embargo, la elección del umbral óptimo dependerá de la naturaleza específica del problema y de tus preferencias en cuanto a sensibilidad y especificidad.\n",
    "\n",
    "En resumen, la curva ROC proporciona una representación visual de cómo cambia el rendimiento de un clasificador binario a medida que ajustas el umbral de decisión y te permite evaluar el equilibrio entre sensibilidad y especificidad.\n",
    "\n",
    "**Solo para clasificación binaria.**"
   ]
  },
  {
   "cell_type": "code",
   "execution_count": 106,
   "metadata": {},
   "outputs": [],
   "source": [
    "df = pd.read_csv(\"../Data/iris.csv\")"
   ]
  },
  {
   "cell_type": "code",
   "execution_count": 107,
   "metadata": {},
   "outputs": [
    {
     "data": {
      "text/plain": [
       "array(['Iris-setosa', 'Iris-versicolor', 'Iris-virginica'], dtype=object)"
      ]
     },
     "execution_count": 107,
     "metadata": {},
     "output_type": "execute_result"
    }
   ],
   "source": [
    "df[\"Clase\"].unique()"
   ]
  },
  {
   "cell_type": "code",
   "execution_count": 108,
   "metadata": {},
   "outputs": [],
   "source": [
    "df = df[(df[\"Clase\"]== \"Iris-versicolor\") | (df[\"Clase\"]== \"Iris-virginica\")]"
   ]
  },
  {
   "cell_type": "code",
   "execution_count": 109,
   "metadata": {},
   "outputs": [],
   "source": [
    "df['Clase'] = df['Clase'].apply(lambda x: 0 if x == 'Iris-versicolor' else 1)"
   ]
  },
  {
   "cell_type": "code",
   "execution_count": 110,
   "metadata": {},
   "outputs": [],
   "source": [
    "X_ana = np.array(df.drop(\"Clase\", axis= 1))"
   ]
  },
  {
   "cell_type": "code",
   "execution_count": 111,
   "metadata": {},
   "outputs": [],
   "source": [
    "y_ana = np.array(df[\"Clase\"])"
   ]
  },
  {
   "cell_type": "code",
   "execution_count": 112,
   "id": "1dea0492",
   "metadata": {},
   "outputs": [
    {
     "name": "stdout",
     "output_type": "stream",
     "text": [
      "Train: (70, 4), (70,)\n",
      "Train: (30, 4), (30,)\n"
     ]
    }
   ],
   "source": [
    "# Hago el dataset binario\n",
    "\n",
    "X_train, X_test, y_train, y_test = train_test_split(X_ana, y_ana, test_size = 0.3, random_state = 42)\n",
    "\n",
    "print(f\"Train: {X_train.shape}, {y_train.shape}\")\n",
    "print(f\"Train: {X_test.shape}, {y_test.shape}\")"
   ]
  },
  {
   "cell_type": "code",
   "execution_count": 113,
   "id": "f681498f",
   "metadata": {},
   "outputs": [],
   "source": [
    "# Entreno el modelo\n",
    "\n",
    "clf = KNeighborsClassifier(3)\n",
    "clf.fit(X_train, y_train)\n",
    "\n",
    "yhat = clf.predict(X_test)"
   ]
  },
  {
   "cell_type": "code",
   "execution_count": 114,
   "id": "d3b7fcfc",
   "metadata": {},
   "outputs": [
    {
     "name": "stdout",
     "output_type": "stream",
     "text": [
      "Area bajo la curva: 0.9592760180995475\n"
     ]
    },
    {
     "data": {
      "image/png": "[encoded data removed]",
      "text/plain": [
       "<Figure size 640x480 with 1 Axes>"
      ]
     },
     "metadata": {},
     "output_type": "display_data"
    }
   ],
   "source": [
    "# ROC Plot\n",
    "\n",
    "probs = clf.predict_proba(X_test)\n",
    "\n",
    "preds = probs[:, 1]\n",
    "\n",
    "fpr, tpr, threshold = roc_curve(y_test, preds)\n",
    "roc_auc = auc(fpr, tpr)\n",
    "\n",
    "print(\"Area bajo la curva:\", auc(fpr, tpr))\n",
    "\n",
    "plt.plot(fpr, tpr, \"b\", label = \"AUC = %0.2f\" % roc_auc)\n",
    "\n",
    "plt.xlim([0, 1])\n",
    "plt.ylim([0, 1])\n",
    "\n",
    "plt.ylabel(\"Sensibilidad\")\n",
    "plt.xlabel(\"1 - Especificidad\")\n",
    "\n",
    "plt.legend()\n",
    "\n",
    "plt.show()"
   ]
  },
  {
   "cell_type": "markdown",
   "id": "ba78e375",
   "metadata": {},
   "source": [
    "### ROC AUC (Receiver Operating Characteristics Area Under the Curve)\n",
    "\n",
    "Este área puede interpretarse como la probabilidad de que ante un par de instancias, uno Positivo y uno Negativo, la prueba los clasifique correctamente.\n",
    "\n",
    "Ésta métrica es de las más utilizada para comparar modelos de clasificación con clases muy desequilibradas."
   ]
  },
  {
   "cell_type": "code",
   "execution_count": 115,
   "id": "f1211291",
   "metadata": {},
   "outputs": [
    {
     "name": "stdout",
     "output_type": "stream",
     "text": [
      "ROC AUC: 0.8167420814479638\n"
     ]
    }
   ],
   "source": [
    "print(\"ROC AUC:\", roc_auc_score(y_test, yhat))"
   ]
  },
  {
   "cell_type": "code",
   "execution_count": null,
   "id": "82da69ff",
   "metadata": {},
   "outputs": [],
   "source": [
    "################################################################################################################################"
   ]
  }
 ],
 "metadata": {
  "kernelspec": {
   "display_name": "Python 3 (ipykernel)",
   "language": "python",
   "name": "python3"
  },
  "language_info": {
   "codemirror_mode": {
    "name": "ipython",
    "version": 3
   },
   "file_extension": ".py",
   "mimetype": "text/x-python",
   "name": "python",
   "nbconvert_exporter": "python",
   "pygments_lexer": "ipython3",
   "version": "3.11.5"
  }
 },
 "nbformat": 4,
 "nbformat_minor": 5
}
