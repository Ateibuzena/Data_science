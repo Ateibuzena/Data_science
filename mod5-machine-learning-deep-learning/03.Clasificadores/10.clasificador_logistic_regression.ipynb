{
 "cells": [
  {
   "cell_type": "markdown",
   "id": "999f6a7a",
   "metadata": {},
   "source": [
    "## Logistic Regression (Regressión Logística)\n",
    "\n",
    "La regresión logística es una técnica estadística y de machine learning que se utiliza para clasificar datos, mientras que las regresiones lineales buscan predecir una variable continua **la regresión logística se enfoca en predecir la clase de una variable categórica.**\n",
    "\n",
    "Por lo tanto forma parte de los modelos de clasificación. Es sencillo de implementar, tiene buen rendimiento cuando las clases son linealmente separables, trabaja mejor con clases binarias y es un modelo probabilístico. \n",
    "\n",
    "**La regresión logística mide la probabilidad de que un patrón pertenezca a una clase u otra.**"
   ]
  },
  {
   "attachments": {
    "ml_16.png": {
     "image/png": "[encoded data removed]"
    }
   },
   "cell_type": "markdown",
   "id": "a0e03ec3",
   "metadata": {},
   "source": [
    "### Función Logística (Sigmoid)\n",
    "\n",
    "La función logística, también conocida como **función sigmoidal** (o Sigmoid en inglés) es la función que le da nombre a este clasificador.\n",
    "\n",
    "Ésta función se define de la siguiente forma:\n",
    "\n",
    "$$sigmoid(x) = \\frac{1}{1 + e^{-x}}$$\n",
    "\n",
    "Otra forma de definir la función:\n",
    "\n",
    "$$sigmoid(x) = \\frac{e^{x}}{e^{x} + 1}$$\n",
    "\n",
    "Gráfica de la función sigmoidal:\n",
    "![ml_16.png](attachment:ml_16.png)\n",
    "\n",
    "\n",
    "**La función sigmoidal mostrada arriba es la que se usaría si tuviésemos un modelo de una sola característica (atributo).**\n",
    "\n",
    "Para **modelos multilíneales** el valor de **$x$ será sustituido por una función que se ajuste mejor a los datos de entrenamiento**, dando de esta forma una **variante de la función sigmoidal**, en otras palabras, estaríamos hablando de una función sigmoidal donde **$x$ pasa a ser una función de n-variables (una por cada atributo o columna)**, similar a lo que sucede con las **Regresiones Lineales**.\n",
    "\n",
    "Para estos casos, la función sigmoidal sería: \n",
    "\n",
    "$$sigmoid(x) = \\frac{1}{1 + e^{-(w_{0}*x_{0} + w_{1}*x_{1}+...+w_{n})}}$$\n",
    "\n",
    "\n",
    "\n",
    "**$x$ pasa a ser una ecuación lineal resultado de una regresión lineal que se ajusta lo mejor posible a los datos.**\n",
    "\n",
    "- El **dominio de esta función son todos los números reales** y el rango o **codominio son los valores entre 0 y 1**, sin incluirlos, es decir, **nunca llegan a ser 0 o 1**.\n",
    "\n",
    "\n",
    "- La idea detrás de este clasificador es **\"transformar\"** cada instancia del conjunto de entrenamiento **usando la función sigmoidal**, dando como **resultado un número entre 0 y 1**. Dependiendo del resultado, el clasificador asignará una clase a cada instancia. **Si el resultado es < 0.5 el clasificador lo asignará a la clase 0, si el resultado es > 0.5 el clasificador lo asignará a la clase 1**.\n",
    "\n",
    "\n",
    "- **La regresión logística es un algoritmo lineal** (con una transformación no lineal en la salida). **Asume una relación lineal entre las variables de entrada con la salida.** Las transformaciones de datos de sus variables de entrada que exponen mejor esta relación lineal pueden dar como **resultado un modelo más preciso**. Por ejemplo, puede usar **log, sqrt, Box-Cox y otras transformaciones** univariadas para exponer mejor esta relación.\n",
    "\n",
    "\n",
    "- **El modelo puede sobreajustarse (overfitting)** si tiene varias características (atributos) altamente correlacionados. Podemos considerar eliminar las características (atributos) altamente correlacionadas.\n",
    "\n",
    "\n",
    "- **Es posible que el proceso de estimación de probabilidad esperada que aprende los coeficientes no converja**. Esto puede suceder si hay muchas características altamente correlacionadas o tenemos una matriz **\"sparse\"** (una matriz con muchos ceros).\n",
    "\n",
    "\n",
    "_**Documentación:** https://scikit-learn.org/stable/modules/generated/sklearn.linear_model.LogisticRegression.html_"
   ]
  },
  {
   "cell_type": "markdown",
   "id": "76ff72ef",
   "metadata": {},
   "source": [
    "### **LIBRERÍAS NECESARIAS**"
   ]
  },
  {
   "cell_type": "code",
   "execution_count": 1,
   "id": "b01645c8",
   "metadata": {},
   "outputs": [],
   "source": [
    "import numpy as np\n",
    "import pandas as pd\n",
    "import matplotlib.pyplot as plt\n",
    "import seaborn as sns\n",
    "\n",
    "from sklearn import datasets\n",
    "\n",
    "# Normalizacion\n",
    "from sklearn.preprocessing import MinMaxScaler\n",
    "\n",
    "# Train, Test\n",
    "from sklearn.model_selection import train_test_split\n",
    "\n",
    "# Metricas\n",
    "from sklearn.metrics import jaccard_score\n",
    "from sklearn.metrics import accuracy_score\n",
    "from sklearn.metrics import precision_score\n",
    "from sklearn.metrics import recall_score\n",
    "from sklearn.metrics import f1_score\n",
    "from sklearn.metrics import roc_auc_score\n",
    "\n",
    "from sklearn.metrics import confusion_matrix\n",
    "from sklearn.metrics import classification_report\n",
    "\n",
    "# Modelo\n",
    "from sklearn.linear_model import LogisticRegression"
   ]
  },
  {
   "cell_type": "code",
   "execution_count": 20,
   "id": "31e886bc",
   "metadata": {},
   "outputs": [],
   "source": [
    "iris = datasets.load_iris()\n",
    "X = iris.data[:100, :2]\n",
    "y = iris.target[:100]\n",
    "\n",
    "# En esta ocasión vamos a quedarnos con las primeras 2 clases y las dos primeras columnas"
   ]
  },
  {
   "cell_type": "markdown",
   "id": "fb32fdf0",
   "metadata": {},
   "source": [
    "### **SEPARACIÓN TRAIN Y TEST**"
   ]
  },
  {
   "cell_type": "code",
   "execution_count": 21,
   "id": "099998cd",
   "metadata": {},
   "outputs": [
    {
     "name": "stdout",
     "output_type": "stream",
     "text": [
      "X_train: (70, 2), y_train: (70,)\n",
      "X_test: (30, 2),  y_test: (30,)\n"
     ]
    }
   ],
   "source": [
    "X_train, X_test, y_train, y_test = train_test_split(X, y, test_size = 0.3, random_state = 42)\n",
    "\n",
    "print(f\"X_train: {X_train.shape}, y_train: {y_train.shape}\")\n",
    "print(f\"X_test: {X_test.shape},  y_test: {y_test.shape}\")"
   ]
  },
  {
   "cell_type": "markdown",
   "id": "f6aedd71",
   "metadata": {},
   "source": [
    "### **PROCESAMIENTO DE DATOS**"
   ]
  },
  {
   "cell_type": "code",
   "execution_count": 22,
   "id": "7fa4861c",
   "metadata": {
    "scrolled": true
   },
   "outputs": [],
   "source": [
    "# Normalización de datos\n",
    "x_scaler = MinMaxScaler()\n",
    "X_train = x_scaler.fit_transform(X_train)\n",
    "X_test = x_scaler.transform(X_test)"
   ]
  },
  {
   "cell_type": "markdown",
   "id": "c79c7ec8",
   "metadata": {},
   "source": [
    "### **MODELO**"
   ]
  },
  {
   "cell_type": "code",
   "execution_count": 23,
   "id": "fcf7e6eb",
   "metadata": {},
   "outputs": [
    {
     "data": {
      "text/html": [
       "<style>#sk-container-id-4 {color: black;}#sk-container-id-4 pre{padding: 0;}#sk-container-id-4 div.sk-toggleable {background-color: white;}#sk-container-id-4 label.sk-toggleable__label {cursor: pointer;display: block;width: 100%;margin-bottom: 0;padding: 0.3em;box-sizing: border-box;text-align: center;}#sk-container-id-4 label.sk-toggleable__label-arrow:before {content: \"▸\";float: left;margin-right: 0.25em;color: #696969;}#sk-container-id-4 label.sk-toggleable__label-arrow:hover:before {color: black;}#sk-container-id-4 div.sk-estimator:hover label.sk-toggleable__label-arrow:before {color: black;}#sk-container-id-4 div.sk-toggleable__content {max-height: 0;max-width: 0;overflow: hidden;text-align: left;background-color: #f0f8ff;}#sk-container-id-4 div.sk-toggleable__content pre {margin: 0.2em;color: black;border-radius: 0.25em;background-color: #f0f8ff;}#sk-container-id-4 input.sk-toggleable__control:checked~div.sk-toggleable__content {max-height: 200px;max-width: 100%;overflow: auto;}#sk-container-id-4 input.sk-toggleable__control:checked~label.sk-toggleable__label-arrow:before {content: \"▾\";}#sk-container-id-4 div.sk-estimator input.sk-toggleable__control:checked~label.sk-toggleable__label {background-color: #d4ebff;}#sk-container-id-4 div.sk-label input.sk-toggleable__control:checked~label.sk-toggleable__label {background-color: #d4ebff;}#sk-container-id-4 input.sk-hidden--visually {border: 0;clip: rect(1px 1px 1px 1px);clip: rect(1px, 1px, 1px, 1px);height: 1px;margin: -1px;overflow: hidden;padding: 0;position: absolute;width: 1px;}#sk-container-id-4 div.sk-estimator {font-family: monospace;background-color: #f0f8ff;border: 1px dotted black;border-radius: 0.25em;box-sizing: border-box;margin-bottom: 0.5em;}#sk-container-id-4 div.sk-estimator:hover {background-color: #d4ebff;}#sk-container-id-4 div.sk-parallel-item::after {content: \"\";width: 100%;border-bottom: 1px solid gray;flex-grow: 1;}#sk-container-id-4 div.sk-label:hover label.sk-toggleable__label {background-color: #d4ebff;}#sk-container-id-4 div.sk-serial::before {content: \"\";position: absolute;border-left: 1px solid gray;box-sizing: border-box;top: 0;bottom: 0;left: 50%;z-index: 0;}#sk-container-id-4 div.sk-serial {display: flex;flex-direction: column;align-items: center;background-color: white;padding-right: 0.2em;padding-left: 0.2em;position: relative;}#sk-container-id-4 div.sk-item {position: relative;z-index: 1;}#sk-container-id-4 div.sk-parallel {display: flex;align-items: stretch;justify-content: center;background-color: white;position: relative;}#sk-container-id-4 div.sk-item::before, #sk-container-id-4 div.sk-parallel-item::before {content: \"\";position: absolute;border-left: 1px solid gray;box-sizing: border-box;top: 0;bottom: 0;left: 50%;z-index: -1;}#sk-container-id-4 div.sk-parallel-item {display: flex;flex-direction: column;z-index: 1;position: relative;background-color: white;}#sk-container-id-4 div.sk-parallel-item:first-child::after {align-self: flex-end;width: 50%;}#sk-container-id-4 div.sk-parallel-item:last-child::after {align-self: flex-start;width: 50%;}#sk-container-id-4 div.sk-parallel-item:only-child::after {width: 0;}#sk-container-id-4 div.sk-dashed-wrapped {border: 1px dashed gray;margin: 0 0.4em 0.5em 0.4em;box-sizing: border-box;padding-bottom: 0.4em;background-color: white;}#sk-container-id-4 div.sk-label label {font-family: monospace;font-weight: bold;display: inline-block;line-height: 1.2em;}#sk-container-id-4 div.sk-label-container {text-align: center;}#sk-container-id-4 div.sk-container {/* jupyter's `normalize.less` sets `[hidden] { display: none; }` but bootstrap.min.css set `[hidden] { display: none !important; }` so we also need the `!important` here to be able to override the default hidden behavior on the sphinx rendered scikit-learn.org. See: https://github.com/scikit-learn/scikit-learn/issues/21755 */display: inline-block !important;position: relative;}#sk-container-id-4 div.sk-text-repr-fallback {display: none;}</style><div id=\"sk-container-id-4\" class=\"sk-top-container\"><div class=\"sk-text-repr-fallback\"><pre>LogisticRegression()</pre><b>In a Jupyter environment, please rerun this cell to show the HTML representation or trust the notebook. <br />On GitHub, the HTML representation is unable to render, please try loading this page with nbviewer.org.</b></div><div class=\"sk-container\" hidden><div class=\"sk-item\"><div class=\"sk-estimator sk-toggleable\"><input class=\"sk-toggleable__control sk-hidden--visually\" id=\"sk-estimator-id-4\" type=\"checkbox\" checked><label for=\"sk-estimator-id-4\" class=\"sk-toggleable__label sk-toggleable__label-arrow\">LogisticRegression</label><div class=\"sk-toggleable__content\"><pre>LogisticRegression()</pre></div></div></div></div></div>"
      ],
      "text/plain": [
       "LogisticRegression()"
      ]
     },
     "execution_count": 23,
     "metadata": {},
     "output_type": "execute_result"
    }
   ],
   "source": [
    "model = LogisticRegression()\n",
    "model.fit(X_train, y_train)"
   ]
  },
  {
   "cell_type": "markdown",
   "id": "2a4f2d4b",
   "metadata": {},
   "source": [
    "### **PREDICCIONES**"
   ]
  },
  {
   "cell_type": "code",
   "execution_count": 24,
   "id": "93af6df4",
   "metadata": {},
   "outputs": [],
   "source": [
    "yhat = model.predict(X_test)"
   ]
  },
  {
   "cell_type": "code",
   "execution_count": 25,
   "id": "5d694a34",
   "metadata": {},
   "outputs": [
    {
     "name": "stdout",
     "output_type": "stream",
     "text": [
      "Similitud (JACCARD INDEX): 1.0\n",
      "Exactitud (ACURACY): 1.0\n",
      "Precisión (PRECISION): 1.0\n",
      "Sensibilidad (RECALL): 1.0\n",
      "F1-score (PRECISION + RECALL): 1.0\n"
     ]
    }
   ],
   "source": [
    "print(\"Similitud (JACCARD INDEX):\", jaccard_score(y_test, yhat, average = \"macro\"))\n",
    "print(\"Exactitud (ACURACY):\"    , accuracy_score(y_test, yhat))\n",
    "print(\"Precisión (PRECISION):\"    , precision_score(y_test, yhat, average = \"macro\"))\n",
    "print(\"Sensibilidad (RECALL):\" , recall_score(y_test, yhat, average = \"macro\"))\n",
    "print(\"F1-score (PRECISION + RECALL):\"     , f1_score(y_test, yhat, average = \"macro\"))"
   ]
  },
  {
   "cell_type": "markdown",
   "id": "8718ebae",
   "metadata": {},
   "source": [
    "### **CONFUSION MATRIX**"
   ]
  },
  {
   "cell_type": "code",
   "execution_count": 26,
   "id": "43c3138f",
   "metadata": {},
   "outputs": [
    {
     "data": {
      "text/plain": [
       "array([[17,  0],\n",
       "       [ 0, 13]], dtype=int64)"
      ]
     },
     "execution_count": 26,
     "metadata": {},
     "output_type": "execute_result"
    }
   ],
   "source": [
    "confusion_matrix(y_test, yhat)"
   ]
  },
  {
   "cell_type": "markdown",
   "id": "7b192bf8",
   "metadata": {},
   "source": [
    "### **Classification Report**"
   ]
  },
  {
   "cell_type": "code",
   "execution_count": 27,
   "id": "6919d72f",
   "metadata": {},
   "outputs": [
    {
     "name": "stdout",
     "output_type": "stream",
     "text": [
      "              precision    recall  f1-score   support\n",
      "\n",
      "           0      1.000     1.000     1.000        17\n",
      "           1      1.000     1.000     1.000        13\n",
      "\n",
      "    accuracy                          1.000        30\n",
      "   macro avg      1.000     1.000     1.000        30\n",
      "weighted avg      1.000     1.000     1.000        30\n",
      "\n"
     ]
    }
   ],
   "source": [
    "print(classification_report(y_test, yhat, digits = 3))"
   ]
  },
  {
   "cell_type": "markdown",
   "id": "15bf495d",
   "metadata": {},
   "source": [
    "### **Métodos y Atributos del Modelo**"
   ]
  },
  {
   "cell_type": "code",
   "execution_count": 28,
   "id": "5a2d94cb",
   "metadata": {
    "scrolled": true
   },
   "outputs": [
    {
     "data": {
      "text/plain": [
       "array([[0.23101355, 0.76898645],\n",
       "       [0.24351928, 0.75648072],\n",
       "       [0.38655808, 0.61344192],\n",
       "       [0.63240817, 0.36759183],\n",
       "       [0.76905708, 0.23094292],\n",
       "       [0.66855034, 0.33144966],\n",
       "       [0.82094896, 0.17905104],\n",
       "       [0.26734378, 0.73265622],\n",
       "       [0.67598256, 0.32401744],\n",
       "       [0.69571503, 0.30428497],\n",
       "       [0.62677934, 0.37322066],\n",
       "       [0.66103313, 0.33896687],\n",
       "       [0.23301718, 0.76698282],\n",
       "       [0.77694887, 0.22305113],\n",
       "       [0.31919759, 0.68080241],\n",
       "       [0.74391363, 0.25608637],\n",
       "       [0.12025506, 0.87974494],\n",
       "       [0.16448311, 0.83551689],\n",
       "       [0.63240817, 0.36759183],\n",
       "       [0.58888328, 0.41111672],\n",
       "       [0.32410453, 0.67589547],\n",
       "       [0.40849319, 0.59150681],\n",
       "       [0.69332934, 0.30667066],\n",
       "       [0.77723428, 0.22276572],\n",
       "       [0.26955205, 0.73044795],\n",
       "       [0.78082199, 0.21917801],\n",
       "       [0.71931583, 0.28068417],\n",
       "       [0.35214301, 0.64785699],\n",
       "       [0.6350183 , 0.3649817 ],\n",
       "       [0.14239225, 0.85760775]])"
      ]
     },
     "execution_count": 28,
     "metadata": {},
     "output_type": "execute_result"
    }
   ],
   "source": [
    "# .predict_proba()\n",
    "\n",
    "model.predict_proba(X_test)"
   ]
  },
  {
   "cell_type": "markdown",
   "id": "45081f76",
   "metadata": {},
   "source": [
    "### **Recta que separa las nubes de puntos**"
   ]
  },
  {
   "cell_type": "code",
   "execution_count": 29,
   "id": "fe817cc9",
   "metadata": {},
   "outputs": [
    {
     "name": "stdout",
     "output_type": "stream",
     "text": [
      "RECTA\n",
      "\tCoeficientes: [ 3.08056432 -2.63213383]\n",
      "\tIntercepción: 0.14036032782644145\n",
      "\tEcuación: +3.081*w0 -2.632*w1 0.14\n",
      "****************************************************************************************************\n",
      "FUNCION SIGMOID\n",
      "\t1 / (1 + e**-(+3.081*w0 -2.632*w1 0.14))\n"
     ]
    }
   ],
   "source": [
    "# Ecuación de la recta definida por el modelo\n",
    "\n",
    "print(\"RECTA\")\n",
    "\n",
    "print(f\"\\tCoeficientes: {model.coef_[0]}\")\n",
    "\n",
    "print(f\"\\tIntercepción: {model.intercept_[0]}\")\n",
    "\n",
    "ecuacion = \" \".join(([f\"+{coef}*w{num}\" if coef >= 0 else f\"{coef}*w{num}\"\\\n",
    "                      for num, coef in enumerate(np.round(model.coef_[0], 3))]\\\n",
    "                     + [str(np.round(model.intercept_[0], 3))]))\n",
    "\n",
    "print(f\"\\tEcuación: {ecuacion}\")\n",
    "\n",
    "print(\"*\"*100)\n",
    "\n",
    "print(\"FUNCION SIGMOID\")\n",
    "\n",
    "print(f\"\\t1 / (1 + e**-({ecuacion}))\")"
   ]
  },
  {
   "cell_type": "code",
   "execution_count": 32,
   "id": "d5a7e389",
   "metadata": {},
   "outputs": [
    {
     "data": {
      "image/png": "[encoded data removed]",
      "text/plain": [
       "<Figure size 800x600 with 1 Axes>"
      ]
     },
     "metadata": {},
     "output_type": "display_data"
    }
   ],
   "source": [
    "# Gráfico\n",
    "\n",
    "plt.figure(figsize = (8, 6))\n",
    "\n",
    "# Puntos de las primeras 2 columnas\n",
    "sns.scatterplot(x = X_test[:, 0], y = X_test[:, 1], c = y_test, cmap = \"cool\")\n",
    "\n",
    "# Recta\n",
    "x_linspace = np.linspace(-0.25, 1.25, 100)\n",
    "recta = (model.coef_[0][0]*x_linspace + model.intercept_[0])/(-model.coef_[0][1])\n",
    "\n",
    "plt.plot(x_linspace, recta)\n",
    "\n",
    "plt.xlim(-0.25, 1.25)\n",
    "plt.ylim(-0.25, 1.25)\n",
    "\n",
    "plt.show()"
   ]
  },
  {
   "cell_type": "markdown",
   "id": "7297bdbc",
   "metadata": {},
   "source": [
    "### **Representación de yhat y la función Sigmoid**"
   ]
  },
  {
   "cell_type": "code",
   "execution_count": 33,
   "id": "474cdd0f",
   "metadata": {},
   "outputs": [],
   "source": [
    "def sigmoid(x):\n",
    "    return 1 / (1 + np.exp(-x))\n",
    "\n",
    "def sigmoid_regression(coef_, intercept_, x):\n",
    "    recta = np.dot(coef_, x) + intercept_\n",
    "    \n",
    "    return sigmoid(recta)"
   ]
  },
  {
   "cell_type": "code",
   "execution_count": 34,
   "id": "15a36ac8",
   "metadata": {},
   "outputs": [
    {
     "data": {
      "image/png": "[encoded data removed]",
      "text/plain": [
       "<Figure size 1000x600 with 1 Axes>"
      ]
     },
     "metadata": {},
     "output_type": "display_data"
    }
   ],
   "source": [
    "plt.figure(figsize = (10, 6))\n",
    "\n",
    "x_linspace = np.linspace(-4, 6, 100)\n",
    "curva_sigmoid = sigmoid_regression(model.coef_[0][0], model.intercept_[0], x_linspace)\n",
    "\n",
    "# Curva Sigmoid Original\n",
    "plt.plot(x_linspace, sigmoid(x_linspace), color = \"black\", alpha = 0.3, label = \"Sigmoid\")\n",
    "\n",
    "# Curva Sigmoid de la regression\n",
    "plt.plot(x_linspace, curva_sigmoid, label = \"Sigmoid Modelo\")\n",
    "\n",
    "# Puntos de X_test & y_test\n",
    "sns.scatterplot(x = X_test[:,0], y = y_test, hue = y_test, alpha = 0.5)\n",
    "\n",
    "plt.title(\"Valores Reales\")\n",
    "plt.legend()\n",
    "plt.show()"
   ]
  },
  {
   "cell_type": "code",
   "execution_count": 35,
   "id": "8efd374a",
   "metadata": {},
   "outputs": [
    {
     "data": {
      "image/png": "[encoded data removed]",
      "text/plain": [
       "<Figure size 1000x600 with 1 Axes>"
      ]
     },
     "metadata": {},
     "output_type": "display_data"
    }
   ],
   "source": [
    "plt.figure(figsize = (10, 6))\n",
    "\n",
    "x_linspace = np.linspace(-5, 5, 100)\n",
    "curva_sigmoid = sigmoid_regression(model.coef_[0][0], model.intercept_[0], x_linspace)\n",
    "\n",
    "# Curva Sigmoid Original\n",
    "plt.plot(x_linspace, sigmoid(x_linspace), color = \"black\", alpha = 0.3, label = \"Sigmoid\")\n",
    "\n",
    "# Curva Sigmoid de la regression\n",
    "plt.plot(x_linspace, curva_sigmoid, label = \"Sigmoid Modelo\")\n",
    "\n",
    "# Puntos de X_test & y_test\n",
    "sns.scatterplot(x = X_test[:,0], y = yhat, hue = yhat, color = \"orange\", alpha = 0.5)\n",
    "\n",
    "plt.title(\"Predicciones\")\n",
    "plt.legend()\n",
    "plt.show()"
   ]
  },
  {
   "cell_type": "code",
   "execution_count": null,
   "id": "6e66637b",
   "metadata": {},
   "outputs": [],
   "source": [
    "################################################################################################################################"
   ]
  },
  {
   "cell_type": "markdown",
   "id": "2f53f286",
   "metadata": {},
   "source": [
    "### **Ejercicio 1:**\n",
    "- Utiliza el dataset del titanic para practicar **`LogisticRegression`**:"
   ]
  },
  {
   "cell_type": "markdown",
   "metadata": {},
   "source": [
    "### **LIBRERÍAS**"
   ]
  },
  {
   "cell_type": "code",
   "execution_count": 36,
   "metadata": {},
   "outputs": [],
   "source": [
    "import numpy as np\n",
    "import pandas as pd\n",
    "import matplotlib.pyplot as plt\n",
    "import seaborn as sns\n",
    "\n",
    "import plotly.express\n",
    "import plotly.graph_objects as go\n",
    "\n",
    "\n",
    "# Normalizacion\n",
    "from sklearn.preprocessing import MinMaxScaler\n",
    "\n",
    "# Train, Test\n",
    "from sklearn.model_selection import train_test_split\n",
    "\n",
    "# Metricas\n",
    "from sklearn.metrics import jaccard_score\n",
    "from sklearn.metrics import accuracy_score\n",
    "from sklearn.metrics import precision_score\n",
    "from sklearn.metrics import recall_score\n",
    "from sklearn.metrics import f1_score\n",
    "from sklearn.metrics import roc_auc_score\n",
    "\n",
    "from sklearn.metrics import confusion_matrix\n",
    "from sklearn.metrics import classification_report\n",
    "\n",
    "# Modelo\n",
    "from sklearn.linear_model import LogisticRegression"
   ]
  },
  {
   "cell_type": "markdown",
   "metadata": {},
   "source": [
    "### **ENTRENAMIENTO Y PREDICCIÓN**"
   ]
  },
  {
   "cell_type": "code",
   "execution_count": 39,
   "id": "457e670b",
   "metadata": {},
   "outputs": [
    {
     "data": {
      "text/plain": [
       "(891, 10)"
      ]
     },
     "execution_count": 39,
     "metadata": {},
     "output_type": "execute_result"
    }
   ],
   "source": [
    "df = pd.read_csv(\"../Data/titcanica.csv\")\n",
    "backup = df\n",
    "df.shape"
   ]
  },
  {
   "cell_type": "code",
   "execution_count": 40,
   "metadata": {},
   "outputs": [
    {
     "data": {
      "text/plain": [
       "array([0, 2, 1, 3, 4], dtype=int64)"
      ]
     },
     "execution_count": 40,
     "metadata": {},
     "output_type": "execute_result"
    }
   ],
   "source": [
    "df[\"Title\"].unique()"
   ]
  },
  {
   "cell_type": "code",
   "execution_count": 42,
   "id": "3d7ab1a0",
   "metadata": {},
   "outputs": [
    {
     "name": "stdout",
     "output_type": "stream",
     "text": [
      "X_train: (623, 6), y_train: (623,)\n",
      "X_test: (268, 6),  y_test: (268,)\n"
     ]
    }
   ],
   "source": [
    "X = np.array(df[['Sex', 'Age', 'Pclass', 'Fare', 'Surname', 'Title']])\n",
    "y = np.array(df[\"Survived\"])\n",
    "X_train, X_test, y_train, y_test = train_test_split(X, y, test_size = 0.3, random_state = 42)\n",
    "\n",
    "print(f\"X_train: {X_train.shape}, y_train: {y_train.shape}\")\n",
    "print(f\"X_test: {X_test.shape},  y_test: {y_test.shape}\")"
   ]
  },
  {
   "cell_type": "code",
   "execution_count": 43,
   "id": "936c21c5",
   "metadata": {},
   "outputs": [],
   "source": [
    "model = LogisticRegression()\n",
    "model.fit(X_train, y_train)\n",
    "yhat = model.predict(X_test)"
   ]
  },
  {
   "cell_type": "code",
   "execution_count": 44,
   "id": "4444a40e",
   "metadata": {},
   "outputs": [
    {
     "name": "stdout",
     "output_type": "stream",
     "text": [
      "Similitud (JACCARD INDEX): 0.6020419847328244\n",
      "Exactitud (ACURACY): 0.7649253731343284\n",
      "Precisión (PRECISION): 0.7432228478551112\n",
      "Sensibilidad (RECALL): 0.7587697628458498\n",
      "F1-score (PRECISION + RECALL): 0.748236732624547\n"
     ]
    }
   ],
   "source": [
    "print(\"Similitud (JACCARD INDEX):\", jaccard_score(y_test, yhat, average = \"macro\"))\n",
    "print(\"Exactitud (ACURACY):\"    , accuracy_score(y_test, yhat))\n",
    "print(\"Precisión (PRECISION):\"    , precision_score(y_test, yhat, average = \"macro\"))\n",
    "print(\"Sensibilidad (RECALL):\" , recall_score(y_test, yhat, average = \"macro\"))\n",
    "print(\"F1-score (PRECISION + RECALL):\"     , f1_score(y_test, yhat, average = \"macro\"))"
   ]
  },
  {
   "cell_type": "markdown",
   "metadata": {},
   "source": [
    "### **Recta que separa la nube de puntos**"
   ]
  },
  {
   "cell_type": "code",
   "execution_count": 45,
   "id": "47f88f09",
   "metadata": {},
   "outputs": [
    {
     "name": "stdout",
     "output_type": "stream",
     "text": [
      "RECTA\n",
      "\tCoeficientes: [-2.66710675e+00 -3.94302750e-02 -9.59336040e-01  2.06424514e-03\n",
      " -2.53356454e-01 -1.97478993e-01]\n",
      "\tIntercepción: 5.293698497996951\n",
      "\tEcuación: -2.667*w0 -0.039*w1 -0.959*w2 +0.002*w3 -0.253*w4 -0.197*w5 5.294\n",
      "****************************************************************************************************\n",
      "FUNCION SIGMOID\n",
      "\t1 / (1 + e**-(-2.667*w0 -0.039*w1 -0.959*w2 +0.002*w3 -0.253*w4 -0.197*w5 5.294))\n"
     ]
    }
   ],
   "source": [
    "print(\"RECTA\")\n",
    "\n",
    "print(f\"\\tCoeficientes: {model.coef_[0]}\")\n",
    "\n",
    "print(f\"\\tIntercepción: {model.intercept_[0]}\")\n",
    "\n",
    "ecuacion = \" \".join(([f\"+{coef}*w{num}\" if coef >= 0 else f\"{coef}*w{num}\"\\\n",
    "                      for num, coef in enumerate(np.round(model.coef_[0], 3))]\\\n",
    "                     + [str(np.round(model.intercept_[0], 3))]))\n",
    "\n",
    "print(f\"\\tEcuación: {ecuacion}\")\n",
    "\n",
    "print(\"*\"*100)\n",
    "\n",
    "print(\"FUNCION SIGMOID\")\n",
    "\n",
    "print(f\"\\t1 / (1 + e**-({ecuacion}))\")"
   ]
  },
  {
   "cell_type": "code",
   "execution_count": 46,
   "id": "d383d597",
   "metadata": {},
   "outputs": [
    {
     "data": {
      "image/png": "[encoded data removed]",
      "text/plain": [
       "<Figure size 800x600 with 1 Axes>"
      ]
     },
     "metadata": {},
     "output_type": "display_data"
    }
   ],
   "source": [
    "# Gráfico de los datos de las clases que va hacer\n",
    "\n",
    "plt.figure(figsize = (8, 6))\n",
    "\n",
    "# Puntos de las primera 2 clases   (columna 1, columna2)\n",
    "sns.scatterplot(x = X[:, 0], y = X[:, 1], c = y, cmap = \"cool\")\n",
    "\n",
    "# Recta                 (rango de los datos de x, puede ser que tengamos que poner otro rango que corresponda en mis datos)\n",
    "x_linspace = np.linspace(-500, 500, 100)\n",
    "recta = (model.coef_[0][0]*x_linspace + model.intercept_[0])/(-model.coef_[0][1])\n",
    "\n",
    "plt.plot(x_linspace, recta)\n",
    "\n",
    "plt.xlim(-25, 25)\n",
    "plt.ylim(0, 50)\n",
    "\n",
    "plt.show()"
   ]
  },
  {
   "cell_type": "markdown",
   "metadata": {},
   "source": [
    "### **Representación del y_test y la recta Sigmoidal**"
   ]
  },
  {
   "cell_type": "code",
   "execution_count": 47,
   "id": "3e4bd783",
   "metadata": {},
   "outputs": [],
   "source": [
    "def sigmoid(x):\n",
    "    return 1 / (1 + np.exp(-x))\n",
    "\n",
    "def sigmoid_regression(coef_, intercept_, x):\n",
    "    recta = np.dot(coef_, x) + intercept_\n",
    "    \n",
    "    return sigmoid(recta)"
   ]
  },
  {
   "cell_type": "code",
   "execution_count": 48,
   "id": "1039651d",
   "metadata": {},
   "outputs": [
    {
     "data": {
      "image/png": "[encoded data removed]",
      "text/plain": [
       "<Figure size 1000x600 with 1 Axes>"
      ]
     },
     "metadata": {},
     "output_type": "display_data"
    }
   ],
   "source": [
    "plt.figure(figsize = (10, 6))\n",
    "\n",
    "x_linspace = np.linspace(-10, 70, 100)\n",
    "curva_sigmoid = sigmoid_regression(model.coef_[0][0], model.intercept_[0], x_linspace)\n",
    "\n",
    "# Curva Sigmoid Original\n",
    "plt.plot(x_linspace, sigmoid(x_linspace), color = \"black\", alpha = 0.3, label = \"Sigmoid\")\n",
    "\n",
    "# Curva Sigmoid de la regression\n",
    "plt.plot(x_linspace, curva_sigmoid, label = \"Sigmoid Modelo\")\n",
    "\n",
    "# Puntos de X_test & y_test\n",
    "sns.scatterplot(x = X_test[:,1], y = y_test, hue= y_test, alpha = 0.5)\n",
    "\n",
    "plt.title(\"Valores Reales\")\n",
    "plt.legend()\n",
    "plt.show()"
   ]
  },
  {
   "cell_type": "markdown",
   "metadata": {},
   "source": [
    "### **Representación del y_hat y la recta sigmoidal**"
   ]
  },
  {
   "cell_type": "code",
   "execution_count": 49,
   "metadata": {},
   "outputs": [
    {
     "data": {
      "image/png": "[encoded data removed]",
      "text/plain": [
       "<Figure size 1000x600 with 1 Axes>"
      ]
     },
     "metadata": {},
     "output_type": "display_data"
    }
   ],
   "source": [
    "plt.figure(figsize = (10, 6))\n",
    "\n",
    "x_linspace = np.linspace(-20, 70, 100)\n",
    "curva_sigmoid = sigmoid_regression(model.coef_[0][0], model.intercept_[0], x_linspace)\n",
    "\n",
    "# Curva Sigmoid Original\n",
    "plt.plot(x_linspace, sigmoid(x_linspace), color = \"black\", alpha = 0.3, label = \"Sigmoid\")\n",
    "\n",
    "# Curva Sigmoid de la regression\n",
    "plt.plot(x_linspace, curva_sigmoid, label = \"Sigmoid Modelo\")\n",
    "\n",
    "# Puntos de X_test & y_test\n",
    "sns.scatterplot(x = X_test[:,1], y = yhat, hue= yhat, color = \"orange\", alpha = 0.5)\n",
    "\n",
    "plt.title(\"Predicciones\")\n",
    "plt.legend()\n",
    "plt.show()"
   ]
  },
  {
   "cell_type": "markdown",
   "metadata": {},
   "source": [
    "### **Normalizando datos**"
   ]
  },
  {
   "cell_type": "code",
   "execution_count": 50,
   "metadata": {},
   "outputs": [
    {
     "name": "stdout",
     "output_type": "stream",
     "text": [
      "Conjunto de Train: ((623, 6), (623, 1))\n",
      "Conjunto de Test: ((268, 6), (268, 1))\n"
     ]
    }
   ],
   "source": [
    "scaler_x = MinMaxScaler()\n",
    "scaler_x.fit(X_train)\n",
    "X_train = scaler_x.transform(X_train)\n",
    "\n",
    "# Normalizacion de y_train\n",
    "scaler_y = MinMaxScaler()\n",
    "scaler_y.fit(y_train.reshape(-1, 1)) # .reshape(-1, 1) se utiliza para transformar un vector a una matriz\n",
    "y_train = scaler_y.transform(y_train.reshape(-1,1))\n",
    "\n",
    "# Normalizacion de X_test\n",
    "#scaler_x.fit(X_test)\n",
    "X_test = scaler_x.transform(X_test)\n",
    "\n",
    "# Normalizacion de y_test\n",
    "#scaler_y.fit(y_test.reshape(-1, 1)) # .reshape(-1, 1) se utiliza para transformar un vector a una matriz\n",
    "y_test = scaler_y.transform(y_test.reshape(-1,1))\n",
    "\n",
    "print(f\"Conjunto de Train: {X_train.shape, y_train.shape}\")\n",
    "print(f\"Conjunto de Test: {X_test.shape, y_test.shape}\")"
   ]
  },
  {
   "cell_type": "code",
   "execution_count": 51,
   "metadata": {},
   "outputs": [
    {
     "name": "stdout",
     "output_type": "stream",
     "text": [
      "Jaccard Index: 0.6099774564676617\n",
      "Accuracy: 0.7723880597014925\n",
      "Precisión: 0.7494851426890262\n",
      "Sensibilidad: 0.7618577075098814\n",
      "F1-score: 0.7541469283404767\n",
      "RECTA\n",
      "\tCoeficientes: [-2.63281534 -1.92321568 -1.75260253  0.43170632 -0.39652097 -0.88879424]\n",
      "\tIntercepción: 3.626038094836612\n",
      "\tEcuación: -2.633*w0 -1.923*w1 -1.753*w2 +0.432*w3 -0.397*w4 -0.889*w5 3.626\n",
      "****************************************************************************************************\n",
      "FUNCION SIGMOID\n",
      "\t1 / (1 + e**-(-2.633*w0 -1.923*w1 -1.753*w2 +0.432*w3 -0.397*w4 -0.889*w5 3.626))\n"
     ]
    },
    {
     "name": "stderr",
     "output_type": "stream",
     "text": [
      "C:\\Users\\Ane Zubieta\\AppData\\Roaming\\Python\\Python311\\site-packages\\sklearn\\utils\\validation.py:1183: DataConversionWarning: A column-vector y was passed when a 1d array was expected. Please change the shape of y to (n_samples, ), for example using ravel().\n",
      "  y = column_or_1d(y, warn=True)\n"
     ]
    }
   ],
   "source": [
    "model = LogisticRegression()\n",
    "model.fit(X_train, y_train)\n",
    "yhat = model.predict(X_test)\n",
    "\n",
    "print(\"Jaccard Index:\", jaccard_score(y_test, yhat, average = \"macro\"))\n",
    "print(\"Accuracy:\"     , accuracy_score(y_test, yhat))\n",
    "print(\"Precisión:\"    , precision_score(y_test, yhat, average = \"macro\"))\n",
    "print(\"Sensibilidad:\" , recall_score(y_test, yhat, average = \"macro\"))\n",
    "print(\"F1-score:\"     , f1_score(y_test, yhat, average = \"macro\"))\n",
    "\n",
    "print(\"RECTA\")\n",
    "\n",
    "print(f\"\\tCoeficientes: {model.coef_[0]}\")\n",
    "\n",
    "print(f\"\\tIntercepción: {model.intercept_[0]}\")\n",
    "\n",
    "ecuacion = \" \".join(([f\"+{coef}*w{num}\" if coef >= 0 else f\"{coef}*w{num}\"\\\n",
    "                      for num, coef in enumerate(np.round(model.coef_[0], 3))]\\\n",
    "                     + [str(np.round(model.intercept_[0], 3))]))\n",
    "\n",
    "print(f\"\\tEcuación: {ecuacion}\")\n",
    "\n",
    "print(\"*\"*100)\n",
    "\n",
    "print(\"FUNCION SIGMOID\")\n",
    "\n",
    "print(f\"\\t1 / (1 + e**-({ecuacion}))\")"
   ]
  },
  {
   "cell_type": "code",
   "execution_count": 52,
   "metadata": {},
   "outputs": [
    {
     "data": {
      "image/png": "[encoded data removed]",
      "text/plain": [
       "<Figure size 800x600 with 1 Axes>"
      ]
     },
     "metadata": {},
     "output_type": "display_data"
    }
   ],
   "source": [
    "# Gráfico de los datos de las clases que va hacer\n",
    "\n",
    "plt.figure(figsize = (8, 6))\n",
    "\n",
    "# Puntos de las primera 2 clases   (columna 1, columna2)\n",
    "sns.scatterplot(x = X[:, 0], y = X[:, 1], c = y, cmap = \"cool\")\n",
    "\n",
    "# Recta                 (rango de los datos de x, puede ser que tengamos que poner otro rango que corresponda en mis datos)\n",
    "x_linspace = np.linspace(-500, 500, 100)\n",
    "recta = (model.coef_[0][0]*x_linspace + model.intercept_[0])/(-model.coef_[0][1])\n",
    "\n",
    "plt.plot(x_linspace, recta)\n",
    "\n",
    "plt.xlim(-25, 25)\n",
    "plt.ylim(0, 50)\n",
    "\n",
    "plt.show()"
   ]
  },
  {
   "cell_type": "code",
   "execution_count": 53,
   "metadata": {},
   "outputs": [
    {
     "data": {
      "image/png": "[encoded data removed]",
      "text/plain": [
       "<Figure size 1000x600 with 1 Axes>"
      ]
     },
     "metadata": {},
     "output_type": "display_data"
    }
   ],
   "source": [
    "plt.figure(figsize = (10, 6))\n",
    "\n",
    "x_linspace = np.linspace(-4, 6, 100)\n",
    "curva_sigmoid = sigmoid_regression(model.coef_[0][0], model.intercept_[0], x_linspace)\n",
    "\n",
    "# Curva Sigmoid Original\n",
    "plt.plot(x_linspace, sigmoid(x_linspace), color = \"black\", alpha = 0.3, label = \"Sigmoid\")\n",
    "\n",
    "# Curva Sigmoid de la regression\n",
    "plt.plot(x_linspace, curva_sigmoid, label = \"Sigmoid Modelo\")\n",
    "\n",
    "# Puntos de X_test & y_test\n",
    "sns.scatterplot(x = X_test[:, 1], y = y_test.flatten(), hue= y_test.flatten(), alpha = 0.5)\n",
    "\n",
    "plt.title(\"Valores Reales\")\n",
    "plt.legend()\n",
    "plt.show()"
   ]
  },
  {
   "cell_type": "code",
   "execution_count": 54,
   "metadata": {},
   "outputs": [
    {
     "data": {
      "image/png": "[encoded data removed]",
      "text/plain": [
       "<Figure size 1000x600 with 1 Axes>"
      ]
     },
     "metadata": {},
     "output_type": "display_data"
    }
   ],
   "source": [
    "plt.figure(figsize = (10, 6))\n",
    "\n",
    "x_linspace = np.linspace(-5, 5, 100)\n",
    "curva_sigmoid = sigmoid_regression(model.coef_[0][0], model.intercept_[0], x_linspace)\n",
    "\n",
    "# Curva Sigmoid Original\n",
    "plt.plot(x_linspace, sigmoid(x_linspace), color = \"black\", alpha = 0.3, label = \"Sigmoid\")\n",
    "\n",
    "# Curva Sigmoid de la regression\n",
    "plt.plot(x_linspace, curva_sigmoid, label = \"Sigmoid Modelo\")\n",
    "\n",
    "# Puntos de X_test & y_test\n",
    "sns.scatterplot(x = X_test[:, 1], y = yhat, hue= yhat, color = \"orange\", alpha = 0.5)\n",
    "\n",
    "plt.title(\"Predicciones\")\n",
    "plt.legend()\n",
    "plt.show()"
   ]
  },
  {
   "cell_type": "code",
   "execution_count": 55,
   "metadata": {},
   "outputs": [],
   "source": [
    "colors2 = []\n",
    "for i in range(len(y_test)):\n",
    "  if y_test[i] == 0:\n",
    "    colors2.append('red')\n",
    "  else:\n",
    "    colors2.append('blue')"
   ]
  },
  {
   "cell_type": "code",
   "execution_count": 56,
   "metadata": {},
   "outputs": [],
   "source": [
    "colors = []\n",
    "for i in range(len(yhat)):\n",
    "  if yhat[i] == 0:\n",
    "    colors.append('red')\n",
    "  else:\n",
    "    colors.append('blue')"
   ]
  },
  {
   "cell_type": "code",
   "execution_count": 57,
   "metadata": {},
   "outputs": [],
   "source": [
    "x_linspace = np.linspace(min(X_test[:,0]), max(X_test[:,0]), 100)\n",
    "\n",
    "curva_sigmoid = sigmoid_regression(model.coef_[0][0], model.intercept_[0], x_linspace)"
   ]
  },
  {
   "cell_type": "code",
   "execution_count": 58,
   "metadata": {},
   "outputs": [
    {
     "data": {
      "application/vnd.plotly.v1+json": {
       "config": {
        "plotlyServerURL": "https://plot.ly"
       },
       "data": [
        {
         "hovertemplate": "color=blue<br>x=%{x}<br>y=%{y}<br>z=%{z}<extra></extra>",
         "legendgroup": "blue",
         "marker": {
          "color": "#636efa",
          "symbol": "circle"
         },
         "mode": "markers",
         "name": "blue",
         "scene": "scene",
         "showlegend": true,
         "type": "scatter3d",
         "x": [
          0,
          1,
          0,
          0,
          0,
          0,
          0,
          0,
          1,
          0,
          0,
          0,
          0,
          0,
          1,
          1,
          0,
          0,
          1,
          0,
          1,
          1,
          1,
          1,
          0,
          1,
          0,
          0,
          0,
          1,
          1,
          0,
          1,
          1,
          0,
          0,
          1,
          0,
          1,
          0,
          0,
          0,
          1,
          0,
          1,
          0,
          0,
          0,
          0,
          1,
          0,
          1,
          0,
          0,
          0,
          0,
          1,
          0,
          0,
          0,
          0,
          0,
          0,
          0,
          1,
          0,
          0,
          0,
          1,
          0,
          1,
          1,
          0,
          1,
          0,
          0,
          0,
          0,
          0,
          0,
          0,
          0,
          0,
          0,
          0,
          0,
          0,
          0,
          0,
          0,
          0,
          1
         ],
         "y": [
          0.41891891891891897,
          0.6081081081081081,
          0.05405405405405406,
          0.31081081081081086,
          0.3918918918918919,
          0.5270270270270271,
          0.3918918918918919,
          0.1891891891891892,
          0.3648648648648649,
          0.04054054054054054,
          0.6486486486486487,
          0.2567567567567568,
          0.5135135135135136,
          0.06756756756756757,
          0.6756756756756757,
          0.31081081081081086,
          0.3918918918918919,
          0.7837837837837838,
          0.3783783783783784,
          0.6486486486486487,
          0.3918918918918919,
          0.3918918918918919,
          0.33783783783783783,
          0.6486486486486487,
          0.472972972972973,
          0.6891891891891893,
          0.44594594594594594,
          0.6351351351351352,
          0.3918918918918919,
          0.4864864864864865,
          0.43243243243243246,
          0.32432432432432434,
          0.43243243243243246,
          0.4864864864864865,
          0.6081081081081081,
          0.7297297297297298,
          0.5945945945945946,
          0.2567567567567568,
          0.4864864864864865,
          0.32432432432432434,
          0.6081081081081081,
          0.28378378378378377,
          0.3918918918918919,
          0.5405405405405406,
          0.6621621621621622,
          0.06756756756756757,
          0.3918918918918919,
          0.5945945945945946,
          0.4864864864864865,
          0.24324324324324326,
          0.6486486486486487,
          0.7567567567567568,
          0.44594594594594594,
          0.32432432432432434,
          0.4864864864864865,
          0.5540540540540541,
          0.22972972972972974,
          0.3918918918918919,
          0.21621621621621623,
          0.35135135135135137,
          0.5270270270270271,
          0.3918918918918919,
          0.3918918918918919,
          0.4864864864864865,
          0.3918918918918919,
          0.3918918918918919,
          0.22972972972972974,
          0.4864864864864865,
          1.0810810810810811,
          0.5405405405405406,
          0.12162162162162163,
          0.013513513513513514,
          0.472972972972973,
          0.6486486486486487,
          0.6891891891891893,
          0.41891891891891897,
          0.24324324324324326,
          0.013513513513513514,
          0.10810810810810811,
          0.8108108108108109,
          0.5405405405405406,
          0.08108108108108109,
          0.2972972972972973,
          0.3918918918918919,
          0.22972972972972974,
          0.2972972972972973,
          0.472972972972973,
          0.3918918918918919,
          0.5135135135135136,
          0.3648648648648649,
          0.22972972972972974,
          0.43243243243243246
         ],
         "z": [
          0,
          1,
          0.5,
          0.5,
          1,
          0,
          1,
          0,
          1,
          0.5,
          0.5,
          1,
          0,
          1,
          0,
          0,
          0,
          0,
          0,
          0,
          1,
          0.5,
          1,
          0,
          0,
          0,
          0,
          0,
          1,
          0,
          1,
          0,
          1,
          0,
          0,
          0,
          1,
          0.5,
          0,
          0.5,
          0.5,
          0,
          0,
          0.5,
          0,
          0.5,
          1,
          0,
          0,
          1,
          0,
          0,
          0,
          0,
          0,
          0,
          0,
          1,
          0,
          1,
          0,
          0,
          0.5,
          0.5,
          1,
          1,
          0.5,
          0.5,
          0,
          0.5,
          1,
          1,
          0,
          0,
          0,
          1,
          0.5,
          1,
          0.5,
          0,
          0,
          0.5,
          1,
          1,
          0,
          0,
          0,
          1,
          0,
          1,
          0,
          0
         ]
        },
        {
         "hovertemplate": "color=red<br>x=%{x}<br>y=%{y}<br>z=%{z}<extra></extra>",
         "legendgroup": "red",
         "marker": {
          "color": "#EF553B",
          "symbol": "circle"
         },
         "mode": "markers",
         "name": "red",
         "scene": "scene",
         "showlegend": true,
         "type": "scatter3d",
         "x": [
          1,
          1,
          0,
          1,
          1,
          1,
          1,
          1,
          1,
          1,
          1,
          1,
          0,
          1,
          1,
          1,
          0,
          0,
          1,
          1,
          1,
          1,
          1,
          1,
          1,
          0,
          0,
          1,
          0,
          1,
          1,
          1,
          1,
          1,
          0,
          1,
          0,
          1,
          1,
          1,
          1,
          1,
          1,
          1,
          1,
          0,
          1,
          1,
          0,
          1,
          0,
          1,
          1,
          1,
          1,
          1,
          1,
          1,
          0,
          0,
          1,
          1,
          1,
          1,
          0,
          1,
          1,
          0,
          1,
          1,
          1,
          1,
          1,
          0,
          1,
          1,
          1,
          1,
          1,
          1,
          1,
          0,
          0,
          1,
          0,
          1,
          1,
          1,
          1,
          1,
          0,
          1,
          1,
          1,
          1,
          1,
          1,
          0,
          1,
          0,
          1,
          1,
          0,
          0,
          1,
          0,
          0,
          1,
          1,
          1,
          1,
          1,
          1,
          1,
          1,
          1,
          0,
          1,
          0,
          0,
          1,
          1,
          0,
          1,
          1,
          1,
          1,
          1,
          1,
          1,
          1,
          1,
          1,
          1,
          0,
          1,
          1,
          1,
          0,
          1,
          1,
          1,
          1,
          1,
          1,
          1,
          1,
          1,
          1,
          1,
          1,
          1,
          1,
          0,
          0,
          1,
          1,
          1,
          1,
          1,
          0,
          1,
          1,
          1,
          1,
          1,
          0,
          1,
          1,
          1,
          1,
          1,
          1,
          1,
          1,
          1
         ],
         "y": [
          0.24324324324324326,
          0.6891891891891893,
          0.6351351351351352,
          0.40540540540540543,
          0.12162162162162163,
          0.945945945945946,
          0.7297297297297298,
          0.44594594594594594,
          0.4594594594594595,
          0.2567567567567568,
          0.3918918918918919,
          0.3918918918918919,
          0.24324324324324326,
          0.35135135135135137,
          0.20270270270270271,
          0.35135135135135137,
          0.3918918918918919,
          0.40540540540540543,
          0.24324324324324326,
          0.5540540540540541,
          0.5405405405405406,
          0.32432432432432434,
          0.3918918918918919,
          0.9594594594594595,
          0.33783783783783783,
          0.02702702702702703,
          0.3918918918918919,
          0.6216216216216217,
          0.5810810810810811,
          0.3783783783783784,
          0.40540540540540543,
          0.4594594594594595,
          0.6891891891891893,
          0.6081081081081081,
          0.2972972972972973,
          0.44594594594594594,
          0.35135135135135137,
          0.28378378378378377,
          0.40540540540540543,
          0.33783783783783783,
          0.24324324324324326,
          0.5810810810810811,
          0.21621621621621623,
          0.32432432432432434,
          0.3918918918918919,
          0.04054054054054054,
          0.22972972972972974,
          0.3648648648648649,
          0.5270270270270271,
          0.4594594594594595,
          0.5270270270270271,
          0.21621621621621623,
          0.7297297297297298,
          0.3918918918918919,
          0.3918918918918919,
          0.5405405405405406,
          0.2567567567567568,
          0.3918918918918919,
          0.3918918918918919,
          0.14864864864864866,
          0.3918918918918919,
          0.21621621621621623,
          0.3783783783783784,
          0.2702702702702703,
          0.33783783783783783,
          0.3918918918918919,
          0.3918918918918919,
          0.02702702702702703,
          0.7432432432432433,
          0.28378378378378377,
          0.3918918918918919,
          0.3783783783783784,
          0.43243243243243246,
          0.3918918918918919,
          0.44594594594594594,
          0.02702702702702703,
          0.31081081081081086,
          0.3918918918918919,
          0.2567567567567568,
          0.14864864864864866,
          0.2972972972972973,
          0.1891891891891892,
          0.3918918918918919,
          0.2972972972972973,
          0.22972972972972974,
          0.05405405405405406,
          0.4594594594594595,
          0.24324324324324326,
          0.5270270270270271,
          0.4864864864864865,
          0.12162162162162163,
          0.6891891891891893,
          0.4864864864864865,
          0.472972972972973,
          0.33783783783783783,
          0.3918918918918919,
          0.33783783783783783,
          0.3783783783783784,
          0.24324324324324326,
          0.41891891891891897,
          0.2567567567567568,
          0.41891891891891897,
          0.3783783783783784,
          0.2972972972972973,
          0.21621621621621623,
          0.5405405405405406,
          0.7702702702702703,
          0.3918918918918919,
          0.3918918918918919,
          0.32432432432432434,
          0.6081081081081081,
          0.5135135135135136,
          0.6756756756756757,
          0.2972972972972973,
          0.3918918918918919,
          0.3918918918918919,
          0.3918918918918919,
          0.3918918918918919,
          0.1891891891891892,
          0.32432432432432434,
          0.4864864864864865,
          0.40540540540540543,
          0.33783783783783783,
          0.5270270270270271,
          0.33783783783783783,
          0.28378378378378377,
          0.3918918918918919,
          0.24324324324324326,
          0.3918918918918919,
          0.3918918918918919,
          0.3918918918918919,
          0.32432432432432434,
          0.8378378378378379,
          0.1891891891891892,
          0.24324324324324326,
          0.3918918918918919,
          0.2702702702702703,
          0.2567567567567568,
          0.12162162162162163,
          0.2972972972972973,
          0.3918918918918919,
          0.3918918918918919,
          0.5675675675675675,
          0.32432432432432434,
          0.3918918918918919,
          0.3918918918918919,
          0.3918918918918919,
          0.3918918918918919,
          0.6351351351351352,
          0.6756756756756757,
          0.33783783783783783,
          0.3783783783783784,
          0.013513513513513514,
          0.6486486486486487,
          0.24324324324324326,
          0.28378378378378377,
          0.3918918918918919,
          0.8783783783783784,
          0.3918918918918919,
          0.2567567567567568,
          0.3918918918918919,
          0.3918918918918919,
          0.7027027027027027,
          0.3918918918918919,
          0.05405405405405406,
          0.35135135135135137,
          0.28378378378378377,
          0.43243243243243246,
          0.8378378378378379,
          0.3783783783783784,
          0.3918918918918919,
          0.3918918918918919,
          0.9594594594594595,
          0.5,
          0.5675675675675675,
          0.3918918918918919
         ],
         "z": [
          0,
          0,
          1,
          1,
          1,
          0,
          0,
          1,
          0.5,
          1,
          1,
          1,
          1,
          1,
          1,
          1,
          1,
          1,
          0.5,
          1,
          1,
          0.5,
          1,
          0,
          1,
          1,
          1,
          0,
          1,
          0,
          1,
          0.5,
          0.5,
          0,
          1,
          1,
          1,
          1,
          1,
          1,
          0.5,
          1,
          1,
          1,
          1,
          1,
          1,
          0,
          1,
          0.5,
          1,
          1,
          0.5,
          1,
          1,
          1,
          0,
          1,
          1,
          1,
          1,
          0.5,
          1,
          1,
          1,
          1,
          1,
          1,
          1,
          0.5,
          1,
          1,
          0.5,
          1,
          0.5,
          1,
          1,
          1,
          1,
          1,
          1,
          1,
          1,
          1,
          1,
          1,
          1,
          1,
          0.5,
          1,
          1,
          1,
          1,
          1,
          0.5,
          1,
          0.5,
          1,
          1,
          1,
          0.5,
          0,
          1,
          1,
          1,
          1,
          0.5,
          1,
          1,
          1,
          0,
          0,
          0,
          0,
          1,
          1,
          1,
          1,
          1,
          1,
          1,
          0.5,
          1,
          0.5,
          0.5,
          1,
          1,
          0.5,
          1,
          0,
          1,
          1,
          0,
          1,
          1,
          1,
          1,
          1,
          1,
          1,
          0.5,
          1,
          1,
          1,
          1,
          0,
          1,
          1,
          0,
          0,
          1,
          0.5,
          1,
          1,
          1,
          1,
          1,
          1,
          1,
          0,
          1,
          1,
          0.5,
          1,
          1,
          1,
          1,
          1,
          0,
          0.5,
          1,
          1,
          0,
          0,
          0,
          0.5
         ]
        }
       ],
       "layout": {
        "legend": {
         "title": {
          "text": "color"
         },
         "tracegroupgap": 0
        },
        "margin": {
         "t": 60
        },
        "scene": {
         "domain": {
          "x": [
           0,
           1
          ],
          "y": [
           0,
           1
          ]
         },
         "xaxis": {
          "title": {
           "text": "x"
          }
         },
         "yaxis": {
          "title": {
           "text": "y"
          }
         },
         "zaxis": {
          "title": {
           "text": "z"
          }
         }
        },
        "template": {
         "data": {
          "bar": [
           {
            "error_x": {
             "color": "#2a3f5f"
            },
            "error_y": {
             "color": "#2a3f5f"
            },
            "marker": {
             "line": {
              "color": "#E5ECF6",
              "width": 0.5
             },
             "pattern": {
              "fillmode": "overlay",
              "size": 10,
              "solidity": 0.2
             }
            },
            "type": "bar"
           }
          ],
          "barpolar": [
           {
            "marker": {
             "line": {
              "color": "#E5ECF6",
              "width": 0.5
             },
             "pattern": {
              "fillmode": "overlay",
              "size": 10,
              "solidity": 0.2
             }
            },
            "type": "barpolar"
           }
          ],
          "carpet": [
           {
            "aaxis": {
             "endlinecolor": "#2a3f5f",
             "gridcolor": "white",
             "linecolor": "white",
             "minorgridcolor": "white",
             "startlinecolor": "#2a3f5f"
            },
            "baxis": {
             "endlinecolor": "#2a3f5f",
             "gridcolor": "white",
             "linecolor": "white",
             "minorgridcolor": "white",
             "startlinecolor": "#2a3f5f"
            },
            "type": "carpet"
           }
          ],
          "choropleth": [
           {
            "colorbar": {
             "outlinewidth": 0,
             "ticks": ""
            },
            "type": "choropleth"
           }
          ],
          "contour": [
           {
            "colorbar": {
             "outlinewidth": 0,
             "ticks": ""
            },
            "colorscale": [
             [
              0,
              "#0d0887"
             ],
             [
              0.1111111111111111,
              "#46039f"
             ],
             [
              0.2222222222222222,
              "#7201a8"
             ],
             [
              0.3333333333333333,
              "#9c179e"
             ],
             [
              0.4444444444444444,
              "#bd3786"
             ],
             [
              0.5555555555555556,
              "#d8576b"
             ],
             [
              0.6666666666666666,
              "#ed7953"
             ],
             [
              0.7777777777777778,
              "#fb9f3a"
             ],
             [
              0.8888888888888888,
              "#fdca26"
             ],
             [
              1,
              "#f0f921"
             ]
            ],
            "type": "contour"
           }
          ],
          "contourcarpet": [
           {
            "colorbar": {
             "outlinewidth": 0,
             "ticks": ""
            },
            "type": "contourcarpet"
           }
          ],
          "heatmap": [
           {
            "colorbar": {
             "outlinewidth": 0,
             "ticks": ""
            },
            "colorscale": [
             [
              0,
              "#0d0887"
             ],
             [
              0.1111111111111111,
              "#46039f"
             ],
             [
              0.2222222222222222,
              "#7201a8"
             ],
             [
              0.3333333333333333,
              "#9c179e"
             ],
             [
              0.4444444444444444,
              "#bd3786"
             ],
             [
              0.5555555555555556,
              "#d8576b"
             ],
             [
              0.6666666666666666,
              "#ed7953"
             ],
             [
              0.7777777777777778,
              "#fb9f3a"
             ],
             [
              0.8888888888888888,
              "#fdca26"
             ],
             [
              1,
              "#f0f921"
             ]
            ],
            "type": "heatmap"
           }
          ],
          "heatmapgl": [
           {
            "colorbar": {
             "outlinewidth": 0,
             "ticks": ""
            },
            "colorscale": [
             [
              0,
              "#0d0887"
             ],
             [
              0.1111111111111111,
              "#46039f"
             ],
             [
              0.2222222222222222,
              "#7201a8"
             ],
             [
              0.3333333333333333,
              "#9c179e"
             ],
             [
              0.4444444444444444,
              "#bd3786"
             ],
             [
              0.5555555555555556,
              "#d8576b"
             ],
             [
              0.6666666666666666,
              "#ed7953"
             ],
             [
              0.7777777777777778,
              "#fb9f3a"
             ],
             [
              0.8888888888888888,
              "#fdca26"
             ],
             [
              1,
              "#f0f921"
             ]
            ],
            "type": "heatmapgl"
           }
          ],
          "histogram": [
           {
            "marker": {
             "pattern": {
              "fillmode": "overlay",
              "size": 10,
              "solidity": 0.2
             }
            },
            "type": "histogram"
           }
          ],
          "histogram2d": [
           {
            "colorbar": {
             "outlinewidth": 0,
             "ticks": ""
            },
            "colorscale": [
             [
              0,
              "#0d0887"
             ],
             [
              0.1111111111111111,
              "#46039f"
             ],
             [
              0.2222222222222222,
              "#7201a8"
             ],
             [
              0.3333333333333333,
              "#9c179e"
             ],
             [
              0.4444444444444444,
              "#bd3786"
             ],
             [
              0.5555555555555556,
              "#d8576b"
             ],
             [
              0.6666666666666666,
              "#ed7953"
             ],
             [
              0.7777777777777778,
              "#fb9f3a"
             ],
             [
              0.8888888888888888,
              "#fdca26"
             ],
             [
              1,
              "#f0f921"
             ]
            ],
            "type": "histogram2d"
           }
          ],
          "histogram2dcontour": [
           {
            "colorbar": {
             "outlinewidth": 0,
             "ticks": ""
            },
            "colorscale": [
             [
              0,
              "#0d0887"
             ],
             [
              0.1111111111111111,
              "#46039f"
             ],
             [
              0.2222222222222222,
              "#7201a8"
             ],
             [
              0.3333333333333333,
              "#9c179e"
             ],
             [
              0.4444444444444444,
              "#bd3786"
             ],
             [
              0.5555555555555556,
              "#d8576b"
             ],
             [
              0.6666666666666666,
              "#ed7953"
             ],
             [
              0.7777777777777778,
              "#fb9f3a"
             ],
             [
              0.8888888888888888,
              "#fdca26"
             ],
             [
              1,
              "#f0f921"
             ]
            ],
            "type": "histogram2dcontour"
           }
          ],
          "mesh3d": [
           {
            "colorbar": {
             "outlinewidth": 0,
             "ticks": ""
            },
            "type": "mesh3d"
           }
          ],
          "parcoords": [
           {
            "line": {
             "colorbar": {
              "outlinewidth": 0,
              "ticks": ""
             }
            },
            "type": "parcoords"
           }
          ],
          "pie": [
           {
            "automargin": true,
            "type": "pie"
           }
          ],
          "scatter": [
           {
            "fillpattern": {
             "fillmode": "overlay",
             "size": 10,
             "solidity": 0.2
            },
            "type": "scatter"
           }
          ],
          "scatter3d": [
           {
            "line": {
             "colorbar": {
              "outlinewidth": 0,
              "ticks": ""
             }
            },
            "marker": {
             "colorbar": {
              "outlinewidth": 0,
              "ticks": ""
             }
            },
            "type": "scatter3d"
           }
          ],
          "scattercarpet": [
           {
            "marker": {
             "colorbar": {
              "outlinewidth": 0,
              "ticks": ""
             }
            },
            "type": "scattercarpet"
           }
          ],
          "scattergeo": [
           {
            "marker": {
             "colorbar": {
              "outlinewidth": 0,
              "ticks": ""
             }
            },
            "type": "scattergeo"
           }
          ],
          "scattergl": [
           {
            "marker": {
             "colorbar": {
              "outlinewidth": 0,
              "ticks": ""
             }
            },
            "type": "scattergl"
           }
          ],
          "scattermapbox": [
           {
            "marker": {
             "colorbar": {
              "outlinewidth": 0,
              "ticks": ""
             }
            },
            "type": "scattermapbox"
           }
          ],
          "scatterpolar": [
           {
            "marker": {
             "colorbar": {
              "outlinewidth": 0,
              "ticks": ""
             }
            },
            "type": "scatterpolar"
           }
          ],
          "scatterpolargl": [
           {
            "marker": {
             "colorbar": {
              "outlinewidth": 0,
              "ticks": ""
             }
            },
            "type": "scatterpolargl"
           }
          ],
          "scatterternary": [
           {
            "marker": {
             "colorbar": {
              "outlinewidth": 0,
              "ticks": ""
             }
            },
            "type": "scatterternary"
           }
          ],
          "surface": [
           {
            "colorbar": {
             "outlinewidth": 0,
             "ticks": ""
            },
            "colorscale": [
             [
              0,
              "#0d0887"
             ],
             [
              0.1111111111111111,
              "#46039f"
             ],
             [
              0.2222222222222222,
              "#7201a8"
             ],
             [
              0.3333333333333333,
              "#9c179e"
             ],
             [
              0.4444444444444444,
              "#bd3786"
             ],
             [
              0.5555555555555556,
              "#d8576b"
             ],
             [
              0.6666666666666666,
              "#ed7953"
             ],
             [
              0.7777777777777778,
              "#fb9f3a"
             ],
             [
              0.8888888888888888,
              "#fdca26"
             ],
             [
              1,
              "#f0f921"
             ]
            ],
            "type": "surface"
           }
          ],
          "table": [
           {
            "cells": {
             "fill": {
              "color": "#EBF0F8"
             },
             "line": {
              "color": "white"
             }
            },
            "header": {
             "fill": {
              "color": "#C8D4E3"
             },
             "line": {
              "color": "white"
             }
            },
            "type": "table"
           }
          ]
         },
         "layout": {
          "annotationdefaults": {
           "arrowcolor": "#2a3f5f",
           "arrowhead": 0,
           "arrowwidth": 1
          },
          "autotypenumbers": "strict",
          "coloraxis": {
           "colorbar": {
            "outlinewidth": 0,
            "ticks": ""
           }
          },
          "colorscale": {
           "diverging": [
            [
             0,
             "#8e0152"
            ],
            [
             0.1,
             "#c51b7d"
            ],
            [
             0.2,
             "#de77ae"
            ],
            [
             0.3,
             "#f1b6da"
            ],
            [
             0.4,
             "#fde0ef"
            ],
            [
             0.5,
             "#f7f7f7"
            ],
            [
             0.6,
             "#e6f5d0"
            ],
            [
             0.7,
             "#b8e186"
            ],
            [
             0.8,
             "#7fbc41"
            ],
            [
             0.9,
             "#4d9221"
            ],
            [
             1,
             "#276419"
            ]
           ],
           "sequential": [
            [
             0,
             "#0d0887"
            ],
            [
             0.1111111111111111,
             "#46039f"
            ],
            [
             0.2222222222222222,
             "#7201a8"
            ],
            [
             0.3333333333333333,
             "#9c179e"
            ],
            [
             0.4444444444444444,
             "#bd3786"
            ],
            [
             0.5555555555555556,
             "#d8576b"
            ],
            [
             0.6666666666666666,
             "#ed7953"
            ],
            [
             0.7777777777777778,
             "#fb9f3a"
            ],
            [
             0.8888888888888888,
             "#fdca26"
            ],
            [
             1,
             "#f0f921"
            ]
           ],
           "sequentialminus": [
            [
             0,
             "#0d0887"
            ],
            [
             0.1111111111111111,
             "#46039f"
            ],
            [
             0.2222222222222222,
             "#7201a8"
            ],
            [
             0.3333333333333333,
             "#9c179e"
            ],
            [
             0.4444444444444444,
             "#bd3786"
            ],
            [
             0.5555555555555556,
             "#d8576b"
            ],
            [
             0.6666666666666666,
             "#ed7953"
            ],
            [
             0.7777777777777778,
             "#fb9f3a"
            ],
            [
             0.8888888888888888,
             "#fdca26"
            ],
            [
             1,
             "#f0f921"
            ]
           ]
          },
          "colorway": [
           "#636efa",
           "#EF553B",
           "#00cc96",
           "#ab63fa",
           "#FFA15A",
           "#19d3f3",
           "#FF6692",
           "#B6E880",
           "#FF97FF",
           "#FECB52"
          ],
          "font": {
           "color": "#2a3f5f"
          },
          "geo": {
           "bgcolor": "white",
           "lakecolor": "white",
           "landcolor": "#E5ECF6",
           "showlakes": true,
           "showland": true,
           "subunitcolor": "white"
          },
          "hoverlabel": {
           "align": "left"
          },
          "hovermode": "closest",
          "mapbox": {
           "style": "light"
          },
          "paper_bgcolor": "white",
          "plot_bgcolor": "#E5ECF6",
          "polar": {
           "angularaxis": {
            "gridcolor": "white",
            "linecolor": "white",
            "ticks": ""
           },
           "bgcolor": "#E5ECF6",
           "radialaxis": {
            "gridcolor": "white",
            "linecolor": "white",
            "ticks": ""
           }
          },
          "scene": {
           "xaxis": {
            "backgroundcolor": "#E5ECF6",
            "gridcolor": "white",
            "gridwidth": 2,
            "linecolor": "white",
            "showbackground": true,
            "ticks": "",
            "zerolinecolor": "white"
           },
           "yaxis": {
            "backgroundcolor": "#E5ECF6",
            "gridcolor": "white",
            "gridwidth": 2,
            "linecolor": "white",
            "showbackground": true,
            "ticks": "",
            "zerolinecolor": "white"
           },
           "zaxis": {
            "backgroundcolor": "#E5ECF6",
            "gridcolor": "white",
            "gridwidth": 2,
            "linecolor": "white",
            "showbackground": true,
            "ticks": "",
            "zerolinecolor": "white"
           }
          },
          "shapedefaults": {
           "line": {
            "color": "#2a3f5f"
           }
          },
          "ternary": {
           "aaxis": {
            "gridcolor": "white",
            "linecolor": "white",
            "ticks": ""
           },
           "baxis": {
            "gridcolor": "white",
            "linecolor": "white",
            "ticks": ""
           },
           "bgcolor": "#E5ECF6",
           "caxis": {
            "gridcolor": "white",
            "linecolor": "white",
            "ticks": ""
           }
          },
          "title": {
           "x": 0.05
          },
          "xaxis": {
           "automargin": true,
           "gridcolor": "white",
           "linecolor": "white",
           "ticks": "",
           "title": {
            "standoff": 15
           },
           "zerolinecolor": "white",
           "zerolinewidth": 2
          },
          "yaxis": {
           "automargin": true,
           "gridcolor": "white",
           "linecolor": "white",
           "ticks": "",
           "title": {
            "standoff": 15
           },
           "zerolinecolor": "white",
           "zerolinewidth": 2
          }
         }
        }
       }
      }
     },
     "metadata": {},
     "output_type": "display_data"
    }
   ],
   "source": [
    "fig = plotly.express.scatter_3d(x          = X_test[:,0],\n",
    "                                y          = X_test[:,1],\n",
    "                                z          = X_test[:,2],\n",
    "                                color      = colors2)\n",
    "\n",
    "fig.show()"
   ]
  },
  {
   "cell_type": "code",
   "execution_count": 59,
   "metadata": {},
   "outputs": [
    {
     "data": {
      "application/vnd.plotly.v1+json": {
       "config": {
        "plotlyServerURL": "https://plot.ly"
       },
       "data": [
        {
         "hovertemplate": "color=blue<br>x=%{x}<br>y=%{y}<br>z=%{z}<extra></extra>",
         "legendgroup": "blue",
         "marker": {
          "color": "#636efa",
          "symbol": "circle"
         },
         "mode": "markers",
         "name": "blue",
         "scene": "scene",
         "showlegend": true,
         "type": "scatter3d",
         "x": [
          0,
          0,
          0,
          0,
          0,
          0,
          0,
          0,
          0,
          0,
          0,
          0,
          0,
          0,
          1,
          0,
          0,
          0,
          0,
          0,
          0,
          0,
          0,
          0,
          0,
          0,
          1,
          0,
          0,
          0,
          0,
          0,
          0,
          1,
          0,
          0,
          0,
          0,
          0,
          0,
          0,
          0,
          0,
          0,
          0,
          0,
          0,
          0,
          0,
          0,
          0,
          0,
          0,
          0,
          0,
          0,
          0,
          0,
          0,
          0,
          0,
          0,
          0,
          0,
          1,
          0,
          0,
          0,
          0,
          0,
          0,
          0,
          0,
          0,
          0,
          0,
          0,
          0,
          0,
          0,
          0,
          0,
          0,
          0,
          0,
          0,
          0,
          0,
          0,
          0,
          0,
          0,
          1,
          0,
          0,
          0,
          0,
          0,
          0,
          0,
          0,
          0,
          0
         ],
         "y": [
          0.41891891891891897,
          0.05405405405405406,
          0.31081081081081086,
          0.3918918918918919,
          0.5270270270270271,
          0.3918918918918919,
          0.1891891891891892,
          0.04054054054054054,
          0.6486486486486487,
          0.2567567567567568,
          0.24324324324324326,
          0.5135135135135136,
          0.06756756756756757,
          0.3918918918918919,
          0.31081081081081086,
          0.40540540540540543,
          0.02702702702702703,
          0.3918918918918919,
          0.3918918918918919,
          0.7837837837837838,
          0.6486486486486487,
          0.2972972972972973,
          0.35135135135135137,
          0.472972972972973,
          0.04054054054054054,
          0.44594594594594594,
          0.3648648648648649,
          0.6351351351351352,
          0.5270270270270271,
          0.3918918918918919,
          0.3918918918918919,
          0.14864864864864866,
          0.33783783783783783,
          0.4864864864864865,
          0.02702702702702703,
          0.3918918918918919,
          0.32432432432432434,
          0.1891891891891892,
          0.3918918918918919,
          0.22972972972972974,
          0.6081081081081081,
          0.7297297297297298,
          0.12162162162162163,
          0.2567567567567568,
          0.32432432432432434,
          0.3783783783783784,
          0.6081081081081081,
          0.41891891891891897,
          0.28378378378378377,
          0.5405405405405406,
          0.3783783783783784,
          0.2972972972972973,
          0.06756756756756757,
          0.5405405405405406,
          0.7702702702702703,
          0.3918918918918919,
          0.5945945945945946,
          0.4864864864864865,
          0.6486486486486487,
          0.44594594594594594,
          0.32432432432432434,
          0.4864864864864865,
          0.5540540540540541,
          0.3918918918918919,
          0.2972972972972973,
          0.21621621621621623,
          0.35135135135135137,
          0.3918918918918919,
          0.5270270270270271,
          0.1891891891891892,
          0.3918918918918919,
          0.32432432432432434,
          0.3918918918918919,
          0.33783783783783783,
          0.4864864864864865,
          0.3918918918918919,
          0.22972972972972974,
          0.4864864864864865,
          0.5405405405405406,
          0.24324324324324326,
          0.472972972972973,
          0.12162162162162163,
          0.6891891891891893,
          0.41891891891891897,
          0.24324324324324326,
          0.013513513513513514,
          0.24324324324324326,
          0.10810810810810811,
          0.8108108108108109,
          0.5405405405405406,
          0.08108108108108109,
          0.2972972972972973,
          0.2567567567567568,
          0.3918918918918919,
          0.3918918918918919,
          0.22972972972972974,
          0.2972972972972973,
          0.472972972972973,
          0.28378378378378377,
          0.3918918918918919,
          0.5135135135135136,
          0.3648648648648649,
          0.22972972972972974
         ],
         "z": [
          0,
          0.5,
          0.5,
          1,
          0,
          1,
          0,
          0.5,
          0.5,
          1,
          1,
          0,
          1,
          1,
          0,
          1,
          1,
          1,
          0,
          0,
          0,
          1,
          1,
          0,
          1,
          0,
          0,
          0,
          1,
          1,
          1,
          1,
          1,
          0,
          1,
          1,
          0,
          1,
          1,
          1,
          0,
          0,
          1,
          0.5,
          0.5,
          1,
          0.5,
          1,
          0,
          0.5,
          1,
          1,
          0.5,
          1,
          0.5,
          1,
          0,
          0,
          0,
          0,
          0,
          0,
          0,
          1,
          0,
          0,
          1,
          1,
          0,
          1,
          0,
          1,
          0.5,
          1,
          0.5,
          1,
          0.5,
          0.5,
          0.5,
          1,
          0,
          1,
          0,
          1,
          0.5,
          1,
          1,
          0.5,
          0,
          0,
          0.5,
          1,
          0,
          1,
          1,
          0,
          0,
          0,
          1,
          1,
          0,
          1,
          0
         ]
        },
        {
         "hovertemplate": "color=red<br>x=%{x}<br>y=%{y}<br>z=%{z}<extra></extra>",
         "legendgroup": "red",
         "marker": {
          "color": "#EF553B",
          "symbol": "circle"
         },
         "mode": "markers",
         "name": "red",
         "scene": "scene",
         "showlegend": true,
         "type": "scatter3d",
         "x": [
          1,
          1,
          1,
          0,
          1,
          1,
          1,
          1,
          1,
          1,
          1,
          1,
          1,
          1,
          1,
          1,
          1,
          1,
          1,
          1,
          1,
          1,
          1,
          1,
          1,
          1,
          0,
          1,
          1,
          1,
          1,
          1,
          1,
          1,
          1,
          1,
          1,
          1,
          1,
          1,
          1,
          1,
          1,
          1,
          1,
          1,
          1,
          1,
          1,
          0,
          1,
          1,
          1,
          1,
          1,
          1,
          1,
          1,
          1,
          1,
          1,
          1,
          1,
          1,
          1,
          1,
          1,
          1,
          1,
          1,
          1,
          1,
          1,
          1,
          1,
          1,
          1,
          1,
          1,
          1,
          1,
          1,
          1,
          1,
          1,
          1,
          1,
          1,
          1,
          1,
          1,
          1,
          1,
          1,
          1,
          1,
          1,
          1,
          1,
          1,
          1,
          1,
          1,
          1,
          1,
          1,
          1,
          1,
          1,
          1,
          1,
          1,
          1,
          1,
          1,
          1,
          1,
          1,
          1,
          1,
          1,
          1,
          1,
          1,
          1,
          1,
          1,
          1,
          1,
          1,
          1,
          1,
          1,
          1,
          1,
          1,
          1,
          1,
          1,
          1,
          1,
          1,
          1,
          1,
          1,
          0,
          1,
          1,
          1,
          1,
          1,
          1,
          1,
          1,
          1,
          1,
          1,
          1,
          1,
          1,
          1,
          1,
          1,
          1,
          1
         ],
         "y": [
          0.24324324324324326,
          0.6891891891891893,
          0.6081081081081081,
          0.6351351351351352,
          0.40540540540540543,
          0.12162162162162163,
          0.945945945945946,
          0.7297297297297298,
          0.44594594594594594,
          0.4594594594594595,
          0.2567567567567568,
          0.3648648648648649,
          0.3918918918918919,
          0.3918918918918919,
          0.35135135135135137,
          0.20270270270270271,
          0.35135135135135137,
          0.6756756756756757,
          0.24324324324324326,
          0.5540540540540541,
          0.5405405405405406,
          0.32432432432432434,
          0.3918918918918919,
          0.9594594594594595,
          0.33783783783783783,
          0.6216216216216217,
          0.5810810810810811,
          0.3783783783783784,
          0.40540540540540543,
          0.3783783783783784,
          0.4594594594594595,
          0.6891891891891893,
          0.6081081081081081,
          0.3918918918918919,
          0.44594594594594594,
          0.28378378378378377,
          0.3918918918918919,
          0.33783783783783783,
          0.6486486486486487,
          0.40540540540540543,
          0.33783783783783783,
          0.24324324324324326,
          0.5810810810810811,
          0.21621621621621623,
          0.32432432432432434,
          0.3918918918918919,
          0.6891891891891893,
          0.22972972972972974,
          0.4594594594594595,
          0.5270270270270271,
          0.21621621621621623,
          0.7297297297297298,
          0.3918918918918919,
          0.3918918918918919,
          0.5405405405405406,
          0.2567567567567568,
          0.3918918918918919,
          0.3918918918918919,
          0.21621621621621623,
          0.3783783783783784,
          0.2702702702702703,
          0.3918918918918919,
          0.3918918918918919,
          0.7432432432432433,
          0.28378378378378377,
          0.3918918918918919,
          0.3783783783783784,
          0.43243243243243246,
          0.44594594594594594,
          0.02702702702702703,
          0.31081081081081086,
          0.43243243243243246,
          0.3918918918918919,
          0.2567567567567568,
          0.14864864864864866,
          0.2972972972972973,
          0.2972972972972973,
          0.05405405405405406,
          0.43243243243243246,
          0.4864864864864865,
          0.4594594594594595,
          0.24324324324324326,
          0.5270270270270271,
          0.4864864864864865,
          0.6891891891891893,
          0.4864864864864865,
          0.472972972972973,
          0.5945945945945946,
          0.33783783783783783,
          0.3918918918918919,
          0.33783783783783783,
          0.4864864864864865,
          0.24324324324324326,
          0.3918918918918919,
          0.2567567567567568,
          0.41891891891891897,
          0.6621621621621622,
          0.21621621621621623,
          0.3918918918918919,
          0.3918918918918919,
          0.32432432432432434,
          0.24324324324324326,
          0.7567567567567568,
          0.6081081081081081,
          0.5135135135135136,
          0.6756756756756757,
          0.22972972972972974,
          0.3918918918918919,
          0.3918918918918919,
          0.3918918918918919,
          0.4864864864864865,
          0.40540540540540543,
          0.5270270270270271,
          0.33783783783783783,
          0.28378378378378377,
          0.3918918918918919,
          0.24324324324324326,
          0.3918918918918919,
          0.3918918918918919,
          0.3918918918918919,
          0.3918918918918919,
          0.32432432432432434,
          1.0810810810810811,
          0.8378378378378379,
          0.1891891891891892,
          0.3918918918918919,
          0.12162162162162163,
          0.013513513513513514,
          0.2702702702702703,
          0.2567567567567568,
          0.2972972972972973,
          0.6486486486486487,
          0.3918918918918919,
          0.3918918918918919,
          0.5675675675675675,
          0.32432432432432434,
          0.3918918918918919,
          0.3918918918918919,
          0.3918918918918919,
          0.3918918918918919,
          0.6351351351351352,
          0.6756756756756757,
          0.33783783783783783,
          0.3783783783783784,
          0.013513513513513514,
          0.6486486486486487,
          0.28378378378378377,
          0.3918918918918919,
          0.8783783783783784,
          0.3918918918918919,
          0.3918918918918919,
          0.7027027027027027,
          0.3918918918918919,
          0.05405405405405406,
          0.35135135135135137,
          0.43243243243243246,
          0.8378378378378379,
          0.3783783783783784,
          0.3918918918918919,
          0.3918918918918919,
          0.9594594594594595,
          0.5,
          0.5675675675675675,
          0.3918918918918919,
          0.43243243243243246
         ],
         "z": [
          0,
          0,
          1,
          1,
          1,
          1,
          0,
          0,
          1,
          0.5,
          1,
          1,
          1,
          1,
          1,
          1,
          1,
          0,
          0.5,
          1,
          1,
          0.5,
          1,
          0,
          1,
          0,
          1,
          0,
          1,
          0,
          0.5,
          0.5,
          0,
          1,
          1,
          1,
          0.5,
          1,
          0,
          1,
          1,
          0.5,
          1,
          1,
          1,
          1,
          0,
          1,
          0.5,
          1,
          1,
          0.5,
          1,
          1,
          1,
          0,
          1,
          1,
          0.5,
          1,
          1,
          1,
          1,
          1,
          0.5,
          1,
          1,
          0.5,
          0.5,
          1,
          1,
          1,
          1,
          1,
          1,
          1,
          1,
          1,
          1,
          0,
          1,
          1,
          0.5,
          1,
          1,
          1,
          1,
          1,
          0.5,
          1,
          0.5,
          0,
          1,
          0,
          0.5,
          0,
          0,
          1,
          1,
          1,
          1,
          1,
          0,
          0,
          0,
          0,
          0,
          1,
          1,
          1,
          1,
          0.5,
          0.5,
          0.5,
          1,
          1,
          0.5,
          1,
          1,
          0,
          1,
          1,
          0,
          0,
          1,
          1,
          1,
          1,
          1,
          1,
          1,
          0,
          0.5,
          1,
          1,
          1,
          1,
          0,
          1,
          1,
          0,
          0,
          1,
          0.5,
          1,
          1,
          1,
          1,
          1,
          1,
          1,
          0.5,
          1,
          1,
          1,
          1,
          0,
          0.5,
          1,
          1,
          0,
          0,
          0,
          0.5,
          0
         ]
        }
       ],
       "layout": {
        "legend": {
         "title": {
          "text": "color"
         },
         "tracegroupgap": 0
        },
        "margin": {
         "t": 60
        },
        "scene": {
         "domain": {
          "x": [
           0,
           1
          ],
          "y": [
           0,
           1
          ]
         },
         "xaxis": {
          "title": {
           "text": "x"
          }
         },
         "yaxis": {
          "title": {
           "text": "y"
          }
         },
         "zaxis": {
          "title": {
           "text": "z"
          }
         }
        },
        "template": {
         "data": {
          "bar": [
           {
            "error_x": {
             "color": "#2a3f5f"
            },
            "error_y": {
             "color": "#2a3f5f"
            },
            "marker": {
             "line": {
              "color": "#E5ECF6",
              "width": 0.5
             },
             "pattern": {
              "fillmode": "overlay",
              "size": 10,
              "solidity": 0.2
             }
            },
            "type": "bar"
           }
          ],
          "barpolar": [
           {
            "marker": {
             "line": {
              "color": "#E5ECF6",
              "width": 0.5
             },
             "pattern": {
              "fillmode": "overlay",
              "size": 10,
              "solidity": 0.2
             }
            },
            "type": "barpolar"
           }
          ],
          "carpet": [
           {
            "aaxis": {
             "endlinecolor": "#2a3f5f",
             "gridcolor": "white",
             "linecolor": "white",
             "minorgridcolor": "white",
             "startlinecolor": "#2a3f5f"
            },
            "baxis": {
             "endlinecolor": "#2a3f5f",
             "gridcolor": "white",
             "linecolor": "white",
             "minorgridcolor": "white",
             "startlinecolor": "#2a3f5f"
            },
            "type": "carpet"
           }
          ],
          "choropleth": [
           {
            "colorbar": {
             "outlinewidth": 0,
             "ticks": ""
            },
            "type": "choropleth"
           }
          ],
          "contour": [
           {
            "colorbar": {
             "outlinewidth": 0,
             "ticks": ""
            },
            "colorscale": [
             [
              0,
              "#0d0887"
             ],
             [
              0.1111111111111111,
              "#46039f"
             ],
             [
              0.2222222222222222,
              "#7201a8"
             ],
             [
              0.3333333333333333,
              "#9c179e"
             ],
             [
              0.4444444444444444,
              "#bd3786"
             ],
             [
              0.5555555555555556,
              "#d8576b"
             ],
             [
              0.6666666666666666,
              "#ed7953"
             ],
             [
              0.7777777777777778,
              "#fb9f3a"
             ],
             [
              0.8888888888888888,
              "#fdca26"
             ],
             [
              1,
              "#f0f921"
             ]
            ],
            "type": "contour"
           }
          ],
          "contourcarpet": [
           {
            "colorbar": {
             "outlinewidth": 0,
             "ticks": ""
            },
            "type": "contourcarpet"
           }
          ],
          "heatmap": [
           {
            "colorbar": {
             "outlinewidth": 0,
             "ticks": ""
            },
            "colorscale": [
             [
              0,
              "#0d0887"
             ],
             [
              0.1111111111111111,
              "#46039f"
             ],
             [
              0.2222222222222222,
              "#7201a8"
             ],
             [
              0.3333333333333333,
              "#9c179e"
             ],
             [
              0.4444444444444444,
              "#bd3786"
             ],
             [
              0.5555555555555556,
              "#d8576b"
             ],
             [
              0.6666666666666666,
              "#ed7953"
             ],
             [
              0.7777777777777778,
              "#fb9f3a"
             ],
             [
              0.8888888888888888,
              "#fdca26"
             ],
             [
              1,
              "#f0f921"
             ]
            ],
            "type": "heatmap"
           }
          ],
          "heatmapgl": [
           {
            "colorbar": {
             "outlinewidth": 0,
             "ticks": ""
            },
            "colorscale": [
             [
              0,
              "#0d0887"
             ],
             [
              0.1111111111111111,
              "#46039f"
             ],
             [
              0.2222222222222222,
              "#7201a8"
             ],
             [
              0.3333333333333333,
              "#9c179e"
             ],
             [
              0.4444444444444444,
              "#bd3786"
             ],
             [
              0.5555555555555556,
              "#d8576b"
             ],
             [
              0.6666666666666666,
              "#ed7953"
             ],
             [
              0.7777777777777778,
              "#fb9f3a"
             ],
             [
              0.8888888888888888,
              "#fdca26"
             ],
             [
              1,
              "#f0f921"
             ]
            ],
            "type": "heatmapgl"
           }
          ],
          "histogram": [
           {
            "marker": {
             "pattern": {
              "fillmode": "overlay",
              "size": 10,
              "solidity": 0.2
             }
            },
            "type": "histogram"
           }
          ],
          "histogram2d": [
           {
            "colorbar": {
             "outlinewidth": 0,
             "ticks": ""
            },
            "colorscale": [
             [
              0,
              "#0d0887"
             ],
             [
              0.1111111111111111,
              "#46039f"
             ],
             [
              0.2222222222222222,
              "#7201a8"
             ],
             [
              0.3333333333333333,
              "#9c179e"
             ],
             [
              0.4444444444444444,
              "#bd3786"
             ],
             [
              0.5555555555555556,
              "#d8576b"
             ],
             [
              0.6666666666666666,
              "#ed7953"
             ],
             [
              0.7777777777777778,
              "#fb9f3a"
             ],
             [
              0.8888888888888888,
              "#fdca26"
             ],
             [
              1,
              "#f0f921"
             ]
            ],
            "type": "histogram2d"
           }
          ],
          "histogram2dcontour": [
           {
            "colorbar": {
             "outlinewidth": 0,
             "ticks": ""
            },
            "colorscale": [
             [
              0,
              "#0d0887"
             ],
             [
              0.1111111111111111,
              "#46039f"
             ],
             [
              0.2222222222222222,
              "#7201a8"
             ],
             [
              0.3333333333333333,
              "#9c179e"
             ],
             [
              0.4444444444444444,
              "#bd3786"
             ],
             [
              0.5555555555555556,
              "#d8576b"
             ],
             [
              0.6666666666666666,
              "#ed7953"
             ],
             [
              0.7777777777777778,
              "#fb9f3a"
             ],
             [
              0.8888888888888888,
              "#fdca26"
             ],
             [
              1,
              "#f0f921"
             ]
            ],
            "type": "histogram2dcontour"
           }
          ],
          "mesh3d": [
           {
            "colorbar": {
             "outlinewidth": 0,
             "ticks": ""
            },
            "type": "mesh3d"
           }
          ],
          "parcoords": [
           {
            "line": {
             "colorbar": {
              "outlinewidth": 0,
              "ticks": ""
             }
            },
            "type": "parcoords"
           }
          ],
          "pie": [
           {
            "automargin": true,
            "type": "pie"
           }
          ],
          "scatter": [
           {
            "fillpattern": {
             "fillmode": "overlay",
             "size": 10,
             "solidity": 0.2
            },
            "type": "scatter"
           }
          ],
          "scatter3d": [
           {
            "line": {
             "colorbar": {
              "outlinewidth": 0,
              "ticks": ""
             }
            },
            "marker": {
             "colorbar": {
              "outlinewidth": 0,
              "ticks": ""
             }
            },
            "type": "scatter3d"
           }
          ],
          "scattercarpet": [
           {
            "marker": {
             "colorbar": {
              "outlinewidth": 0,
              "ticks": ""
             }
            },
            "type": "scattercarpet"
           }
          ],
          "scattergeo": [
           {
            "marker": {
             "colorbar": {
              "outlinewidth": 0,
              "ticks": ""
             }
            },
            "type": "scattergeo"
           }
          ],
          "scattergl": [
           {
            "marker": {
             "colorbar": {
              "outlinewidth": 0,
              "ticks": ""
             }
            },
            "type": "scattergl"
           }
          ],
          "scattermapbox": [
           {
            "marker": {
             "colorbar": {
              "outlinewidth": 0,
              "ticks": ""
             }
            },
            "type": "scattermapbox"
           }
          ],
          "scatterpolar": [
           {
            "marker": {
             "colorbar": {
              "outlinewidth": 0,
              "ticks": ""
             }
            },
            "type": "scatterpolar"
           }
          ],
          "scatterpolargl": [
           {
            "marker": {
             "colorbar": {
              "outlinewidth": 0,
              "ticks": ""
             }
            },
            "type": "scatterpolargl"
           }
          ],
          "scatterternary": [
           {
            "marker": {
             "colorbar": {
              "outlinewidth": 0,
              "ticks": ""
             }
            },
            "type": "scatterternary"
           }
          ],
          "surface": [
           {
            "colorbar": {
             "outlinewidth": 0,
             "ticks": ""
            },
            "colorscale": [
             [
              0,
              "#0d0887"
             ],
             [
              0.1111111111111111,
              "#46039f"
             ],
             [
              0.2222222222222222,
              "#7201a8"
             ],
             [
              0.3333333333333333,
              "#9c179e"
             ],
             [
              0.4444444444444444,
              "#bd3786"
             ],
             [
              0.5555555555555556,
              "#d8576b"
             ],
             [
              0.6666666666666666,
              "#ed7953"
             ],
             [
              0.7777777777777778,
              "#fb9f3a"
             ],
             [
              0.8888888888888888,
              "#fdca26"
             ],
             [
              1,
              "#f0f921"
             ]
            ],
            "type": "surface"
           }
          ],
          "table": [
           {
            "cells": {
             "fill": {
              "color": "#EBF0F8"
             },
             "line": {
              "color": "white"
             }
            },
            "header": {
             "fill": {
              "color": "#C8D4E3"
             },
             "line": {
              "color": "white"
             }
            },
            "type": "table"
           }
          ]
         },
         "layout": {
          "annotationdefaults": {
           "arrowcolor": "#2a3f5f",
           "arrowhead": 0,
           "arrowwidth": 1
          },
          "autotypenumbers": "strict",
          "coloraxis": {
           "colorbar": {
            "outlinewidth": 0,
            "ticks": ""
           }
          },
          "colorscale": {
           "diverging": [
            [
             0,
             "#8e0152"
            ],
            [
             0.1,
             "#c51b7d"
            ],
            [
             0.2,
             "#de77ae"
            ],
            [
             0.3,
             "#f1b6da"
            ],
            [
             0.4,
             "#fde0ef"
            ],
            [
             0.5,
             "#f7f7f7"
            ],
            [
             0.6,
             "#e6f5d0"
            ],
            [
             0.7,
             "#b8e186"
            ],
            [
             0.8,
             "#7fbc41"
            ],
            [
             0.9,
             "#4d9221"
            ],
            [
             1,
             "#276419"
            ]
           ],
           "sequential": [
            [
             0,
             "#0d0887"
            ],
            [
             0.1111111111111111,
             "#46039f"
            ],
            [
             0.2222222222222222,
             "#7201a8"
            ],
            [
             0.3333333333333333,
             "#9c179e"
            ],
            [
             0.4444444444444444,
             "#bd3786"
            ],
            [
             0.5555555555555556,
             "#d8576b"
            ],
            [
             0.6666666666666666,
             "#ed7953"
            ],
            [
             0.7777777777777778,
             "#fb9f3a"
            ],
            [
             0.8888888888888888,
             "#fdca26"
            ],
            [
             1,
             "#f0f921"
            ]
           ],
           "sequentialminus": [
            [
             0,
             "#0d0887"
            ],
            [
             0.1111111111111111,
             "#46039f"
            ],
            [
             0.2222222222222222,
             "#7201a8"
            ],
            [
             0.3333333333333333,
             "#9c179e"
            ],
            [
             0.4444444444444444,
             "#bd3786"
            ],
            [
             0.5555555555555556,
             "#d8576b"
            ],
            [
             0.6666666666666666,
             "#ed7953"
            ],
            [
             0.7777777777777778,
             "#fb9f3a"
            ],
            [
             0.8888888888888888,
             "#fdca26"
            ],
            [
             1,
             "#f0f921"
            ]
           ]
          },
          "colorway": [
           "#636efa",
           "#EF553B",
           "#00cc96",
           "#ab63fa",
           "#FFA15A",
           "#19d3f3",
           "#FF6692",
           "#B6E880",
           "#FF97FF",
           "#FECB52"
          ],
          "font": {
           "color": "#2a3f5f"
          },
          "geo": {
           "bgcolor": "white",
           "lakecolor": "white",
           "landcolor": "#E5ECF6",
           "showlakes": true,
           "showland": true,
           "subunitcolor": "white"
          },
          "hoverlabel": {
           "align": "left"
          },
          "hovermode": "closest",
          "mapbox": {
           "style": "light"
          },
          "paper_bgcolor": "white",
          "plot_bgcolor": "#E5ECF6",
          "polar": {
           "angularaxis": {
            "gridcolor": "white",
            "linecolor": "white",
            "ticks": ""
           },
           "bgcolor": "#E5ECF6",
           "radialaxis": {
            "gridcolor": "white",
            "linecolor": "white",
            "ticks": ""
           }
          },
          "scene": {
           "xaxis": {
            "backgroundcolor": "#E5ECF6",
            "gridcolor": "white",
            "gridwidth": 2,
            "linecolor": "white",
            "showbackground": true,
            "ticks": "",
            "zerolinecolor": "white"
           },
           "yaxis": {
            "backgroundcolor": "#E5ECF6",
            "gridcolor": "white",
            "gridwidth": 2,
            "linecolor": "white",
            "showbackground": true,
            "ticks": "",
            "zerolinecolor": "white"
           },
           "zaxis": {
            "backgroundcolor": "#E5ECF6",
            "gridcolor": "white",
            "gridwidth": 2,
            "linecolor": "white",
            "showbackground": true,
            "ticks": "",
            "zerolinecolor": "white"
           }
          },
          "shapedefaults": {
           "line": {
            "color": "#2a3f5f"
           }
          },
          "ternary": {
           "aaxis": {
            "gridcolor": "white",
            "linecolor": "white",
            "ticks": ""
           },
           "baxis": {
            "gridcolor": "white",
            "linecolor": "white",
            "ticks": ""
           },
           "bgcolor": "#E5ECF6",
           "caxis": {
            "gridcolor": "white",
            "linecolor": "white",
            "ticks": ""
           }
          },
          "title": {
           "x": 0.05
          },
          "xaxis": {
           "automargin": true,
           "gridcolor": "white",
           "linecolor": "white",
           "ticks": "",
           "title": {
            "standoff": 15
           },
           "zerolinecolor": "white",
           "zerolinewidth": 2
          },
          "yaxis": {
           "automargin": true,
           "gridcolor": "white",
           "linecolor": "white",
           "ticks": "",
           "title": {
            "standoff": 15
           },
           "zerolinecolor": "white",
           "zerolinewidth": 2
          }
         }
        }
       }
      }
     },
     "metadata": {},
     "output_type": "display_data"
    }
   ],
   "source": [
    "fig = plotly.express.scatter_3d(x          = X_test[:,0],\n",
    "                                y          = X_test[:,1],\n",
    "                                z          = X_test[:,2],\n",
    "                                color      = colors)\n",
    "\n",
    "fig.show()"
   ]
  }
 ],
 "metadata": {
  "kernelspec": {
   "display_name": "Python 3 (ipykernel)",
   "language": "python",
   "name": "python3"
  },
  "language_info": {
   "codemirror_mode": {
    "name": "ipython",
    "version": 3
   },
   "file_extension": ".py",
   "mimetype": "text/x-python",
   "name": "python",
   "nbconvert_exporter": "python",
   "pygments_lexer": "ipython3",
   "version": "3.11.5"
  }
 },
 "nbformat": 4,
 "nbformat_minor": 5
}
