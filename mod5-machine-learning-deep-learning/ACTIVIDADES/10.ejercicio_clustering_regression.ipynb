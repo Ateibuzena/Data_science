{
 "cells": [
  {
   "cell_type": "markdown",
   "id": "c40ad7ce",
   "metadata": {},
   "source": [
    "## Ejercicio de Clustering y Regression\n",
    "\n",
    "Utilizando el dataset de **`FuelConsumptionCo2.csv`**:\n",
    "\n",
    "**Parte 1**:\n",
    "1. Realiza un **`Exploratory Data Analysis`** (**EDA**).\n",
    "2. Realiza **preprocesamiento**.\n",
    "3. Utilizando métodos de **clustering**, **¿existe alguna forma de \"categorizar\" los datos?**\n",
    "4. Selecciona un número de **clusters \"optimo\"** y crea una columna con la categorización dada por el clustering.\n",
    "5. Teniendo el conjunto separado en diferentes \"clases\" o \"categorias\", **realiza una regresion lineal (`LinearRegression`) para cada conjunto**.\n",
    "6. Recuerda hacer **`train_test_split`** para poder calcular métricas, agrega la metrica **`r2 ajustado`**.\n",
    "7. Haz el método de validación más adecuado para los datos, **solo es necesario hacer uno para cada modelo**.\n",
    "8. Guarda los modelos en un archivos binario.\n",
    "\n",
    "**Parte 2**:\n",
    "1. Investiga sobre otros modelos de regresión e implementalos con este dataset.\n",
    "2. Compara las métricas de estos nuevos modelos con el anterior (**`LinearRegression`**).\n",
    "3. En caso de que el modelo lo permita, haz **tuning** al modelo usando **`GridSearchCV`**."
   ]
  },
  {
   "cell_type": "code",
   "execution_count": null,
   "id": "f962bd74",
   "metadata": {},
   "outputs": [],
   "source": [
    "import numpy as np\n",
    "import pandas as pd\n",
    "import matplotlib.pyplot as plt\n",
    "import seaborn as sns\n",
    "import pickle\n",
    "\n",
    "# Normalizacion\n",
    "from sklearn.preprocessing import MinMaxScaler\n",
    "from sklearn.preprocessing import LabelEncoder\n",
    "\n",
    "# GridSearchCV\n",
    "from sklearn.model_selection import GridSearchCV\n",
    "\n",
    "# Train, Test\n",
    "from sklearn.model_selection import train_test_split\n",
    "\n",
    "# Metricas para regresiones\n",
    "from sklearn.metrics import mean_absolute_error\n",
    "from sklearn.metrics import mean_squared_error\n",
    "from sklearn.metrics import r2_score\n",
    "\n",
    "# Regresores\n",
    "from sklearn.linear_model import LinearRegression\n",
    "from sklearn.ensemble import RandomForestRegressor\n",
    "from sklearn.ensemble import AdaBoostRegressor\n",
    "from sklearn.ensemble import GradientBoostingRegressor\n",
    "from sklearn.svm import SVR\n",
    "from sklearn.neighbors import KNeighborsRegressor\n",
    "from sklearn.tree import DecisionTreeRegressor\n",
    "\n",
    "# Validacion\n",
    "from sklearn.model_selection import LeaveOneOut\n",
    "from sklearn.model_selection import KFold\n",
    "\n",
    "# Clustering\n",
    "from sklearn.cluster import DBSCAN\n",
    "from sklearn.metrics import silhouette_score"
   ]
  },
  {
   "cell_type": "code",
   "execution_count": null,
   "id": "29c3e8bb",
   "metadata": {},
   "outputs": [],
   "source": [
    "df = pd.read_csv(\"FuelConsumptionCo2.csv\")\n",
    "\n",
    "df"
   ]
  },
  {
   "cell_type": "markdown",
   "id": "89112f2d-08fd-4e02-b4ff-efe7d424b289",
   "metadata": {},
   "source": [
    "## EDA"
   ]
  },
  {
   "cell_type": "code",
   "execution_count": null,
   "id": "e5b4c8e2-e6fe-40be-9e71-eff61eaa8519",
   "metadata": {},
   "outputs": [],
   "source": []
  },
  {
   "cell_type": "markdown",
   "id": "a1556b84",
   "metadata": {},
   "source": [
    "### CLUSTERING "
   ]
  },
  {
   "cell_type": "code",
   "execution_count": null,
   "id": "09e5807b",
   "metadata": {},
   "outputs": [],
   "source": []
  },
  {
   "cell_type": "markdown",
   "id": "f457a9ec-ada0-44ef-80ba-a4f660da73f3",
   "metadata": {},
   "source": [
    "### SALVAR DATAFRAME ETIQUETADO"
   ]
  },
  {
   "cell_type": "code",
   "execution_count": null,
   "id": "1bd09255-39f4-4baa-96ca-ed86e26c1f0e",
   "metadata": {},
   "outputs": [],
   "source": []
  }
 ],
 "metadata": {
  "kernelspec": {
   "display_name": "Python 3 (ipykernel)",
   "language": "python",
   "name": "python3"
  },
  "language_info": {
   "codemirror_mode": {
    "name": "ipython",
    "version": 3
   },
   "file_extension": ".py",
   "mimetype": "text/x-python",
   "name": "python",
   "nbconvert_exporter": "python",
   "pygments_lexer": "ipython3",
   "version": "3.9.7"
  }
 },
 "nbformat": 4,
 "nbformat_minor": 5
}
