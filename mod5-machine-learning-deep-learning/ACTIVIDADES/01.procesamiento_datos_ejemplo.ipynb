{
 "cells": [
  {
   "cell_type": "markdown",
   "id": "44d8a15e",
   "metadata": {},
   "source": [
    "## **Procesamiento de Datos**"
   ]
  },
  {
   "cell_type": "code",
   "execution_count": 119,
   "id": "3878fd48",
   "metadata": {},
   "outputs": [],
   "source": [
    "import pandas as pd\n",
    "import numpy as np\n",
    "import seaborn as sns\n",
    "import matplotlib.pyplot as plt\n",
    "\n",
    "# Procesamiento de datos\n",
    "from sklearn.preprocessing import LabelEncoder\n",
    "\n",
    "# Modelo para averiguar que columnas son mejores para nuestro modelo\n",
    "from sklearn.ensemble import ExtraTreesClassifier\n",
    "\n",
    "# Separar train, test\n",
    "from sklearn.model_selection import train_test_split\n",
    "\n",
    "# Modelo\n",
    "from sklearn.impute import KNNImputer\n",
    "\n",
    "# Métricas\n",
    "from sklearn.metrics import f1_score"
   ]
  },
  {
   "cell_type": "code",
   "execution_count": 131,
   "id": "0d190f3f",
   "metadata": {},
   "outputs": [],
   "source": [
    "df1 = pd.read_csv(\"../Data/titanic 1.csv\")\n",
    "df2 = pd.read_csv(\"../Data/titanic 2.csv\")\n",
    "df = pd.merge(df1, df2, on = \"PassengerId\")"
   ]
  },
  {
   "cell_type": "code",
   "execution_count": 121,
   "id": "af2879ee",
   "metadata": {},
   "outputs": [
    {
     "data": {
      "text/html": [
       "<div>\n",
       "<style scoped>\n",
       "    .dataframe tbody tr th:only-of-type {\n",
       "        vertical-align: middle;\n",
       "    }\n",
       "\n",
       "    .dataframe tbody tr th {\n",
       "        vertical-align: top;\n",
       "    }\n",
       "\n",
       "    .dataframe thead th {\n",
       "        text-align: right;\n",
       "    }\n",
       "</style>\n",
       "<table border=\"1\" class=\"dataframe\">\n",
       "  <thead>\n",
       "    <tr style=\"text-align: right;\">\n",
       "      <th></th>\n",
       "      <th>PassengerId</th>\n",
       "      <th>Name</th>\n",
       "      <th>Sex</th>\n",
       "      <th>Age</th>\n",
       "      <th>Survived</th>\n",
       "      <th>Pclass</th>\n",
       "      <th>Ticket</th>\n",
       "      <th>Fare</th>\n",
       "    </tr>\n",
       "  </thead>\n",
       "  <tbody>\n",
       "    <tr>\n",
       "      <th>0</th>\n",
       "      <td>1</td>\n",
       "      <td>Braund, Mr. Owen Harris</td>\n",
       "      <td>male</td>\n",
       "      <td>22.0</td>\n",
       "      <td>0</td>\n",
       "      <td>3</td>\n",
       "      <td>A/5 21171</td>\n",
       "      <td>7.2500</td>\n",
       "    </tr>\n",
       "    <tr>\n",
       "      <th>1</th>\n",
       "      <td>2</td>\n",
       "      <td>Cumings, Mrs. John Bradley (Florence Briggs Th...</td>\n",
       "      <td>female</td>\n",
       "      <td>38.0</td>\n",
       "      <td>1</td>\n",
       "      <td>1</td>\n",
       "      <td>PC 17599</td>\n",
       "      <td>71.2833</td>\n",
       "    </tr>\n",
       "    <tr>\n",
       "      <th>2</th>\n",
       "      <td>3</td>\n",
       "      <td>Heikkinen, Miss. Laina</td>\n",
       "      <td>female</td>\n",
       "      <td>26.0</td>\n",
       "      <td>1</td>\n",
       "      <td>3</td>\n",
       "      <td>STON/O2. 3101282</td>\n",
       "      <td>7.9250</td>\n",
       "    </tr>\n",
       "    <tr>\n",
       "      <th>3</th>\n",
       "      <td>4</td>\n",
       "      <td>Futrelle, Mrs. Jacques Heath (Lily May Peel)</td>\n",
       "      <td>female</td>\n",
       "      <td>35.0</td>\n",
       "      <td>1</td>\n",
       "      <td>1</td>\n",
       "      <td>113803</td>\n",
       "      <td>53.1000</td>\n",
       "    </tr>\n",
       "    <tr>\n",
       "      <th>4</th>\n",
       "      <td>5</td>\n",
       "      <td>Allen, Mr. William Henry</td>\n",
       "      <td>male</td>\n",
       "      <td>35.0</td>\n",
       "      <td>0</td>\n",
       "      <td>3</td>\n",
       "      <td>373450</td>\n",
       "      <td>8.0500</td>\n",
       "    </tr>\n",
       "  </tbody>\n",
       "</table>\n",
       "</div>"
      ],
      "text/plain": [
       "   PassengerId                                               Name     Sex  \\\n",
       "0            1                            Braund, Mr. Owen Harris    male   \n",
       "1            2  Cumings, Mrs. John Bradley (Florence Briggs Th...  female   \n",
       "2            3                             Heikkinen, Miss. Laina  female   \n",
       "3            4       Futrelle, Mrs. Jacques Heath (Lily May Peel)  female   \n",
       "4            5                           Allen, Mr. William Henry    male   \n",
       "\n",
       "    Age  Survived  Pclass            Ticket     Fare  \n",
       "0  22.0         0       3         A/5 21171   7.2500  \n",
       "1  38.0         1       1          PC 17599  71.2833  \n",
       "2  26.0         1       3  STON/O2. 3101282   7.9250  \n",
       "3  35.0         1       1            113803  53.1000  \n",
       "4  35.0         0       3            373450   8.0500  "
      ]
     },
     "execution_count": 121,
     "metadata": {},
     "output_type": "execute_result"
    }
   ],
   "source": [
    "df.head(5)"
   ]
  },
  {
   "cell_type": "markdown",
   "id": "738336e4",
   "metadata": {},
   "source": [
    "**Es importante saber con cuantos elementos (filas) y atributos (columnas) estámos trabajando, además de conocer sus tipos de datos y su información estadística, y si fuese necesario, cambiar el tipo de dato de las columnas.**"
   ]
  },
  {
   "cell_type": "code",
   "execution_count": 122,
   "id": "78187d35",
   "metadata": {},
   "outputs": [
    {
     "data": {
      "text/plain": [
       "(891, 8)"
      ]
     },
     "execution_count": 122,
     "metadata": {},
     "output_type": "execute_result"
    }
   ],
   "source": [
    "# .shape nos da el número de filas y columnas\n",
    "df.shape"
   ]
  },
  {
   "cell_type": "code",
   "execution_count": 132,
   "metadata": {},
   "outputs": [],
   "source": [
    "# Cambiar tipo de datos\n",
    "df.PassengerId = df.PassengerId.astype(\"category\")\n",
    "df.Pclass = df.Pclass.astype(\"category\")"
   ]
  },
  {
   "cell_type": "code",
   "execution_count": 124,
   "id": "9c6d0f7d",
   "metadata": {},
   "outputs": [
    {
     "data": {
      "text/html": [
       "<div>\n",
       "<style scoped>\n",
       "    .dataframe tbody tr th:only-of-type {\n",
       "        vertical-align: middle;\n",
       "    }\n",
       "\n",
       "    .dataframe tbody tr th {\n",
       "        vertical-align: top;\n",
       "    }\n",
       "\n",
       "    .dataframe thead th {\n",
       "        text-align: right;\n",
       "    }\n",
       "</style>\n",
       "<table border=\"1\" class=\"dataframe\">\n",
       "  <thead>\n",
       "    <tr style=\"text-align: right;\">\n",
       "      <th></th>\n",
       "      <th>Age</th>\n",
       "      <th>Survived</th>\n",
       "      <th>Fare</th>\n",
       "    </tr>\n",
       "  </thead>\n",
       "  <tbody>\n",
       "    <tr>\n",
       "      <th>count</th>\n",
       "      <td>714.000000</td>\n",
       "      <td>891.000000</td>\n",
       "      <td>891.000000</td>\n",
       "    </tr>\n",
       "    <tr>\n",
       "      <th>mean</th>\n",
       "      <td>29.699118</td>\n",
       "      <td>0.383838</td>\n",
       "      <td>32.204208</td>\n",
       "    </tr>\n",
       "    <tr>\n",
       "      <th>std</th>\n",
       "      <td>14.526497</td>\n",
       "      <td>0.486592</td>\n",
       "      <td>49.693429</td>\n",
       "    </tr>\n",
       "    <tr>\n",
       "      <th>min</th>\n",
       "      <td>0.420000</td>\n",
       "      <td>0.000000</td>\n",
       "      <td>0.000000</td>\n",
       "    </tr>\n",
       "    <tr>\n",
       "      <th>25%</th>\n",
       "      <td>20.125000</td>\n",
       "      <td>0.000000</td>\n",
       "      <td>7.910400</td>\n",
       "    </tr>\n",
       "    <tr>\n",
       "      <th>50%</th>\n",
       "      <td>28.000000</td>\n",
       "      <td>0.000000</td>\n",
       "      <td>14.454200</td>\n",
       "    </tr>\n",
       "    <tr>\n",
       "      <th>75%</th>\n",
       "      <td>38.000000</td>\n",
       "      <td>1.000000</td>\n",
       "      <td>31.000000</td>\n",
       "    </tr>\n",
       "    <tr>\n",
       "      <th>max</th>\n",
       "      <td>80.000000</td>\n",
       "      <td>1.000000</td>\n",
       "      <td>512.329200</td>\n",
       "    </tr>\n",
       "  </tbody>\n",
       "</table>\n",
       "</div>"
      ],
      "text/plain": [
       "              Age    Survived        Fare\n",
       "count  714.000000  891.000000  891.000000\n",
       "mean    29.699118    0.383838   32.204208\n",
       "std     14.526497    0.486592   49.693429\n",
       "min      0.420000    0.000000    0.000000\n",
       "25%     20.125000    0.000000    7.910400\n",
       "50%     28.000000    0.000000   14.454200\n",
       "75%     38.000000    1.000000   31.000000\n",
       "max     80.000000    1.000000  512.329200"
      ]
     },
     "execution_count": 124,
     "metadata": {},
     "output_type": "execute_result"
    }
   ],
   "source": [
    "# .describe() nos da un DataFrame con la información estadística de las columnas\n",
    "df.describe()"
   ]
  },
  {
   "cell_type": "code",
   "execution_count": 125,
   "id": "50ddb592",
   "metadata": {},
   "outputs": [
    {
     "name": "stdout",
     "output_type": "stream",
     "text": [
      "<class 'pandas.core.frame.DataFrame'>\n",
      "RangeIndex: 891 entries, 0 to 890\n",
      "Data columns (total 8 columns):\n",
      " #   Column       Non-Null Count  Dtype   \n",
      "---  ------       --------------  -----   \n",
      " 0   PassengerId  891 non-null    category\n",
      " 1   Name         891 non-null    object  \n",
      " 2   Sex          891 non-null    object  \n",
      " 3   Age          714 non-null    float64 \n",
      " 4   Survived     891 non-null    int64   \n",
      " 5   Pclass       891 non-null    category\n",
      " 6   Ticket       891 non-null    object  \n",
      " 7   Fare         891 non-null    float64 \n",
      "dtypes: category(2), float64(2), int64(1), object(3)\n",
      "memory usage: 83.9+ KB\n"
     ]
    }
   ],
   "source": [
    "# .info() nos da el tipo de variables de cada columna y si hay algun valor NaN\n",
    "df.info()"
   ]
  },
  {
   "cell_type": "code",
   "execution_count": 126,
   "id": "a6f4bc72",
   "metadata": {},
   "outputs": [
    {
     "name": "stdout",
     "output_type": "stream",
     "text": [
      "PassengerId      0\n",
      "Name             0\n",
      "Sex              0\n",
      "Age            177\n",
      "Survived         0\n",
      "Pclass           0\n",
      "Ticket           0\n",
      "Fare             0\n",
      "dtype: int64\n",
      "-----------------------\n",
      "PassengerId     0.00000\n",
      "Name            0.00000\n",
      "Sex             0.00000\n",
      "Age            19.86532\n",
      "Survived        0.00000\n",
      "Pclass          0.00000\n",
      "Ticket          0.00000\n",
      "Fare            0.00000\n",
      "dtype: float64\n"
     ]
    }
   ],
   "source": [
    "# Numero de NaN's\n",
    "print(df.isnull().sum())\n",
    "print(\"-----------------------\")\n",
    "# Porcentaje de NaN's en cada columna\n",
    "print(df.isnull().sum()/len(df)*100)"
   ]
  },
  {
   "cell_type": "markdown",
   "id": "6937c863",
   "metadata": {},
   "source": [
    "### · División entre variables numéricas y categóricas\n",
    "\n",
    "En esta parte vamos a separar las columnas númericas y las columnas no númericas.\n",
    "\n",
    "Vamos a tener 2 DataFrames, llamados **`df_num`** y **`df_cat`** respectivamente.\n",
    "\n",
    "El objetivo de esto es trabajar de una forma más cómoda con el DataFrame, conocer cuales columnas no son númericas y aplicarle funciones correspondientes a cada columna dependiendo de su tipo de dato.\n",
    "\n",
    "**Al final esta parte, el DataFrame no númerico va a pasar a tener solo columnas no númericas.**"
   ]
  },
  {
   "cell_type": "markdown",
   "metadata": {},
   "source": [
    "Para trabajar nulos, outliers a nivel de datos de columnas, primero hay que separar los datos de train con los datos de test"
   ]
  },
  {
   "cell_type": "code",
   "execution_count": 163,
   "metadata": {},
   "outputs": [
    {
     "name": "stdout",
     "output_type": "stream",
     "text": [
      "Conjunto de Train: ((712, 7), (712,))\n",
      "Conjunto de Test: ((179, 7), (179,))\n"
     ]
    }
   ],
   "source": [
    "X = df.drop(\"Survived\", axis=1)\n",
    "y = df[\"Survived\"]\n",
    "\n",
    "X_train, X_test, y_train, y_test = train_test_split(X, y, test_size = 0.20, random_state = 42)\n",
    "\n",
    "print(f\"Conjunto de Train: {X_train.shape, y_train.shape}\")\n",
    "print(f\"Conjunto de Test: {X_test.shape, y_test.shape}\")"
   ]
  },
  {
   "cell_type": "code",
   "execution_count": 165,
   "metadata": {},
   "outputs": [],
   "source": [
    "# Vamos a unir las x con las y\n",
    "train = pd.concat([X_train, y_train], axis=1)\n",
    "test = pd.concat([X_test, y_test], axis=1)"
   ]
  },
  {
   "cell_type": "code",
   "execution_count": 166,
   "id": "e06387be",
   "metadata": {},
   "outputs": [
    {
     "data": {
      "text/html": [
       "<div>\n",
       "<style scoped>\n",
       "    .dataframe tbody tr th:only-of-type {\n",
       "        vertical-align: middle;\n",
       "    }\n",
       "\n",
       "    .dataframe tbody tr th {\n",
       "        vertical-align: top;\n",
       "    }\n",
       "\n",
       "    .dataframe thead th {\n",
       "        text-align: right;\n",
       "    }\n",
       "</style>\n",
       "<table border=\"1\" class=\"dataframe\">\n",
       "  <thead>\n",
       "    <tr style=\"text-align: right;\">\n",
       "      <th></th>\n",
       "      <th>Age</th>\n",
       "      <th>Fare</th>\n",
       "      <th>Survived</th>\n",
       "    </tr>\n",
       "  </thead>\n",
       "  <tbody>\n",
       "    <tr>\n",
       "      <th>331</th>\n",
       "      <td>45.5</td>\n",
       "      <td>28.500</td>\n",
       "      <td>0</td>\n",
       "    </tr>\n",
       "    <tr>\n",
       "      <th>733</th>\n",
       "      <td>23.0</td>\n",
       "      <td>13.000</td>\n",
       "      <td>0</td>\n",
       "    </tr>\n",
       "    <tr>\n",
       "      <th>382</th>\n",
       "      <td>32.0</td>\n",
       "      <td>7.925</td>\n",
       "      <td>0</td>\n",
       "    </tr>\n",
       "  </tbody>\n",
       "</table>\n",
       "</div>"
      ],
      "text/plain": [
       "      Age    Fare  Survived\n",
       "331  45.5  28.500         0\n",
       "733  23.0  13.000         0\n",
       "382  32.0   7.925         0"
      ]
     },
     "execution_count": 166,
     "metadata": {},
     "output_type": "execute_result"
    }
   ],
   "source": [
    "# df_num\n",
    "# ._get_numeric_data() filtra el DataFrame y retorna solo las columnas con valores númericos.\n",
    "# Si tenemos alguna columna con valores númericos pero el tipo de dato no es el correcto la función\n",
    "# ._get_numeric_data() seguramente falle.\n",
    "\n",
    "df_num_train = train._get_numeric_data().copy()\n",
    "df_num_test = test._get_numeric_data().copy()\n",
    "df_num_train.head(3)"
   ]
  },
  {
   "cell_type": "code",
   "execution_count": 167,
   "id": "3d8cb927",
   "metadata": {},
   "outputs": [
    {
     "data": {
      "text/html": [
       "<div>\n",
       "<style scoped>\n",
       "    .dataframe tbody tr th:only-of-type {\n",
       "        vertical-align: middle;\n",
       "    }\n",
       "\n",
       "    .dataframe tbody tr th {\n",
       "        vertical-align: top;\n",
       "    }\n",
       "\n",
       "    .dataframe thead th {\n",
       "        text-align: right;\n",
       "    }\n",
       "</style>\n",
       "<table border=\"1\" class=\"dataframe\">\n",
       "  <thead>\n",
       "    <tr style=\"text-align: right;\">\n",
       "      <th></th>\n",
       "      <th>PassengerId</th>\n",
       "      <th>Name</th>\n",
       "      <th>Sex</th>\n",
       "      <th>Pclass</th>\n",
       "      <th>Ticket</th>\n",
       "    </tr>\n",
       "  </thead>\n",
       "  <tbody>\n",
       "    <tr>\n",
       "      <th>331</th>\n",
       "      <td>332</td>\n",
       "      <td>Partner, Mr. Austen</td>\n",
       "      <td>male</td>\n",
       "      <td>1</td>\n",
       "      <td>113043</td>\n",
       "    </tr>\n",
       "    <tr>\n",
       "      <th>733</th>\n",
       "      <td>734</td>\n",
       "      <td>Berriman, Mr. William John</td>\n",
       "      <td>male</td>\n",
       "      <td>2</td>\n",
       "      <td>28425</td>\n",
       "    </tr>\n",
       "    <tr>\n",
       "      <th>382</th>\n",
       "      <td>383</td>\n",
       "      <td>Tikkanen, Mr. Juho</td>\n",
       "      <td>male</td>\n",
       "      <td>3</td>\n",
       "      <td>STON/O 2. 3101293</td>\n",
       "    </tr>\n",
       "  </tbody>\n",
       "</table>\n",
       "</div>"
      ],
      "text/plain": [
       "    PassengerId                        Name   Sex Pclass             Ticket\n",
       "331         332         Partner, Mr. Austen  male      1             113043\n",
       "733         734  Berriman, Mr. William John  male      2              28425\n",
       "382         383          Tikkanen, Mr. Juho  male      3  STON/O 2. 3101293"
      ]
     },
     "execution_count": 167,
     "metadata": {},
     "output_type": "execute_result"
    }
   ],
   "source": [
    "# df_cat\n",
    "# df_cat sería el DataFrame resultante si quitamos las columnas de df_num\n",
    "\n",
    "df_cat_train = train.drop(df_num_train.columns, axis = 1)\n",
    "df_cat_test = test.drop(df_num_test.columns, axis = 1)\n",
    "df_cat_train.head(3)"
   ]
  },
  {
   "cell_type": "markdown",
   "id": "ed0965fd",
   "metadata": {},
   "source": [
    "### · Imputer\n",
    "\n",
    "La imputación de datos es la sustitución de valores no informados (NaN's) en una observación por otros.\n",
    "\n",
    "En general existen 2 técnicas:\n",
    "\n",
    "1. La primera técnica consiste en rellenar estos valores con la **media** (o **mediana**) de los datos de la variable en el caso de que se trate de una **variable numérica**. Para el caso de las **variables categóricas** imputamos los valores perdidos con la **moda** de la variable o usando la logica si esa variable categorica depende de otra variable.\n",
    "\n",
    "\n",
    "2. La segunda técnica, que es más avanzada, consiste en el uso de **modelos predictivos** para estimar los valores perdidos. Un modelo no paramétrico muy popular para estos casos es el **k-nearest neighbors (KNN)**, donde se estima el valor perdido como la media (en el caso de las variables numéricas) de los valores de los **k-vecinos u observaciones mas cercanos**. Analogamente, para las **variables categóricas**, se utiliza las **clase mayoritaria de entre los k mas cercanos**."
   ]
  },
  {
   "cell_type": "code",
   "execution_count": 77,
   "id": "8dae94bf",
   "metadata": {
    "scrolled": true
   },
   "outputs": [
    {
     "data": {
      "text/plain": [
       "0      22.000000\n",
       "1      38.000000\n",
       "2      26.000000\n",
       "3      35.000000\n",
       "4      35.000000\n",
       "         ...    \n",
       "886    27.000000\n",
       "887    19.000000\n",
       "888    29.699118\n",
       "889    26.000000\n",
       "890    32.000000\n",
       "Name: Age, Length: 891, dtype: float64"
      ]
     },
     "execution_count": 77,
     "metadata": {},
     "output_type": "execute_result"
    }
   ],
   "source": [
    "# Primera técnica:\n",
    "# Para la imputación de los datos vamos a \"llenar\" los NaN's por la media de edad\n",
    "df[\"Age\"].fillna(df[\"Age\"].mean())\n",
    "# En este ejemplo llena TODOS los NaN's por la misma media.\n",
    "# NOTA: No se ejecutó in-place"
   ]
  },
  {
   "cell_type": "markdown",
   "metadata": {},
   "source": [
    "La librería **missingpy** es una librería más actualizada que scikit-learn para la imputación de valores faltantes. Es una librería más completa y flexible que scikit-learn, y ofrece una mayor variedad de métodos de imputación."
   ]
  },
  {
   "cell_type": "code",
   "execution_count": 168,
   "id": "0a3e5e69",
   "metadata": {},
   "outputs": [
    {
     "data": {
      "text/plain": [
       "Age         0.0\n",
       "Fare        0.0\n",
       "Survived    0.0\n",
       "dtype: float64"
      ]
     },
     "execution_count": 168,
     "metadata": {},
     "output_type": "execute_result"
    }
   ],
   "source": [
    "# Segunda técnica:\n",
    "# Reemplaza los NaN's de la columna \"Age\" o cualquier columna que tenga nulos por la media de las edades o de la columna que le corresponde de los k-vecinos mas cercanos (KNN).\n",
    "imputer = KNNImputer(n_neighbors = 3) #inicializa el modelo predictivo\n",
    "# perfila cada fila y a cada uno que le falta el valor lo rellena con la media de los 3 mas cercanos que se asemejen a el                                \n",
    "df_num_imp_train = imputer.fit(df_num_train) #entrenamos el modelo y aplicamos las transformaciones al df\n",
    "df_num_imp_train = imputer.transform(df_num_train)\n",
    "df_num_imp_test = imputer.transform(df_num_test)\n",
    "# array \n",
    "# El resultado de utilizar el KNNImputer es un array.\n",
    "# Esto quiere decir que se pierde el formato de DataFrame, por lo tanto perdemos el nombre de las columnas.\n",
    "# En este ejemplo llena cada NaN's por la media de las edades de los k-vecinos más cercanos.\n",
    "# Para volver a tener el DataFrame con las columnas volver a definir el objeto.\n",
    "\n",
    "df_num_train = pd.DataFrame(df_num_imp_train, columns = df_num_train.columns)\n",
    "df_num_test = pd.DataFrame(df_num_imp_test, columns = df_num_test.columns)\n",
    "# Ya no hay NaN's en la columna \"Age\"\n",
    "df_num_train.isnull().sum()/df_num_train.shape[0]"
   ]
  },
  {
   "cell_type": "markdown",
   "id": "ee6ec213",
   "metadata": {},
   "source": [
    "### · Nuevas variables categoricas"
   ]
  },
  {
   "cell_type": "code",
   "execution_count": 169,
   "id": "07eedea0",
   "metadata": {},
   "outputs": [],
   "source": [
    "# Separando surname del name y el title del name\n",
    "df_cat_train[\"Surname\"] = df_cat_train[\"Name\"].apply(lambda x : x.split(\",\")[0])\n",
    "df_cat_train[\"Mr./Mrs.\"] = df_cat_train[\"Name\"].apply(lambda x : x.split(\" \")[1])\n",
    "\n",
    "df_cat_test[\"Surname\"] = df_cat_test[\"Name\"].apply(lambda x : x.split(\",\")[0])\n",
    "df_cat_test[\"Mr./Mrs.\"] = df_cat_test[\"Name\"].apply(lambda x : x.split(\" \")[1])"
   ]
  },
  {
   "cell_type": "code",
   "execution_count": 170,
   "id": "4ab5ac3f",
   "metadata": {
    "scrolled": true
   },
   "outputs": [],
   "source": [
    "# A partir de los apellidos creamos una nueva columna\n",
    "dict_apellidos = df_cat_train[\"Surname\"].value_counts().to_dict()\n",
    "\n",
    "# Si el apellido se repite 1 vez lo agrega a la categoria Soltero\n",
    "# Si el apellido se repite 2 veces lo agrega a la categoria Pareja\n",
    "# Si el apellido se repite entre 3 y 4 veces lo agrego a la categoria Familia\n",
    "# Si el apellido se repite mas de 4 veces lo agrego a la categoria Familia Grande\n",
    "\n",
    "def func_apellidos(dict_apellidos):\n",
    "    \n",
    "    for apellido, count in dict_apellidos.items():\n",
    "        if count == 1:\n",
    "            dict_apellidos[apellido] = \"Soltero\"\n",
    "        elif count == 2:\n",
    "            dict_apellidos[apellido] = \"Matrimonio\"\n",
    "        elif count < 5:\n",
    "            dict_apellidos[apellido] = \"Familia\"\n",
    "        else:\n",
    "            dict_apellidos[apellido] = \"Familia Grande\"\n",
    "            \n",
    "    return dict_apellidos\n",
    "            \n",
    "dict_apellidos = func_apellidos(dict_apellidos)\n",
    "\n",
    "df_cat_train[\"Family\"] = df_cat_train[\"Surname\"].map(dict_apellidos)\n",
    "df_cat_test[\"Family\"] = df_cat_test[\"Surname\"].map(dict_apellidos)"
   ]
  },
  {
   "cell_type": "code",
   "execution_count": 171,
   "metadata": {},
   "outputs": [
    {
     "data": {
      "image/png": "[encoded data removed]",
      "text/plain": [
       "<Figure size 640x480 with 1 Axes>"
      ]
     },
     "metadata": {},
     "output_type": "display_data"
    }
   ],
   "source": [
    "# Veamos la distribución de la nueva columna\n",
    "sns.countplot(x = df_cat_train[\"Family\"])\n",
    "plt.show()"
   ]
  },
  {
   "cell_type": "code",
   "execution_count": 172,
   "id": "a12be430",
   "metadata": {},
   "outputs": [
    {
     "data": {
      "image/png": "[encoded data removed]",
      "text/plain": [
       "<Figure size 640x480 with 1 Axes>"
      ]
     },
     "metadata": {},
     "output_type": "display_data"
    }
   ],
   "source": [
    "# La categoria de Soltero es muy grande (existe un desbalance), vamos a unir las otras 3 categorias para poder nivelarlo\n",
    "# Nota: Podemos hacer cualquier cosa que se nos ocurra, esto es una posibilidad de todo lo que podemos hacer.\n",
    "df_cat_train[\"Family\"] = df_cat_train[\"Family\"].replace({\"Matrimonio\" : \"Familia\", \"Familia Grande\" : \"Familia\"})\n",
    "df_cat_test[\"Family\"] = df_cat_test[\"Family\"].replace({\"Matrimonio\" : \"Familia\", \"Familia Grande\" : \"Familia\"})\n",
    "sns.countplot(x = df_cat_train[\"Family\"])\n",
    "plt.show()"
   ]
  },
  {
   "cell_type": "code",
   "execution_count": 173,
   "id": "19b26baf",
   "metadata": {},
   "outputs": [],
   "source": [
    "# Vamos a crear otra categoria a partir del Mr. y Mrs.\n",
    "dict_mr = df_cat_train[\"Mr./Mrs.\"].value_counts().to_dict()\n",
    "\n",
    "# Definimos una función que clasifique según el valor de cada fila.\n",
    "\n",
    "def func_mr(dict_mr):\n",
    "    \n",
    "    for mr, count in dict_mr.items():\n",
    "        if mr == \"Mr.\":\n",
    "            dict_mr[mr] = \"Mr.\"\n",
    "            \n",
    "        elif mr == \"Mrs.\":\n",
    "            dict_mr[mr] = \"Mrs.\"\n",
    "            \n",
    "        elif mr == \"Miss.\":\n",
    "            dict_mr[mr] = \"Miss.\"\n",
    "            \n",
    "        else:\n",
    "            dict_mr[mr] = \"Other\"\n",
    "            \n",
    "    return dict_mr\n",
    "            \n",
    "dict_mr = func_mr(dict_mr)\n",
    "\n",
    "df_cat_train[\"Title\"] = df_cat_train[\"Mr./Mrs.\"].map(dict_mr)\n",
    "df_cat_test[\"Title\"] = df_cat_test[\"Mr./Mrs.\"].map(dict_mr)\n",
    "\n",
    "df_cat_train.drop(\"Mr./Mrs.\", axis = 1, inplace = True)\n",
    "df_cat_test.drop(\"Mr./Mrs.\", axis = 1, inplace = True)"
   ]
  },
  {
   "cell_type": "code",
   "execution_count": 174,
   "id": "d3ff3994",
   "metadata": {},
   "outputs": [
    {
     "data": {
      "image/png": "[encoded data removed]",
      "text/plain": [
       "<Figure size 640x480 with 1 Axes>"
      ]
     },
     "metadata": {},
     "output_type": "display_data"
    }
   ],
   "source": [
    "sns.countplot(x = df_cat_train[\"Title\"])\n",
    "plt.show()"
   ]
  },
  {
   "cell_type": "code",
   "execution_count": null,
   "id": "798747a7",
   "metadata": {},
   "outputs": [],
   "source": [
    "# Esta vez voy a decidir no unir las categorias, si vemos los datos de la columna \"Sex\"\n",
    "# podemos ver que hay mas hombres que mujeres, por lo que si unimos las 3 categorias menores \n",
    "# vamos a quedar practicamente con la misma informacion que la columna \"Sex\""
   ]
  },
  {
   "cell_type": "markdown",
   "metadata": {},
   "source": [
    "### **CODIFICACION DE VALORES CATEGORICOS**"
   ]
  },
  {
   "cell_type": "markdown",
   "id": "68ede4f6",
   "metadata": {},
   "source": [
    "### Sex, Familia, Title\n",
    "\n",
    "Ya tenemos la información limpia de estas 3 columnas, ahora debemos transformar estas columnas a numéricas.\n",
    "\n",
    "Para esto existen 2 funciones:\n",
    "1. **pd.get_dummies()**: esta función va a generar una columna por cada elemento único en una columna y, dependiendo del valor, va a colocar 1 en la columna correspondiente y 0 en las otras. Esté método resulta de utilidad cuando la categoria no sigue un orden en particular.\n",
    "\n",
    "\n",
    "2. **sklearn.preprocessing.LabelEncoder()**: esta función transforma toda la columna a números enteros, si la columna tiene n elementos únicos, va a cambiar esos elementos por lo números desde el **`0 hasta n - 1`**. Éste método resulta de utilidad si la categoria sigue cierto orden."
   ]
  },
  {
   "cell_type": "code",
   "execution_count": 175,
   "id": "711a18d3",
   "metadata": {},
   "outputs": [],
   "source": [
    "# Para unir estas nuevas columnas a df_cat podemos hacer un pd.concat()\n",
    "df_cat_train = pd.concat([df_cat_train, pd.get_dummies(data = df_cat_train[\"Sex\"])], axis = 1)\n",
    "df_cat_test = pd.concat([df_cat_test, pd.get_dummies(data = df_cat_test[\"Sex\"])], axis = 1)\n",
    "# Y ahora podemos eliminar la columna \"Sex\"\n",
    "df_cat_train.drop(\"Sex\", axis = 1, inplace = True)\n",
    "df_cat_test.drop(\"Sex\", axis = 1, inplace = True)"
   ]
  },
  {
   "cell_type": "code",
   "execution_count": 176,
   "id": "0bd1f992",
   "metadata": {},
   "outputs": [],
   "source": [
    "# Vamos a repetir la operación con las columnas \"Family\" y \"Title\"\n",
    "for col in [\"Family\", \"Title\", \"Pclass\"]:\n",
    "    \n",
    "    df_cat_train = pd.concat([df_cat_train, pd.get_dummies(data = df_cat_train[col])], axis = 1)\n",
    "    df_cat_test = pd.concat([df_cat_test, pd.get_dummies(data = df_cat_test[col])], axis = 1)\n",
    "\n",
    "    df_cat_train.drop(col, axis = 1, inplace = True)\n",
    "    df_cat_test.drop(col, axis = 1, inplace = True)"
   ]
  },
  {
   "cell_type": "code",
   "execution_count": 177,
   "id": "f45be507",
   "metadata": {},
   "outputs": [],
   "source": [
    "# Ahora voy a hacer drop de las columnas \"Name\", \"Surname\" y \"Ticket\"\n",
    "# De la columna \"Name\" sacamos \"Surname\" y luego \"Family\", por lo que es información redundate\n",
    "# Y de la columna \"Ticket\" podemos sacar información similar a la que sacamos con la columna \"Surname\"\n",
    "df_cat_train.drop([\"Name\", \"Surname\", \"Ticket\", \"PassengerId\"], axis = 1, inplace = True)\n",
    "df_cat_test.drop([\"Name\", \"Surname\", \"Ticket\", \"PassengerId\"], axis = 1, inplace = True)\n",
    "# La columna Pclass es categorica y numerica, por lo que la vamos a dejar tal cual está\n",
    "# La columna Survived es la columna que queremos predecir"
   ]
  },
  {
   "cell_type": "markdown",
   "id": "b2f5de95",
   "metadata": {},
   "source": [
    "### **Binning**\n",
    "Binning es un proceso de transformación de variables numéricas continuas en \"contenedores\" categóricos discretos, para análisis agrupados."
   ]
  },
  {
   "cell_type": "code",
   "execution_count": 178,
   "metadata": {},
   "outputs": [],
   "source": [
    "# Vamos a aplicar Binning a la columna Fare, bins = 5, creamos la division\n",
    "bins = np.linspace(min(df_num_train[\"Fare\"]), max(df_num_train[\"Fare\"]), 5)"
   ]
  },
  {
   "cell_type": "code",
   "execution_count": 179,
   "metadata": {},
   "outputs": [],
   "source": [
    "categorias = [\"Low_cost\", \"Turista\", \"Business\", \"VIP\"]"
   ]
  },
  {
   "cell_type": "code",
   "execution_count": 180,
   "metadata": {},
   "outputs": [],
   "source": [
    "df_num_train[\"Fare-Binning\"] = pd.cut(df_num_train[\"Fare\"], bins, labels = categorias, include_lowest = True)\n",
    "df_num_test[\"Fare-Binning\"] = pd.cut(df_num_test[\"Fare\"], bins, labels = categorias, include_lowest = True)"
   ]
  },
  {
   "cell_type": "code",
   "execution_count": 181,
   "id": "cbfdd319",
   "metadata": {},
   "outputs": [
    {
     "data": {
      "image/png": "[encoded data removed]",
      "text/plain": [
       "<Figure size 640x480 with 1 Axes>"
      ]
     },
     "metadata": {},
     "output_type": "display_data"
    }
   ],
   "source": [
    "sns.histplot(df_num_train[\"Fare\"], bins = 10)\n",
    "plt.show()"
   ]
  },
  {
   "cell_type": "code",
   "execution_count": 182,
   "id": "dbab8652",
   "metadata": {},
   "outputs": [
    {
     "data": {
      "image/png": "[encoded data removed]",
      "text/plain": [
       "<Figure size 640x480 with 1 Axes>"
      ]
     },
     "metadata": {},
     "output_type": "display_data"
    }
   ],
   "source": [
    "sns.countplot(x = df_num_train[\"Fare-Binning\"])\n",
    "plt.show()"
   ]
  },
  {
   "cell_type": "code",
   "execution_count": 183,
   "id": "13b2fcd6",
   "metadata": {},
   "outputs": [
    {
     "data": {
      "image/png": "[encoded data removed]",
      "text/plain": [
       "<Figure size 640x480 with 1 Axes>"
      ]
     },
     "metadata": {},
     "output_type": "display_data"
    }
   ],
   "source": [
    "# Vemos que el binning se ve afectado por los outliers de esta columna\n",
    "# Vamos a eliminarlos\n",
    "df_num_train = df_num_train[df_num_train[\"Fare\"] < 400]\n",
    "\n",
    "sns.histplot(df_num_train[\"Fare\"], bins = 10)\n",
    "plt.show()"
   ]
  },
  {
   "cell_type": "code",
   "execution_count": 184,
   "id": "f1834240",
   "metadata": {},
   "outputs": [
    {
     "data": {
      "image/png": "[encoded data removed]",
      "text/plain": [
       "<Figure size 640x480 with 1 Axes>"
      ]
     },
     "metadata": {},
     "output_type": "display_data"
    }
   ],
   "source": [
    "# Aplicamos otra vez Binning\n",
    "bins = np.linspace(min(df_num_train[\"Fare\"]), max(df_num_train[\"Fare\"]), 5)\n",
    "categorias = categorias\n",
    "df_num_train[\"Fare-Binning\"] = pd.cut(df_num_train[\"Fare\"], bins, labels = categorias, include_lowest = True)\n",
    "df_num_test[\"Fare-Binning\"] = pd.cut(df_num_test[\"Fare\"], bins, labels = categorias, include_lowest = True)\n",
    "sns.countplot(x = df_num_train[\"Fare-Binning\"])\n",
    "plt.show()"
   ]
  },
  {
   "cell_type": "code",
   "execution_count": 185,
   "id": "280670bf",
   "metadata": {},
   "outputs": [
    {
     "data": {
      "image/png": "[encoded data removed]",
      "text/plain": [
       "<Figure size 640x480 with 1 Axes>"
      ]
     },
     "metadata": {},
     "output_type": "display_data"
    }
   ],
   "source": [
    "# Existe un desbalance muy grande aún problema para el modelo\n",
    "# Vamos a hacer 3 grupos en lugar de 4\n",
    "bins = np.linspace(min(df_num_train[\"Fare\"]), max(df_num_train[\"Fare\"]), 4)\n",
    "categorias = categorias[0:3]\n",
    "df_num_train[\"Fare-Binning\"] = pd.cut(df_num_train[\"Fare\"], bins, labels = categorias, include_lowest = True)\n",
    "df_num_test[\"Fare-Binning\"] = pd.cut(df_num_test[\"Fare\"], bins, labels = categorias, include_lowest = True)\n",
    "\n",
    "sns.countplot(x = df_num_train[\"Fare-Binning\"])\n",
    "plt.show()"
   ]
  },
  {
   "cell_type": "markdown",
   "metadata": {},
   "source": [
    "Deberiamos hacer undersipling o oversimpling. Aun existe un desbalance importante. Por ahora dejemos esta columna como está y luego veremos si es de importancia"
   ]
  },
  {
   "cell_type": "code",
   "execution_count": 186,
   "id": "554644cc",
   "metadata": {},
   "outputs": [
    {
     "data": {
      "image/png": "[encoded data removed]",
      "text/plain": [
       "<Figure size 640x480 with 1 Axes>"
      ]
     },
     "metadata": {},
     "output_type": "display_data"
    }
   ],
   "source": [
    "sns.histplot(df_num_train[\"Age\"], kde= True)\n",
    "plt.show()"
   ]
  },
  {
   "cell_type": "code",
   "execution_count": 187,
   "id": "4d4ba48f",
   "metadata": {},
   "outputs": [
    {
     "data": {
      "image/png": "[encoded data removed]",
      "text/plain": [
       "<Figure size 640x480 with 1 Axes>"
      ]
     },
     "metadata": {},
     "output_type": "display_data"
    }
   ],
   "source": [
    "# Vamos a hacer Binning con bins = 3\n",
    "bins = np.linspace(min(df_num_train[\"Age\"]), max(df_num_train[\"Age\"]), 4)\n",
    "categorias = [\"Joven\", \"Adulto\", \"Viejo\"]\n",
    "df_num_train[\"Age-Binning\"] = pd.cut(df_num_train[\"Age\"], bins, labels = categorias, include_lowest = True)\n",
    "df_num_test[\"Age-Binning\"] = pd.cut(df_num_test[\"Age\"], bins, labels = categorias, include_lowest = True)\n",
    "\n",
    "sns.countplot(x = df_num_train[\"Age-Binning\"])\n",
    "plt.show()"
   ]
  },
  {
   "cell_type": "code",
   "execution_count": 188,
   "id": "0c3c559d",
   "metadata": {},
   "outputs": [],
   "source": [
    "# Vamos a dejarlo así, y vamos a convertir esta columna a numerica con LabelEncoder\n",
    "\n",
    "# Inicializamos un objeto LabelEncoder()\n",
    "age_labelEncoding = LabelEncoder()\n",
    "# Lo \"entrenamos\" con los datos de la columna\n",
    "age_labelEncoding.fit(df_num_train[\"Age-Binning\"].values)\n",
    "# Transformamos la columna\n",
    "age_train = age_labelEncoding.transform(df_num_train[\"Age-Binning\"].values)\n",
    "age_test = age_labelEncoding.transform(df_num_test[\"Age-Binning\"].values)\n",
    "# El resultado es la columna cambiada a numeros.\n",
    "df_num_train[\"Age-Binning\"] = age_train\n",
    "df_num_test[\"Age-Binning\"] = age_test"
   ]
  },
  {
   "cell_type": "code",
   "execution_count": 189,
   "id": "31a8b690",
   "metadata": {},
   "outputs": [],
   "source": [
    "# Vamos a hacer lo mismo con \"Fare-Binning\"\n",
    "# Inicializamos un objeto LabelEncoder()\n",
    "fare_labelEncoding = LabelEncoder()\n",
    "# Lo \"entrenamos\" con los datos de la columna\n",
    "fare_labelEncoding.fit(df_num_train[\"Fare-Binning\"].values)\n",
    "# Transformamos la columna\n",
    "fare_train = fare_labelEncoding.transform(df_num_train[\"Fare-Binning\"].values)\n",
    "fare_test = fare_labelEncoding.transform(df_num_test[\"Fare-Binning\"].values)\n",
    "# El resultado es la columna cambiada a numeros.\n",
    "df_num_train[\"Fare-Binning\"] = fare_train\n",
    "df_num_test[\"Fare-Binning\"] = fare_test"
   ]
  },
  {
   "cell_type": "markdown",
   "id": "6c8cc108",
   "metadata": {},
   "source": [
    "### **Feature Selection**"
   ]
  },
  {
   "cell_type": "code",
   "execution_count": 190,
   "id": "829d691e",
   "metadata": {},
   "outputs": [],
   "source": [
    "# Vamos a unir df_num y df_cat\n",
    "X_train = pd.concat([df_num_train, df_cat_train], axis = 1)\n",
    "X_test = pd.concat([df_num_test, df_cat_test], axis = 1)\n",
    "# NOTA: Como eliminamos filas de df_num y no eliminamos filas de df_cat, el DataFrame tendrá NaN's\n",
    "# Podemos hacer una imputación de los datos, pero par este ejemplo vamos a eliminar esas filas\n",
    "X_train.dropna(inplace = True)\n",
    "X_test.dropna(inplace = True)\n",
    "\n",
    "# Ahora vamos a separar la columna \"objetivo\" del resto de columnas\n",
    "y_train = X_train[\"Survived\"].copy()\n",
    "y_test = X_test[\"Survived\"].copy()\n",
    "# Como ya tenemos la columna \"objetivo\" en otra variable vamos a eliminarla del DataFrame original\n",
    "X_train.drop(\"Survived\", axis = 1, inplace = True)\n",
    "X_test.drop(\"Survived\", axis = 1, inplace = True)"
   ]
  },
  {
   "cell_type": "code",
   "execution_count": 191,
   "metadata": {},
   "outputs": [
    {
     "data": {
      "text/html": [
       "<div>\n",
       "<style scoped>\n",
       "    .dataframe tbody tr th:only-of-type {\n",
       "        vertical-align: middle;\n",
       "    }\n",
       "\n",
       "    .dataframe tbody tr th {\n",
       "        vertical-align: top;\n",
       "    }\n",
       "\n",
       "    .dataframe thead th {\n",
       "        text-align: right;\n",
       "    }\n",
       "</style>\n",
       "<table border=\"1\" class=\"dataframe\">\n",
       "  <thead>\n",
       "    <tr style=\"text-align: right;\">\n",
       "      <th></th>\n",
       "      <th>Age</th>\n",
       "      <th>Fare</th>\n",
       "      <th>Fare-Binning</th>\n",
       "      <th>Age-Binning</th>\n",
       "      <th>female</th>\n",
       "      <th>male</th>\n",
       "      <th>Familia</th>\n",
       "      <th>Soltero</th>\n",
       "      <th>Miss.</th>\n",
       "      <th>Mr.</th>\n",
       "      <th>Mrs.</th>\n",
       "      <th>Other</th>\n",
       "      <th>1</th>\n",
       "      <th>2</th>\n",
       "      <th>3</th>\n",
       "    </tr>\n",
       "  </thead>\n",
       "  <tbody>\n",
       "    <tr>\n",
       "      <th>0</th>\n",
       "      <td>45.5</td>\n",
       "      <td>28.5000</td>\n",
       "      <td>1.0</td>\n",
       "      <td>0.0</td>\n",
       "      <td>False</td>\n",
       "      <td>True</td>\n",
       "      <td>False</td>\n",
       "      <td>True</td>\n",
       "      <td>False</td>\n",
       "      <td>True</td>\n",
       "      <td>False</td>\n",
       "      <td>False</td>\n",
       "      <td>False</td>\n",
       "      <td>False</td>\n",
       "      <td>True</td>\n",
       "    </tr>\n",
       "    <tr>\n",
       "      <th>1</th>\n",
       "      <td>23.0</td>\n",
       "      <td>13.0000</td>\n",
       "      <td>1.0</td>\n",
       "      <td>1.0</td>\n",
       "      <td>True</td>\n",
       "      <td>False</td>\n",
       "      <td>False</td>\n",
       "      <td>True</td>\n",
       "      <td>False</td>\n",
       "      <td>False</td>\n",
       "      <td>True</td>\n",
       "      <td>False</td>\n",
       "      <td>True</td>\n",
       "      <td>False</td>\n",
       "      <td>False</td>\n",
       "    </tr>\n",
       "    <tr>\n",
       "      <th>2</th>\n",
       "      <td>32.0</td>\n",
       "      <td>7.9250</td>\n",
       "      <td>1.0</td>\n",
       "      <td>0.0</td>\n",
       "      <td>True</td>\n",
       "      <td>False</td>\n",
       "      <td>False</td>\n",
       "      <td>True</td>\n",
       "      <td>True</td>\n",
       "      <td>False</td>\n",
       "      <td>False</td>\n",
       "      <td>False</td>\n",
       "      <td>False</td>\n",
       "      <td>False</td>\n",
       "      <td>True</td>\n",
       "    </tr>\n",
       "    <tr>\n",
       "      <th>3</th>\n",
       "      <td>26.0</td>\n",
       "      <td>7.8542</td>\n",
       "      <td>1.0</td>\n",
       "      <td>1.0</td>\n",
       "      <td>True</td>\n",
       "      <td>False</td>\n",
       "      <td>False</td>\n",
       "      <td>True</td>\n",
       "      <td>False</td>\n",
       "      <td>False</td>\n",
       "      <td>True</td>\n",
       "      <td>False</td>\n",
       "      <td>True</td>\n",
       "      <td>False</td>\n",
       "      <td>False</td>\n",
       "    </tr>\n",
       "    <tr>\n",
       "      <th>4</th>\n",
       "      <td>6.0</td>\n",
       "      <td>31.2750</td>\n",
       "      <td>1.0</td>\n",
       "      <td>1.0</td>\n",
       "      <td>False</td>\n",
       "      <td>True</td>\n",
       "      <td>True</td>\n",
       "      <td>False</td>\n",
       "      <td>False</td>\n",
       "      <td>True</td>\n",
       "      <td>False</td>\n",
       "      <td>False</td>\n",
       "      <td>False</td>\n",
       "      <td>False</td>\n",
       "      <td>True</td>\n",
       "    </tr>\n",
       "  </tbody>\n",
       "</table>\n",
       "</div>"
      ],
      "text/plain": [
       "    Age     Fare  Fare-Binning  Age-Binning female   male Familia Soltero  \\\n",
       "0  45.5  28.5000           1.0          0.0  False   True   False    True   \n",
       "1  23.0  13.0000           1.0          1.0   True  False   False    True   \n",
       "2  32.0   7.9250           1.0          0.0   True  False   False    True   \n",
       "3  26.0   7.8542           1.0          1.0   True  False   False    True   \n",
       "4   6.0  31.2750           1.0          1.0  False   True    True   False   \n",
       "\n",
       "   Miss.    Mr.   Mrs.  Other      1      2      3  \n",
       "0  False   True  False  False  False  False   True  \n",
       "1  False  False   True  False   True  False  False  \n",
       "2   True  False  False  False  False  False   True  \n",
       "3  False  False   True  False   True  False  False  \n",
       "4  False   True  False  False  False  False   True  "
      ]
     },
     "execution_count": 191,
     "metadata": {},
     "output_type": "execute_result"
    }
   ],
   "source": [
    "X_train.head(5)"
   ]
  },
  {
   "cell_type": "code",
   "execution_count": 194,
   "metadata": {},
   "outputs": [
    {
     "data": {
      "text/html": [
       "<div>\n",
       "<style scoped>\n",
       "    .dataframe tbody tr th:only-of-type {\n",
       "        vertical-align: middle;\n",
       "    }\n",
       "\n",
       "    .dataframe tbody tr th {\n",
       "        vertical-align: top;\n",
       "    }\n",
       "\n",
       "    .dataframe thead th {\n",
       "        text-align: right;\n",
       "    }\n",
       "</style>\n",
       "<table border=\"1\" class=\"dataframe\">\n",
       "  <thead>\n",
       "    <tr style=\"text-align: right;\">\n",
       "      <th></th>\n",
       "      <th>Fare-Binning</th>\n",
       "      <th>Age-Binning</th>\n",
       "      <th>gender</th>\n",
       "      <th>Familia</th>\n",
       "      <th>Soltero</th>\n",
       "      <th>Miss.</th>\n",
       "      <th>Mr.</th>\n",
       "      <th>Mrs.</th>\n",
       "      <th>Other</th>\n",
       "      <th>1</th>\n",
       "      <th>2</th>\n",
       "      <th>3</th>\n",
       "    </tr>\n",
       "  </thead>\n",
       "  <tbody>\n",
       "    <tr>\n",
       "      <th>Fare-Binning</th>\n",
       "      <td>1.000000</td>\n",
       "      <td>-0.067359</td>\n",
       "      <td>0.001292</td>\n",
       "      <td>-0.016610</td>\n",
       "      <td>0.016610</td>\n",
       "      <td>-0.006186</td>\n",
       "      <td>0.039869</td>\n",
       "      <td>-0.007856</td>\n",
       "      <td>-0.049768</td>\n",
       "      <td>-0.026465</td>\n",
       "      <td>-0.075517</td>\n",
       "      <td>0.084507</td>\n",
       "    </tr>\n",
       "    <tr>\n",
       "      <th>Age-Binning</th>\n",
       "      <td>-0.067359</td>\n",
       "      <td>1.000000</td>\n",
       "      <td>-0.033975</td>\n",
       "      <td>-0.061956</td>\n",
       "      <td>0.061956</td>\n",
       "      <td>-0.026724</td>\n",
       "      <td>0.047427</td>\n",
       "      <td>-0.024260</td>\n",
       "      <td>-0.015468</td>\n",
       "      <td>-0.058364</td>\n",
       "      <td>0.009808</td>\n",
       "      <td>0.041654</td>\n",
       "    </tr>\n",
       "    <tr>\n",
       "      <th>gender</th>\n",
       "      <td>0.001292</td>\n",
       "      <td>-0.033975</td>\n",
       "      <td>1.000000</td>\n",
       "      <td>0.164781</td>\n",
       "      <td>-0.164781</td>\n",
       "      <td>0.702512</td>\n",
       "      <td>-0.849257</td>\n",
       "      <td>0.506057</td>\n",
       "      <td>-0.115819</td>\n",
       "      <td>0.070253</td>\n",
       "      <td>0.060435</td>\n",
       "      <td>-0.109420</td>\n",
       "    </tr>\n",
       "    <tr>\n",
       "      <th>Familia</th>\n",
       "      <td>-0.016610</td>\n",
       "      <td>-0.061956</td>\n",
       "      <td>0.164781</td>\n",
       "      <td>1.000000</td>\n",
       "      <td>-1.000000</td>\n",
       "      <td>0.040973</td>\n",
       "      <td>-0.229186</td>\n",
       "      <td>0.185676</td>\n",
       "      <td>0.121076</td>\n",
       "      <td>-0.039128</td>\n",
       "      <td>0.047951</td>\n",
       "      <td>-0.006029</td>\n",
       "    </tr>\n",
       "    <tr>\n",
       "      <th>Soltero</th>\n",
       "      <td>0.016610</td>\n",
       "      <td>0.061956</td>\n",
       "      <td>-0.164781</td>\n",
       "      <td>-1.000000</td>\n",
       "      <td>1.000000</td>\n",
       "      <td>-0.040973</td>\n",
       "      <td>0.229186</td>\n",
       "      <td>-0.185676</td>\n",
       "      <td>-0.121076</td>\n",
       "      <td>0.039128</td>\n",
       "      <td>-0.047951</td>\n",
       "      <td>0.006029</td>\n",
       "    </tr>\n",
       "    <tr>\n",
       "      <th>Miss.</th>\n",
       "      <td>-0.006186</td>\n",
       "      <td>-0.026724</td>\n",
       "      <td>0.702512</td>\n",
       "      <td>0.040973</td>\n",
       "      <td>-0.040973</td>\n",
       "      <td>1.000000</td>\n",
       "      <td>-0.596614</td>\n",
       "      <td>-0.196312</td>\n",
       "      <td>-0.169702</td>\n",
       "      <td>0.007453</td>\n",
       "      <td>-0.015712</td>\n",
       "      <td>0.006547</td>\n",
       "    </tr>\n",
       "    <tr>\n",
       "      <th>Mr.</th>\n",
       "      <td>0.039869</td>\n",
       "      <td>0.047427</td>\n",
       "      <td>-0.849257</td>\n",
       "      <td>-0.229186</td>\n",
       "      <td>0.229186</td>\n",
       "      <td>-0.596614</td>\n",
       "      <td>1.000000</td>\n",
       "      <td>-0.429772</td>\n",
       "      <td>-0.371517</td>\n",
       "      <td>-0.073946</td>\n",
       "      <td>-0.082318</td>\n",
       "      <td>0.130523</td>\n",
       "    </tr>\n",
       "    <tr>\n",
       "      <th>Mrs.</th>\n",
       "      <td>-0.007856</td>\n",
       "      <td>-0.024260</td>\n",
       "      <td>0.506057</td>\n",
       "      <td>0.185676</td>\n",
       "      <td>-0.185676</td>\n",
       "      <td>-0.196312</td>\n",
       "      <td>-0.429772</td>\n",
       "      <td>1.000000</td>\n",
       "      <td>-0.122245</td>\n",
       "      <td>0.058986</td>\n",
       "      <td>0.121958</td>\n",
       "      <td>-0.150312</td>\n",
       "    </tr>\n",
       "    <tr>\n",
       "      <th>Other</th>\n",
       "      <td>-0.049768</td>\n",
       "      <td>-0.015468</td>\n",
       "      <td>-0.115819</td>\n",
       "      <td>0.121076</td>\n",
       "      <td>-0.121076</td>\n",
       "      <td>-0.169702</td>\n",
       "      <td>-0.371517</td>\n",
       "      <td>-0.122245</td>\n",
       "      <td>1.000000</td>\n",
       "      <td>0.048145</td>\n",
       "      <td>0.024014</td>\n",
       "      <td>-0.060706</td>\n",
       "    </tr>\n",
       "    <tr>\n",
       "      <th>1</th>\n",
       "      <td>-0.026465</td>\n",
       "      <td>-0.058364</td>\n",
       "      <td>0.070253</td>\n",
       "      <td>-0.039128</td>\n",
       "      <td>0.039128</td>\n",
       "      <td>0.007453</td>\n",
       "      <td>-0.073946</td>\n",
       "      <td>0.058986</td>\n",
       "      <td>0.048145</td>\n",
       "      <td>1.000000</td>\n",
       "      <td>-0.285200</td>\n",
       "      <td>-0.617548</td>\n",
       "    </tr>\n",
       "    <tr>\n",
       "      <th>2</th>\n",
       "      <td>-0.075517</td>\n",
       "      <td>0.009808</td>\n",
       "      <td>0.060435</td>\n",
       "      <td>0.047951</td>\n",
       "      <td>-0.047951</td>\n",
       "      <td>-0.015712</td>\n",
       "      <td>-0.082318</td>\n",
       "      <td>0.121958</td>\n",
       "      <td>0.024014</td>\n",
       "      <td>-0.285200</td>\n",
       "      <td>1.000000</td>\n",
       "      <td>-0.577742</td>\n",
       "    </tr>\n",
       "    <tr>\n",
       "      <th>3</th>\n",
       "      <td>0.084507</td>\n",
       "      <td>0.041654</td>\n",
       "      <td>-0.109420</td>\n",
       "      <td>-0.006029</td>\n",
       "      <td>0.006029</td>\n",
       "      <td>0.006547</td>\n",
       "      <td>0.130523</td>\n",
       "      <td>-0.150312</td>\n",
       "      <td>-0.060706</td>\n",
       "      <td>-0.617548</td>\n",
       "      <td>-0.577742</td>\n",
       "      <td>1.000000</td>\n",
       "    </tr>\n",
       "  </tbody>\n",
       "</table>\n",
       "</div>"
      ],
      "text/plain": [
       "              Fare-Binning  Age-Binning    gender   Familia   Soltero  \\\n",
       "Fare-Binning      1.000000    -0.067359  0.001292 -0.016610  0.016610   \n",
       "Age-Binning      -0.067359     1.000000 -0.033975 -0.061956  0.061956   \n",
       "gender            0.001292    -0.033975  1.000000  0.164781 -0.164781   \n",
       "Familia          -0.016610    -0.061956  0.164781  1.000000 -1.000000   \n",
       "Soltero           0.016610     0.061956 -0.164781 -1.000000  1.000000   \n",
       "Miss.            -0.006186    -0.026724  0.702512  0.040973 -0.040973   \n",
       "Mr.               0.039869     0.047427 -0.849257 -0.229186  0.229186   \n",
       "Mrs.             -0.007856    -0.024260  0.506057  0.185676 -0.185676   \n",
       "Other            -0.049768    -0.015468 -0.115819  0.121076 -0.121076   \n",
       "1                -0.026465    -0.058364  0.070253 -0.039128  0.039128   \n",
       "2                -0.075517     0.009808  0.060435  0.047951 -0.047951   \n",
       "3                 0.084507     0.041654 -0.109420 -0.006029  0.006029   \n",
       "\n",
       "                 Miss.       Mr.      Mrs.     Other         1         2  \\\n",
       "Fare-Binning -0.006186  0.039869 -0.007856 -0.049768 -0.026465 -0.075517   \n",
       "Age-Binning  -0.026724  0.047427 -0.024260 -0.015468 -0.058364  0.009808   \n",
       "gender        0.702512 -0.849257  0.506057 -0.115819  0.070253  0.060435   \n",
       "Familia       0.040973 -0.229186  0.185676  0.121076 -0.039128  0.047951   \n",
       "Soltero      -0.040973  0.229186 -0.185676 -0.121076  0.039128 -0.047951   \n",
       "Miss.         1.000000 -0.596614 -0.196312 -0.169702  0.007453 -0.015712   \n",
       "Mr.          -0.596614  1.000000 -0.429772 -0.371517 -0.073946 -0.082318   \n",
       "Mrs.         -0.196312 -0.429772  1.000000 -0.122245  0.058986  0.121958   \n",
       "Other        -0.169702 -0.371517 -0.122245  1.000000  0.048145  0.024014   \n",
       "1             0.007453 -0.073946  0.058986  0.048145  1.000000 -0.285200   \n",
       "2            -0.015712 -0.082318  0.121958  0.024014 -0.285200  1.000000   \n",
       "3             0.006547  0.130523 -0.150312 -0.060706 -0.617548 -0.577742   \n",
       "\n",
       "                     3  \n",
       "Fare-Binning  0.084507  \n",
       "Age-Binning   0.041654  \n",
       "gender       -0.109420  \n",
       "Familia      -0.006029  \n",
       "Soltero       0.006029  \n",
       "Miss.         0.006547  \n",
       "Mr.           0.130523  \n",
       "Mrs.         -0.150312  \n",
       "Other        -0.060706  \n",
       "1            -0.617548  \n",
       "2            -0.577742  \n",
       "3             1.000000  "
      ]
     },
     "execution_count": 194,
     "metadata": {},
     "output_type": "execute_result"
    }
   ],
   "source": [
    "X_train.corr()"
   ]
  },
  {
   "cell_type": "code",
   "execution_count": 193,
   "metadata": {},
   "outputs": [],
   "source": [
    "X_train = X_train.drop(\"Age\", axis = 1)\n",
    "X_train = X_train.drop(\"Fare\", axis = 1)\n",
    "X_train = X_train.drop(\"male\", axis = 1)\n",
    "X_train.rename(columns = {\"female\": \"gender\"}, inplace = True)\n",
    "\n",
    "X_test = X_test.drop(\"Age\", axis = 1)\n",
    "X_test = X_test.drop(\"Fare\", axis = 1)\n",
    "X_test = X_test.drop(\"male\", axis = 1)\n",
    "X_test.rename(columns = {\"female\": \"gender\"}, inplace = True)"
   ]
  },
  {
   "cell_type": "code",
   "execution_count": 195,
   "id": "28d0bb72",
   "metadata": {},
   "outputs": [],
   "source": [
    "# Ya tenemos el feature selection hecho"
   ]
  },
  {
   "cell_type": "markdown",
   "metadata": {},
   "source": [
    "### **Modelo para saber que variables son las mejores para predecir si alguien sobrevive o no**"
   ]
  },
  {
   "cell_type": "code",
   "execution_count": 198,
   "metadata": {},
   "outputs": [],
   "source": [
    "# Convertir los nombres de las columnas en strings:\n",
    "X_train.columns = X_train.columns.astype(str)"
   ]
  },
  {
   "cell_type": "code",
   "execution_count": 200,
   "metadata": {},
   "outputs": [
    {
     "data": {
      "text/plain": [
       "Index(['Fare-Binning', 'Age-Binning', 'gender', 'Familia', 'Soltero', 'Miss.',\n",
       "       'Mr.', 'Mrs.', 'Other', '1', '2', '3'],\n",
       "      dtype='object')"
      ]
     },
     "execution_count": 200,
     "metadata": {},
     "output_type": "execute_result"
    }
   ],
   "source": [
    "X_train.columns"
   ]
  },
  {
   "cell_type": "code",
   "execution_count": 201,
   "metadata": {},
   "outputs": [
    {
     "data": {
      "text/html": [
       "<style>#sk-container-id-2 {color: black;}#sk-container-id-2 pre{padding: 0;}#sk-container-id-2 div.sk-toggleable {background-color: white;}#sk-container-id-2 label.sk-toggleable__label {cursor: pointer;display: block;width: 100%;margin-bottom: 0;padding: 0.3em;box-sizing: border-box;text-align: center;}#sk-container-id-2 label.sk-toggleable__label-arrow:before {content: \"▸\";float: left;margin-right: 0.25em;color: #696969;}#sk-container-id-2 label.sk-toggleable__label-arrow:hover:before {color: black;}#sk-container-id-2 div.sk-estimator:hover label.sk-toggleable__label-arrow:before {color: black;}#sk-container-id-2 div.sk-toggleable__content {max-height: 0;max-width: 0;overflow: hidden;text-align: left;background-color: #f0f8ff;}#sk-container-id-2 div.sk-toggleable__content pre {margin: 0.2em;color: black;border-radius: 0.25em;background-color: #f0f8ff;}#sk-container-id-2 input.sk-toggleable__control:checked~div.sk-toggleable__content {max-height: 200px;max-width: 100%;overflow: auto;}#sk-container-id-2 input.sk-toggleable__control:checked~label.sk-toggleable__label-arrow:before {content: \"▾\";}#sk-container-id-2 div.sk-estimator input.sk-toggleable__control:checked~label.sk-toggleable__label {background-color: #d4ebff;}#sk-container-id-2 div.sk-label input.sk-toggleable__control:checked~label.sk-toggleable__label {background-color: #d4ebff;}#sk-container-id-2 input.sk-hidden--visually {border: 0;clip: rect(1px 1px 1px 1px);clip: rect(1px, 1px, 1px, 1px);height: 1px;margin: -1px;overflow: hidden;padding: 0;position: absolute;width: 1px;}#sk-container-id-2 div.sk-estimator {font-family: monospace;background-color: #f0f8ff;border: 1px dotted black;border-radius: 0.25em;box-sizing: border-box;margin-bottom: 0.5em;}#sk-container-id-2 div.sk-estimator:hover {background-color: #d4ebff;}#sk-container-id-2 div.sk-parallel-item::after {content: \"\";width: 100%;border-bottom: 1px solid gray;flex-grow: 1;}#sk-container-id-2 div.sk-label:hover label.sk-toggleable__label {background-color: #d4ebff;}#sk-container-id-2 div.sk-serial::before {content: \"\";position: absolute;border-left: 1px solid gray;box-sizing: border-box;top: 0;bottom: 0;left: 50%;z-index: 0;}#sk-container-id-2 div.sk-serial {display: flex;flex-direction: column;align-items: center;background-color: white;padding-right: 0.2em;padding-left: 0.2em;position: relative;}#sk-container-id-2 div.sk-item {position: relative;z-index: 1;}#sk-container-id-2 div.sk-parallel {display: flex;align-items: stretch;justify-content: center;background-color: white;position: relative;}#sk-container-id-2 div.sk-item::before, #sk-container-id-2 div.sk-parallel-item::before {content: \"\";position: absolute;border-left: 1px solid gray;box-sizing: border-box;top: 0;bottom: 0;left: 50%;z-index: -1;}#sk-container-id-2 div.sk-parallel-item {display: flex;flex-direction: column;z-index: 1;position: relative;background-color: white;}#sk-container-id-2 div.sk-parallel-item:first-child::after {align-self: flex-end;width: 50%;}#sk-container-id-2 div.sk-parallel-item:last-child::after {align-self: flex-start;width: 50%;}#sk-container-id-2 div.sk-parallel-item:only-child::after {width: 0;}#sk-container-id-2 div.sk-dashed-wrapped {border: 1px dashed gray;margin: 0 0.4em 0.5em 0.4em;box-sizing: border-box;padding-bottom: 0.4em;background-color: white;}#sk-container-id-2 div.sk-label label {font-family: monospace;font-weight: bold;display: inline-block;line-height: 1.2em;}#sk-container-id-2 div.sk-label-container {text-align: center;}#sk-container-id-2 div.sk-container {/* jupyter's `normalize.less` sets `[hidden] { display: none; }` but bootstrap.min.css set `[hidden] { display: none !important; }` so we also need the `!important` here to be able to override the default hidden behavior on the sphinx rendered scikit-learn.org. See: https://github.com/scikit-learn/scikit-learn/issues/21755 */display: inline-block !important;position: relative;}#sk-container-id-2 div.sk-text-repr-fallback {display: none;}</style><div id=\"sk-container-id-2\" class=\"sk-top-container\"><div class=\"sk-text-repr-fallback\"><pre>ExtraTreesClassifier(n_estimators=250, random_state=0)</pre><b>In a Jupyter environment, please rerun this cell to show the HTML representation or trust the notebook. <br />On GitHub, the HTML representation is unable to render, please try loading this page with nbviewer.org.</b></div><div class=\"sk-container\" hidden><div class=\"sk-item\"><div class=\"sk-estimator sk-toggleable\"><input class=\"sk-toggleable__control sk-hidden--visually\" id=\"sk-estimator-id-2\" type=\"checkbox\" checked><label for=\"sk-estimator-id-2\" class=\"sk-toggleable__label sk-toggleable__label-arrow\">ExtraTreesClassifier</label><div class=\"sk-toggleable__content\"><pre>ExtraTreesClassifier(n_estimators=250, random_state=0)</pre></div></div></div></div></div>"
      ],
      "text/plain": [
       "ExtraTreesClassifier(n_estimators=250, random_state=0)"
      ]
     },
     "execution_count": 201,
     "metadata": {},
     "output_type": "execute_result"
    }
   ],
   "source": [
    "# Build a forest and compute the feature importances\n",
    "forest = ExtraTreesClassifier(n_estimators = 250,\n",
    "                              random_state = 0)\n",
    "\n",
    "forest.fit(X_train, y_train)"
   ]
  },
  {
   "cell_type": "code",
   "execution_count": 205,
   "metadata": {},
   "outputs": [],
   "source": [
    "X_test.columns = X_test.columns.astype(str)"
   ]
  },
  {
   "cell_type": "code",
   "execution_count": 207,
   "metadata": {},
   "outputs": [],
   "source": [
    "# Predicción\n",
    "pred = forest.predict(X_test)"
   ]
  },
  {
   "cell_type": "code",
   "execution_count": 211,
   "metadata": {},
   "outputs": [
    {
     "data": {
      "image/png": "[encoded data removed]",
      "text/plain": [
       "<Figure size 640x480 with 1 Axes>"
      ]
     },
     "metadata": {},
     "output_type": "display_data"
    }
   ],
   "source": [
    "importances = pd.DataFrame(dict(zip(X_train.columns,forest.feature_importances_)), index=[0]).T\n",
    "importances.columns = ['feature_importance']\n",
    "\n",
    "std = np.std([tree.feature_importances_ for tree in forest.estimators_], axis = 0)\n",
    "importances['Error'] = std\n",
    "\n",
    "importances.sort_values('feature_importance', ascending=False, inplace=True)\n",
    "importances.reset_index(inplace=True)\n",
    "\n",
    "sns.barplot(data=importances, y='index', x='feature_importance', hue=\"index\")\n",
    "plt.show()"
   ]
  },
  {
   "cell_type": "code",
   "execution_count": 212,
   "metadata": {},
   "outputs": [
    {
     "data": {
      "text/plain": [
       "0.37499999999999994"
      ]
     },
     "execution_count": 212,
     "metadata": {},
     "output_type": "execute_result"
    }
   ],
   "source": [
    "f1_score(y_test, pred)"
   ]
  },
  {
   "cell_type": "code",
   "execution_count": 213,
   "metadata": {},
   "outputs": [
    {
     "data": {
      "text/plain": [
       "0.37499999999999994"
      ]
     },
     "execution_count": 213,
     "metadata": {},
     "output_type": "execute_result"
    }
   ],
   "source": [
    "# Ahora vamos a probar sin las columnas Mr, Miss, Mrs\n",
    "forest = ExtraTreesClassifier(n_estimators = 250,\n",
    "                              random_state = 0)\n",
    "\n",
    "forest.fit(X_train.drop([\"Mr.\", \"Miss.\", \"Mrs.\"], axis = 1), y_train)\n",
    "\n",
    "pred = forest.predict(X_test.drop([\"Mr.\", \"Miss.\", \"Mrs.\"], axis = 1))\n",
    "\n",
    "f1_score(y_test, pred)"
   ]
  },
  {
   "cell_type": "code",
   "execution_count": 216,
   "metadata": {},
   "outputs": [
    {
     "data": {
      "image/png": "[encoded data removed]",
      "text/plain": [
       "<Figure size 640x480 with 1 Axes>"
      ]
     },
     "metadata": {},
     "output_type": "display_data"
    }
   ],
   "source": [
    "# Crear la gráfica con Matplotlib\n",
    "plt.figure()\n",
    "\n",
    "plt.title(\"Feature importances\")\n",
    "\n",
    "# Utilizar bar para crear las barras y yerr para las barras de error\n",
    "plt.bar(range(importances.shape[0]), importances['feature_importance'], color=\"r\", yerr=importances['Error'], align=\"center\")\n",
    "\n",
    "plt.xticks(range(importances.shape[0]), importances['index'], rotation=90)\n",
    "plt.xlim([-1, importances.shape[0]])\n",
    "plt.show()\n"
   ]
  },
  {
   "cell_type": "code",
   "execution_count": 220,
   "metadata": {},
   "outputs": [
    {
     "data": {
      "text/plain": [
       "0.39999999999999997"
      ]
     },
     "execution_count": 220,
     "metadata": {},
     "output_type": "execute_result"
    }
   ],
   "source": [
    "# Build a forest and compute the feature importances\n",
    "forest = ExtraTreesClassifier(n_estimators = 250,\n",
    "                              random_state = 0)\n",
    "\n",
    "forest.fit(X_train.drop([\"Age-Binning\"], axis=1), y_train)\n",
    "pred = forest.predict(X_test.drop([\"Age-Binning\"], axis = 1))\n",
    "\n",
    "f1_score(y_test, pred)"
   ]
  },
  {
   "cell_type": "code",
   "execution_count": null,
   "id": "b19d5f11",
   "metadata": {},
   "outputs": [],
   "source": [
    "################################################################################################################################"
   ]
  }
 ],
 "metadata": {
  "kernelspec": {
   "display_name": "Python 3 (ipykernel)",
   "language": "python",
   "name": "python3"
  },
  "language_info": {
   "codemirror_mode": {
    "name": "ipython",
    "version": 3
   },
   "file_extension": ".py",
   "mimetype": "text/x-python",
   "name": "python",
   "nbconvert_exporter": "python",
   "pygments_lexer": "ipython3",
   "version": "3.11.5"
  }
 },
 "nbformat": 4,
 "nbformat_minor": 5
}
