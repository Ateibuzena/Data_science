{
 "cells": [
  {
   "cell_type": "markdown",
   "id": "136d8ea3",
   "metadata": {},
   "source": [
    "## Estadística  Ejercicios"
   ]
  },
  {
   "cell_type": "code",
   "execution_count": 5,
   "id": "7320a211",
   "metadata": {},
   "outputs": [],
   "source": [
    "import numpy as np\n",
    "import pandas as pd\n",
    "import matplotlib.pyplot as plt  #libreria para graficos mas para rectas y funciones\n",
    "import seaborn as sns           #libreria para grafico mas rapido para dataframe\n",
    "\n",
    "import random"
   ]
  },
  {
   "cell_type": "markdown",
   "id": "abba8d0e",
   "metadata": {},
   "source": [
    "plt.figure(): crea cuadricula donde pintar, primero antes de las funciones.\n",
    "\n",
    "los np, linea codigo numpy as np, \n"
   ]
  },
  {
   "cell_type": "markdown",
   "id": "d9ae7ca8",
   "metadata": {},
   "source": [
    "### Ejercicio 01:\n",
    "- Usando el dataset **`FuelConsumptionCo2.csv`** encuentra para cada lista:\n",
    "    - Mínimo, media, mediana, máximo y desviación estandar (usa *numpy*).\n",
    "    - Guarda la información en un diccionario.\n",
    "    - **Define una función que tome como parámetro una lista, calcule esas métricas y retorne la información como diccionario.**"
   ]
  },
  {
   "cell_type": "code",
   "execution_count": 49,
   "id": "53598a22",
   "metadata": {
    "scrolled": true
   },
   "outputs": [],
   "source": [
    "df = pd.read_csv(\"../Actividades/data/FuelConsumptionCo2.csv\")._get_numeric_data()\n",
    "\n",
    "#Creando una lista de cada columna del dataframe\n",
    "model_year = df[\"MODELYEAR\"].tolist()\n",
    "engine_size = df[\"ENGINESIZE\"].tolist()\n",
    "cylinders = df[\"CYLINDERS\"].tolist()\n",
    "fuel_city = df[\"FUELCONSUMPTION_CITY\"].tolist()\n",
    "fuel_hwy = df[\"FUELCONSUMPTION_HWY\"].tolist()\n",
    "fuel_comb = df[\"FUELCONSUMPTION_COMB\"].tolist()\n",
    "co2_emissions = df[\"CO2EMISSIONS\"].tolist()"
   ]
  },
  {
   "cell_type": "code",
   "execution_count": 12,
   "id": "93336051",
   "metadata": {},
   "outputs": [
    {
     "data": {
      "text/html": [
       "<div>\n",
       "<style scoped>\n",
       "    .dataframe tbody tr th:only-of-type {\n",
       "        vertical-align: middle;\n",
       "    }\n",
       "\n",
       "    .dataframe tbody tr th {\n",
       "        vertical-align: top;\n",
       "    }\n",
       "\n",
       "    .dataframe thead th {\n",
       "        text-align: right;\n",
       "    }\n",
       "</style>\n",
       "<table border=\"1\" class=\"dataframe\">\n",
       "  <thead>\n",
       "    <tr style=\"text-align: right;\">\n",
       "      <th></th>\n",
       "      <th>MODELYEAR</th>\n",
       "      <th>ENGINESIZE</th>\n",
       "      <th>CYLINDERS</th>\n",
       "      <th>FUELCONSUMPTION_CITY</th>\n",
       "      <th>FUELCONSUMPTION_HWY</th>\n",
       "      <th>FUELCONSUMPTION_COMB</th>\n",
       "      <th>FUELCONSUMPTION_COMB_MPG</th>\n",
       "      <th>CO2EMISSIONS</th>\n",
       "    </tr>\n",
       "  </thead>\n",
       "  <tbody>\n",
       "    <tr>\n",
       "      <th>0</th>\n",
       "      <td>2014</td>\n",
       "      <td>2.0</td>\n",
       "      <td>4</td>\n",
       "      <td>9.9</td>\n",
       "      <td>6.7</td>\n",
       "      <td>8.5</td>\n",
       "      <td>33</td>\n",
       "      <td>196</td>\n",
       "    </tr>\n",
       "    <tr>\n",
       "      <th>1</th>\n",
       "      <td>2014</td>\n",
       "      <td>2.4</td>\n",
       "      <td>4</td>\n",
       "      <td>11.2</td>\n",
       "      <td>7.7</td>\n",
       "      <td>9.6</td>\n",
       "      <td>29</td>\n",
       "      <td>221</td>\n",
       "    </tr>\n",
       "    <tr>\n",
       "      <th>2</th>\n",
       "      <td>2014</td>\n",
       "      <td>1.5</td>\n",
       "      <td>4</td>\n",
       "      <td>6.0</td>\n",
       "      <td>5.8</td>\n",
       "      <td>5.9</td>\n",
       "      <td>48</td>\n",
       "      <td>136</td>\n",
       "    </tr>\n",
       "    <tr>\n",
       "      <th>3</th>\n",
       "      <td>2014</td>\n",
       "      <td>3.5</td>\n",
       "      <td>6</td>\n",
       "      <td>12.7</td>\n",
       "      <td>9.1</td>\n",
       "      <td>11.1</td>\n",
       "      <td>25</td>\n",
       "      <td>255</td>\n",
       "    </tr>\n",
       "    <tr>\n",
       "      <th>4</th>\n",
       "      <td>2014</td>\n",
       "      <td>3.5</td>\n",
       "      <td>6</td>\n",
       "      <td>12.1</td>\n",
       "      <td>8.7</td>\n",
       "      <td>10.6</td>\n",
       "      <td>27</td>\n",
       "      <td>244</td>\n",
       "    </tr>\n",
       "    <tr>\n",
       "      <th>...</th>\n",
       "      <td>...</td>\n",
       "      <td>...</td>\n",
       "      <td>...</td>\n",
       "      <td>...</td>\n",
       "      <td>...</td>\n",
       "      <td>...</td>\n",
       "      <td>...</td>\n",
       "      <td>...</td>\n",
       "    </tr>\n",
       "    <tr>\n",
       "      <th>1062</th>\n",
       "      <td>2014</td>\n",
       "      <td>3.0</td>\n",
       "      <td>6</td>\n",
       "      <td>13.4</td>\n",
       "      <td>9.8</td>\n",
       "      <td>11.8</td>\n",
       "      <td>24</td>\n",
       "      <td>271</td>\n",
       "    </tr>\n",
       "    <tr>\n",
       "      <th>1063</th>\n",
       "      <td>2014</td>\n",
       "      <td>3.2</td>\n",
       "      <td>6</td>\n",
       "      <td>13.2</td>\n",
       "      <td>9.5</td>\n",
       "      <td>11.5</td>\n",
       "      <td>25</td>\n",
       "      <td>264</td>\n",
       "    </tr>\n",
       "    <tr>\n",
       "      <th>1064</th>\n",
       "      <td>2014</td>\n",
       "      <td>3.0</td>\n",
       "      <td>6</td>\n",
       "      <td>13.4</td>\n",
       "      <td>9.8</td>\n",
       "      <td>11.8</td>\n",
       "      <td>24</td>\n",
       "      <td>271</td>\n",
       "    </tr>\n",
       "    <tr>\n",
       "      <th>1065</th>\n",
       "      <td>2014</td>\n",
       "      <td>3.2</td>\n",
       "      <td>6</td>\n",
       "      <td>12.9</td>\n",
       "      <td>9.3</td>\n",
       "      <td>11.3</td>\n",
       "      <td>25</td>\n",
       "      <td>260</td>\n",
       "    </tr>\n",
       "    <tr>\n",
       "      <th>1066</th>\n",
       "      <td>2014</td>\n",
       "      <td>3.2</td>\n",
       "      <td>6</td>\n",
       "      <td>14.9</td>\n",
       "      <td>10.2</td>\n",
       "      <td>12.8</td>\n",
       "      <td>22</td>\n",
       "      <td>294</td>\n",
       "    </tr>\n",
       "  </tbody>\n",
       "</table>\n",
       "<p>1067 rows × 8 columns</p>\n",
       "</div>"
      ],
      "text/plain": [
       "      MODELYEAR  ENGINESIZE  CYLINDERS  FUELCONSUMPTION_CITY  \\\n",
       "0          2014         2.0          4                   9.9   \n",
       "1          2014         2.4          4                  11.2   \n",
       "2          2014         1.5          4                   6.0   \n",
       "3          2014         3.5          6                  12.7   \n",
       "4          2014         3.5          6                  12.1   \n",
       "...         ...         ...        ...                   ...   \n",
       "1062       2014         3.0          6                  13.4   \n",
       "1063       2014         3.2          6                  13.2   \n",
       "1064       2014         3.0          6                  13.4   \n",
       "1065       2014         3.2          6                  12.9   \n",
       "1066       2014         3.2          6                  14.9   \n",
       "\n",
       "      FUELCONSUMPTION_HWY  FUELCONSUMPTION_COMB  FUELCONSUMPTION_COMB_MPG  \\\n",
       "0                     6.7                   8.5                        33   \n",
       "1                     7.7                   9.6                        29   \n",
       "2                     5.8                   5.9                        48   \n",
       "3                     9.1                  11.1                        25   \n",
       "4                     8.7                  10.6                        27   \n",
       "...                   ...                   ...                       ...   \n",
       "1062                  9.8                  11.8                        24   \n",
       "1063                  9.5                  11.5                        25   \n",
       "1064                  9.8                  11.8                        24   \n",
       "1065                  9.3                  11.3                        25   \n",
       "1066                 10.2                  12.8                        22   \n",
       "\n",
       "      CO2EMISSIONS  \n",
       "0              196  \n",
       "1              221  \n",
       "2              136  \n",
       "3              255  \n",
       "4              244  \n",
       "...            ...  \n",
       "1062           271  \n",
       "1063           264  \n",
       "1064           271  \n",
       "1065           260  \n",
       "1066           294  \n",
       "\n",
       "[1067 rows x 8 columns]"
      ]
     },
     "execution_count": 12,
     "metadata": {},
     "output_type": "execute_result"
    }
   ],
   "source": [
    "df"
   ]
  },
  {
   "cell_type": "markdown",
   "id": "daa23bd1",
   "metadata": {},
   "source": [
    "- Mínimo, media, mediana, máximo y desviación estandar (usa *numpy*)."
   ]
  },
  {
   "cell_type": "markdown",
   "id": "ef9f43d3",
   "metadata": {},
   "source": [
    "medias: Es el número obtenido al dividir la suma de todos los valores de la variable entre el número total de observaciones"
   ]
  },
  {
   "cell_type": "code",
   "execution_count": 20,
   "id": "bd4982b7",
   "metadata": {},
   "outputs": [
    {
     "name": "stdout",
     "output_type": "stream",
     "text": [
      "{'media_model_year': 2014.0, 'media_engine_size': 3.346298031865042, 'media_cylinders': 5.794751640112465, 'media_fuel_city': 13.296532333645736, 'media_fuel_hwy': 9.474601686972822, 'media_fuel_comb': 11.580880974695408, 'media_co2_emissions': 256.2286785379569}\n"
     ]
    }
   ],
   "source": [
    "media_model_year = np.mean(model_year)\n",
    "media_engine_size = np.mean(engine_size)\n",
    "media_cylinders = np.mean(cylinders)\n",
    "media_fuel_city = np.mean(fuel_city)\n",
    "media_fuel_hwy = np.mean(fuel_hwy)\n",
    "media_fuel_comb = np.mean(fuel_comb)\n",
    "media_co2_emissions = np.mean(co2_emissions)\n",
    "\n",
    "lista_medias = [media_model_year, media_engine_size, media_cylinders, media_fuel_city, media_fuel_hwy, media_fuel_comb, media_co2_emissions]\n",
    "lista_nombres_medias = [\"media_model_year\", \"media_engine_size\", \"media_cylinders\", \"media_fuel_city\", \"media_fuel_hwy\", \"media_fuel_comb\", \"media_co2_emissions\"]\n",
    "\n",
    "diccionario_medias = {}\n",
    "for nombres, medias in zip(lista_nombres_medias, lista_medias):\n",
    "    diccionario_medias[nombres] = medias\n",
    "\n",
    "print(diccionario_medias)\n"
   ]
  },
  {
   "cell_type": "markdown",
   "id": "a6559bd7",
   "metadata": {},
   "source": [
    "También podemos encontrar la media aritmética de un grupo de cosas."
   ]
  },
  {
   "cell_type": "code",
   "execution_count": 26,
   "id": "7f8aff1a",
   "metadata": {},
   "outputs": [
    {
     "name": "stdout",
     "output_type": "stream",
     "text": [
      "330.53167760074973\n"
     ]
    }
   ],
   "source": [
    "#creamos una lista de las listas anteriores:\n",
    "lista_listas = [model_year, engine_size, cylinders, fuel_city, fuel_hwy, fuel_comb, co2_emissions]\n",
    "#calculamos la media del grupo de listas (creo que calculará la media de cada lista y luego la media de todas las medias):\n",
    "medias = np.mean(np.array(lista_listas))\n",
    "\n",
    "print(medias)"
   ]
  },
  {
   "cell_type": "markdown",
   "id": "d2d58fbc",
   "metadata": {},
   "source": [
    "medianas: La mediana es un concepto estadístico que se refiere al valor que ocupa el lugar central en un conjunto de datos cuando estos están ordenados de menor a mayor o de mayor a menor. En otras palabras, es el valor que divide a la muestra en dos partes iguales.\n",
    "\n",
    "Para calcular la mediana, sigue estos pasos:\n",
    "\n",
    "Ordena los datos: Primero, coloca los datos en orden ascendente o descendente.\n",
    "\n",
    "Identifica el valor central: Si hay un número impar de datos, la mediana es el valor que se encuentra exactamente en el medio de la lista. Si hay un número par de datos, la mediana es el promedio de los dos valores centrales.\n",
    "\n",
    "Por ejemplo, si tienes el conjunto de datos: 3, 5, 1, 2, 4, 6, la mediana sería 3, ya que es el valor que se encuentra en el medio.\n",
    "\n",
    "Si el conjunto de datos es: 2, 4, 6, 8, entonces la mediana sería el promedio de los dos valores centrales, que es (4 + 6) / 2 = 5.\n",
    "\n",
    "La mediana es útil porque no se ve afectada por valores extremos (outliers) en el conjunto de datos, a diferencia de la media aritmética.\n",
    "\n",
    "Es importante mencionar que la mediana es solo una medida de tendencia central y no proporciona información sobre la dispersión de los datos. Para obtener una comprensión completa de la distribución de los datos, también es útil considerar otras medidas estadísticas como la media, la moda, y medidas de dispersión como la varianza o la desviación estándar.\n",
    "\n",
    "\n",
    "\n",
    "\n",
    "\n",
    "\n",
    "\n",
    "$M_E = x_{(k)}$ Para $n$ impar.\n",
    "\n",
    "\n",
    "$M_E = \\frac{ x_{(k)}+ x_{(k+1)}}{2}$ Para $n$ par."
   ]
  },
  {
   "cell_type": "code",
   "execution_count": 25,
   "id": "9a3793dd",
   "metadata": {},
   "outputs": [
    {
     "name": "stdout",
     "output_type": "stream",
     "text": [
      "{'mediana_model_year': 2014.0, 'mediana_engine_size': 3.4, 'mediana_cylinders': 6.0, 'mediana_fuel_city': 12.6, 'mediana_fuel_hwy': 8.8, 'mediana_fuel_comb': 10.9, 'mediana_co2_emissions': 251.0}\n"
     ]
    }
   ],
   "source": [
    "#Calculando la mediana de cada columna del dataframe\n",
    "\n",
    "mediana_model_year = np.median(model_year)\n",
    "mediana_engine_size = np.median(engine_size)\n",
    "mediana_cylinders = np.median(cylinders)\n",
    "mediana_fuel_city = np.median(fuel_city)\n",
    "mediana_fuel_hwy = np.median(fuel_hwy)\n",
    "mediana_fuel_comb = np.median(fuel_comb)\n",
    "mediana_co2_emissions = np.median(co2_emissions)\n",
    "\n",
    "lista_medianas = [mediana_model_year, mediana_engine_size, mediana_cylinders, mediana_fuel_city, mediana_fuel_hwy, mediana_fuel_comb, mediana_co2_emissions]\n",
    "lista_nombres_medianas = [\"mediana_model_year\", \"mediana_engine_size\", \"mediana_cylinders\", \"mediana_fuel_city\", \"mediana_fuel_hwy\", \"mediana_fuel_comb\", \"mediana_co2_emissions\"]\n",
    "\n",
    "diccionario_medianas = {}\n",
    "for nombres, medianas in zip(lista_nombres_medianas, lista_medianas):\n",
    "    diccionario_medianas[nombres] = medianas\n",
    "\n",
    "print(diccionario_medianas)"
   ]
  },
  {
   "cell_type": "code",
   "execution_count": 28,
   "id": "19a1c1cf",
   "metadata": {},
   "outputs": [
    {
     "name": "stdout",
     "output_type": "stream",
     "text": [
      "10.7\n"
     ]
    }
   ],
   "source": [
    "#creamos una lista de las listas anteriores:\n",
    "lista_listas = [model_year, engine_size, cylinders, fuel_city, fuel_hwy, fuel_comb, co2_emissions]\n",
    "#calculamos la mediana de todas las filas del dataframe (creo que calculará la mediana de cada lista y luego la media de todas las medias):\n",
    "medianas = np.median(np.array(lista_listas))\n",
    "\n",
    "print(medianas)"
   ]
  },
  {
   "cell_type": "markdown",
   "id": "bbaa465a",
   "metadata": {},
   "source": [
    "moda: La moda es el valor de la variable que más veces se repite, y en consecuencia en una distribución de frecuencias es el valor de variable que viene afectada por la máxima frecuencia de la distribución. \n",
    "\n",
    "necesario: from scipy import stats"
   ]
  },
  {
   "cell_type": "code",
   "execution_count": 32,
   "id": "f4968122",
   "metadata": {},
   "outputs": [],
   "source": [
    "from scipy import stats"
   ]
  },
  {
   "cell_type": "code",
   "execution_count": 36,
   "id": "eb16f2fc",
   "metadata": {},
   "outputs": [
    {
     "name": "stdout",
     "output_type": "stream",
     "text": [
      "{'moda_model_year': ModeResult(mode=2014, count=1067), 'moda_engine_size': ModeResult(mode=2.0, count=158), 'moda_cylinders': ModeResult(mode=4, count=420), 'moda_fuel_city': ModeResult(mode=13.7, count=20), 'moda_fuel_hwy': ModeResult(mode=8.6, count=30), 'moda_fuel_comb': ModeResult(mode=8.5, count=21), 'moda_co2_emissions': ModeResult(mode=294, count=25)}\n"
     ]
    }
   ],
   "source": [
    "#Calculando las modas de cada columna del dataframe\n",
    "\n",
    "moda_model_year = stats.mode(np.array(model_year))\n",
    "moda_engine_size = stats.mode(np.array(engine_size))\n",
    "moda_cylinders = stats.mode(np.array(cylinders))\n",
    "moda_fuel_city = stats.mode(np.array(fuel_city))\n",
    "moda_fuel_hwy = stats.mode(np.array(fuel_hwy))\n",
    "moda_fuel_comb = stats.mode(np.array(fuel_comb))\n",
    "moda_co2_emissions = stats.mode(np.array(co2_emissions))\n",
    "\n",
    "lista_modas = [moda_model_year, moda_engine_size, moda_cylinders, moda_fuel_city, moda_fuel_hwy, moda_fuel_comb, moda_co2_emissions]\n",
    "lista_nombres = [\"moda_model_year\", \"moda_engine_size\", \"moda_cylinders\", \"moda_fuel_city\", \"moda_fuel_hwy\", \"moda_fuel_comb\", \"moda_co2_emissions\"]\n",
    "\n",
    "diccionario_modas = {}\n",
    "for nombres, modas in zip(lista_nombres, lista_modas):\n",
    "    diccionario_modas[nombres] = modas\n",
    "\n",
    "print(diccionario_modas)"
   ]
  },
  {
   "cell_type": "markdown",
   "id": "90267829",
   "metadata": {},
   "source": [
    "EJERCICIO 01 FACILMENTE:"
   ]
  },
  {
   "cell_type": "code",
   "execution_count": 101,
   "id": "4150f4d6",
   "metadata": {},
   "outputs": [],
   "source": [
    "def estadisticas(lista_columna):\n",
    "    \n",
    "    minimo = np.min(lista_columna)\n",
    "    media = np.mean(lista_columna)\n",
    "    mediana = np.median(lista_columna)\n",
    "    maximo = np.max(lista_columna)\n",
    "    desv = np.std(lista_columna)\n",
    "    \n",
    "    \n",
    "    dict_lista_columna = {\"min\" : minimo, \"mean\" : media, \"median\" : mediana, \"max\" : maximo, \"std\" : desv}\n",
    "    \n",
    "    return dict_lista_columna"
   ]
  },
  {
   "cell_type": "code",
   "execution_count": 110,
   "id": "3e7da130",
   "metadata": {},
   "outputs": [
    {
     "name": "stdout",
     "output_type": "stream",
     "text": [
      "{'moda_model_year': {'min': 2014, 'mean': 2014.0, 'median': 2014.0, 'max': 2014, 'std': 0.0}, 'moda_engine_size': {'min': 1.0, 'mean': 3.346298031865042, 'median': 3.4, 'max': 8.4, 'std': 1.4152314024298263}, 'moda_cylinders': {'min': 3, 'mean': 5.794751640112465, 'median': 6.0, 'max': 12, 'std': 1.7966047874038484}, 'moda_fuel_city': {'min': 4.6, 'mean': 13.296532333645736, 'median': 12.6, 'max': 30.2, 'std': 4.099331004651009}, 'moda_fuel_hwy': {'min': 4.9, 'mean': 9.474601686972822, 'median': 8.8, 'max': 20.5, 'std': 2.793200625370099}, 'moda_fuel_comb': {'min': 4.7, 'mean': 11.580880974695408, 'median': 10.9, 'max': 25.8, 'std': 3.483961104595647}, 'moda_co2_emissions': {'min': 108, 'mean': 256.2286785379569, 'median': 251.0, 'max': 488, 'std': 63.34260099404252}}\n"
     ]
    }
   ],
   "source": [
    "columnas = [model_year, engine_size, cylinders, fuel_city, fuel_hwy, fuel_comb, co2_emissions]\n",
    "lista_nombres = [\"moda_model_year\", \"moda_engine_size\", \"moda_cylinders\", \"moda_fuel_city\", \"moda_fuel_hwy\", \"moda_fuel_comb\", \"moda_co2_emissions\"]\n",
    "diccionario_columnas = {}\n",
    "for lista_columna, nombre in zip(columnas, lista_nombres):\n",
    "    diccionario_columnas[nombre] = estadisticas(lista_columna)\n",
    "print(diccionario_columnas)"
   ]
  },
  {
   "cell_type": "markdown",
   "id": "43b83070",
   "metadata": {},
   "source": [
    "### Ejercicio 02:\n",
    "- Elige una lista y toma 50 elementos aleatorios y calcula las estadísticas para ese nuevo conjunto de datos.\n",
    "    - ¿Son similares estos resultados a los obtenidos de la población total?"
   ]
  },
  {
   "cell_type": "markdown",
   "id": "b34e7851",
   "metadata": {},
   "source": [
    "NO DA RESULTADO SIMILARES"
   ]
  },
  {
   "cell_type": "code",
   "execution_count": 58,
   "id": "9d6d5062",
   "metadata": {},
   "outputs": [
    {
     "name": "stdout",
     "output_type": "stream",
     "text": [
      "[[3.0, 3.6, 2.0, 1.4, 2.4, 5.4, 2.0, 5.3, 3.5, 3.2, 6.8, 3.0, 6.6, 5.0, 1.4, 3.0, 5.0, 5.3, 2.5, 6.4, 3.0, 6.2, 5.3, 2.0, 3.5, 3.6, 3.6, 3.7, 4.4, 2.5, 3.6, 1.4, 3.8, 1.8, 2.0, 3.6, 3.0, 2.0, 4.0, 2.7, 3.7, 3.0, 2.0, 3.5, 2.0, 2.0, 2.0, 4.4, 1.4, 6.0]]\n"
     ]
    }
   ],
   "source": [
    "lista = []\n",
    "\n",
    "lista.append(random.sample(engine_size, 50))\n",
    "\n",
    "print(lista)"
   ]
  },
  {
   "cell_type": "code",
   "execution_count": 102,
   "id": "d4f15b0d",
   "metadata": {},
   "outputs": [
    {
     "data": {
      "text/plain": [
       "{'min': 1.4,\n",
       " 'mean': 3.45,\n",
       " 'median': 3.35,\n",
       " 'max': 6.8,\n",
       " 'std': 1.4728543716199507}"
      ]
     },
     "execution_count": 102,
     "metadata": {},
     "output_type": "execute_result"
    }
   ],
   "source": [
    "estadisticas(lista)"
   ]
  },
  {
   "cell_type": "markdown",
   "id": "9e6aec89",
   "metadata": {},
   "source": [
    "### Ejercicio 03:\n",
    "- Repite el ejercicio anterior, esta vez creando 10 conjuntos de 50 elementos aleatorios.\n",
    "    - Calcula las estadísticas para cada conjunto de 50 elementos, guarda estos datos.\n",
    "    - Calcula las estadísticas de los resultados anteriores. (Teorema del limite central)\n",
    "    - ¿Son similares estos datos con los obtenidos de la población total?\n",
    "    - Prueba con todas las listas usando un bucle."
   ]
  },
  {
   "cell_type": "code",
   "execution_count": 74,
   "id": "d8da7d8b",
   "metadata": {},
   "outputs": [],
   "source": [
    "def crear_conjunto_50(columna):\n",
    "    conjunto = list(random.sample(columna, 50))\n",
    "\n",
    "    return conjunto"
   ]
  },
  {
   "cell_type": "code",
   "execution_count": 87,
   "id": "abf3e30d",
   "metadata": {},
   "outputs": [],
   "source": [
    "conjuntos_50 = [crear_conjunto_50(columna) for columna in lista_listas]"
   ]
  },
  {
   "cell_type": "code",
   "execution_count": 115,
   "id": "ead9b731",
   "metadata": {},
   "outputs": [
    {
     "data": {
      "text/plain": [
       "[[2014,\n",
       "  2014,\n",
       "  2014,\n",
       "  2014,\n",
       "  2014,\n",
       "  2014,\n",
       "  2014,\n",
       "  2014,\n",
       "  2014,\n",
       "  2014,\n",
       "  2014,\n",
       "  2014,\n",
       "  2014,\n",
       "  2014,\n",
       "  2014,\n",
       "  2014,\n",
       "  2014,\n",
       "  2014,\n",
       "  2014,\n",
       "  2014,\n",
       "  2014,\n",
       "  2014,\n",
       "  2014,\n",
       "  2014,\n",
       "  2014,\n",
       "  2014,\n",
       "  2014,\n",
       "  2014,\n",
       "  2014,\n",
       "  2014,\n",
       "  2014,\n",
       "  2014,\n",
       "  2014,\n",
       "  2014,\n",
       "  2014,\n",
       "  2014,\n",
       "  2014,\n",
       "  2014,\n",
       "  2014,\n",
       "  2014,\n",
       "  2014,\n",
       "  2014,\n",
       "  2014,\n",
       "  2014,\n",
       "  2014,\n",
       "  2014,\n",
       "  2014,\n",
       "  2014,\n",
       "  2014,\n",
       "  2014],\n",
       " [3.0,\n",
       "  3.6,\n",
       "  4.2,\n",
       "  4.3,\n",
       "  4.4,\n",
       "  2.4,\n",
       "  2.5,\n",
       "  5.3,\n",
       "  3.7,\n",
       "  3.5,\n",
       "  4.8,\n",
       "  2.7,\n",
       "  5.6,\n",
       "  2.0,\n",
       "  3.6,\n",
       "  2.0,\n",
       "  3.0,\n",
       "  3.6,\n",
       "  1.6,\n",
       "  2.0,\n",
       "  5.0,\n",
       "  5.0,\n",
       "  3.0,\n",
       "  1.6,\n",
       "  2.5,\n",
       "  5.3,\n",
       "  2.0,\n",
       "  2.0,\n",
       "  3.5,\n",
       "  4.0,\n",
       "  2.5,\n",
       "  3.6,\n",
       "  3.6,\n",
       "  5.9,\n",
       "  6.8,\n",
       "  3.5,\n",
       "  2.0,\n",
       "  2.0,\n",
       "  5.8,\n",
       "  3.5,\n",
       "  5.3,\n",
       "  3.2,\n",
       "  2.5,\n",
       "  3.6,\n",
       "  6.2,\n",
       "  5.3,\n",
       "  4.0,\n",
       "  3.0,\n",
       "  3.6,\n",
       "  2.0],\n",
       " [4,\n",
       "  5,\n",
       "  8,\n",
       "  6,\n",
       "  6,\n",
       "  4,\n",
       "  4,\n",
       "  8,\n",
       "  6,\n",
       "  8,\n",
       "  6,\n",
       "  10,\n",
       "  6,\n",
       "  4,\n",
       "  8,\n",
       "  6,\n",
       "  6,\n",
       "  6,\n",
       "  4,\n",
       "  6,\n",
       "  5,\n",
       "  4,\n",
       "  8,\n",
       "  6,\n",
       "  4,\n",
       "  6,\n",
       "  4,\n",
       "  4,\n",
       "  4,\n",
       "  6,\n",
       "  6,\n",
       "  4,\n",
       "  6,\n",
       "  6,\n",
       "  4,\n",
       "  4,\n",
       "  4,\n",
       "  4,\n",
       "  8,\n",
       "  6,\n",
       "  8,\n",
       "  6,\n",
       "  8,\n",
       "  4,\n",
       "  6,\n",
       "  8,\n",
       "  8,\n",
       "  4,\n",
       "  4,\n",
       "  8],\n",
       " [20.0,\n",
       "  7.9,\n",
       "  12.5,\n",
       "  10.9,\n",
       "  19.1,\n",
       "  13.1,\n",
       "  10.6,\n",
       "  20.0,\n",
       "  10.9,\n",
       "  13.2,\n",
       "  15.8,\n",
       "  11.3,\n",
       "  9.4,\n",
       "  13.2,\n",
       "  11.9,\n",
       "  9.9,\n",
       "  20.0,\n",
       "  8.0,\n",
       "  11.5,\n",
       "  10.5,\n",
       "  7.5,\n",
       "  8.7,\n",
       "  12.9,\n",
       "  13.1,\n",
       "  10.4,\n",
       "  7.0,\n",
       "  9.6,\n",
       "  6.6,\n",
       "  12.2,\n",
       "  21.3,\n",
       "  9.2,\n",
       "  9.8,\n",
       "  10.9,\n",
       "  11.9,\n",
       "  9.0,\n",
       "  12.2,\n",
       "  9.8,\n",
       "  12.3,\n",
       "  20.1,\n",
       "  11.8,\n",
       "  9.9,\n",
       "  11.1,\n",
       "  9.9,\n",
       "  18.3,\n",
       "  11.3,\n",
       "  12.9,\n",
       "  10.9,\n",
       "  15.7,\n",
       "  10.4,\n",
       "  17.0],\n",
       " [6.3,\n",
       "  9.4,\n",
       "  12.2,\n",
       "  13.9,\n",
       "  6.2,\n",
       "  8.4,\n",
       "  9.9,\n",
       "  10.1,\n",
       "  7.5,\n",
       "  11.3,\n",
       "  7.7,\n",
       "  18.8,\n",
       "  10.6,\n",
       "  11.3,\n",
       "  8.5,\n",
       "  6.4,\n",
       "  15.0,\n",
       "  9.9,\n",
       "  9.6,\n",
       "  7.5,\n",
       "  8.7,\n",
       "  8.7,\n",
       "  8.7,\n",
       "  9.6,\n",
       "  18.5,\n",
       "  9.8,\n",
       "  10.9,\n",
       "  9.8,\n",
       "  9.9,\n",
       "  15.0,\n",
       "  6.7,\n",
       "  8.3,\n",
       "  8.6,\n",
       "  8.4,\n",
       "  14.2,\n",
       "  6.3,\n",
       "  12.7,\n",
       "  12.0,\n",
       "  7.4,\n",
       "  9.9,\n",
       "  10.6,\n",
       "  6.7,\n",
       "  7.9,\n",
       "  8.6,\n",
       "  7.5,\n",
       "  6.1,\n",
       "  12.6,\n",
       "  10.3,\n",
       "  7.9,\n",
       "  7.6],\n",
       " [14.8,\n",
       "  10.6,\n",
       "  13.3,\n",
       "  9.7,\n",
       "  11.5,\n",
       "  10.5,\n",
       "  16.7,\n",
       "  6.6,\n",
       "  9.6,\n",
       "  17.0,\n",
       "  17.3,\n",
       "  11.8,\n",
       "  7.8,\n",
       "  11.6,\n",
       "  10.0,\n",
       "  16.8,\n",
       "  7.3,\n",
       "  8.4,\n",
       "  13.8,\n",
       "  8.8,\n",
       "  11.0,\n",
       "  12.5,\n",
       "  17.8,\n",
       "  9.8,\n",
       "  9.8,\n",
       "  16.8,\n",
       "  9.8,\n",
       "  13.1,\n",
       "  7.3,\n",
       "  11.3,\n",
       "  10.1,\n",
       "  16.1,\n",
       "  13.8,\n",
       "  9.8,\n",
       "  10.4,\n",
       "  8.4,\n",
       "  13.8,\n",
       "  10.7,\n",
       "  10.0,\n",
       "  8.6,\n",
       "  9.7,\n",
       "  9.6,\n",
       "  10.0,\n",
       "  8.5,\n",
       "  12.8,\n",
       "  12.9,\n",
       "  12.6,\n",
       "  7.7,\n",
       "  7.9,\n",
       "  10.2],\n",
       " [237,\n",
       "  366,\n",
       "  262,\n",
       "  244,\n",
       "  362,\n",
       "  235,\n",
       "  230,\n",
       "  281,\n",
       "  198,\n",
       "  285,\n",
       "  347,\n",
       "  230,\n",
       "  224,\n",
       "  223,\n",
       "  380,\n",
       "  179,\n",
       "  184,\n",
       "  281,\n",
       "  230,\n",
       "  267,\n",
       "  209,\n",
       "  223,\n",
       "  255,\n",
       "  377,\n",
       "  214,\n",
       "  281,\n",
       "  126,\n",
       "  260,\n",
       "  274,\n",
       "  223,\n",
       "  216,\n",
       "  304,\n",
       "  262,\n",
       "  271,\n",
       "  301,\n",
       "  248,\n",
       "  207,\n",
       "  235,\n",
       "  244,\n",
       "  354,\n",
       "  306,\n",
       "  209,\n",
       "  250,\n",
       "  207,\n",
       "  216,\n",
       "  414,\n",
       "  244,\n",
       "  200,\n",
       "  207,\n",
       "  380]]"
      ]
     },
     "execution_count": 115,
     "metadata": {},
     "output_type": "execute_result"
    }
   ],
   "source": [
    "conjuntos_50"
   ]
  },
  {
   "cell_type": "markdown",
   "id": "84c0dafd",
   "metadata": {},
   "source": [
    "El Teorema de limite central establece que, si tenemos suficientes muestras diferentes de una población, la distribución de sus medias seguirá una **distribución normal**. A la distribución de medias se le conoce como **distribución de medias muestrales**.\n",
    "\n",
    "Además de que la media de las medias muestrales se aproximará más aún a la media de la población. Todo esto se puede inferir sin saber cual es la población."
   ]
  },
  {
   "cell_type": "code",
   "execution_count": 103,
   "id": "2687dcd0",
   "metadata": {},
   "outputs": [],
   "source": [
    "estadistica_conjuntos = [estadisticas(conjunto) for conjunto in conjuntos_50]"
   ]
  },
  {
   "cell_type": "code",
   "execution_count": 105,
   "id": "281e60f9",
   "metadata": {},
   "outputs": [
    {
     "data": {
      "image/png": "[encoded data removed]",
      "text/plain": [
       "<Figure size 640x480 with 1 Axes>"
      ]
     },
     "metadata": {},
     "output_type": "display_data"
    }
   ],
   "source": [
    "sns.kdeplot(estadistica_conjuntos)\n",
    "plt.xlim(-50, 50)\n",
    "plt.show()"
   ]
  },
  {
   "cell_type": "markdown",
   "id": "18d4e594",
   "metadata": {},
   "source": [
    "VOY A COMPARAR EL DICCIONARIO DE ESTADISTICAS DONDE LAS COLUMNAS TIENEN TODOS SUS DATOS, CON UN DICCIONARIO NUEVO DONDE LAS COLUMNAS SOLO TIENEN 50 ELEMENTOS"
   ]
  },
  {
   "cell_type": "code",
   "execution_count": 69,
   "id": "343e514f",
   "metadata": {},
   "outputs": [],
   "source": [
    "lista_listas = [model_year, engine_size, cylinders, fuel_city, fuel_hwy, fuel_comb, co2_emissions]"
   ]
  },
  {
   "cell_type": "code",
   "execution_count": 116,
   "id": "3a57c2a1",
   "metadata": {},
   "outputs": [],
   "source": [
    "diccionario_conjuntos_50 = {}\n",
    "for nombre, datos in zip(lista_nombres, estadistica_conjuntos):\n",
    "    diccionario_conjuntos_50[nombre] = datos"
   ]
  },
  {
   "cell_type": "code",
   "execution_count": 122,
   "id": "9ad43164",
   "metadata": {},
   "outputs": [
    {
     "data": {
      "text/plain": [
       "{'moda_model_year': {'min': 2014,\n",
       "  'mean': 2014.0,\n",
       "  'median': 2014.0,\n",
       "  'max': 2014,\n",
       "  'std': 0.0},\n",
       " 'moda_engine_size': {'min': 1.6,\n",
       "  'mean': 3.592,\n",
       "  'median': 3.55,\n",
       "  'max': 6.8,\n",
       "  'std': 1.319672686691666},\n",
       " 'moda_cylinders': {'min': 4,\n",
       "  'mean': 5.76,\n",
       "  'median': 6.0,\n",
       "  'max': 10,\n",
       "  'std': 1.619382598399773},\n",
       " 'moda_fuel_city': {'min': 6.6,\n",
       "  'mean': 12.267999999999999,\n",
       "  'median': 11.3,\n",
       "  'max': 21.3,\n",
       "  'std': 3.681653976136269},\n",
       " 'moda_fuel_hwy': {'min': 6.1,\n",
       "  'mean': 9.808,\n",
       "  'median': 9.5,\n",
       "  'max': 18.8,\n",
       "  'std': 2.8837364650744353},\n",
       " 'moda_fuel_comb': {'min': 6.6,\n",
       "  'mean': 11.334000000000001,\n",
       "  'median': 10.45,\n",
       "  'max': 17.8,\n",
       "  'std': 2.9292053529925144},\n",
       " 'moda_co2_emissions': {'min': 126,\n",
       "  'mean': 259.24,\n",
       "  'median': 244.0,\n",
       "  'max': 414,\n",
       "  'std': 60.09145030701123}}"
      ]
     },
     "execution_count": 122,
     "metadata": {},
     "output_type": "execute_result"
    }
   ],
   "source": [
    "diccionario_conjuntos_50"
   ]
  },
  {
   "cell_type": "code",
   "execution_count": 124,
   "id": "c63f3c23",
   "metadata": {},
   "outputs": [
    {
     "data": {
      "text/plain": [
       "{'moda_model_year': {'min': 2014,\n",
       "  'mean': 2014.0,\n",
       "  'median': 2014.0,\n",
       "  'max': 2014,\n",
       "  'std': 0.0},\n",
       " 'moda_engine_size': {'min': 1.0,\n",
       "  'mean': 3.346298031865042,\n",
       "  'median': 3.4,\n",
       "  'max': 8.4,\n",
       "  'std': 1.4152314024298263},\n",
       " 'moda_cylinders': {'min': 3,\n",
       "  'mean': 5.794751640112465,\n",
       "  'median': 6.0,\n",
       "  'max': 12,\n",
       "  'std': 1.7966047874038484},\n",
       " 'moda_fuel_city': {'min': 4.6,\n",
       "  'mean': 13.296532333645736,\n",
       "  'median': 12.6,\n",
       "  'max': 30.2,\n",
       "  'std': 4.099331004651009},\n",
       " 'moda_fuel_hwy': {'min': 4.9,\n",
       "  'mean': 9.474601686972822,\n",
       "  'median': 8.8,\n",
       "  'max': 20.5,\n",
       "  'std': 2.793200625370099},\n",
       " 'moda_fuel_comb': {'min': 4.7,\n",
       "  'mean': 11.580880974695408,\n",
       "  'median': 10.9,\n",
       "  'max': 25.8,\n",
       "  'std': 3.483961104595647},\n",
       " 'moda_co2_emissions': {'min': 108,\n",
       "  'mean': 256.2286785379569,\n",
       "  'median': 251.0,\n",
       "  'max': 488,\n",
       "  'std': 63.34260099404252}}"
      ]
     },
     "execution_count": 124,
     "metadata": {},
     "output_type": "execute_result"
    }
   ],
   "source": [
    "diccionario_columnas"
   ]
  },
  {
   "cell_type": "code",
   "execution_count": 123,
   "id": "89cc3f8d",
   "metadata": {},
   "outputs": [
    {
     "name": "stdout",
     "output_type": "stream",
     "text": [
      "True\n",
      "False\n",
      "False\n",
      "False\n",
      "False\n",
      "False\n",
      "False\n"
     ]
    }
   ],
   "source": [
    "for i, j in zip(diccionario_conjuntos_50, diccionario_columnas):\n",
    "    if diccionario_conjuntos_50[i] == diccionario_columnas[j]:\n",
    "        print(True)\n",
    "    else:\n",
    "        print(False)\n"
   ]
  },
  {
   "cell_type": "markdown",
   "id": "7cb3cb09",
   "metadata": {},
   "source": [
    "COMO PODEMOS COMPROBAR LAS ESTADISTICAS CAMBIAN"
   ]
  },
  {
   "cell_type": "markdown",
   "id": "92312187",
   "metadata": {},
   "source": [
    "### Ejercicio 04:\n",
    "- Estandariza los datos de cada lista usando la siguiente formula:\n",
    "\n",
    "$$\n",
    "    \\frac{x_{i} - mean(x)}{std(x)}\n",
    "$$"
   ]
  },
  {
   "cell_type": "code",
   "execution_count": null,
   "id": "2c20293e",
   "metadata": {},
   "outputs": [],
   "source": []
  },
  {
   "cell_type": "code",
   "execution_count": null,
   "id": "e27c2a4b",
   "metadata": {},
   "outputs": [],
   "source": []
  },
  {
   "cell_type": "code",
   "execution_count": null,
   "id": "08f390b7",
   "metadata": {},
   "outputs": [],
   "source": []
  },
  {
   "cell_type": "markdown",
   "id": "84222de0",
   "metadata": {},
   "source": [
    "### Ejercicio 05:\n",
    "- Usa la siguiente función **`plot_kde()`** para mostrar la gráfica de cada lista.\n",
    "    - Encuentra valores atípicos viendo la gráfica.\n",
    "    - Usa **np.quantile()** y bucles para acotar los datos para cada lista con outliers, guarda estos resultados en nuevas listas.\n",
    "    - Vuelve a graficar los datos sin outliers."
   ]
  },
  {
   "cell_type": "code",
   "execution_count": null,
   "id": "dd7b6568",
   "metadata": {},
   "outputs": [],
   "source": [
    "def plot_kde(datos):\n",
    "    \n",
    "    sns.kdeplot(datos, color = \"blue\")\n",
    "    plt.show()"
   ]
  },
  {
   "cell_type": "code",
   "execution_count": null,
   "id": "2cca4a3c",
   "metadata": {},
   "outputs": [],
   "source": [
    "plot_kde(engine_size)"
   ]
  },
  {
   "cell_type": "code",
   "execution_count": null,
   "id": "122ff141",
   "metadata": {},
   "outputs": [],
   "source": []
  },
  {
   "cell_type": "code",
   "execution_count": null,
   "id": "ad606fbc",
   "metadata": {},
   "outputs": [],
   "source": []
  },
  {
   "cell_type": "code",
   "execution_count": null,
   "id": "b3e1a17a",
   "metadata": {},
   "outputs": [],
   "source": []
  },
  {
   "cell_type": "markdown",
   "id": "18fbbe24",
   "metadata": {},
   "source": [
    "### Ejercicio 06:\n",
    "- Calcula la correlación entre cada lista (usa las listas originales).\n",
    "    - ¿Cuales columnas están mas correlacionadas?\n",
    "    \n",
    "- Llena una matriz con esas correlaciones y usa la función **`heat_map()`** para ver la gráfica de las correlaciones."
   ]
  },
  {
   "cell_type": "code",
   "execution_count": null,
   "id": "ff824254",
   "metadata": {},
   "outputs": [],
   "source": [
    "from scipy.stats import pearsonr # Correlación de Pearson\n",
    "\n",
    "def heat_map(matriz):\n",
    "    \n",
    "    plt.figure(figsize = (15, 10))\n",
    "    \n",
    "    sns.heatmap(matriz, annot = True)\n",
    "    plt.show()"
   ]
  },
  {
   "cell_type": "code",
   "execution_count": null,
   "id": "4f386b8a",
   "metadata": {},
   "outputs": [],
   "source": [
    "lista1 = [random.random() for i in range(1000)]\n",
    "lista2 = [random.randint(1000, 2000) for i in range(1000)]\n",
    "\n",
    "corr = pearsonr(lista1, lista2)[0]\n",
    "\n",
    "print(corr)"
   ]
  },
  {
   "cell_type": "code",
   "execution_count": null,
   "id": "29271f05",
   "metadata": {},
   "outputs": [],
   "source": []
  },
  {
   "cell_type": "code",
   "execution_count": null,
   "id": "ad22553f",
   "metadata": {},
   "outputs": [],
   "source": []
  },
  {
   "cell_type": "code",
   "execution_count": null,
   "id": "35711da1",
   "metadata": {},
   "outputs": [],
   "source": []
  },
  {
   "cell_type": "markdown",
   "id": "2f1e0b66",
   "metadata": {},
   "source": [
    "### Ejercicio 07:\n",
    "- Une todas las listas en una matriz.\n",
    "- Define una función que calcule la distancia entre 2 puntos de **n-dimensiones**.\n",
    "- Calcula la distancia entre el primer punto y todos los demás, guardalo en una lista llamada **`distancias`**.\n",
    "- Usa el código para mostrar los puntos."
   ]
  },
  {
   "cell_type": "code",
   "execution_count": null,
   "id": "74021bc9",
   "metadata": {},
   "outputs": [],
   "source": []
  },
  {
   "cell_type": "code",
   "execution_count": null,
   "id": "6365a59a",
   "metadata": {},
   "outputs": [],
   "source": []
  },
  {
   "cell_type": "code",
   "execution_count": null,
   "id": "0aefb1b9",
   "metadata": {},
   "outputs": [],
   "source": []
  },
  {
   "cell_type": "code",
   "execution_count": null,
   "id": "74a4c140",
   "metadata": {},
   "outputs": [],
   "source": [
    "plt.plot(distancias, marker = \"*\", linestyle = \"\", alpha = 0.5)\n",
    "plt.show()"
   ]
  },
  {
   "cell_type": "code",
   "execution_count": null,
   "id": "8efa5c5d",
   "metadata": {},
   "outputs": [],
   "source": [
    "################################################################################################################################"
   ]
  }
 ],
 "metadata": {
  "kernelspec": {
   "display_name": "Python 3 (ipykernel)",
   "language": "python",
   "name": "python3"
  },
  "language_info": {
   "codemirror_mode": {
    "name": "ipython",
    "version": 3
   },
   "file_extension": ".py",
   "mimetype": "text/x-python",
   "name": "python",
   "nbconvert_exporter": "python",
   "pygments_lexer": "ipython3",
   "version": "3.11.0"
  }
 },
 "nbformat": 4,
 "nbformat_minor": 5
}
