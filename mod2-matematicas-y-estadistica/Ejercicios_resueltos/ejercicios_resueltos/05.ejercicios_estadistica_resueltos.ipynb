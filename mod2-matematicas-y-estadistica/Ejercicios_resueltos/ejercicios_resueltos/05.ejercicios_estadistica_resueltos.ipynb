{
 "cells": [
  {
   "cell_type": "markdown",
   "id": "136d8ea3",
   "metadata": {},
   "source": [
    "## Estadística  Ejercicios"
   ]
  },
  {
   "cell_type": "code",
   "execution_count": 2,
   "id": "7320a211",
   "metadata": {},
   "outputs": [],
   "source": [
    "import numpy as np\n",
    "import pandas as pd\n",
    "import matplotlib.pyplot as plt\n",
    "import seaborn as sns\n",
    "\n",
    "import random"
   ]
  },
  {
   "cell_type": "markdown",
   "id": "d9ae7ca8",
   "metadata": {},
   "source": [
    "### Ejercicio 01:\n",
    "- Usando el dataset **`FuelConsumptionCo2.csv`** encuentra para cada lista:\n",
    "    - Mínimo, media, mediana, máximo y desviación estandar (usa *numpy*).\n",
    "    - Guarda la información en un diccionario.\n",
    "    - **Define una función que tome como parámetro una lista, calcule esas métricas y retorne la información como diccionario.**"
   ]
  },
  {
   "cell_type": "code",
   "execution_count": 7,
   "id": "53598a22",
   "metadata": {
    "scrolled": true
   },
   "outputs": [],
   "source": [
    "df = pd.read_csv(\"../../Actividades/data/FuelConsumptionCo2.csv\")._get_numeric_data()\n",
    "\n",
    "model_year = df[\"MODELYEAR\"].tolist()\n",
    "engine_size = df[\"ENGINESIZE\"].tolist()\n",
    "cylinders = df[\"CYLINDERS\"].tolist()\n",
    "fuel_city = df[\"FUELCONSUMPTION_CITY\"].tolist()\n",
    "fuel_hwy = df[\"FUELCONSUMPTION_HWY\"].tolist()\n",
    "fuel_comb = df[\"FUELCONSUMPTION_COMB\"].tolist()\n",
    "co2_emissions = df[\"CO2EMISSIONS\"].tolist()"
   ]
  },
  {
   "cell_type": "code",
   "execution_count": 8,
   "id": "bd4982b7",
   "metadata": {},
   "outputs": [],
   "source": [
    "def estadisticas(datos):\n",
    "    \n",
    "    minimo = np.min(datos)\n",
    "    media = np.mean(datos)\n",
    "    mediana = np.median(datos)\n",
    "    maximo = np.max(datos)\n",
    "    desv = np.std(datos)\n",
    "    \n",
    "    dict_datos = {\"min\" : minimo, \"mean\" : media, \"median\" : mediana, \"max\" : maximo, \"std\" : desv}\n",
    "    \n",
    "    return dict_datos"
   ]
  },
  {
   "cell_type": "code",
   "execution_count": null,
   "id": "9a3793dd",
   "metadata": {},
   "outputs": [],
   "source": [
    "estadisticas(model_year)"
   ]
  },
  {
   "cell_type": "code",
   "execution_count": 9,
   "id": "19a1c1cf",
   "metadata": {},
   "outputs": [
    {
     "name": "stdout",
     "output_type": "stream",
     "text": [
      "{'min': 2014, 'mean': 2014.0, 'median': 2014.0, 'max': 2014, 'std': 0.0}\n",
      "{'min': 1.0, 'mean': 3.346298031865042, 'median': 3.4, 'max': 8.4, 'std': 1.4152314024298263}\n",
      "{'min': 3, 'mean': 5.794751640112465, 'median': 6.0, 'max': 12, 'std': 1.7966047874038484}\n",
      "{'min': 4.6, 'mean': 13.296532333645736, 'median': 12.6, 'max': 30.2, 'std': 4.099331004651009}\n",
      "{'min': 4.9, 'mean': 9.474601686972822, 'median': 8.8, 'max': 20.5, 'std': 2.793200625370099}\n",
      "{'min': 4.7, 'mean': 11.580880974695408, 'median': 10.9, 'max': 25.8, 'std': 3.483961104595647}\n",
      "{'min': 108, 'mean': 256.2286785379569, 'median': 251.0, 'max': 488, 'std': 63.34260099404252}\n"
     ]
    }
   ],
   "source": [
    "datos = [model_year, engine_size, cylinders, fuel_city, fuel_hwy, fuel_comb, co2_emissions]\n",
    "\n",
    "for dato in datos:\n",
    "    print(estadisticas(dato))"
   ]
  },
  {
   "cell_type": "code",
   "execution_count": null,
   "id": "f4968122",
   "metadata": {},
   "outputs": [],
   "source": []
  },
  {
   "cell_type": "code",
   "execution_count": null,
   "id": "eb16f2fc",
   "metadata": {},
   "outputs": [],
   "source": []
  },
  {
   "cell_type": "markdown",
   "id": "43b83070",
   "metadata": {},
   "source": [
    "### Ejercicio 02:\n",
    "- Elige una lista y toma 50 elementos aleatorios y calcula las estadísticas para ese nuevo conjunto de datos.\n",
    "    - ¿Son similares estos resultados a los obtenidos de la población total?"
   ]
  },
  {
   "cell_type": "code",
   "execution_count": 17,
   "id": "d4f15b0d",
   "metadata": {},
   "outputs": [
    {
     "data": {
      "text/plain": [
       "{'min': 2014, 'mean': 2014.0, 'median': 2014.0, 'max': 2014, 'std': 0.0}"
      ]
     },
     "execution_count": 17,
     "metadata": {},
     "output_type": "execute_result"
    }
   ],
   "source": [
    "sample = random.choices(model_year, k = 50)\n",
    "\n",
    "estadisticas(sample)"
   ]
  },
  {
   "cell_type": "code",
   "execution_count": 18,
   "id": "a87da64b",
   "metadata": {},
   "outputs": [
    {
     "data": {
      "text/plain": [
       "{'min': 2014, 'mean': 2014.0, 'median': 2014.0, 'max': 2014, 'std': 0.0}"
      ]
     },
     "execution_count": 18,
     "metadata": {},
     "output_type": "execute_result"
    }
   ],
   "source": [
    "estadisticas(model_year)"
   ]
  },
  {
   "cell_type": "code",
   "execution_count": null,
   "id": "8da02181",
   "metadata": {},
   "outputs": [],
   "source": []
  },
  {
   "cell_type": "markdown",
   "id": "9e6aec89",
   "metadata": {},
   "source": [
    "### Ejercicio 03:\n",
    "- Repite el ejercicio anterior, esta vez creando 10 conjuntos de 50 elementos aleatorios.\n",
    "    - Calcula las estadísticas para cada conjunto de 50 elementos, guarda estos datos.\n",
    "    - Calcula las estadísticas de los resultados anteriores. (Teorema del limite central)\n",
    "    - ¿Son similares estos datos con los obtenidos de la población total?\n",
    "    - Prueba con todas las listas usando un bucle."
   ]
  },
  {
   "cell_type": "code",
   "execution_count": 14,
   "id": "d8da7d8b",
   "metadata": {},
   "outputs": [],
   "source": [
    "# Fuel City\n",
    "\n",
    "samples = [[random.choices(population = fuel_city, k = 50)] for i in range(10)]\n",
    "\n",
    "lista_dict = list()\n",
    "\n",
    "for sample in samples:\n",
    "    \n",
    "    lista_dict.append(estadisticas(sample))\n",
    "\n",
    "    \n",
    "lista_min = np.mean([lista[\"min\"] for lista in lista_dict])\n",
    "lista_mean = np.mean([lista[\"mean\"] for lista in lista_dict])\n",
    "lista_median = np.mean([lista[\"median\"] for lista in lista_dict])\n",
    "lista_max = np.mean([lista[\"max\"] for lista in lista_dict])\n",
    "lista_std = np.mean([lista[\"std\"] for lista in lista_dict])\n",
    "\n",
    "samples_dict = {\"min\"    : lista_min,\n",
    "                \"mean\"   : lista_mean,\n",
    "                \"median\" : lista_median,\n",
    "                \"max\"    : lista_max,\n",
    "                \"std\"    : lista_std}"
   ]
  },
  {
   "cell_type": "code",
   "execution_count": 15,
   "id": "abf3e30d",
   "metadata": {},
   "outputs": [
    {
     "data": {
      "text/plain": [
       "{'min': 6.5600000000000005,\n",
       " 'mean': 13.1918,\n",
       " 'median': 12.695,\n",
       " 'max': 23.990000000000002,\n",
       " 'std': 3.8241452902891657}"
      ]
     },
     "execution_count": 15,
     "metadata": {},
     "output_type": "execute_result"
    }
   ],
   "source": [
    "samples_dict"
   ]
  },
  {
   "cell_type": "code",
   "execution_count": 16,
   "id": "281e60f9",
   "metadata": {},
   "outputs": [
    {
     "data": {
      "text/plain": [
       "{'min': 4.6,\n",
       " 'mean': 13.296532333645736,\n",
       " 'median': 12.6,\n",
       " 'max': 30.2,\n",
       " 'std': 4.099331004651009}"
      ]
     },
     "execution_count": 16,
     "metadata": {},
     "output_type": "execute_result"
    }
   ],
   "source": [
    "estadisticas(fuel_city)"
   ]
  },
  {
   "cell_type": "code",
   "execution_count": null,
   "id": "e8fb1bf2",
   "metadata": {},
   "outputs": [],
   "source": [
    "# Todas las listas\n",
    "\n",
    "for dato in datos:\n",
    "    \n",
    "    # Fuel City\n",
    "\n",
    "    samples = [[random.choices(population = dato, k = 50)] for i in range(10)]\n",
    "\n",
    "    lista_dict = list()\n",
    "\n",
    "    for sample in samples:\n",
    "\n",
    "        lista_dict.append(estadisticas(sample))\n",
    "\n",
    "\n",
    "    lista_min = np.mean([lista[\"min\"] for lista in lista_dict])\n",
    "    lista_mean = np.mean([lista[\"mean\"] for lista in lista_dict])\n",
    "    lista_median = np.mean([lista[\"median\"] for lista in lista_dict])\n",
    "    lista_max = np.mean([lista[\"max\"] for lista in lista_dict])\n",
    "    lista_std = np.mean([lista[\"std\"] for lista in lista_dict])\n",
    "\n",
    "    samples_dict = {\"min\"    : lista_min,\n",
    "                    \"mean\"   : lista_mean,\n",
    "                    \"median\" : lista_median,\n",
    "                    \"max\"    : lista_max,\n",
    "                    \"std\"    : lista_std}\n",
    "    \n",
    "    print(f\"Samples: {samples_dict}\")\n",
    "    print(f\"Poblacion: {estadisticas(dato)}\")\n",
    "    print(\"*\"*100)"
   ]
  },
  {
   "cell_type": "markdown",
   "id": "92312187",
   "metadata": {},
   "source": [
    "### Ejercicio 04:\n",
    "- Estandariza los datos de cada lista usando la siguiente formula:\n",
    "\n",
    "$$\n",
    "    \\frac{x_{i} - mean(x)}{std(x)}\n",
    "$$"
   ]
  },
  {
   "cell_type": "code",
   "execution_count": null,
   "id": "2c20293e",
   "metadata": {},
   "outputs": [],
   "source": [
    "def estandarizacion(lista):\n",
    "    \n",
    "    info = estadisticas(lista)\n",
    "    \n",
    "    lista_norm = list()\n",
    "    \n",
    "    for x in lista:\n",
    "        \n",
    "        lista_norm.append((x - info[\"mean\"]) / info[\"std\"])\n",
    "        \n",
    "    return lista_norm"
   ]
  },
  {
   "cell_type": "code",
   "execution_count": null,
   "id": "e27c2a4b",
   "metadata": {},
   "outputs": [],
   "source": [
    "model_year_norm    = estandarizacion(model_year)\n",
    "engine_size_norm   = estandarizacion(engine_size)\n",
    "cylinders_norm     = estandarizacion(cylinders)\n",
    "fuel_city_norm     = estandarizacion(fuel_city)\n",
    "fuel_hwy_norm      = estandarizacion(fuel_hwy)\n",
    "fuel_comb_norm     = estandarizacion(fuel_comb)\n",
    "co2_emissions_norm = estandarizacion(co2_emissions)"
   ]
  },
  {
   "cell_type": "code",
   "execution_count": null,
   "id": "08f390b7",
   "metadata": {},
   "outputs": [],
   "source": [
    "for x, y in zip(fuel_city[:10], fuel_city_norm[:10]):\n",
    "    print(f\"Real: {x}\\t Normalizado: {y}\")"
   ]
  },
  {
   "cell_type": "markdown",
   "id": "84222de0",
   "metadata": {},
   "source": [
    "### Ejercicio 05:\n",
    "- Usa la siguiente función **`plot_kde()`** para mostrar la gráfica de cada lista.\n",
    "    - Encuentra valores atípicos viendo la gráfica.\n",
    "    - Usa **np.quantile()** y bucles para acotar los datos para cada lista con outliers, guarda estos resultados en nuevas listas.\n",
    "    - Vuelve a graficar los datos sin outliers."
   ]
  },
  {
   "cell_type": "code",
   "execution_count": null,
   "id": "dd7b6568",
   "metadata": {},
   "outputs": [],
   "source": [
    "def plot_kde(datos):\n",
    "    \n",
    "    sns.kdeplot(datos, color = \"blue\")\n",
    "    plt.show()"
   ]
  },
  {
   "cell_type": "code",
   "execution_count": null,
   "id": "2cca4a3c",
   "metadata": {},
   "outputs": [],
   "source": [
    "plot_kde(engine_size)"
   ]
  },
  {
   "cell_type": "code",
   "execution_count": null,
   "id": "122ff141",
   "metadata": {},
   "outputs": [],
   "source": [
    "# Engine Size\n",
    "outlier = np.quantile(a = engine_size, q = 0.98)\n",
    "\n",
    "engine_size_outlier = [x for x in engine_size if x < outlier]\n",
    "\n",
    "plot_kde(engine_size_outlier)"
   ]
  },
  {
   "cell_type": "code",
   "execution_count": null,
   "id": "b3e1a17a",
   "metadata": {},
   "outputs": [],
   "source": []
  },
  {
   "cell_type": "markdown",
   "id": "18fbbe24",
   "metadata": {},
   "source": [
    "### Ejercicio 06:\n",
    "- Calcula la correlación entre cada lista (usa las listas originales).\n",
    "    - ¿Cuales columnas están mas correlacionadas?\n",
    "    \n",
    "- Llena una matriz con esas correlaciones y usa la función **`heat_map()`** para ver la gráfica de las correlaciones."
   ]
  },
  {
   "cell_type": "code",
   "execution_count": null,
   "id": "ff824254",
   "metadata": {},
   "outputs": [],
   "source": [
    "from scipy.stats import pearsonr # Correlación de Pearson\n",
    "\n",
    "def heat_map(matriz):\n",
    "    \n",
    "    plt.figure(figsize = (15, 10))\n",
    "    \n",
    "    sns.heatmap(matriz, annot = True)\n",
    "    plt.show()"
   ]
  },
  {
   "cell_type": "code",
   "execution_count": null,
   "id": "4f386b8a",
   "metadata": {},
   "outputs": [],
   "source": [
    "lista1 = [random.random() for i in range(1000)]\n",
    "lista2 = [random.randint(1000, 2000) for i in range(1000)]\n",
    "\n",
    "corr = pearsonr(lista1, lista2)[0]\n",
    "\n",
    "print(corr)"
   ]
  },
  {
   "cell_type": "code",
   "execution_count": null,
   "id": "29271f05",
   "metadata": {},
   "outputs": [],
   "source": [
    "corr = list()\n",
    "\n",
    "for dato1 in datos:\n",
    "    \n",
    "    corr_bucle = list()\n",
    "    \n",
    "    for dato2 in datos:\n",
    "        \n",
    "        corr_bucle.append(pearsonr(dato1, dato2)[0])\n",
    "        \n",
    "    corr.append(corr_bucle)\n",
    "    \n",
    "# corr = [[pearsonr(dato1, dato2)[0] for dato2 in datos] for dato1 in datos]"
   ]
  },
  {
   "cell_type": "code",
   "execution_count": null,
   "id": "ad22553f",
   "metadata": {},
   "outputs": [],
   "source": [
    "for c in corr:\n",
    "    print(c)"
   ]
  },
  {
   "cell_type": "code",
   "execution_count": null,
   "id": "35711da1",
   "metadata": {},
   "outputs": [],
   "source": [
    "heat_map(corr)"
   ]
  },
  {
   "cell_type": "markdown",
   "id": "2f1e0b66",
   "metadata": {},
   "source": [
    "### Ejercicio 07:\n",
    "- Une todas las listas en una matriz.\n",
    "- Define una función que calcule la distancia entre 2 puntos de **n-dimensiones**.\n",
    "- Calcula la distancia entre el primer punto y todos los demás, guardalo en una lista llamada **`distancias`**.\n",
    "- Usa el código para mostrar los puntos."
   ]
  },
  {
   "cell_type": "code",
   "execution_count": null,
   "id": "74021bc9",
   "metadata": {},
   "outputs": [],
   "source": [
    "def distancia_euclideana(x, y):\n",
    "    return np.sqrt(np.sum([(a - b)**2 for a, b in zip(x, y)]))"
   ]
  },
  {
   "cell_type": "code",
   "execution_count": null,
   "id": "43261dec",
   "metadata": {},
   "outputs": [],
   "source": [
    "matriz = list()\n",
    "\n",
    "for a, b, c, d, e, f, g in zip(model_year, engine_size, cylinders, fuel_city, fuel_hwy, fuel_comb, co2_emissions):\n",
    "    \n",
    "    matriz.append([a, b, c, d, e, f, g])"
   ]
  },
  {
   "cell_type": "code",
   "execution_count": null,
   "id": "0aefb1b9",
   "metadata": {},
   "outputs": [],
   "source": [
    "for x in matriz[:10]:\n",
    "    print(x)"
   ]
  },
  {
   "cell_type": "code",
   "execution_count": null,
   "id": "ce1c3d29",
   "metadata": {},
   "outputs": [],
   "source": [
    "distancias = list()\n",
    "\n",
    "for x in matriz:\n",
    "    \n",
    "    distancias.append(distancia_euclideana(matriz[0], x))\n",
    "    \n",
    "distancias"
   ]
  },
  {
   "cell_type": "code",
   "execution_count": null,
   "id": "74a4c140",
   "metadata": {},
   "outputs": [],
   "source": [
    "plt.plot(distancias, marker = \"*\", linestyle = \"\", alpha = 0.5)\n",
    "plt.show()"
   ]
  },
  {
   "cell_type": "code",
   "execution_count": null,
   "id": "8efa5c5d",
   "metadata": {},
   "outputs": [],
   "source": [
    "################################################################################################################################"
   ]
  }
 ],
 "metadata": {
  "kernelspec": {
   "display_name": "Python 3 (ipykernel)",
   "language": "python",
   "name": "python3"
  },
  "language_info": {
   "codemirror_mode": {
    "name": "ipython",
    "version": 3
   },
   "file_extension": ".py",
   "mimetype": "text/x-python",
   "name": "python",
   "nbconvert_exporter": "python",
   "pygments_lexer": "ipython3",
   "version": "3.11.0"
  }
 },
 "nbformat": 4,
 "nbformat_minor": 5
}
